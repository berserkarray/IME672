{
  "cells": [
    {
      "cell_type": "markdown",
      "metadata": {
        "id": "PFkW2LCxngQe"
      },
      "source": [
        "<h1>IME672 Group Project<h1>\n",
        "<h3>problem description: predict price for flight tickets using data of Air Tickets Between Shanghai and Beijing<h3>"
      ]
    },
    {
      "cell_type": "code",
      "execution_count": null,
      "metadata": {
        "id": "_JQXVTYbngQi"
      },
      "outputs": [],
      "source": [
        "import pandas as pd\n",
        "import seaborn as sns\n",
        "import matplotlib.pyplot as plt\n",
        "from scipy.stats import chi2_contingency"
      ]
    },
    {
      "cell_type": "code",
      "source": [
        "from google.colab import drive\n",
        "drive.mount('/content/drive')"
      ],
      "metadata": {
        "colab": {
          "base_uri": "https://localhost:8080/"
        },
        "id": "cQeygsESoIEW",
        "outputId": "eec9dc2e-caf8-4f5f-acd4-e724c4c5b1f2"
      },
      "execution_count": null,
      "outputs": [
        {
          "output_type": "stream",
          "name": "stdout",
          "text": [
            "Mounted at /content/drive\n"
          ]
        }
      ]
    },
    {
      "cell_type": "code",
      "source": [
        "df = pd.read_csv(\"/content/drive/MyDrive/imedata/pek-sha.csv\")\n",
        "df.head(10)"
      ],
      "metadata": {
        "colab": {
          "base_uri": "https://localhost:8080/",
          "height": 407
        },
        "id": "kT9nlLLQoSRC",
        "outputId": "cbb9bd04-1967-45c5-cace-3a9a71bb1028"
      },
      "execution_count": null,
      "outputs": [
        {
          "output_type": "execute_result",
          "data": {
            "text/plain": [
              "      ID flightNumber craftTypeCode depAirport traAirport arrAirport  \\\n",
              "0  14393       HO1252           320        PEK        NaN        SHA   \n",
              "1  14409       MU5138           33L        PEK        NaN        SHA   \n",
              "2  14415       MU5138           33L        PEK        NaN        SHA   \n",
              "3  14429       HU7605           350        PEK        NaN        SHA   \n",
              "4  14431       HU7605           350        PEK        NaN        SHA   \n",
              "5  14433       HU7605           350        PEK        NaN        SHA   \n",
              "6  14445       CA1831           773        PEK        NaN        SHA   \n",
              "7  14451       CA1831           773        PEK        NaN        SHA   \n",
              "8  14488       MU5102           333        PEK        NaN        SHA   \n",
              "9  14491       MU5102           333        PEK        NaN        SHA   \n",
              "\n",
              "         departureDate          arrivalDate cabinClass priceClass  price  \\\n",
              "0  2019-01-04 06:35:00  2019-01-04 08:55:00          C          C   1860   \n",
              "1  2019-01-04 07:00:00  2019-01-04 09:15:00          C          I   1640   \n",
              "2  2019-01-04 07:00:00  2019-01-04 09:15:00          C          J   5360   \n",
              "3  2019-01-04 07:20:00  2019-01-04 09:35:00          C          I   1635   \n",
              "4  2019-01-04 07:20:00  2019-01-04 09:35:00          C          I   1640   \n",
              "5  2019-01-04 07:20:00  2019-01-04 09:35:00          C          C   5660   \n",
              "6  2019-01-04 07:30:00  2019-01-04 09:35:00          C          R   1860   \n",
              "7  2019-01-04 07:30:00  2019-01-04 09:35:00          C          J   5530   \n",
              "8  2019-01-04 08:00:00  2019-01-04 10:15:00          C          I   1800   \n",
              "9  2019-01-04 08:00:00  2019-01-04 10:15:00          C          J   5360   \n",
              "\n",
              "   rate           createDate  dateDifference  \n",
              "0  1.00  2019-01-03 14:26:15               1  \n",
              "1  0.31  2019-01-03 14:26:15               1  \n",
              "2  1.00  2019-01-03 14:26:15               1  \n",
              "3  0.29  2019-01-03 14:26:15               1  \n",
              "4  0.29  2019-01-03 14:26:15               1  \n",
              "5  1.00  2019-01-03 14:26:15               1  \n",
              "6  0.34  2019-01-03 14:26:15               1  \n",
              "7  1.00  2019-01-03 14:26:15               1  \n",
              "8  0.34  2019-01-03 14:26:15               1  \n",
              "9  1.00  2019-01-03 14:26:15               1  "
            ],
            "text/html": [
              "\n",
              "  <div id=\"df-94a4f037-1179-4cf0-8c6b-d6a06236dd8a\">\n",
              "    <div class=\"colab-df-container\">\n",
              "      <div>\n",
              "<style scoped>\n",
              "    .dataframe tbody tr th:only-of-type {\n",
              "        vertical-align: middle;\n",
              "    }\n",
              "\n",
              "    .dataframe tbody tr th {\n",
              "        vertical-align: top;\n",
              "    }\n",
              "\n",
              "    .dataframe thead th {\n",
              "        text-align: right;\n",
              "    }\n",
              "</style>\n",
              "<table border=\"1\" class=\"dataframe\">\n",
              "  <thead>\n",
              "    <tr style=\"text-align: right;\">\n",
              "      <th></th>\n",
              "      <th>ID</th>\n",
              "      <th>flightNumber</th>\n",
              "      <th>craftTypeCode</th>\n",
              "      <th>depAirport</th>\n",
              "      <th>traAirport</th>\n",
              "      <th>arrAirport</th>\n",
              "      <th>departureDate</th>\n",
              "      <th>arrivalDate</th>\n",
              "      <th>cabinClass</th>\n",
              "      <th>priceClass</th>\n",
              "      <th>price</th>\n",
              "      <th>rate</th>\n",
              "      <th>createDate</th>\n",
              "      <th>dateDifference</th>\n",
              "    </tr>\n",
              "  </thead>\n",
              "  <tbody>\n",
              "    <tr>\n",
              "      <th>0</th>\n",
              "      <td>14393</td>\n",
              "      <td>HO1252</td>\n",
              "      <td>320</td>\n",
              "      <td>PEK</td>\n",
              "      <td>NaN</td>\n",
              "      <td>SHA</td>\n",
              "      <td>2019-01-04 06:35:00</td>\n",
              "      <td>2019-01-04 08:55:00</td>\n",
              "      <td>C</td>\n",
              "      <td>C</td>\n",
              "      <td>1860</td>\n",
              "      <td>1.00</td>\n",
              "      <td>2019-01-03 14:26:15</td>\n",
              "      <td>1</td>\n",
              "    </tr>\n",
              "    <tr>\n",
              "      <th>1</th>\n",
              "      <td>14409</td>\n",
              "      <td>MU5138</td>\n",
              "      <td>33L</td>\n",
              "      <td>PEK</td>\n",
              "      <td>NaN</td>\n",
              "      <td>SHA</td>\n",
              "      <td>2019-01-04 07:00:00</td>\n",
              "      <td>2019-01-04 09:15:00</td>\n",
              "      <td>C</td>\n",
              "      <td>I</td>\n",
              "      <td>1640</td>\n",
              "      <td>0.31</td>\n",
              "      <td>2019-01-03 14:26:15</td>\n",
              "      <td>1</td>\n",
              "    </tr>\n",
              "    <tr>\n",
              "      <th>2</th>\n",
              "      <td>14415</td>\n",
              "      <td>MU5138</td>\n",
              "      <td>33L</td>\n",
              "      <td>PEK</td>\n",
              "      <td>NaN</td>\n",
              "      <td>SHA</td>\n",
              "      <td>2019-01-04 07:00:00</td>\n",
              "      <td>2019-01-04 09:15:00</td>\n",
              "      <td>C</td>\n",
              "      <td>J</td>\n",
              "      <td>5360</td>\n",
              "      <td>1.00</td>\n",
              "      <td>2019-01-03 14:26:15</td>\n",
              "      <td>1</td>\n",
              "    </tr>\n",
              "    <tr>\n",
              "      <th>3</th>\n",
              "      <td>14429</td>\n",
              "      <td>HU7605</td>\n",
              "      <td>350</td>\n",
              "      <td>PEK</td>\n",
              "      <td>NaN</td>\n",
              "      <td>SHA</td>\n",
              "      <td>2019-01-04 07:20:00</td>\n",
              "      <td>2019-01-04 09:35:00</td>\n",
              "      <td>C</td>\n",
              "      <td>I</td>\n",
              "      <td>1635</td>\n",
              "      <td>0.29</td>\n",
              "      <td>2019-01-03 14:26:15</td>\n",
              "      <td>1</td>\n",
              "    </tr>\n",
              "    <tr>\n",
              "      <th>4</th>\n",
              "      <td>14431</td>\n",
              "      <td>HU7605</td>\n",
              "      <td>350</td>\n",
              "      <td>PEK</td>\n",
              "      <td>NaN</td>\n",
              "      <td>SHA</td>\n",
              "      <td>2019-01-04 07:20:00</td>\n",
              "      <td>2019-01-04 09:35:00</td>\n",
              "      <td>C</td>\n",
              "      <td>I</td>\n",
              "      <td>1640</td>\n",
              "      <td>0.29</td>\n",
              "      <td>2019-01-03 14:26:15</td>\n",
              "      <td>1</td>\n",
              "    </tr>\n",
              "    <tr>\n",
              "      <th>5</th>\n",
              "      <td>14433</td>\n",
              "      <td>HU7605</td>\n",
              "      <td>350</td>\n",
              "      <td>PEK</td>\n",
              "      <td>NaN</td>\n",
              "      <td>SHA</td>\n",
              "      <td>2019-01-04 07:20:00</td>\n",
              "      <td>2019-01-04 09:35:00</td>\n",
              "      <td>C</td>\n",
              "      <td>C</td>\n",
              "      <td>5660</td>\n",
              "      <td>1.00</td>\n",
              "      <td>2019-01-03 14:26:15</td>\n",
              "      <td>1</td>\n",
              "    </tr>\n",
              "    <tr>\n",
              "      <th>6</th>\n",
              "      <td>14445</td>\n",
              "      <td>CA1831</td>\n",
              "      <td>773</td>\n",
              "      <td>PEK</td>\n",
              "      <td>NaN</td>\n",
              "      <td>SHA</td>\n",
              "      <td>2019-01-04 07:30:00</td>\n",
              "      <td>2019-01-04 09:35:00</td>\n",
              "      <td>C</td>\n",
              "      <td>R</td>\n",
              "      <td>1860</td>\n",
              "      <td>0.34</td>\n",
              "      <td>2019-01-03 14:26:15</td>\n",
              "      <td>1</td>\n",
              "    </tr>\n",
              "    <tr>\n",
              "      <th>7</th>\n",
              "      <td>14451</td>\n",
              "      <td>CA1831</td>\n",
              "      <td>773</td>\n",
              "      <td>PEK</td>\n",
              "      <td>NaN</td>\n",
              "      <td>SHA</td>\n",
              "      <td>2019-01-04 07:30:00</td>\n",
              "      <td>2019-01-04 09:35:00</td>\n",
              "      <td>C</td>\n",
              "      <td>J</td>\n",
              "      <td>5530</td>\n",
              "      <td>1.00</td>\n",
              "      <td>2019-01-03 14:26:15</td>\n",
              "      <td>1</td>\n",
              "    </tr>\n",
              "    <tr>\n",
              "      <th>8</th>\n",
              "      <td>14488</td>\n",
              "      <td>MU5102</td>\n",
              "      <td>333</td>\n",
              "      <td>PEK</td>\n",
              "      <td>NaN</td>\n",
              "      <td>SHA</td>\n",
              "      <td>2019-01-04 08:00:00</td>\n",
              "      <td>2019-01-04 10:15:00</td>\n",
              "      <td>C</td>\n",
              "      <td>I</td>\n",
              "      <td>1800</td>\n",
              "      <td>0.34</td>\n",
              "      <td>2019-01-03 14:26:15</td>\n",
              "      <td>1</td>\n",
              "    </tr>\n",
              "    <tr>\n",
              "      <th>9</th>\n",
              "      <td>14491</td>\n",
              "      <td>MU5102</td>\n",
              "      <td>333</td>\n",
              "      <td>PEK</td>\n",
              "      <td>NaN</td>\n",
              "      <td>SHA</td>\n",
              "      <td>2019-01-04 08:00:00</td>\n",
              "      <td>2019-01-04 10:15:00</td>\n",
              "      <td>C</td>\n",
              "      <td>J</td>\n",
              "      <td>5360</td>\n",
              "      <td>1.00</td>\n",
              "      <td>2019-01-03 14:26:15</td>\n",
              "      <td>1</td>\n",
              "    </tr>\n",
              "  </tbody>\n",
              "</table>\n",
              "</div>\n",
              "      <button class=\"colab-df-convert\" onclick=\"convertToInteractive('df-94a4f037-1179-4cf0-8c6b-d6a06236dd8a')\"\n",
              "              title=\"Convert this dataframe to an interactive table.\"\n",
              "              style=\"display:none;\">\n",
              "        \n",
              "  <svg xmlns=\"http://www.w3.org/2000/svg\" height=\"24px\"viewBox=\"0 0 24 24\"\n",
              "       width=\"24px\">\n",
              "    <path d=\"M0 0h24v24H0V0z\" fill=\"none\"/>\n",
              "    <path d=\"M18.56 5.44l.94 2.06.94-2.06 2.06-.94-2.06-.94-.94-2.06-.94 2.06-2.06.94zm-11 1L8.5 8.5l.94-2.06 2.06-.94-2.06-.94L8.5 2.5l-.94 2.06-2.06.94zm10 10l.94 2.06.94-2.06 2.06-.94-2.06-.94-.94-2.06-.94 2.06-2.06.94z\"/><path d=\"M17.41 7.96l-1.37-1.37c-.4-.4-.92-.59-1.43-.59-.52 0-1.04.2-1.43.59L10.3 9.45l-7.72 7.72c-.78.78-.78 2.05 0 2.83L4 21.41c.39.39.9.59 1.41.59.51 0 1.02-.2 1.41-.59l7.78-7.78 2.81-2.81c.8-.78.8-2.07 0-2.86zM5.41 20L4 18.59l7.72-7.72 1.47 1.35L5.41 20z\"/>\n",
              "  </svg>\n",
              "      </button>\n",
              "      \n",
              "  <style>\n",
              "    .colab-df-container {\n",
              "      display:flex;\n",
              "      flex-wrap:wrap;\n",
              "      gap: 12px;\n",
              "    }\n",
              "\n",
              "    .colab-df-convert {\n",
              "      background-color: #E8F0FE;\n",
              "      border: none;\n",
              "      border-radius: 50%;\n",
              "      cursor: pointer;\n",
              "      display: none;\n",
              "      fill: #1967D2;\n",
              "      height: 32px;\n",
              "      padding: 0 0 0 0;\n",
              "      width: 32px;\n",
              "    }\n",
              "\n",
              "    .colab-df-convert:hover {\n",
              "      background-color: #E2EBFA;\n",
              "      box-shadow: 0px 1px 2px rgba(60, 64, 67, 0.3), 0px 1px 3px 1px rgba(60, 64, 67, 0.15);\n",
              "      fill: #174EA6;\n",
              "    }\n",
              "\n",
              "    [theme=dark] .colab-df-convert {\n",
              "      background-color: #3B4455;\n",
              "      fill: #D2E3FC;\n",
              "    }\n",
              "\n",
              "    [theme=dark] .colab-df-convert:hover {\n",
              "      background-color: #434B5C;\n",
              "      box-shadow: 0px 1px 3px 1px rgba(0, 0, 0, 0.15);\n",
              "      filter: drop-shadow(0px 1px 2px rgba(0, 0, 0, 0.3));\n",
              "      fill: #FFFFFF;\n",
              "    }\n",
              "  </style>\n",
              "\n",
              "      <script>\n",
              "        const buttonEl =\n",
              "          document.querySelector('#df-94a4f037-1179-4cf0-8c6b-d6a06236dd8a button.colab-df-convert');\n",
              "        buttonEl.style.display =\n",
              "          google.colab.kernel.accessAllowed ? 'block' : 'none';\n",
              "\n",
              "        async function convertToInteractive(key) {\n",
              "          const element = document.querySelector('#df-94a4f037-1179-4cf0-8c6b-d6a06236dd8a');\n",
              "          const dataTable =\n",
              "            await google.colab.kernel.invokeFunction('convertToInteractive',\n",
              "                                                     [key], {});\n",
              "          if (!dataTable) return;\n",
              "\n",
              "          const docLinkHtml = 'Like what you see? Visit the ' +\n",
              "            '<a target=\"_blank\" href=https://colab.research.google.com/notebooks/data_table.ipynb>data table notebook</a>'\n",
              "            + ' to learn more about interactive tables.';\n",
              "          element.innerHTML = '';\n",
              "          dataTable['output_type'] = 'display_data';\n",
              "          await google.colab.output.renderOutput(dataTable, element);\n",
              "          const docLink = document.createElement('div');\n",
              "          docLink.innerHTML = docLinkHtml;\n",
              "          element.appendChild(docLink);\n",
              "        }\n",
              "      </script>\n",
              "    </div>\n",
              "  </div>\n",
              "  "
            ]
          },
          "metadata": {},
          "execution_count": 4
        }
      ]
    },
    {
      "cell_type": "code",
      "execution_count": null,
      "metadata": {
        "colab": {
          "base_uri": "https://localhost:8080/"
        },
        "id": "XwE4jYf0ngQj",
        "outputId": "ca553275-bd7a-40c9-8c6a-0bea9ae8f0df"
      },
      "outputs": [
        {
          "output_type": "stream",
          "name": "stdout",
          "text": [
            "<class 'pandas.core.frame.DataFrame'>\n",
            "RangeIndex: 300336 entries, 0 to 300335\n",
            "Data columns (total 14 columns):\n",
            " #   Column          Non-Null Count   Dtype  \n",
            "---  ------          --------------   -----  \n",
            " 0   ID              300336 non-null  int64  \n",
            " 1   flightNumber    300336 non-null  object \n",
            " 2   craftTypeCode   300336 non-null  object \n",
            " 3   depAirport      300336 non-null  object \n",
            " 4   traAirport      5749 non-null    object \n",
            " 5   arrAirport      300336 non-null  object \n",
            " 6   departureDate   300336 non-null  object \n",
            " 7   arrivalDate     300336 non-null  object \n",
            " 8   cabinClass      300336 non-null  object \n",
            " 9   priceClass      300336 non-null  object \n",
            " 10  price           300336 non-null  int64  \n",
            " 11  rate            300336 non-null  float64\n",
            " 12  createDate      300336 non-null  object \n",
            " 13  dateDifference  300336 non-null  int64  \n",
            "dtypes: float64(1), int64(3), object(10)\n",
            "memory usage: 32.1+ MB\n"
          ]
        }
      ],
      "source": [
        "df.info()"
      ]
    },
    {
      "cell_type": "code",
      "execution_count": null,
      "metadata": {
        "colab": {
          "base_uri": "https://localhost:8080/",
          "height": 300
        },
        "id": "kmQFPOc1ngQk",
        "outputId": "e92317e1-f354-4517-c496-6d081b6e315a"
      },
      "outputs": [
        {
          "output_type": "execute_result",
          "data": {
            "text/plain": [
              "                 ID          price           rate  dateDifference\n",
              "count  3.003360e+05  300336.000000  300336.000000   300336.000000\n",
              "mean   3.785370e+07    2209.684696       0.764667        6.682762\n",
              "std    2.320571e+07    1755.003424       0.251366        7.501340\n",
              "min    1.438400e+04     235.000000       0.000000        1.000000\n",
              "25%    1.770736e+07    1005.000000       0.530000        2.000000\n",
              "50%    3.718240e+07    1490.000000       0.860000        5.000000\n",
              "75%    5.705183e+07    2980.000000       1.000000        7.000000\n",
              "max    8.016500e+07    6410.000000       1.000000       30.000000"
            ],
            "text/html": [
              "\n",
              "  <div id=\"df-10ff92c6-cabd-45d7-88a5-b8aa1cc28b11\">\n",
              "    <div class=\"colab-df-container\">\n",
              "      <div>\n",
              "<style scoped>\n",
              "    .dataframe tbody tr th:only-of-type {\n",
              "        vertical-align: middle;\n",
              "    }\n",
              "\n",
              "    .dataframe tbody tr th {\n",
              "        vertical-align: top;\n",
              "    }\n",
              "\n",
              "    .dataframe thead th {\n",
              "        text-align: right;\n",
              "    }\n",
              "</style>\n",
              "<table border=\"1\" class=\"dataframe\">\n",
              "  <thead>\n",
              "    <tr style=\"text-align: right;\">\n",
              "      <th></th>\n",
              "      <th>ID</th>\n",
              "      <th>price</th>\n",
              "      <th>rate</th>\n",
              "      <th>dateDifference</th>\n",
              "    </tr>\n",
              "  </thead>\n",
              "  <tbody>\n",
              "    <tr>\n",
              "      <th>count</th>\n",
              "      <td>3.003360e+05</td>\n",
              "      <td>300336.000000</td>\n",
              "      <td>300336.000000</td>\n",
              "      <td>300336.000000</td>\n",
              "    </tr>\n",
              "    <tr>\n",
              "      <th>mean</th>\n",
              "      <td>3.785370e+07</td>\n",
              "      <td>2209.684696</td>\n",
              "      <td>0.764667</td>\n",
              "      <td>6.682762</td>\n",
              "    </tr>\n",
              "    <tr>\n",
              "      <th>std</th>\n",
              "      <td>2.320571e+07</td>\n",
              "      <td>1755.003424</td>\n",
              "      <td>0.251366</td>\n",
              "      <td>7.501340</td>\n",
              "    </tr>\n",
              "    <tr>\n",
              "      <th>min</th>\n",
              "      <td>1.438400e+04</td>\n",
              "      <td>235.000000</td>\n",
              "      <td>0.000000</td>\n",
              "      <td>1.000000</td>\n",
              "    </tr>\n",
              "    <tr>\n",
              "      <th>25%</th>\n",
              "      <td>1.770736e+07</td>\n",
              "      <td>1005.000000</td>\n",
              "      <td>0.530000</td>\n",
              "      <td>2.000000</td>\n",
              "    </tr>\n",
              "    <tr>\n",
              "      <th>50%</th>\n",
              "      <td>3.718240e+07</td>\n",
              "      <td>1490.000000</td>\n",
              "      <td>0.860000</td>\n",
              "      <td>5.000000</td>\n",
              "    </tr>\n",
              "    <tr>\n",
              "      <th>75%</th>\n",
              "      <td>5.705183e+07</td>\n",
              "      <td>2980.000000</td>\n",
              "      <td>1.000000</td>\n",
              "      <td>7.000000</td>\n",
              "    </tr>\n",
              "    <tr>\n",
              "      <th>max</th>\n",
              "      <td>8.016500e+07</td>\n",
              "      <td>6410.000000</td>\n",
              "      <td>1.000000</td>\n",
              "      <td>30.000000</td>\n",
              "    </tr>\n",
              "  </tbody>\n",
              "</table>\n",
              "</div>\n",
              "      <button class=\"colab-df-convert\" onclick=\"convertToInteractive('df-10ff92c6-cabd-45d7-88a5-b8aa1cc28b11')\"\n",
              "              title=\"Convert this dataframe to an interactive table.\"\n",
              "              style=\"display:none;\">\n",
              "        \n",
              "  <svg xmlns=\"http://www.w3.org/2000/svg\" height=\"24px\"viewBox=\"0 0 24 24\"\n",
              "       width=\"24px\">\n",
              "    <path d=\"M0 0h24v24H0V0z\" fill=\"none\"/>\n",
              "    <path d=\"M18.56 5.44l.94 2.06.94-2.06 2.06-.94-2.06-.94-.94-2.06-.94 2.06-2.06.94zm-11 1L8.5 8.5l.94-2.06 2.06-.94-2.06-.94L8.5 2.5l-.94 2.06-2.06.94zm10 10l.94 2.06.94-2.06 2.06-.94-2.06-.94-.94-2.06-.94 2.06-2.06.94z\"/><path d=\"M17.41 7.96l-1.37-1.37c-.4-.4-.92-.59-1.43-.59-.52 0-1.04.2-1.43.59L10.3 9.45l-7.72 7.72c-.78.78-.78 2.05 0 2.83L4 21.41c.39.39.9.59 1.41.59.51 0 1.02-.2 1.41-.59l7.78-7.78 2.81-2.81c.8-.78.8-2.07 0-2.86zM5.41 20L4 18.59l7.72-7.72 1.47 1.35L5.41 20z\"/>\n",
              "  </svg>\n",
              "      </button>\n",
              "      \n",
              "  <style>\n",
              "    .colab-df-container {\n",
              "      display:flex;\n",
              "      flex-wrap:wrap;\n",
              "      gap: 12px;\n",
              "    }\n",
              "\n",
              "    .colab-df-convert {\n",
              "      background-color: #E8F0FE;\n",
              "      border: none;\n",
              "      border-radius: 50%;\n",
              "      cursor: pointer;\n",
              "      display: none;\n",
              "      fill: #1967D2;\n",
              "      height: 32px;\n",
              "      padding: 0 0 0 0;\n",
              "      width: 32px;\n",
              "    }\n",
              "\n",
              "    .colab-df-convert:hover {\n",
              "      background-color: #E2EBFA;\n",
              "      box-shadow: 0px 1px 2px rgba(60, 64, 67, 0.3), 0px 1px 3px 1px rgba(60, 64, 67, 0.15);\n",
              "      fill: #174EA6;\n",
              "    }\n",
              "\n",
              "    [theme=dark] .colab-df-convert {\n",
              "      background-color: #3B4455;\n",
              "      fill: #D2E3FC;\n",
              "    }\n",
              "\n",
              "    [theme=dark] .colab-df-convert:hover {\n",
              "      background-color: #434B5C;\n",
              "      box-shadow: 0px 1px 3px 1px rgba(0, 0, 0, 0.15);\n",
              "      filter: drop-shadow(0px 1px 2px rgba(0, 0, 0, 0.3));\n",
              "      fill: #FFFFFF;\n",
              "    }\n",
              "  </style>\n",
              "\n",
              "      <script>\n",
              "        const buttonEl =\n",
              "          document.querySelector('#df-10ff92c6-cabd-45d7-88a5-b8aa1cc28b11 button.colab-df-convert');\n",
              "        buttonEl.style.display =\n",
              "          google.colab.kernel.accessAllowed ? 'block' : 'none';\n",
              "\n",
              "        async function convertToInteractive(key) {\n",
              "          const element = document.querySelector('#df-10ff92c6-cabd-45d7-88a5-b8aa1cc28b11');\n",
              "          const dataTable =\n",
              "            await google.colab.kernel.invokeFunction('convertToInteractive',\n",
              "                                                     [key], {});\n",
              "          if (!dataTable) return;\n",
              "\n",
              "          const docLinkHtml = 'Like what you see? Visit the ' +\n",
              "            '<a target=\"_blank\" href=https://colab.research.google.com/notebooks/data_table.ipynb>data table notebook</a>'\n",
              "            + ' to learn more about interactive tables.';\n",
              "          element.innerHTML = '';\n",
              "          dataTable['output_type'] = 'display_data';\n",
              "          await google.colab.output.renderOutput(dataTable, element);\n",
              "          const docLink = document.createElement('div');\n",
              "          docLink.innerHTML = docLinkHtml;\n",
              "          element.appendChild(docLink);\n",
              "        }\n",
              "      </script>\n",
              "    </div>\n",
              "  </div>\n",
              "  "
            ]
          },
          "metadata": {},
          "execution_count": 6
        }
      ],
      "source": [
        "# data of flights between beijing to shanghai \n",
        "# traAirport      5749 non-null    object ....|||5749 values???\n",
        "# float64(1), int64(3), object(10) lotta categorical data. drop id,\n",
        "# rate - discount rate\n",
        "# cabinClass: Y = Econ Class, C = Business Class , F = First Class\n",
        "# flightnumber - every other flight should be unique.\n",
        "# craftTypeCode - ICAO aircraft type designators.\n",
        "# depAirport, arrAirport - arrival & departure airport.\n",
        "# traAirport - an airport where an aircraft has made a stopover, which was not specified in the Electronic ticket. if other than layover exists, then planes might have been changed.\n",
        "# dunno what createdate means but,\n",
        "# in a random sample diff between createdate &  departureDate = 2019-03-30 06:35:00 - 2019-02-28 11:35:19 = 30, which is dateDifference. so, inferring that createDate is the day of booking the flight.\n",
        "df.describe()"
      ]
    },
    {
      "cell_type": "code",
      "execution_count": null,
      "metadata": {
        "colab": {
          "base_uri": "https://localhost:8080/"
        },
        "id": "r-qag55cngQk",
        "outputId": "837b7fee-1304-4c84-ce7f-fd580a89513c"
      },
      "outputs": [
        {
          "output_type": "execute_result",
          "data": {
            "text/plain": [
              "2"
            ]
          },
          "metadata": {},
          "execution_count": 7
        }
      ],
      "source": [
        "df.traAirport = df.traAirport.fillna('None')\n",
        "df['traAirport'].nunique()"
      ]
    },
    {
      "cell_type": "code",
      "execution_count": null,
      "metadata": {
        "colab": {
          "base_uri": "https://localhost:8080/",
          "height": 296
        },
        "id": "W3lhPIX0ngQl",
        "outputId": "6866bcc0-2fb4-485b-b718-05d3097851e5"
      },
      "outputs": [
        {
          "output_type": "execute_result",
          "data": {
            "text/plain": [
              "<matplotlib.axes._subplots.AxesSubplot at 0x7f5871d24510>"
            ]
          },
          "metadata": {},
          "execution_count": 8
        },
        {
          "output_type": "display_data",
          "data": {
            "text/plain": [
              "<Figure size 432x288 with 1 Axes>"
            ],
            "image/png": "[encoded data removed]"
          },
          "metadata": {
            "needs_background": "light"
          }
        }
      ],
      "source": [
        "import seaborn as sns\n",
        "sns.countplot(data=df,x=\"traAirport\")"
      ]
    },
    {
      "cell_type": "code",
      "execution_count": null,
      "metadata": {
        "colab": {
          "base_uri": "https://localhost:8080/"
        },
        "id": "8ctDXuN1ngQl",
        "outputId": "5e3d0613-78d6-495d-e30f-f66d51547e20"
      },
      "outputs": [
        {
          "output_type": "execute_result",
          "data": {
            "text/plain": [
              "51"
            ]
          },
          "metadata": {},
          "execution_count": 9
        }
      ],
      "source": [
        "##there are only 2 values, either the flight didnt stop for a layover, or stoped at LYA(luoyang)\n",
        "df[\"flightNumber\"].nunique()"
      ]
    },
    {
      "cell_type": "code",
      "execution_count": null,
      "metadata": {
        "id": "vvFbtT2PngQm"
      },
      "outputs": [],
      "source": [
        "#51 unique values...hmmm."
      ]
    },
    {
      "cell_type": "code",
      "execution_count": null,
      "metadata": {
        "colab": {
          "base_uri": "https://localhost:8080/"
        },
        "id": "Kv967fS4ngQm",
        "outputId": "549fc79a-f16f-439c-f6ca-a672636c5731"
      },
      "outputs": [
        {
          "output_type": "execute_result",
          "data": {
            "text/plain": [
              "33L    59178\n",
              "359    36896\n",
              "333    31163\n",
              "773    28022\n",
              "325    16107\n",
              "738    14067\n",
              "321    11627\n",
              "33A     9174\n",
              "789     7915\n",
              "747     7665\n",
              "32L     7618\n",
              "73E     7546\n",
              "73L     7375\n",
              "73K     6023\n",
              "32A     5422\n",
              "77W     5061\n",
              "330     3995\n",
              "350     3707\n",
              "323     3405\n",
              "338     3001\n",
              "78A     2850\n",
              "331     2806\n",
              "33E     2796\n",
              "744     2459\n",
              "33G     2192\n",
              "33H     1643\n",
              "337     1613\n",
              "320     1267\n",
              "787     1144\n",
              "78B     1106\n",
              "332      925\n",
              "73N      838\n",
              "351      831\n",
              "33W      613\n",
              "336      473\n",
              "319      381\n",
              "73T      361\n",
              "32M      350\n",
              "33C      261\n",
              "73B      251\n",
              "73H      158\n",
              "33B       42\n",
              "73U        7\n",
              "73G        2\n",
              "Name: craftTypeCode, dtype: int64"
            ]
          },
          "metadata": {},
          "execution_count": 11
        }
      ],
      "source": [
        "\n",
        "df[\"craftTypeCode\"].value_counts()"
      ]
    },
    {
      "cell_type": "code",
      "execution_count": null,
      "metadata": {
        "colab": {
          "base_uri": "https://localhost:8080/"
        },
        "id": "3tKP2qyJngQn",
        "outputId": "59028053-37b5-4a5c-ccc2-42a97482d023"
      },
      "outputs": [
        {
          "output_type": "execute_result",
          "data": {
            "text/plain": [
              "44"
            ]
          },
          "metadata": {},
          "execution_count": 12
        }
      ],
      "source": [
        "df[\"craftTypeCode\"].nunique()"
      ]
    },
    {
      "cell_type": "code",
      "execution_count": null,
      "metadata": {
        "colab": {
          "base_uri": "https://localhost:8080/",
          "height": 894
        },
        "id": "e7lrW6JNngQn",
        "outputId": "1fa1f3a7-77d3-42ac-eb99-0f5c6f408d1c"
      },
      "outputs": [
        {
          "output_type": "execute_result",
          "data": {
            "text/plain": [
              "<matplotlib.axes._subplots.AxesSubplot at 0x7f58729f77d0>"
            ]
          },
          "metadata": {},
          "execution_count": 13
        },
        {
          "output_type": "display_data",
          "data": {
            "text/plain": [
              "<Figure size 1440x1080 with 1 Axes>"
            ],
            "image/png": "[encoded data removed]"
          },
          "metadata": {
            "needs_background": "light"
          }
        }
      ],
      "source": [
        "#checking for outliers in the data\n",
        "fig, ax = plt.subplots(figsize=(20, 15))\n",
        "sns.boxplot(data=df,x='price')"
      ]
    },
    {
      "cell_type": "code",
      "execution_count": null,
      "metadata": {
        "colab": {
          "base_uri": "https://localhost:8080/"
        },
        "id": "EY7LEhc7ngQo",
        "outputId": "09408cc2-90bb-454d-b3ee-dc9ac12e4ab6"
      },
      "outputs": [
        {
          "output_type": "stream",
          "name": "stdout",
          "text": [
            "Number of Outliers : 2205\n"
          ]
        }
      ],
      "source": [
        "q1 = df['price'].quantile(0.25)\n",
        "q3 = df['price'].quantile(0.75)\n",
        "IQR = q3 - q1\n",
        "filter = (df['price'] >= q1 - 1.5 * IQR) & (df['price'] <= q3 + 1.5 *IQR)\n",
        "df = df.loc[filter]\n",
        "df.shape\n",
        "print(\"Number of Outliers : 2205\")"
      ]
    },
    {
      "cell_type": "code",
      "execution_count": null,
      "metadata": {
        "colab": {
          "base_uri": "https://localhost:8080/"
        },
        "id": "0olJqxPUngQo",
        "outputId": "80f0948c-97d2-4452-af6e-24ddcc97e8ca"
      },
      "outputs": [
        {
          "output_type": "execute_result",
          "data": {
            "text/plain": [
              "ID                0\n",
              "flightNumber      0\n",
              "craftTypeCode     0\n",
              "depAirport        0\n",
              "traAirport        0\n",
              "arrAirport        0\n",
              "departureDate     0\n",
              "arrivalDate       0\n",
              "cabinClass        0\n",
              "priceClass        0\n",
              "price             0\n",
              "rate              0\n",
              "createDate        0\n",
              "dateDifference    0\n",
              "dtype: int64"
            ]
          },
          "metadata": {},
          "execution_count": 15
        }
      ],
      "source": [
        "df[['arrivalDate','departureDate','createDate']] = df[['arrivalDate','departureDate','createDate']].apply(pd.to_datetime)\n",
        "# departureDate should always be after createDate\n",
        "df[df.departureDate < df.createDate].count()\n",
        "#Hence no problem in this case"
      ]
    },
    {
      "cell_type": "code",
      "execution_count": null,
      "metadata": {
        "colab": {
          "base_uri": "https://localhost:8080/"
        },
        "id": "HXdGY30ingQo",
        "outputId": "d473bcda-b00e-438c-c326-7eb2dd8959c6"
      },
      "outputs": [
        {
          "output_type": "execute_result",
          "data": {
            "text/plain": [
              "ID                0\n",
              "flightNumber      0\n",
              "craftTypeCode     0\n",
              "depAirport        0\n",
              "traAirport        0\n",
              "arrAirport        0\n",
              "departureDate     0\n",
              "arrivalDate       0\n",
              "cabinClass        0\n",
              "priceClass        0\n",
              "price             0\n",
              "rate              0\n",
              "createDate        0\n",
              "dateDifference    0\n",
              "dtype: int64"
            ]
          },
          "metadata": {},
          "execution_count": 16
        }
      ],
      "source": [
        "# arrivalDate should always be after departureDate\n",
        "df[df.departureDate > df.arrivalDate].count()\n",
        "#Hence no problem in this case"
      ]
    },
    {
      "cell_type": "code",
      "execution_count": null,
      "metadata": {
        "colab": {
          "base_uri": "https://localhost:8080/"
        },
        "id": "v4IfjJcLngQp",
        "outputId": "43a96dd5-0a82-47dc-95d7-98e3354a55f5"
      },
      "outputs": [
        {
          "output_type": "stream",
          "name": "stdout",
          "text": [
            "1 1\n"
          ]
        }
      ],
      "source": [
        "#checking for anamolies in depAirport & arrAirport, both shoould have only one value.\n",
        "print(df[\"depAirport\"].nunique(),df[\"arrAirport\"].nunique())"
      ]
    },
    {
      "cell_type": "code",
      "execution_count": null,
      "metadata": {
        "id": "BAKfV2clngQp"
      },
      "outputs": [],
      "source": [
        "#so drop depAirport arrAirport id traAirport since they are pretty much useless\n",
        "#can also drop createDate since dateDifference also serves same purpose"
      ]
    },
    {
      "cell_type": "code",
      "execution_count": null,
      "metadata": {
        "colab": {
          "base_uri": "https://localhost:8080/",
          "height": 363
        },
        "id": "guBSNWG_ngQp",
        "outputId": "0fb93ecd-0dc6-49f8-e340-0ccc4df19224"
      },
      "outputs": [
        {
          "output_type": "execute_result",
          "data": {
            "text/plain": [
              "  flightNumber craftTypeCode traAirport       departureDate  \\\n",
              "0       HO1252           320       None 2019-01-04 06:35:00   \n",
              "1       MU5138           33L       None 2019-01-04 07:00:00   \n",
              "2       MU5138           33L       None 2019-01-04 07:00:00   \n",
              "3       HU7605           350       None 2019-01-04 07:20:00   \n",
              "4       HU7605           350       None 2019-01-04 07:20:00   \n",
              "5       HU7605           350       None 2019-01-04 07:20:00   \n",
              "6       CA1831           773       None 2019-01-04 07:30:00   \n",
              "7       CA1831           773       None 2019-01-04 07:30:00   \n",
              "8       MU5102           333       None 2019-01-04 08:00:00   \n",
              "9       MU5102           333       None 2019-01-04 08:00:00   \n",
              "\n",
              "          arrivalDate cabinClass priceClass  price  rate  dateDifference  \n",
              "0 2019-01-04 08:55:00          C          C   1860  1.00               1  \n",
              "1 2019-01-04 09:15:00          C          I   1640  0.31               1  \n",
              "2 2019-01-04 09:15:00          C          J   5360  1.00               1  \n",
              "3 2019-01-04 09:35:00          C          I   1635  0.29               1  \n",
              "4 2019-01-04 09:35:00          C          I   1640  0.29               1  \n",
              "5 2019-01-04 09:35:00          C          C   5660  1.00               1  \n",
              "6 2019-01-04 09:35:00          C          R   1860  0.34               1  \n",
              "7 2019-01-04 09:35:00          C          J   5530  1.00               1  \n",
              "8 2019-01-04 10:15:00          C          I   1800  0.34               1  \n",
              "9 2019-01-04 10:15:00          C          J   5360  1.00               1  "
            ],
            "text/html": [
              "\n",
              "  <div id=\"df-df3276ae-a31f-445c-82dc-c4dde7883e05\">\n",
              "    <div class=\"colab-df-container\">\n",
              "      <div>\n",
              "<style scoped>\n",
              "    .dataframe tbody tr th:only-of-type {\n",
              "        vertical-align: middle;\n",
              "    }\n",
              "\n",
              "    .dataframe tbody tr th {\n",
              "        vertical-align: top;\n",
              "    }\n",
              "\n",
              "    .dataframe thead th {\n",
              "        text-align: right;\n",
              "    }\n",
              "</style>\n",
              "<table border=\"1\" class=\"dataframe\">\n",
              "  <thead>\n",
              "    <tr style=\"text-align: right;\">\n",
              "      <th></th>\n",
              "      <th>flightNumber</th>\n",
              "      <th>craftTypeCode</th>\n",
              "      <th>traAirport</th>\n",
              "      <th>departureDate</th>\n",
              "      <th>arrivalDate</th>\n",
              "      <th>cabinClass</th>\n",
              "      <th>priceClass</th>\n",
              "      <th>price</th>\n",
              "      <th>rate</th>\n",
              "      <th>dateDifference</th>\n",
              "    </tr>\n",
              "  </thead>\n",
              "  <tbody>\n",
              "    <tr>\n",
              "      <th>0</th>\n",
              "      <td>HO1252</td>\n",
              "      <td>320</td>\n",
              "      <td>None</td>\n",
              "      <td>2019-01-04 06:35:00</td>\n",
              "      <td>2019-01-04 08:55:00</td>\n",
              "      <td>C</td>\n",
              "      <td>C</td>\n",
              "      <td>1860</td>\n",
              "      <td>1.00</td>\n",
              "      <td>1</td>\n",
              "    </tr>\n",
              "    <tr>\n",
              "      <th>1</th>\n",
              "      <td>MU5138</td>\n",
              "      <td>33L</td>\n",
              "      <td>None</td>\n",
              "      <td>2019-01-04 07:00:00</td>\n",
              "      <td>2019-01-04 09:15:00</td>\n",
              "      <td>C</td>\n",
              "      <td>I</td>\n",
              "      <td>1640</td>\n",
              "      <td>0.31</td>\n",
              "      <td>1</td>\n",
              "    </tr>\n",
              "    <tr>\n",
              "      <th>2</th>\n",
              "      <td>MU5138</td>\n",
              "      <td>33L</td>\n",
              "      <td>None</td>\n",
              "      <td>2019-01-04 07:00:00</td>\n",
              "      <td>2019-01-04 09:15:00</td>\n",
              "      <td>C</td>\n",
              "      <td>J</td>\n",
              "      <td>5360</td>\n",
              "      <td>1.00</td>\n",
              "      <td>1</td>\n",
              "    </tr>\n",
              "    <tr>\n",
              "      <th>3</th>\n",
              "      <td>HU7605</td>\n",
              "      <td>350</td>\n",
              "      <td>None</td>\n",
              "      <td>2019-01-04 07:20:00</td>\n",
              "      <td>2019-01-04 09:35:00</td>\n",
              "      <td>C</td>\n",
              "      <td>I</td>\n",
              "      <td>1635</td>\n",
              "      <td>0.29</td>\n",
              "      <td>1</td>\n",
              "    </tr>\n",
              "    <tr>\n",
              "      <th>4</th>\n",
              "      <td>HU7605</td>\n",
              "      <td>350</td>\n",
              "      <td>None</td>\n",
              "      <td>2019-01-04 07:20:00</td>\n",
              "      <td>2019-01-04 09:35:00</td>\n",
              "      <td>C</td>\n",
              "      <td>I</td>\n",
              "      <td>1640</td>\n",
              "      <td>0.29</td>\n",
              "      <td>1</td>\n",
              "    </tr>\n",
              "    <tr>\n",
              "      <th>5</th>\n",
              "      <td>HU7605</td>\n",
              "      <td>350</td>\n",
              "      <td>None</td>\n",
              "      <td>2019-01-04 07:20:00</td>\n",
              "      <td>2019-01-04 09:35:00</td>\n",
              "      <td>C</td>\n",
              "      <td>C</td>\n",
              "      <td>5660</td>\n",
              "      <td>1.00</td>\n",
              "      <td>1</td>\n",
              "    </tr>\n",
              "    <tr>\n",
              "      <th>6</th>\n",
              "      <td>CA1831</td>\n",
              "      <td>773</td>\n",
              "      <td>None</td>\n",
              "      <td>2019-01-04 07:30:00</td>\n",
              "      <td>2019-01-04 09:35:00</td>\n",
              "      <td>C</td>\n",
              "      <td>R</td>\n",
              "      <td>1860</td>\n",
              "      <td>0.34</td>\n",
              "      <td>1</td>\n",
              "    </tr>\n",
              "    <tr>\n",
              "      <th>7</th>\n",
              "      <td>CA1831</td>\n",
              "      <td>773</td>\n",
              "      <td>None</td>\n",
              "      <td>2019-01-04 07:30:00</td>\n",
              "      <td>2019-01-04 09:35:00</td>\n",
              "      <td>C</td>\n",
              "      <td>J</td>\n",
              "      <td>5530</td>\n",
              "      <td>1.00</td>\n",
              "      <td>1</td>\n",
              "    </tr>\n",
              "    <tr>\n",
              "      <th>8</th>\n",
              "      <td>MU5102</td>\n",
              "      <td>333</td>\n",
              "      <td>None</td>\n",
              "      <td>2019-01-04 08:00:00</td>\n",
              "      <td>2019-01-04 10:15:00</td>\n",
              "      <td>C</td>\n",
              "      <td>I</td>\n",
              "      <td>1800</td>\n",
              "      <td>0.34</td>\n",
              "      <td>1</td>\n",
              "    </tr>\n",
              "    <tr>\n",
              "      <th>9</th>\n",
              "      <td>MU5102</td>\n",
              "      <td>333</td>\n",
              "      <td>None</td>\n",
              "      <td>2019-01-04 08:00:00</td>\n",
              "      <td>2019-01-04 10:15:00</td>\n",
              "      <td>C</td>\n",
              "      <td>J</td>\n",
              "      <td>5360</td>\n",
              "      <td>1.00</td>\n",
              "      <td>1</td>\n",
              "    </tr>\n",
              "  </tbody>\n",
              "</table>\n",
              "</div>\n",
              "      <button class=\"colab-df-convert\" onclick=\"convertToInteractive('df-df3276ae-a31f-445c-82dc-c4dde7883e05')\"\n",
              "              title=\"Convert this dataframe to an interactive table.\"\n",
              "              style=\"display:none;\">\n",
              "        \n",
              "  <svg xmlns=\"http://www.w3.org/2000/svg\" height=\"24px\"viewBox=\"0 0 24 24\"\n",
              "       width=\"24px\">\n",
              "    <path d=\"M0 0h24v24H0V0z\" fill=\"none\"/>\n",
              "    <path d=\"M18.56 5.44l.94 2.06.94-2.06 2.06-.94-2.06-.94-.94-2.06-.94 2.06-2.06.94zm-11 1L8.5 8.5l.94-2.06 2.06-.94-2.06-.94L8.5 2.5l-.94 2.06-2.06.94zm10 10l.94 2.06.94-2.06 2.06-.94-2.06-.94-.94-2.06-.94 2.06-2.06.94z\"/><path d=\"M17.41 7.96l-1.37-1.37c-.4-.4-.92-.59-1.43-.59-.52 0-1.04.2-1.43.59L10.3 9.45l-7.72 7.72c-.78.78-.78 2.05 0 2.83L4 21.41c.39.39.9.59 1.41.59.51 0 1.02-.2 1.41-.59l7.78-7.78 2.81-2.81c.8-.78.8-2.07 0-2.86zM5.41 20L4 18.59l7.72-7.72 1.47 1.35L5.41 20z\"/>\n",
              "  </svg>\n",
              "      </button>\n",
              "      \n",
              "  <style>\n",
              "    .colab-df-container {\n",
              "      display:flex;\n",
              "      flex-wrap:wrap;\n",
              "      gap: 12px;\n",
              "    }\n",
              "\n",
              "    .colab-df-convert {\n",
              "      background-color: #E8F0FE;\n",
              "      border: none;\n",
              "      border-radius: 50%;\n",
              "      cursor: pointer;\n",
              "      display: none;\n",
              "      fill: #1967D2;\n",
              "      height: 32px;\n",
              "      padding: 0 0 0 0;\n",
              "      width: 32px;\n",
              "    }\n",
              "\n",
              "    .colab-df-convert:hover {\n",
              "      background-color: #E2EBFA;\n",
              "      box-shadow: 0px 1px 2px rgba(60, 64, 67, 0.3), 0px 1px 3px 1px rgba(60, 64, 67, 0.15);\n",
              "      fill: #174EA6;\n",
              "    }\n",
              "\n",
              "    [theme=dark] .colab-df-convert {\n",
              "      background-color: #3B4455;\n",
              "      fill: #D2E3FC;\n",
              "    }\n",
              "\n",
              "    [theme=dark] .colab-df-convert:hover {\n",
              "      background-color: #434B5C;\n",
              "      box-shadow: 0px 1px 3px 1px rgba(0, 0, 0, 0.15);\n",
              "      filter: drop-shadow(0px 1px 2px rgba(0, 0, 0, 0.3));\n",
              "      fill: #FFFFFF;\n",
              "    }\n",
              "  </style>\n",
              "\n",
              "      <script>\n",
              "        const buttonEl =\n",
              "          document.querySelector('#df-df3276ae-a31f-445c-82dc-c4dde7883e05 button.colab-df-convert');\n",
              "        buttonEl.style.display =\n",
              "          google.colab.kernel.accessAllowed ? 'block' : 'none';\n",
              "\n",
              "        async function convertToInteractive(key) {\n",
              "          const element = document.querySelector('#df-df3276ae-a31f-445c-82dc-c4dde7883e05');\n",
              "          const dataTable =\n",
              "            await google.colab.kernel.invokeFunction('convertToInteractive',\n",
              "                                                     [key], {});\n",
              "          if (!dataTable) return;\n",
              "\n",
              "          const docLinkHtml = 'Like what you see? Visit the ' +\n",
              "            '<a target=\"_blank\" href=https://colab.research.google.com/notebooks/data_table.ipynb>data table notebook</a>'\n",
              "            + ' to learn more about interactive tables.';\n",
              "          element.innerHTML = '';\n",
              "          dataTable['output_type'] = 'display_data';\n",
              "          await google.colab.output.renderOutput(dataTable, element);\n",
              "          const docLink = document.createElement('div');\n",
              "          docLink.innerHTML = docLinkHtml;\n",
              "          element.appendChild(docLink);\n",
              "        }\n",
              "      </script>\n",
              "    </div>\n",
              "  </div>\n",
              "  "
            ]
          },
          "metadata": {},
          "execution_count": 19
        }
      ],
      "source": [
        "df.drop(['ID','depAirport','arrAirport','createDate'], axis = 1, inplace=True)\n",
        "df.head(10)"
      ]
    },
    {
      "cell_type": "code",
      "execution_count": null,
      "metadata": {
        "id": "yS02rMIMngQp"
      },
      "outputs": [],
      "source": [
        "# can add an extra column for difference between departureDate & arrivalDate, that way we wont have to keep these 2 columns.\n",
        "# as they are, it will tough for our model to infer from the datetime values\n",
        "# or we could convert them to sin & cosine values of date & day(cyclic encoding),\n",
        "# or we could simply extract the day of the flight, since flights on weekdays may be cheaper than weekends."
      ]
    },
    {
      "cell_type": "code",
      "execution_count": null,
      "metadata": {
        "id": "wGrBz2y3ngQq"
      },
      "outputs": [],
      "source": [
        "#df[['arrivalDate','departureDate',]] = df[['arrivalDate','departureDate',]].apply(pd.to_datetime)\n",
        "df['daysaway'] = (df['arrivalDate'] - df['departureDate']).dt.days"
      ]
    },
    {
      "cell_type": "code",
      "execution_count": null,
      "metadata": {
        "id": "OtXJf1QLngQq"
      },
      "outputs": [],
      "source": [
        "df['depDay']=df['departureDate'].dt.day_name()\n",
        "df['arrDay']=df['arrivalDate'].dt.day"
      ]
    },
    {
      "cell_type": "code",
      "execution_count": null,
      "metadata": {
        "colab": {
          "base_uri": "https://localhost:8080/",
          "height": 206
        },
        "id": "lBAWqVw3ngQq",
        "outputId": "6f37a66f-cc41-4d28-ded1-3de904cf5ac5"
      },
      "outputs": [
        {
          "output_type": "execute_result",
          "data": {
            "text/plain": [
              "  flightNumber craftTypeCode traAirport       departureDate  \\\n",
              "0       HO1252           320       None 2019-01-04 06:35:00   \n",
              "1       MU5138           33L       None 2019-01-04 07:00:00   \n",
              "2       MU5138           33L       None 2019-01-04 07:00:00   \n",
              "3       HU7605           350       None 2019-01-04 07:20:00   \n",
              "4       HU7605           350       None 2019-01-04 07:20:00   \n",
              "\n",
              "          arrivalDate cabinClass priceClass  price  rate  dateDifference  \\\n",
              "0 2019-01-04 08:55:00          C          C   1860  1.00               1   \n",
              "1 2019-01-04 09:15:00          C          I   1640  0.31               1   \n",
              "2 2019-01-04 09:15:00          C          J   5360  1.00               1   \n",
              "3 2019-01-04 09:35:00          C          I   1635  0.29               1   \n",
              "4 2019-01-04 09:35:00          C          I   1640  0.29               1   \n",
              "\n",
              "   daysaway  depDay  arrDay  \n",
              "0         0  Friday       4  \n",
              "1         0  Friday       4  \n",
              "2         0  Friday       4  \n",
              "3         0  Friday       4  \n",
              "4         0  Friday       4  "
            ],
            "text/html": [
              "\n",
              "  <div id=\"df-92a69485-1cf3-49c4-98c4-4e5f588e354c\">\n",
              "    <div class=\"colab-df-container\">\n",
              "      <div>\n",
              "<style scoped>\n",
              "    .dataframe tbody tr th:only-of-type {\n",
              "        vertical-align: middle;\n",
              "    }\n",
              "\n",
              "    .dataframe tbody tr th {\n",
              "        vertical-align: top;\n",
              "    }\n",
              "\n",
              "    .dataframe thead th {\n",
              "        text-align: right;\n",
              "    }\n",
              "</style>\n",
              "<table border=\"1\" class=\"dataframe\">\n",
              "  <thead>\n",
              "    <tr style=\"text-align: right;\">\n",
              "      <th></th>\n",
              "      <th>flightNumber</th>\n",
              "      <th>craftTypeCode</th>\n",
              "      <th>traAirport</th>\n",
              "      <th>departureDate</th>\n",
              "      <th>arrivalDate</th>\n",
              "      <th>cabinClass</th>\n",
              "      <th>priceClass</th>\n",
              "      <th>price</th>\n",
              "      <th>rate</th>\n",
              "      <th>dateDifference</th>\n",
              "      <th>daysaway</th>\n",
              "      <th>depDay</th>\n",
              "      <th>arrDay</th>\n",
              "    </tr>\n",
              "  </thead>\n",
              "  <tbody>\n",
              "    <tr>\n",
              "      <th>0</th>\n",
              "      <td>HO1252</td>\n",
              "      <td>320</td>\n",
              "      <td>None</td>\n",
              "      <td>2019-01-04 06:35:00</td>\n",
              "      <td>2019-01-04 08:55:00</td>\n",
              "      <td>C</td>\n",
              "      <td>C</td>\n",
              "      <td>1860</td>\n",
              "      <td>1.00</td>\n",
              "      <td>1</td>\n",
              "      <td>0</td>\n",
              "      <td>Friday</td>\n",
              "      <td>4</td>\n",
              "    </tr>\n",
              "    <tr>\n",
              "      <th>1</th>\n",
              "      <td>MU5138</td>\n",
              "      <td>33L</td>\n",
              "      <td>None</td>\n",
              "      <td>2019-01-04 07:00:00</td>\n",
              "      <td>2019-01-04 09:15:00</td>\n",
              "      <td>C</td>\n",
              "      <td>I</td>\n",
              "      <td>1640</td>\n",
              "      <td>0.31</td>\n",
              "      <td>1</td>\n",
              "      <td>0</td>\n",
              "      <td>Friday</td>\n",
              "      <td>4</td>\n",
              "    </tr>\n",
              "    <tr>\n",
              "      <th>2</th>\n",
              "      <td>MU5138</td>\n",
              "      <td>33L</td>\n",
              "      <td>None</td>\n",
              "      <td>2019-01-04 07:00:00</td>\n",
              "      <td>2019-01-04 09:15:00</td>\n",
              "      <td>C</td>\n",
              "      <td>J</td>\n",
              "      <td>5360</td>\n",
              "      <td>1.00</td>\n",
              "      <td>1</td>\n",
              "      <td>0</td>\n",
              "      <td>Friday</td>\n",
              "      <td>4</td>\n",
              "    </tr>\n",
              "    <tr>\n",
              "      <th>3</th>\n",
              "      <td>HU7605</td>\n",
              "      <td>350</td>\n",
              "      <td>None</td>\n",
              "      <td>2019-01-04 07:20:00</td>\n",
              "      <td>2019-01-04 09:35:00</td>\n",
              "      <td>C</td>\n",
              "      <td>I</td>\n",
              "      <td>1635</td>\n",
              "      <td>0.29</td>\n",
              "      <td>1</td>\n",
              "      <td>0</td>\n",
              "      <td>Friday</td>\n",
              "      <td>4</td>\n",
              "    </tr>\n",
              "    <tr>\n",
              "      <th>4</th>\n",
              "      <td>HU7605</td>\n",
              "      <td>350</td>\n",
              "      <td>None</td>\n",
              "      <td>2019-01-04 07:20:00</td>\n",
              "      <td>2019-01-04 09:35:00</td>\n",
              "      <td>C</td>\n",
              "      <td>I</td>\n",
              "      <td>1640</td>\n",
              "      <td>0.29</td>\n",
              "      <td>1</td>\n",
              "      <td>0</td>\n",
              "      <td>Friday</td>\n",
              "      <td>4</td>\n",
              "    </tr>\n",
              "  </tbody>\n",
              "</table>\n",
              "</div>\n",
              "      <button class=\"colab-df-convert\" onclick=\"convertToInteractive('df-92a69485-1cf3-49c4-98c4-4e5f588e354c')\"\n",
              "              title=\"Convert this dataframe to an interactive table.\"\n",
              "              style=\"display:none;\">\n",
              "        \n",
              "  <svg xmlns=\"http://www.w3.org/2000/svg\" height=\"24px\"viewBox=\"0 0 24 24\"\n",
              "       width=\"24px\">\n",
              "    <path d=\"M0 0h24v24H0V0z\" fill=\"none\"/>\n",
              "    <path d=\"M18.56 5.44l.94 2.06.94-2.06 2.06-.94-2.06-.94-.94-2.06-.94 2.06-2.06.94zm-11 1L8.5 8.5l.94-2.06 2.06-.94-2.06-.94L8.5 2.5l-.94 2.06-2.06.94zm10 10l.94 2.06.94-2.06 2.06-.94-2.06-.94-.94-2.06-.94 2.06-2.06.94z\"/><path d=\"M17.41 7.96l-1.37-1.37c-.4-.4-.92-.59-1.43-.59-.52 0-1.04.2-1.43.59L10.3 9.45l-7.72 7.72c-.78.78-.78 2.05 0 2.83L4 21.41c.39.39.9.59 1.41.59.51 0 1.02-.2 1.41-.59l7.78-7.78 2.81-2.81c.8-.78.8-2.07 0-2.86zM5.41 20L4 18.59l7.72-7.72 1.47 1.35L5.41 20z\"/>\n",
              "  </svg>\n",
              "      </button>\n",
              "      \n",
              "  <style>\n",
              "    .colab-df-container {\n",
              "      display:flex;\n",
              "      flex-wrap:wrap;\n",
              "      gap: 12px;\n",
              "    }\n",
              "\n",
              "    .colab-df-convert {\n",
              "      background-color: #E8F0FE;\n",
              "      border: none;\n",
              "      border-radius: 50%;\n",
              "      cursor: pointer;\n",
              "      display: none;\n",
              "      fill: #1967D2;\n",
              "      height: 32px;\n",
              "      padding: 0 0 0 0;\n",
              "      width: 32px;\n",
              "    }\n",
              "\n",
              "    .colab-df-convert:hover {\n",
              "      background-color: #E2EBFA;\n",
              "      box-shadow: 0px 1px 2px rgba(60, 64, 67, 0.3), 0px 1px 3px 1px rgba(60, 64, 67, 0.15);\n",
              "      fill: #174EA6;\n",
              "    }\n",
              "\n",
              "    [theme=dark] .colab-df-convert {\n",
              "      background-color: #3B4455;\n",
              "      fill: #D2E3FC;\n",
              "    }\n",
              "\n",
              "    [theme=dark] .colab-df-convert:hover {\n",
              "      background-color: #434B5C;\n",
              "      box-shadow: 0px 1px 3px 1px rgba(0, 0, 0, 0.15);\n",
              "      filter: drop-shadow(0px 1px 2px rgba(0, 0, 0, 0.3));\n",
              "      fill: #FFFFFF;\n",
              "    }\n",
              "  </style>\n",
              "\n",
              "      <script>\n",
              "        const buttonEl =\n",
              "          document.querySelector('#df-92a69485-1cf3-49c4-98c4-4e5f588e354c button.colab-df-convert');\n",
              "        buttonEl.style.display =\n",
              "          google.colab.kernel.accessAllowed ? 'block' : 'none';\n",
              "\n",
              "        async function convertToInteractive(key) {\n",
              "          const element = document.querySelector('#df-92a69485-1cf3-49c4-98c4-4e5f588e354c');\n",
              "          const dataTable =\n",
              "            await google.colab.kernel.invokeFunction('convertToInteractive',\n",
              "                                                     [key], {});\n",
              "          if (!dataTable) return;\n",
              "\n",
              "          const docLinkHtml = 'Like what you see? Visit the ' +\n",
              "            '<a target=\"_blank\" href=https://colab.research.google.com/notebooks/data_table.ipynb>data table notebook</a>'\n",
              "            + ' to learn more about interactive tables.';\n",
              "          element.innerHTML = '';\n",
              "          dataTable['output_type'] = 'display_data';\n",
              "          await google.colab.output.renderOutput(dataTable, element);\n",
              "          const docLink = document.createElement('div');\n",
              "          docLink.innerHTML = docLinkHtml;\n",
              "          element.appendChild(docLink);\n",
              "        }\n",
              "      </script>\n",
              "    </div>\n",
              "  </div>\n",
              "  "
            ]
          },
          "metadata": {},
          "execution_count": 23
        }
      ],
      "source": [
        "df.head()"
      ]
    },
    {
      "cell_type": "code",
      "execution_count": null,
      "metadata": {
        "colab": {
          "base_uri": "https://localhost:8080/"
        },
        "id": "TldkvW6KngQq",
        "outputId": "3b69b6cc-630b-4f93-c12f-84c9eac093be"
      },
      "outputs": [
        {
          "output_type": "stream",
          "name": "stdout",
          "text": [
            "1 7 31\n"
          ]
        }
      ],
      "source": [
        "print(df['daysaway'].nunique(),df[\"depDay\"].nunique(),df[\"arrDay\"].nunique())"
      ]
    },
    {
      "cell_type": "code",
      "execution_count": null,
      "metadata": {
        "id": "Rzs3rUTOngQq"
      },
      "outputs": [],
      "source": [
        "#so, these are all one day trips, so counting days wont work. lets count seconds\n",
        "df['daysaway'] = (df['arrivalDate'] - df['departureDate']).dt.seconds"
      ]
    },
    {
      "cell_type": "code",
      "execution_count": null,
      "metadata": {
        "colab": {
          "base_uri": "https://localhost:8080/",
          "height": 206
        },
        "id": "dGLW8ivnngQr",
        "outputId": "292e4ed9-24cc-41ee-e9f0-86a1bf35cc22"
      },
      "outputs": [
        {
          "output_type": "execute_result",
          "data": {
            "text/plain": [
              "  flightNumber craftTypeCode traAirport       departureDate  \\\n",
              "0       HO1252           320       None 2019-01-04 06:35:00   \n",
              "1       MU5138           33L       None 2019-01-04 07:00:00   \n",
              "2       MU5138           33L       None 2019-01-04 07:00:00   \n",
              "3       HU7605           350       None 2019-01-04 07:20:00   \n",
              "4       HU7605           350       None 2019-01-04 07:20:00   \n",
              "\n",
              "          arrivalDate cabinClass priceClass  price  rate  dateDifference  \\\n",
              "0 2019-01-04 08:55:00          C          C   1860  1.00               1   \n",
              "1 2019-01-04 09:15:00          C          I   1640  0.31               1   \n",
              "2 2019-01-04 09:15:00          C          J   5360  1.00               1   \n",
              "3 2019-01-04 09:35:00          C          I   1635  0.29               1   \n",
              "4 2019-01-04 09:35:00          C          I   1640  0.29               1   \n",
              "\n",
              "   daysaway  depDay  arrDay  \n",
              "0      8400  Friday       4  \n",
              "1      8100  Friday       4  \n",
              "2      8100  Friday       4  \n",
              "3      8100  Friday       4  \n",
              "4      8100  Friday       4  "
            ],
            "text/html": [
              "\n",
              "  <div id=\"df-5fb6411a-b7c8-4044-8efe-0aba766232c0\">\n",
              "    <div class=\"colab-df-container\">\n",
              "      <div>\n",
              "<style scoped>\n",
              "    .dataframe tbody tr th:only-of-type {\n",
              "        vertical-align: middle;\n",
              "    }\n",
              "\n",
              "    .dataframe tbody tr th {\n",
              "        vertical-align: top;\n",
              "    }\n",
              "\n",
              "    .dataframe thead th {\n",
              "        text-align: right;\n",
              "    }\n",
              "</style>\n",
              "<table border=\"1\" class=\"dataframe\">\n",
              "  <thead>\n",
              "    <tr style=\"text-align: right;\">\n",
              "      <th></th>\n",
              "      <th>flightNumber</th>\n",
              "      <th>craftTypeCode</th>\n",
              "      <th>traAirport</th>\n",
              "      <th>departureDate</th>\n",
              "      <th>arrivalDate</th>\n",
              "      <th>cabinClass</th>\n",
              "      <th>priceClass</th>\n",
              "      <th>price</th>\n",
              "      <th>rate</th>\n",
              "      <th>dateDifference</th>\n",
              "      <th>daysaway</th>\n",
              "      <th>depDay</th>\n",
              "      <th>arrDay</th>\n",
              "    </tr>\n",
              "  </thead>\n",
              "  <tbody>\n",
              "    <tr>\n",
              "      <th>0</th>\n",
              "      <td>HO1252</td>\n",
              "      <td>320</td>\n",
              "      <td>None</td>\n",
              "      <td>2019-01-04 06:35:00</td>\n",
              "      <td>2019-01-04 08:55:00</td>\n",
              "      <td>C</td>\n",
              "      <td>C</td>\n",
              "      <td>1860</td>\n",
              "      <td>1.00</td>\n",
              "      <td>1</td>\n",
              "      <td>8400</td>\n",
              "      <td>Friday</td>\n",
              "      <td>4</td>\n",
              "    </tr>\n",
              "    <tr>\n",
              "      <th>1</th>\n",
              "      <td>MU5138</td>\n",
              "      <td>33L</td>\n",
              "      <td>None</td>\n",
              "      <td>2019-01-04 07:00:00</td>\n",
              "      <td>2019-01-04 09:15:00</td>\n",
              "      <td>C</td>\n",
              "      <td>I</td>\n",
              "      <td>1640</td>\n",
              "      <td>0.31</td>\n",
              "      <td>1</td>\n",
              "      <td>8100</td>\n",
              "      <td>Friday</td>\n",
              "      <td>4</td>\n",
              "    </tr>\n",
              "    <tr>\n",
              "      <th>2</th>\n",
              "      <td>MU5138</td>\n",
              "      <td>33L</td>\n",
              "      <td>None</td>\n",
              "      <td>2019-01-04 07:00:00</td>\n",
              "      <td>2019-01-04 09:15:00</td>\n",
              "      <td>C</td>\n",
              "      <td>J</td>\n",
              "      <td>5360</td>\n",
              "      <td>1.00</td>\n",
              "      <td>1</td>\n",
              "      <td>8100</td>\n",
              "      <td>Friday</td>\n",
              "      <td>4</td>\n",
              "    </tr>\n",
              "    <tr>\n",
              "      <th>3</th>\n",
              "      <td>HU7605</td>\n",
              "      <td>350</td>\n",
              "      <td>None</td>\n",
              "      <td>2019-01-04 07:20:00</td>\n",
              "      <td>2019-01-04 09:35:00</td>\n",
              "      <td>C</td>\n",
              "      <td>I</td>\n",
              "      <td>1635</td>\n",
              "      <td>0.29</td>\n",
              "      <td>1</td>\n",
              "      <td>8100</td>\n",
              "      <td>Friday</td>\n",
              "      <td>4</td>\n",
              "    </tr>\n",
              "    <tr>\n",
              "      <th>4</th>\n",
              "      <td>HU7605</td>\n",
              "      <td>350</td>\n",
              "      <td>None</td>\n",
              "      <td>2019-01-04 07:20:00</td>\n",
              "      <td>2019-01-04 09:35:00</td>\n",
              "      <td>C</td>\n",
              "      <td>I</td>\n",
              "      <td>1640</td>\n",
              "      <td>0.29</td>\n",
              "      <td>1</td>\n",
              "      <td>8100</td>\n",
              "      <td>Friday</td>\n",
              "      <td>4</td>\n",
              "    </tr>\n",
              "  </tbody>\n",
              "</table>\n",
              "</div>\n",
              "      <button class=\"colab-df-convert\" onclick=\"convertToInteractive('df-5fb6411a-b7c8-4044-8efe-0aba766232c0')\"\n",
              "              title=\"Convert this dataframe to an interactive table.\"\n",
              "              style=\"display:none;\">\n",
              "        \n",
              "  <svg xmlns=\"http://www.w3.org/2000/svg\" height=\"24px\"viewBox=\"0 0 24 24\"\n",
              "       width=\"24px\">\n",
              "    <path d=\"M0 0h24v24H0V0z\" fill=\"none\"/>\n",
              "    <path d=\"M18.56 5.44l.94 2.06.94-2.06 2.06-.94-2.06-.94-.94-2.06-.94 2.06-2.06.94zm-11 1L8.5 8.5l.94-2.06 2.06-.94-2.06-.94L8.5 2.5l-.94 2.06-2.06.94zm10 10l.94 2.06.94-2.06 2.06-.94-2.06-.94-.94-2.06-.94 2.06-2.06.94z\"/><path d=\"M17.41 7.96l-1.37-1.37c-.4-.4-.92-.59-1.43-.59-.52 0-1.04.2-1.43.59L10.3 9.45l-7.72 7.72c-.78.78-.78 2.05 0 2.83L4 21.41c.39.39.9.59 1.41.59.51 0 1.02-.2 1.41-.59l7.78-7.78 2.81-2.81c.8-.78.8-2.07 0-2.86zM5.41 20L4 18.59l7.72-7.72 1.47 1.35L5.41 20z\"/>\n",
              "  </svg>\n",
              "      </button>\n",
              "      \n",
              "  <style>\n",
              "    .colab-df-container {\n",
              "      display:flex;\n",
              "      flex-wrap:wrap;\n",
              "      gap: 12px;\n",
              "    }\n",
              "\n",
              "    .colab-df-convert {\n",
              "      background-color: #E8F0FE;\n",
              "      border: none;\n",
              "      border-radius: 50%;\n",
              "      cursor: pointer;\n",
              "      display: none;\n",
              "      fill: #1967D2;\n",
              "      height: 32px;\n",
              "      padding: 0 0 0 0;\n",
              "      width: 32px;\n",
              "    }\n",
              "\n",
              "    .colab-df-convert:hover {\n",
              "      background-color: #E2EBFA;\n",
              "      box-shadow: 0px 1px 2px rgba(60, 64, 67, 0.3), 0px 1px 3px 1px rgba(60, 64, 67, 0.15);\n",
              "      fill: #174EA6;\n",
              "    }\n",
              "\n",
              "    [theme=dark] .colab-df-convert {\n",
              "      background-color: #3B4455;\n",
              "      fill: #D2E3FC;\n",
              "    }\n",
              "\n",
              "    [theme=dark] .colab-df-convert:hover {\n",
              "      background-color: #434B5C;\n",
              "      box-shadow: 0px 1px 3px 1px rgba(0, 0, 0, 0.15);\n",
              "      filter: drop-shadow(0px 1px 2px rgba(0, 0, 0, 0.3));\n",
              "      fill: #FFFFFF;\n",
              "    }\n",
              "  </style>\n",
              "\n",
              "      <script>\n",
              "        const buttonEl =\n",
              "          document.querySelector('#df-5fb6411a-b7c8-4044-8efe-0aba766232c0 button.colab-df-convert');\n",
              "        buttonEl.style.display =\n",
              "          google.colab.kernel.accessAllowed ? 'block' : 'none';\n",
              "\n",
              "        async function convertToInteractive(key) {\n",
              "          const element = document.querySelector('#df-5fb6411a-b7c8-4044-8efe-0aba766232c0');\n",
              "          const dataTable =\n",
              "            await google.colab.kernel.invokeFunction('convertToInteractive',\n",
              "                                                     [key], {});\n",
              "          if (!dataTable) return;\n",
              "\n",
              "          const docLinkHtml = 'Like what you see? Visit the ' +\n",
              "            '<a target=\"_blank\" href=https://colab.research.google.com/notebooks/data_table.ipynb>data table notebook</a>'\n",
              "            + ' to learn more about interactive tables.';\n",
              "          element.innerHTML = '';\n",
              "          dataTable['output_type'] = 'display_data';\n",
              "          await google.colab.output.renderOutput(dataTable, element);\n",
              "          const docLink = document.createElement('div');\n",
              "          docLink.innerHTML = docLinkHtml;\n",
              "          element.appendChild(docLink);\n",
              "        }\n",
              "      </script>\n",
              "    </div>\n",
              "  </div>\n",
              "  "
            ]
          },
          "metadata": {},
          "execution_count": 26
        }
      ],
      "source": [
        "df.head()"
      ]
    },
    {
      "cell_type": "code",
      "execution_count": null,
      "metadata": {
        "id": "w4DgTidpngQr"
      },
      "outputs": [],
      "source": [
        "#alright works"
      ]
    },
    {
      "cell_type": "code",
      "execution_count": null,
      "metadata": {
        "colab": {
          "base_uri": "https://localhost:8080/",
          "height": 363
        },
        "id": "FYlrBbE5ngQr",
        "outputId": "a4773d77-84e6-424e-9f50-5b4787b65a0f"
      },
      "outputs": [
        {
          "output_type": "execute_result",
          "data": {
            "text/plain": [
              "  flightNumber craftTypeCode traAirport       departureDate cabinClass  \\\n",
              "0       HO1252           320       None 2019-01-04 06:35:00          C   \n",
              "1       MU5138           33L       None 2019-01-04 07:00:00          C   \n",
              "2       MU5138           33L       None 2019-01-04 07:00:00          C   \n",
              "3       HU7605           350       None 2019-01-04 07:20:00          C   \n",
              "4       HU7605           350       None 2019-01-04 07:20:00          C   \n",
              "5       HU7605           350       None 2019-01-04 07:20:00          C   \n",
              "6       CA1831           773       None 2019-01-04 07:30:00          C   \n",
              "7       CA1831           773       None 2019-01-04 07:30:00          C   \n",
              "8       MU5102           333       None 2019-01-04 08:00:00          C   \n",
              "9       MU5102           333       None 2019-01-04 08:00:00          C   \n",
              "\n",
              "  priceClass  price  rate  dateDifference  daysaway  depDay  arrDay  \n",
              "0          C   1860  1.00               1      8400  Friday       4  \n",
              "1          I   1640  0.31               1      8100  Friday       4  \n",
              "2          J   5360  1.00               1      8100  Friday       4  \n",
              "3          I   1635  0.29               1      8100  Friday       4  \n",
              "4          I   1640  0.29               1      8100  Friday       4  \n",
              "5          C   5660  1.00               1      8100  Friday       4  \n",
              "6          R   1860  0.34               1      7500  Friday       4  \n",
              "7          J   5530  1.00               1      7500  Friday       4  \n",
              "8          I   1800  0.34               1      8100  Friday       4  \n",
              "9          J   5360  1.00               1      8100  Friday       4  "
            ],
            "text/html": [
              "\n",
              "  <div id=\"df-7d0bff72-f3c1-438a-9bf0-a85f39f019fd\">\n",
              "    <div class=\"colab-df-container\">\n",
              "      <div>\n",
              "<style scoped>\n",
              "    .dataframe tbody tr th:only-of-type {\n",
              "        vertical-align: middle;\n",
              "    }\n",
              "\n",
              "    .dataframe tbody tr th {\n",
              "        vertical-align: top;\n",
              "    }\n",
              "\n",
              "    .dataframe thead th {\n",
              "        text-align: right;\n",
              "    }\n",
              "</style>\n",
              "<table border=\"1\" class=\"dataframe\">\n",
              "  <thead>\n",
              "    <tr style=\"text-align: right;\">\n",
              "      <th></th>\n",
              "      <th>flightNumber</th>\n",
              "      <th>craftTypeCode</th>\n",
              "      <th>traAirport</th>\n",
              "      <th>departureDate</th>\n",
              "      <th>cabinClass</th>\n",
              "      <th>priceClass</th>\n",
              "      <th>price</th>\n",
              "      <th>rate</th>\n",
              "      <th>dateDifference</th>\n",
              "      <th>daysaway</th>\n",
              "      <th>depDay</th>\n",
              "      <th>arrDay</th>\n",
              "    </tr>\n",
              "  </thead>\n",
              "  <tbody>\n",
              "    <tr>\n",
              "      <th>0</th>\n",
              "      <td>HO1252</td>\n",
              "      <td>320</td>\n",
              "      <td>None</td>\n",
              "      <td>2019-01-04 06:35:00</td>\n",
              "      <td>C</td>\n",
              "      <td>C</td>\n",
              "      <td>1860</td>\n",
              "      <td>1.00</td>\n",
              "      <td>1</td>\n",
              "      <td>8400</td>\n",
              "      <td>Friday</td>\n",
              "      <td>4</td>\n",
              "    </tr>\n",
              "    <tr>\n",
              "      <th>1</th>\n",
              "      <td>MU5138</td>\n",
              "      <td>33L</td>\n",
              "      <td>None</td>\n",
              "      <td>2019-01-04 07:00:00</td>\n",
              "      <td>C</td>\n",
              "      <td>I</td>\n",
              "      <td>1640</td>\n",
              "      <td>0.31</td>\n",
              "      <td>1</td>\n",
              "      <td>8100</td>\n",
              "      <td>Friday</td>\n",
              "      <td>4</td>\n",
              "    </tr>\n",
              "    <tr>\n",
              "      <th>2</th>\n",
              "      <td>MU5138</td>\n",
              "      <td>33L</td>\n",
              "      <td>None</td>\n",
              "      <td>2019-01-04 07:00:00</td>\n",
              "      <td>C</td>\n",
              "      <td>J</td>\n",
              "      <td>5360</td>\n",
              "      <td>1.00</td>\n",
              "      <td>1</td>\n",
              "      <td>8100</td>\n",
              "      <td>Friday</td>\n",
              "      <td>4</td>\n",
              "    </tr>\n",
              "    <tr>\n",
              "      <th>3</th>\n",
              "      <td>HU7605</td>\n",
              "      <td>350</td>\n",
              "      <td>None</td>\n",
              "      <td>2019-01-04 07:20:00</td>\n",
              "      <td>C</td>\n",
              "      <td>I</td>\n",
              "      <td>1635</td>\n",
              "      <td>0.29</td>\n",
              "      <td>1</td>\n",
              "      <td>8100</td>\n",
              "      <td>Friday</td>\n",
              "      <td>4</td>\n",
              "    </tr>\n",
              "    <tr>\n",
              "      <th>4</th>\n",
              "      <td>HU7605</td>\n",
              "      <td>350</td>\n",
              "      <td>None</td>\n",
              "      <td>2019-01-04 07:20:00</td>\n",
              "      <td>C</td>\n",
              "      <td>I</td>\n",
              "      <td>1640</td>\n",
              "      <td>0.29</td>\n",
              "      <td>1</td>\n",
              "      <td>8100</td>\n",
              "      <td>Friday</td>\n",
              "      <td>4</td>\n",
              "    </tr>\n",
              "    <tr>\n",
              "      <th>5</th>\n",
              "      <td>HU7605</td>\n",
              "      <td>350</td>\n",
              "      <td>None</td>\n",
              "      <td>2019-01-04 07:20:00</td>\n",
              "      <td>C</td>\n",
              "      <td>C</td>\n",
              "      <td>5660</td>\n",
              "      <td>1.00</td>\n",
              "      <td>1</td>\n",
              "      <td>8100</td>\n",
              "      <td>Friday</td>\n",
              "      <td>4</td>\n",
              "    </tr>\n",
              "    <tr>\n",
              "      <th>6</th>\n",
              "      <td>CA1831</td>\n",
              "      <td>773</td>\n",
              "      <td>None</td>\n",
              "      <td>2019-01-04 07:30:00</td>\n",
              "      <td>C</td>\n",
              "      <td>R</td>\n",
              "      <td>1860</td>\n",
              "      <td>0.34</td>\n",
              "      <td>1</td>\n",
              "      <td>7500</td>\n",
              "      <td>Friday</td>\n",
              "      <td>4</td>\n",
              "    </tr>\n",
              "    <tr>\n",
              "      <th>7</th>\n",
              "      <td>CA1831</td>\n",
              "      <td>773</td>\n",
              "      <td>None</td>\n",
              "      <td>2019-01-04 07:30:00</td>\n",
              "      <td>C</td>\n",
              "      <td>J</td>\n",
              "      <td>5530</td>\n",
              "      <td>1.00</td>\n",
              "      <td>1</td>\n",
              "      <td>7500</td>\n",
              "      <td>Friday</td>\n",
              "      <td>4</td>\n",
              "    </tr>\n",
              "    <tr>\n",
              "      <th>8</th>\n",
              "      <td>MU5102</td>\n",
              "      <td>333</td>\n",
              "      <td>None</td>\n",
              "      <td>2019-01-04 08:00:00</td>\n",
              "      <td>C</td>\n",
              "      <td>I</td>\n",
              "      <td>1800</td>\n",
              "      <td>0.34</td>\n",
              "      <td>1</td>\n",
              "      <td>8100</td>\n",
              "      <td>Friday</td>\n",
              "      <td>4</td>\n",
              "    </tr>\n",
              "    <tr>\n",
              "      <th>9</th>\n",
              "      <td>MU5102</td>\n",
              "      <td>333</td>\n",
              "      <td>None</td>\n",
              "      <td>2019-01-04 08:00:00</td>\n",
              "      <td>C</td>\n",
              "      <td>J</td>\n",
              "      <td>5360</td>\n",
              "      <td>1.00</td>\n",
              "      <td>1</td>\n",
              "      <td>8100</td>\n",
              "      <td>Friday</td>\n",
              "      <td>4</td>\n",
              "    </tr>\n",
              "  </tbody>\n",
              "</table>\n",
              "</div>\n",
              "      <button class=\"colab-df-convert\" onclick=\"convertToInteractive('df-7d0bff72-f3c1-438a-9bf0-a85f39f019fd')\"\n",
              "              title=\"Convert this dataframe to an interactive table.\"\n",
              "              style=\"display:none;\">\n",
              "        \n",
              "  <svg xmlns=\"http://www.w3.org/2000/svg\" height=\"24px\"viewBox=\"0 0 24 24\"\n",
              "       width=\"24px\">\n",
              "    <path d=\"M0 0h24v24H0V0z\" fill=\"none\"/>\n",
              "    <path d=\"M18.56 5.44l.94 2.06.94-2.06 2.06-.94-2.06-.94-.94-2.06-.94 2.06-2.06.94zm-11 1L8.5 8.5l.94-2.06 2.06-.94-2.06-.94L8.5 2.5l-.94 2.06-2.06.94zm10 10l.94 2.06.94-2.06 2.06-.94-2.06-.94-.94-2.06-.94 2.06-2.06.94z\"/><path d=\"M17.41 7.96l-1.37-1.37c-.4-.4-.92-.59-1.43-.59-.52 0-1.04.2-1.43.59L10.3 9.45l-7.72 7.72c-.78.78-.78 2.05 0 2.83L4 21.41c.39.39.9.59 1.41.59.51 0 1.02-.2 1.41-.59l7.78-7.78 2.81-2.81c.8-.78.8-2.07 0-2.86zM5.41 20L4 18.59l7.72-7.72 1.47 1.35L5.41 20z\"/>\n",
              "  </svg>\n",
              "      </button>\n",
              "      \n",
              "  <style>\n",
              "    .colab-df-container {\n",
              "      display:flex;\n",
              "      flex-wrap:wrap;\n",
              "      gap: 12px;\n",
              "    }\n",
              "\n",
              "    .colab-df-convert {\n",
              "      background-color: #E8F0FE;\n",
              "      border: none;\n",
              "      border-radius: 50%;\n",
              "      cursor: pointer;\n",
              "      display: none;\n",
              "      fill: #1967D2;\n",
              "      height: 32px;\n",
              "      padding: 0 0 0 0;\n",
              "      width: 32px;\n",
              "    }\n",
              "\n",
              "    .colab-df-convert:hover {\n",
              "      background-color: #E2EBFA;\n",
              "      box-shadow: 0px 1px 2px rgba(60, 64, 67, 0.3), 0px 1px 3px 1px rgba(60, 64, 67, 0.15);\n",
              "      fill: #174EA6;\n",
              "    }\n",
              "\n",
              "    [theme=dark] .colab-df-convert {\n",
              "      background-color: #3B4455;\n",
              "      fill: #D2E3FC;\n",
              "    }\n",
              "\n",
              "    [theme=dark] .colab-df-convert:hover {\n",
              "      background-color: #434B5C;\n",
              "      box-shadow: 0px 1px 3px 1px rgba(0, 0, 0, 0.15);\n",
              "      filter: drop-shadow(0px 1px 2px rgba(0, 0, 0, 0.3));\n",
              "      fill: #FFFFFF;\n",
              "    }\n",
              "  </style>\n",
              "\n",
              "      <script>\n",
              "        const buttonEl =\n",
              "          document.querySelector('#df-7d0bff72-f3c1-438a-9bf0-a85f39f019fd button.colab-df-convert');\n",
              "        buttonEl.style.display =\n",
              "          google.colab.kernel.accessAllowed ? 'block' : 'none';\n",
              "\n",
              "        async function convertToInteractive(key) {\n",
              "          const element = document.querySelector('#df-7d0bff72-f3c1-438a-9bf0-a85f39f019fd');\n",
              "          const dataTable =\n",
              "            await google.colab.kernel.invokeFunction('convertToInteractive',\n",
              "                                                     [key], {});\n",
              "          if (!dataTable) return;\n",
              "\n",
              "          const docLinkHtml = 'Like what you see? Visit the ' +\n",
              "            '<a target=\"_blank\" href=https://colab.research.google.com/notebooks/data_table.ipynb>data table notebook</a>'\n",
              "            + ' to learn more about interactive tables.';\n",
              "          element.innerHTML = '';\n",
              "          dataTable['output_type'] = 'display_data';\n",
              "          await google.colab.output.renderOutput(dataTable, element);\n",
              "          const docLink = document.createElement('div');\n",
              "          docLink.innerHTML = docLinkHtml;\n",
              "          element.appendChild(docLink);\n",
              "        }\n",
              "      </script>\n",
              "    </div>\n",
              "  </div>\n",
              "  "
            ]
          },
          "metadata": {},
          "execution_count": 28
        }
      ],
      "source": [
        "df.drop(['arrivalDate'], axis = 1, inplace=True)\n",
        "df.head(10)"
      ]
    },
    {
      "cell_type": "code",
      "execution_count": null,
      "metadata": {
        "colab": {
          "base_uri": "https://localhost:8080/",
          "height": 609
        },
        "id": "yoeGQsT8ngQr",
        "outputId": "11f83ea7-8fd3-47f7-fc2b-3ef2573bd606"
      },
      "outputs": [
        {
          "output_type": "execute_result",
          "data": {
            "text/plain": [
              "<matplotlib.axes._subplots.AxesSubplot at 0x7f58704a9dd0>"
            ]
          },
          "metadata": {},
          "execution_count": 29
        },
        {
          "output_type": "display_data",
          "data": {
            "text/plain": [
              "<Figure size 720x720 with 1 Axes>"
            ],
            "image/png": "[encoded data removed]"
          },
          "metadata": {
            "needs_background": "light"
          }
        }
      ],
      "source": [
        "df[\"price\"].plot(kind = \"density\" , figsize = (10,10))"
      ]
    },
    {
      "cell_type": "code",
      "execution_count": null,
      "metadata": {
        "colab": {
          "base_uri": "https://localhost:8080/",
          "height": 609
        },
        "id": "AMKyrfU9ngQr",
        "outputId": "8235aa5f-f429-4d94-9755-ec2b8e407018"
      },
      "outputs": [
        {
          "output_type": "execute_result",
          "data": {
            "text/plain": [
              "<matplotlib.axes._subplots.AxesSubplot at 0x7f586fc27cd0>"
            ]
          },
          "metadata": {},
          "execution_count": 30
        },
        {
          "output_type": "display_data",
          "data": {
            "text/plain": [
              "<Figure size 720x720 with 1 Axes>"
            ],
            "image/png": "[encoded data removed]"
          },
          "metadata": {
            "needs_background": "light"
          }
        }
      ],
      "source": [
        "df[\"price\"].plot(kind = \"hist\" , figsize = (10,10))"
      ]
    },
    {
      "cell_type": "code",
      "execution_count": null,
      "metadata": {
        "colab": {
          "base_uri": "https://localhost:8080/",
          "height": 296
        },
        "id": "LeetIzAAngQr",
        "outputId": "df4e43c1-18ae-46a5-8719-b6b5403ddd2f"
      },
      "outputs": [
        {
          "output_type": "execute_result",
          "data": {
            "text/plain": [
              "<matplotlib.axes._subplots.AxesSubplot at 0x7f586db2edd0>"
            ]
          },
          "metadata": {},
          "execution_count": 31
        },
        {
          "output_type": "display_data",
          "data": {
            "text/plain": [
              "<Figure size 432x288 with 1 Axes>"
            ],
            "image/png": "[encoded data removed]"
          },
          "metadata": {
            "needs_background": "light"
          }
        }
      ],
      "source": [
        "sns.countplot(data=df,x=\"traAirport\")"
      ]
    },
    {
      "cell_type": "code",
      "execution_count": null,
      "metadata": {
        "colab": {
          "base_uri": "https://localhost:8080/"
        },
        "id": "vVXFaKlqngQr",
        "outputId": "22476dec-6f4c-46bb-b0bc-ae6db0121097"
      },
      "outputs": [
        {
          "output_type": "execute_result",
          "data": {
            "text/plain": [
              "None    292382\n",
              "LYA       5749\n",
              "Name: traAirport, dtype: int64"
            ]
          },
          "metadata": {},
          "execution_count": 32
        }
      ],
      "source": [
        "df[\"traAirport\"].value_counts() #quite unbalanced"
      ]
    },
    {
      "cell_type": "code",
      "execution_count": null,
      "metadata": {
        "colab": {
          "base_uri": "https://localhost:8080/"
        },
        "id": "kvuf8GL8ngQs",
        "outputId": "31a916cd-ed35-4bc2-d778-6f5a12dfdeae"
      },
      "outputs": [
        {
          "output_type": "execute_result",
          "data": {
            "text/plain": [
              "MU5693    3650\n",
              "MU5390    2099\n",
              "Name: flightNumber, dtype: int64"
            ]
          },
          "metadata": {},
          "execution_count": 33
        }
      ],
      "source": [
        "df[df.traAirport == \"LYA\"].flightNumber.value_counts()\n",
        "# Only 2 flights have a transit Airport\n"
      ]
    },
    {
      "cell_type": "code",
      "execution_count": null,
      "metadata": {
        "colab": {
          "base_uri": "https://localhost:8080/",
          "height": 298
        },
        "id": "OPXAIoitngQs",
        "outputId": "a71c961a-f1cc-4702-e342-941cdaa67809"
      },
      "outputs": [
        {
          "output_type": "execute_result",
          "data": {
            "text/plain": [
              "<matplotlib.axes._subplots.AxesSubplot at 0x7f586db19090>"
            ]
          },
          "metadata": {},
          "execution_count": 34
        },
        {
          "output_type": "display_data",
          "data": {
            "text/plain": [
              "<Figure size 432x288 with 1 Axes>"
            ],
            "image/png": "[encoded data removed]"
          },
          "metadata": {
            "needs_background": "light"
          }
        }
      ],
      "source": [
        "sns.countplot(data=df,x=\"cabinClass\")"
      ]
    },
    {
      "cell_type": "code",
      "execution_count": null,
      "metadata": {
        "colab": {
          "base_uri": "https://localhost:8080/",
          "height": 877
        },
        "id": "SwRIZv1RngQs",
        "outputId": "c8ca9d60-114a-4f0a-ebbe-24ae3c4dd6f9"
      },
      "outputs": [
        {
          "output_type": "display_data",
          "data": {
            "text/plain": [
              "<Figure size 1440x1080 with 1 Axes>"
            ],
            "image/png": "[encoded data removed]"
          },
          "metadata": {
            "needs_background": "light"
          }
        }
      ],
      "source": [
        "fig, ax = plt.subplots(figsize=(20, 15))\n",
        "sns.countplot(data=df,x=\"priceClass\")\n",
        "plt.show()"
      ]
    },
    {
      "cell_type": "code",
      "execution_count": null,
      "metadata": {
        "colab": {
          "base_uri": "https://localhost:8080/"
        },
        "id": "ATWB43KgngQs",
        "outputId": "b5024969-60f0-428d-97ca-9ca8f9d498e9"
      },
      "outputs": [
        {
          "output_type": "stream",
          "name": "stdout",
          "text": [
            "2 3 4 1 3\n"
          ]
        }
      ],
      "source": [
        "# are BZ, XC, MC, NZ, VZ empty ?\n",
        "print(df['priceClass'].value_counts()['BZ'],df['priceClass'].value_counts()['XC'],df['priceClass'].value_counts()['MC'],df['priceClass'].value_counts()['NZ'],df['priceClass'].value_counts()['VZ'])"
      ]
    },
    {
      "cell_type": "code",
      "execution_count": null,
      "metadata": {
        "colab": {
          "base_uri": "https://localhost:8080/",
          "height": 894
        },
        "id": "h552ivcwngQs",
        "outputId": "3de2dc63-3fb6-41ad-defb-4347a664e9ae"
      },
      "outputs": [
        {
          "output_type": "execute_result",
          "data": {
            "text/plain": [
              "<matplotlib.axes._subplots.AxesSubplot at 0x7f586d9a4450>"
            ]
          },
          "metadata": {},
          "execution_count": 37
        },
        {
          "output_type": "display_data",
          "data": {
            "text/plain": [
              "<Figure size 1440x1080 with 1 Axes>"
            ],
            "image/png": "[encoded data removed]"
          },
          "metadata": {
            "needs_background": "light"
          }
        }
      ],
      "source": [
        "#NO, they are very less in number.\n",
        "fig, ax = plt.subplots(figsize=(20, 15))\n",
        "sns.countplot(data=df,x='craftTypeCode')"
      ]
    },
    {
      "cell_type": "code",
      "execution_count": null,
      "metadata": {
        "colab": {
          "base_uri": "https://localhost:8080/",
          "height": 565
        },
        "id": "gUNVQQa_ngQs",
        "outputId": "941be18f-bb81-4341-d6d8-6d2de2394adb"
      },
      "outputs": [
        {
          "output_type": "execute_result",
          "data": {
            "text/plain": [
              "<matplotlib.axes._subplots.AxesSubplot at 0x7f586d7b2e10>"
            ]
          },
          "metadata": {},
          "execution_count": 38
        },
        {
          "output_type": "display_data",
          "data": {
            "text/plain": [
              "<Figure size 2880x1080 with 1 Axes>"
            ],
            "image/png": "[encoded data removed]"
          },
          "metadata": {
            "needs_background": "light"
          }
        }
      ],
      "source": [
        "#33L is the most occuring aircraft code\n",
        "fig, ax = plt.subplots(figsize=(40, 15))\n",
        "sns.countplot(data=df,x='flightNumber')"
      ]
    },
    {
      "cell_type": "code",
      "execution_count": null,
      "metadata": {
        "colab": {
          "base_uri": "https://localhost:8080/",
          "height": 206
        },
        "id": "teHU128hngQt",
        "outputId": "e56d4661-2a75-46e8-aa1d-f349a3bc8340"
      },
      "outputs": [
        {
          "output_type": "execute_result",
          "data": {
            "text/plain": [
              "                   price      rate  dateDifference  daysaway    arrDay\n",
              "price           1.000000  0.430178       -0.052950 -0.057445  0.025186\n",
              "rate            0.430178  1.000000       -0.021908 -0.060896  0.060926\n",
              "dateDifference -0.052950 -0.021908        1.000000  0.007318  0.005487\n",
              "daysaway       -0.057445 -0.060896        0.007318  1.000000  0.005867\n",
              "arrDay          0.025186  0.060926        0.005487  0.005867  1.000000"
            ],
            "text/html": [
              "\n",
              "  <div id=\"df-9e9ffcdd-6ea1-4825-8b2f-0a7fbfc08fa5\">\n",
              "    <div class=\"colab-df-container\">\n",
              "      <div>\n",
              "<style scoped>\n",
              "    .dataframe tbody tr th:only-of-type {\n",
              "        vertical-align: middle;\n",
              "    }\n",
              "\n",
              "    .dataframe tbody tr th {\n",
              "        vertical-align: top;\n",
              "    }\n",
              "\n",
              "    .dataframe thead th {\n",
              "        text-align: right;\n",
              "    }\n",
              "</style>\n",
              "<table border=\"1\" class=\"dataframe\">\n",
              "  <thead>\n",
              "    <tr style=\"text-align: right;\">\n",
              "      <th></th>\n",
              "      <th>price</th>\n",
              "      <th>rate</th>\n",
              "      <th>dateDifference</th>\n",
              "      <th>daysaway</th>\n",
              "      <th>arrDay</th>\n",
              "    </tr>\n",
              "  </thead>\n",
              "  <tbody>\n",
              "    <tr>\n",
              "      <th>price</th>\n",
              "      <td>1.000000</td>\n",
              "      <td>0.430178</td>\n",
              "      <td>-0.052950</td>\n",
              "      <td>-0.057445</td>\n",
              "      <td>0.025186</td>\n",
              "    </tr>\n",
              "    <tr>\n",
              "      <th>rate</th>\n",
              "      <td>0.430178</td>\n",
              "      <td>1.000000</td>\n",
              "      <td>-0.021908</td>\n",
              "      <td>-0.060896</td>\n",
              "      <td>0.060926</td>\n",
              "    </tr>\n",
              "    <tr>\n",
              "      <th>dateDifference</th>\n",
              "      <td>-0.052950</td>\n",
              "      <td>-0.021908</td>\n",
              "      <td>1.000000</td>\n",
              "      <td>0.007318</td>\n",
              "      <td>0.005487</td>\n",
              "    </tr>\n",
              "    <tr>\n",
              "      <th>daysaway</th>\n",
              "      <td>-0.057445</td>\n",
              "      <td>-0.060896</td>\n",
              "      <td>0.007318</td>\n",
              "      <td>1.000000</td>\n",
              "      <td>0.005867</td>\n",
              "    </tr>\n",
              "    <tr>\n",
              "      <th>arrDay</th>\n",
              "      <td>0.025186</td>\n",
              "      <td>0.060926</td>\n",
              "      <td>0.005487</td>\n",
              "      <td>0.005867</td>\n",
              "      <td>1.000000</td>\n",
              "    </tr>\n",
              "  </tbody>\n",
              "</table>\n",
              "</div>\n",
              "      <button class=\"colab-df-convert\" onclick=\"convertToInteractive('df-9e9ffcdd-6ea1-4825-8b2f-0a7fbfc08fa5')\"\n",
              "              title=\"Convert this dataframe to an interactive table.\"\n",
              "              style=\"display:none;\">\n",
              "        \n",
              "  <svg xmlns=\"http://www.w3.org/2000/svg\" height=\"24px\"viewBox=\"0 0 24 24\"\n",
              "       width=\"24px\">\n",
              "    <path d=\"M0 0h24v24H0V0z\" fill=\"none\"/>\n",
              "    <path d=\"M18.56 5.44l.94 2.06.94-2.06 2.06-.94-2.06-.94-.94-2.06-.94 2.06-2.06.94zm-11 1L8.5 8.5l.94-2.06 2.06-.94-2.06-.94L8.5 2.5l-.94 2.06-2.06.94zm10 10l.94 2.06.94-2.06 2.06-.94-2.06-.94-.94-2.06-.94 2.06-2.06.94z\"/><path d=\"M17.41 7.96l-1.37-1.37c-.4-.4-.92-.59-1.43-.59-.52 0-1.04.2-1.43.59L10.3 9.45l-7.72 7.72c-.78.78-.78 2.05 0 2.83L4 21.41c.39.39.9.59 1.41.59.51 0 1.02-.2 1.41-.59l7.78-7.78 2.81-2.81c.8-.78.8-2.07 0-2.86zM5.41 20L4 18.59l7.72-7.72 1.47 1.35L5.41 20z\"/>\n",
              "  </svg>\n",
              "      </button>\n",
              "      \n",
              "  <style>\n",
              "    .colab-df-container {\n",
              "      display:flex;\n",
              "      flex-wrap:wrap;\n",
              "      gap: 12px;\n",
              "    }\n",
              "\n",
              "    .colab-df-convert {\n",
              "      background-color: #E8F0FE;\n",
              "      border: none;\n",
              "      border-radius: 50%;\n",
              "      cursor: pointer;\n",
              "      display: none;\n",
              "      fill: #1967D2;\n",
              "      height: 32px;\n",
              "      padding: 0 0 0 0;\n",
              "      width: 32px;\n",
              "    }\n",
              "\n",
              "    .colab-df-convert:hover {\n",
              "      background-color: #E2EBFA;\n",
              "      box-shadow: 0px 1px 2px rgba(60, 64, 67, 0.3), 0px 1px 3px 1px rgba(60, 64, 67, 0.15);\n",
              "      fill: #174EA6;\n",
              "    }\n",
              "\n",
              "    [theme=dark] .colab-df-convert {\n",
              "      background-color: #3B4455;\n",
              "      fill: #D2E3FC;\n",
              "    }\n",
              "\n",
              "    [theme=dark] .colab-df-convert:hover {\n",
              "      background-color: #434B5C;\n",
              "      box-shadow: 0px 1px 3px 1px rgba(0, 0, 0, 0.15);\n",
              "      filter: drop-shadow(0px 1px 2px rgba(0, 0, 0, 0.3));\n",
              "      fill: #FFFFFF;\n",
              "    }\n",
              "  </style>\n",
              "\n",
              "      <script>\n",
              "        const buttonEl =\n",
              "          document.querySelector('#df-9e9ffcdd-6ea1-4825-8b2f-0a7fbfc08fa5 button.colab-df-convert');\n",
              "        buttonEl.style.display =\n",
              "          google.colab.kernel.accessAllowed ? 'block' : 'none';\n",
              "\n",
              "        async function convertToInteractive(key) {\n",
              "          const element = document.querySelector('#df-9e9ffcdd-6ea1-4825-8b2f-0a7fbfc08fa5');\n",
              "          const dataTable =\n",
              "            await google.colab.kernel.invokeFunction('convertToInteractive',\n",
              "                                                     [key], {});\n",
              "          if (!dataTable) return;\n",
              "\n",
              "          const docLinkHtml = 'Like what you see? Visit the ' +\n",
              "            '<a target=\"_blank\" href=https://colab.research.google.com/notebooks/data_table.ipynb>data table notebook</a>'\n",
              "            + ' to learn more about interactive tables.';\n",
              "          element.innerHTML = '';\n",
              "          dataTable['output_type'] = 'display_data';\n",
              "          await google.colab.output.renderOutput(dataTable, element);\n",
              "          const docLink = document.createElement('div');\n",
              "          docLink.innerHTML = docLinkHtml;\n",
              "          element.appendChild(docLink);\n",
              "        }\n",
              "      </script>\n",
              "    </div>\n",
              "  </div>\n",
              "  "
            ]
          },
          "metadata": {},
          "execution_count": 39
        }
      ],
      "source": [
        "df.corr()"
      ]
    },
    {
      "cell_type": "code",
      "execution_count": null,
      "metadata": {
        "colab": {
          "base_uri": "https://localhost:8080/",
          "height": 206
        },
        "id": "1on6ofxAngQt",
        "outputId": "07b65583-606b-42e4-b389-9b5d302ecf67"
      },
      "outputs": [
        {
          "output_type": "execute_result",
          "data": {
            "text/plain": [
              "<pandas.io.formats.style.Styler at 0x7f586d651710>"
            ],
            "text/html": [
              "<style type=\"text/css\">\n",
              "#T_d5408_row0_col0, #T_d5408_row1_col1, #T_d5408_row2_col2, #T_d5408_row3_col3, #T_d5408_row4_col4 {\n",
              "  background-color: #b40426;\n",
              "  color: #f1f1f1;\n",
              "}\n",
              "#T_d5408_row0_col1, #T_d5408_row1_col0 {\n",
              "  background-color: #d3dbe7;\n",
              "  color: #000000;\n",
              "}\n",
              "#T_d5408_row0_col2, #T_d5408_row0_col3, #T_d5408_row1_col3, #T_d5408_row2_col4, #T_d5408_row3_col0, #T_d5408_row3_col1, #T_d5408_row3_col4 {\n",
              "  background-color: #3b4cc0;\n",
              "  color: #f1f1f1;\n",
              "}\n",
              "#T_d5408_row0_col4 {\n",
              "  background-color: #4055c8;\n",
              "  color: #f1f1f1;\n",
              "}\n",
              "#T_d5408_row1_col2 {\n",
              "  background-color: #4358cb;\n",
              "  color: #f1f1f1;\n",
              "}\n",
              "#T_d5408_row1_col4, #T_d5408_row3_col2, #T_d5408_row4_col2 {\n",
              "  background-color: #4b64d5;\n",
              "  color: #f1f1f1;\n",
              "}\n",
              "#T_d5408_row2_col0 {\n",
              "  background-color: #3c4ec2;\n",
              "  color: #f1f1f1;\n",
              "}\n",
              "#T_d5408_row2_col1 {\n",
              "  background-color: #455cce;\n",
              "  color: #f1f1f1;\n",
              "}\n",
              "#T_d5408_row2_col3, #T_d5408_row4_col3 {\n",
              "  background-color: #4e68d8;\n",
              "  color: #f1f1f1;\n",
              "}\n",
              "#T_d5408_row4_col0 {\n",
              "  background-color: #536edd;\n",
              "  color: #f1f1f1;\n",
              "}\n",
              "#T_d5408_row4_col1 {\n",
              "  background-color: #5e7de7;\n",
              "  color: #f1f1f1;\n",
              "}\n",
              "</style>\n",
              "<table id=\"T_d5408_\" class=\"dataframe\">\n",
              "  <thead>\n",
              "    <tr>\n",
              "      <th class=\"blank level0\" >&nbsp;</th>\n",
              "      <th class=\"col_heading level0 col0\" >price</th>\n",
              "      <th class=\"col_heading level0 col1\" >rate</th>\n",
              "      <th class=\"col_heading level0 col2\" >dateDifference</th>\n",
              "      <th class=\"col_heading level0 col3\" >daysaway</th>\n",
              "      <th class=\"col_heading level0 col4\" >arrDay</th>\n",
              "    </tr>\n",
              "  </thead>\n",
              "  <tbody>\n",
              "    <tr>\n",
              "      <th id=\"T_d5408_level0_row0\" class=\"row_heading level0 row0\" >price</th>\n",
              "      <td id=\"T_d5408_row0_col0\" class=\"data row0 col0\" >1.000000</td>\n",
              "      <td id=\"T_d5408_row0_col1\" class=\"data row0 col1\" >0.430178</td>\n",
              "      <td id=\"T_d5408_row0_col2\" class=\"data row0 col2\" >-0.052950</td>\n",
              "      <td id=\"T_d5408_row0_col3\" class=\"data row0 col3\" >-0.057445</td>\n",
              "      <td id=\"T_d5408_row0_col4\" class=\"data row0 col4\" >0.025186</td>\n",
              "    </tr>\n",
              "    <tr>\n",
              "      <th id=\"T_d5408_level0_row1\" class=\"row_heading level0 row1\" >rate</th>\n",
              "      <td id=\"T_d5408_row1_col0\" class=\"data row1 col0\" >0.430178</td>\n",
              "      <td id=\"T_d5408_row1_col1\" class=\"data row1 col1\" >1.000000</td>\n",
              "      <td id=\"T_d5408_row1_col2\" class=\"data row1 col2\" >-0.021908</td>\n",
              "      <td id=\"T_d5408_row1_col3\" class=\"data row1 col3\" >-0.060896</td>\n",
              "      <td id=\"T_d5408_row1_col4\" class=\"data row1 col4\" >0.060926</td>\n",
              "    </tr>\n",
              "    <tr>\n",
              "      <th id=\"T_d5408_level0_row2\" class=\"row_heading level0 row2\" >dateDifference</th>\n",
              "      <td id=\"T_d5408_row2_col0\" class=\"data row2 col0\" >-0.052950</td>\n",
              "      <td id=\"T_d5408_row2_col1\" class=\"data row2 col1\" >-0.021908</td>\n",
              "      <td id=\"T_d5408_row2_col2\" class=\"data row2 col2\" >1.000000</td>\n",
              "      <td id=\"T_d5408_row2_col3\" class=\"data row2 col3\" >0.007318</td>\n",
              "      <td id=\"T_d5408_row2_col4\" class=\"data row2 col4\" >0.005487</td>\n",
              "    </tr>\n",
              "    <tr>\n",
              "      <th id=\"T_d5408_level0_row3\" class=\"row_heading level0 row3\" >daysaway</th>\n",
              "      <td id=\"T_d5408_row3_col0\" class=\"data row3 col0\" >-0.057445</td>\n",
              "      <td id=\"T_d5408_row3_col1\" class=\"data row3 col1\" >-0.060896</td>\n",
              "      <td id=\"T_d5408_row3_col2\" class=\"data row3 col2\" >0.007318</td>\n",
              "      <td id=\"T_d5408_row3_col3\" class=\"data row3 col3\" >1.000000</td>\n",
              "      <td id=\"T_d5408_row3_col4\" class=\"data row3 col4\" >0.005867</td>\n",
              "    </tr>\n",
              "    <tr>\n",
              "      <th id=\"T_d5408_level0_row4\" class=\"row_heading level0 row4\" >arrDay</th>\n",
              "      <td id=\"T_d5408_row4_col0\" class=\"data row4 col0\" >0.025186</td>\n",
              "      <td id=\"T_d5408_row4_col1\" class=\"data row4 col1\" >0.060926</td>\n",
              "      <td id=\"T_d5408_row4_col2\" class=\"data row4 col2\" >0.005487</td>\n",
              "      <td id=\"T_d5408_row4_col3\" class=\"data row4 col3\" >0.005867</td>\n",
              "      <td id=\"T_d5408_row4_col4\" class=\"data row4 col4\" >1.000000</td>\n",
              "    </tr>\n",
              "  </tbody>\n",
              "</table>\n"
            ]
          },
          "metadata": {},
          "execution_count": 40
        }
      ],
      "source": [
        "df.corr().style.background_gradient(cmap='coolwarm')"
      ]
    },
    {
      "cell_type": "code",
      "execution_count": null,
      "metadata": {
        "id": "RdyfYa7MngQt"
      },
      "outputs": [],
      "source": [
        "#pretty bad, im still confused as to what rate & price means? is ||price=original_ticket_value*rate|| or ||original_ticket_value = price * rate||"
      ]
    },
    {
      "cell_type": "code",
      "execution_count": null,
      "metadata": {
        "colab": {
          "base_uri": "https://localhost:8080/",
          "height": 348
        },
        "id": "7ZhHrSl_ngQt",
        "outputId": "1074425b-f134-48e9-b6ab-0fdb0477e261"
      },
      "outputs": [
        {
          "output_type": "execute_result",
          "data": {
            "text/plain": [
              "<matplotlib.axes._subplots.AxesSubplot at 0x7f586d6515d0>"
            ]
          },
          "metadata": {},
          "execution_count": 42
        },
        {
          "output_type": "display_data",
          "data": {
            "text/plain": [
              "<Figure size 432x360 with 1 Axes>"
            ],
            "image/png": "[encoded data removed]"
          },
          "metadata": {
            "needs_background": "light"
          }
        }
      ],
      "source": [
        "dfg = df.groupby(\"cabinClass\").price.mean()\n",
        "dfg.plot(kind='bar', ylabel='Mean Price',\n",
        "         xlabel='Cabin Class', figsize=(6, 5))"
      ]
    },
    {
      "cell_type": "code",
      "execution_count": null,
      "metadata": {
        "colab": {
          "base_uri": "https://localhost:8080/",
          "height": 1000
        },
        "id": "iMpdwr_7ngQt",
        "outputId": "50ac22ef-fe5a-4a1d-83d3-56d7bee5910a"
      },
      "outputs": [
        {
          "output_type": "execute_result",
          "data": {
            "text/plain": [
              "<matplotlib.axes._subplots.AxesSubplot at 0x7f586d3d38d0>"
            ]
          },
          "metadata": {},
          "execution_count": 43
        },
        {
          "output_type": "display_data",
          "data": {
            "text/plain": [
              "<Figure size 1440x1440 with 1 Axes>"
            ],
            "image/png": "[encoded data removed]"
          },
          "metadata": {
            "needs_background": "light"
          }
        }
      ],
      "source": [
        "dfg = df.groupby(\"priceClass\").price.mean()\n",
        "dfg.plot(kind='bar', ylabel='Mean Price',\n",
        "         xlabel='Price Class', figsize=(20, 20))"
      ]
    },
    {
      "cell_type": "code",
      "execution_count": null,
      "metadata": {
        "colab": {
          "base_uri": "https://localhost:8080/",
          "height": 1000
        },
        "id": "V1DRJVpsngQu",
        "outputId": "1862be3c-4b11-4817-a965-0944e1ba45e4"
      },
      "outputs": [
        {
          "output_type": "execute_result",
          "data": {
            "text/plain": [
              "<matplotlib.axes._subplots.AxesSubplot at 0x7f58717e8d50>"
            ]
          },
          "metadata": {},
          "execution_count": 44
        },
        {
          "output_type": "display_data",
          "data": {
            "text/plain": [
              "<Figure size 1440x1440 with 1 Axes>"
            ],
            "image/png": "[encoded data removed]"
          },
          "metadata": {
            "needs_background": "light"
          }
        }
      ],
      "source": [
        "dfg = df.groupby(\"craftTypeCode\").price.mean()\n",
        "dfg.plot(kind='bar', ylabel='Mean Price',\n",
        "         xlabel='Craft Type', figsize=(20, 20))"
      ]
    },
    {
      "cell_type": "code",
      "source": [
        "#%pip install dython"
      ],
      "metadata": {
        "id": "YKqw_kalotM3"
      },
      "execution_count": null,
      "outputs": []
    },
    {
      "cell_type": "code",
      "execution_count": null,
      "metadata": {
        "id": "kbjgK97mngQu"
      },
      "outputs": [],
      "source": [
        "#from dython import nominal\n",
        "# the called method uses * Pearson's R for continuous-continuous cases * Correlation Ratio for categorical-continuous cases * Cramer's V or Theil's U for categorical-categorical cases\n",
        "#nominal.associations(df,figsize=(20,10),mark_columns=True);"
      ]
    },
    {
      "cell_type": "code",
      "execution_count": null,
      "metadata": {
        "id": "00SdaYzYngQu"
      },
      "outputs": [],
      "source": [
        "# most correlated attributes are cabinClass, priceClass, rate \n",
        "df1 = df[['cabinClass', 'priceClass']]"
      ]
    },
    {
      "cell_type": "code",
      "execution_count": null,
      "metadata": {
        "id": "mnFbeBfAngQu"
      },
      "outputs": [],
      "source": [
        "from sklearn.preprocessing import OneHotEncoder\n",
        "ohe = OneHotEncoder()\n",
        "df1_ohedone = pd.DataFrame(ohe.fit_transform(df1).toarray())"
      ]
    },
    {
      "cell_type": "code",
      "execution_count": null,
      "metadata": {
        "colab": {
          "base_uri": "https://localhost:8080/"
        },
        "id": "FBCiPtnengQu",
        "outputId": "62694afc-32bc-4387-fef6-7d025d589ec5"
      },
      "outputs": [
        {
          "output_type": "execute_result",
          "data": {
            "text/plain": [
              "[array(['C', 'F', 'Y'], dtype=object),\n",
              " array(['A', 'B', 'BZ', 'C', 'D', 'E', 'F', 'G', 'H', 'I', 'J', 'K', 'L',\n",
              "        'M', 'M1', 'MC', 'N', 'NZ', 'P', 'Q', 'R', 'S', 'S1', 'T', 'U',\n",
              "        'V', 'VZ', 'W', 'X', 'XC', 'Y', 'Z'], dtype=object)]"
            ]
          },
          "metadata": {},
          "execution_count": 49
        }
      ],
      "source": [
        "ohe.categories_"
      ]
    },
    {
      "cell_type": "code",
      "execution_count": null,
      "metadata": {
        "id": "zK0RVPfingQu"
      },
      "outputs": [],
      "source": [
        "df = df.join(df1_ohedone)"
      ]
    },
    {
      "cell_type": "code",
      "execution_count": null,
      "metadata": {
        "colab": {
          "base_uri": "https://localhost:8080/",
          "height": 392
        },
        "id": "rrmYwN-1ngQv",
        "outputId": "25748ec0-e07f-4bc1-f0f3-8d8a2395bd64"
      },
      "outputs": [
        {
          "output_type": "execute_result",
          "data": {
            "text/plain": [
              "  flightNumber craftTypeCode traAirport       departureDate cabinClass  \\\n",
              "0       HO1252           320       None 2019-01-04 06:35:00          C   \n",
              "1       MU5138           33L       None 2019-01-04 07:00:00          C   \n",
              "2       MU5138           33L       None 2019-01-04 07:00:00          C   \n",
              "3       HU7605           350       None 2019-01-04 07:20:00          C   \n",
              "4       HU7605           350       None 2019-01-04 07:20:00          C   \n",
              "5       HU7605           350       None 2019-01-04 07:20:00          C   \n",
              "6       CA1831           773       None 2019-01-04 07:30:00          C   \n",
              "7       CA1831           773       None 2019-01-04 07:30:00          C   \n",
              "8       MU5102           333       None 2019-01-04 08:00:00          C   \n",
              "9       MU5102           333       None 2019-01-04 08:00:00          C   \n",
              "\n",
              "  priceClass  price  rate  dateDifference  daysaway  ...   25   26   27   28  \\\n",
              "0          C   1860  1.00               1      8400  ...  0.0  0.0  0.0  0.0   \n",
              "1          I   1640  0.31               1      8100  ...  0.0  0.0  0.0  0.0   \n",
              "2          J   5360  1.00               1      8100  ...  0.0  0.0  0.0  0.0   \n",
              "3          I   1635  0.29               1      8100  ...  0.0  0.0  0.0  0.0   \n",
              "4          I   1640  0.29               1      8100  ...  0.0  0.0  0.0  0.0   \n",
              "5          C   5660  1.00               1      8100  ...  0.0  0.0  0.0  0.0   \n",
              "6          R   1860  0.34               1      7500  ...  0.0  0.0  0.0  0.0   \n",
              "7          J   5530  1.00               1      7500  ...  0.0  0.0  0.0  0.0   \n",
              "8          I   1800  0.34               1      8100  ...  0.0  0.0  0.0  0.0   \n",
              "9          J   5360  1.00               1      8100  ...  0.0  0.0  0.0  0.0   \n",
              "\n",
              "    29   30   31   32   33   34  \n",
              "0  0.0  0.0  0.0  0.0  0.0  0.0  \n",
              "1  0.0  0.0  0.0  0.0  0.0  0.0  \n",
              "2  0.0  0.0  0.0  0.0  0.0  0.0  \n",
              "3  0.0  0.0  0.0  0.0  0.0  0.0  \n",
              "4  0.0  0.0  0.0  0.0  0.0  0.0  \n",
              "5  0.0  0.0  0.0  0.0  0.0  0.0  \n",
              "6  0.0  0.0  0.0  0.0  0.0  0.0  \n",
              "7  0.0  0.0  0.0  0.0  0.0  0.0  \n",
              "8  0.0  0.0  0.0  0.0  0.0  0.0  \n",
              "9  0.0  0.0  0.0  0.0  0.0  0.0  \n",
              "\n",
              "[10 rows x 47 columns]"
            ],
            "text/html": [
              "\n",
              "  <div id=\"df-33959719-8468-4b88-8a5a-2ccfadcbf9a4\">\n",
              "    <div class=\"colab-df-container\">\n",
              "      <div>\n",
              "<style scoped>\n",
              "    .dataframe tbody tr th:only-of-type {\n",
              "        vertical-align: middle;\n",
              "    }\n",
              "\n",
              "    .dataframe tbody tr th {\n",
              "        vertical-align: top;\n",
              "    }\n",
              "\n",
              "    .dataframe thead th {\n",
              "        text-align: right;\n",
              "    }\n",
              "</style>\n",
              "<table border=\"1\" class=\"dataframe\">\n",
              "  <thead>\n",
              "    <tr style=\"text-align: right;\">\n",
              "      <th></th>\n",
              "      <th>flightNumber</th>\n",
              "      <th>craftTypeCode</th>\n",
              "      <th>traAirport</th>\n",
              "      <th>departureDate</th>\n",
              "      <th>cabinClass</th>\n",
              "      <th>priceClass</th>\n",
              "      <th>price</th>\n",
              "      <th>rate</th>\n",
              "      <th>dateDifference</th>\n",
              "      <th>daysaway</th>\n",
              "      <th>...</th>\n",
              "      <th>25</th>\n",
              "      <th>26</th>\n",
              "      <th>27</th>\n",
              "      <th>28</th>\n",
              "      <th>29</th>\n",
              "      <th>30</th>\n",
              "      <th>31</th>\n",
              "      <th>32</th>\n",
              "      <th>33</th>\n",
              "      <th>34</th>\n",
              "    </tr>\n",
              "  </thead>\n",
              "  <tbody>\n",
              "    <tr>\n",
              "      <th>0</th>\n",
              "      <td>HO1252</td>\n",
              "      <td>320</td>\n",
              "      <td>None</td>\n",
              "      <td>2019-01-04 06:35:00</td>\n",
              "      <td>C</td>\n",
              "      <td>C</td>\n",
              "      <td>1860</td>\n",
              "      <td>1.00</td>\n",
              "      <td>1</td>\n",
              "      <td>8400</td>\n",
              "      <td>...</td>\n",
              "      <td>0.0</td>\n",
              "      <td>0.0</td>\n",
              "      <td>0.0</td>\n",
              "      <td>0.0</td>\n",
              "      <td>0.0</td>\n",
              "      <td>0.0</td>\n",
              "      <td>0.0</td>\n",
              "      <td>0.0</td>\n",
              "      <td>0.0</td>\n",
              "      <td>0.0</td>\n",
              "    </tr>\n",
              "    <tr>\n",
              "      <th>1</th>\n",
              "      <td>MU5138</td>\n",
              "      <td>33L</td>\n",
              "      <td>None</td>\n",
              "      <td>2019-01-04 07:00:00</td>\n",
              "      <td>C</td>\n",
              "      <td>I</td>\n",
              "      <td>1640</td>\n",
              "      <td>0.31</td>\n",
              "      <td>1</td>\n",
              "      <td>8100</td>\n",
              "      <td>...</td>\n",
              "      <td>0.0</td>\n",
              "      <td>0.0</td>\n",
              "      <td>0.0</td>\n",
              "      <td>0.0</td>\n",
              "      <td>0.0</td>\n",
              "      <td>0.0</td>\n",
              "      <td>0.0</td>\n",
              "      <td>0.0</td>\n",
              "      <td>0.0</td>\n",
              "      <td>0.0</td>\n",
              "    </tr>\n",
              "    <tr>\n",
              "      <th>2</th>\n",
              "      <td>MU5138</td>\n",
              "      <td>33L</td>\n",
              "      <td>None</td>\n",
              "      <td>2019-01-04 07:00:00</td>\n",
              "      <td>C</td>\n",
              "      <td>J</td>\n",
              "      <td>5360</td>\n",
              "      <td>1.00</td>\n",
              "      <td>1</td>\n",
              "      <td>8100</td>\n",
              "      <td>...</td>\n",
              "      <td>0.0</td>\n",
              "      <td>0.0</td>\n",
              "      <td>0.0</td>\n",
              "      <td>0.0</td>\n",
              "      <td>0.0</td>\n",
              "      <td>0.0</td>\n",
              "      <td>0.0</td>\n",
              "      <td>0.0</td>\n",
              "      <td>0.0</td>\n",
              "      <td>0.0</td>\n",
              "    </tr>\n",
              "    <tr>\n",
              "      <th>3</th>\n",
              "      <td>HU7605</td>\n",
              "      <td>350</td>\n",
              "      <td>None</td>\n",
              "      <td>2019-01-04 07:20:00</td>\n",
              "      <td>C</td>\n",
              "      <td>I</td>\n",
              "      <td>1635</td>\n",
              "      <td>0.29</td>\n",
              "      <td>1</td>\n",
              "      <td>8100</td>\n",
              "      <td>...</td>\n",
              "      <td>0.0</td>\n",
              "      <td>0.0</td>\n",
              "      <td>0.0</td>\n",
              "      <td>0.0</td>\n",
              "      <td>0.0</td>\n",
              "      <td>0.0</td>\n",
              "      <td>0.0</td>\n",
              "      <td>0.0</td>\n",
              "      <td>0.0</td>\n",
              "      <td>0.0</td>\n",
              "    </tr>\n",
              "    <tr>\n",
              "      <th>4</th>\n",
              "      <td>HU7605</td>\n",
              "      <td>350</td>\n",
              "      <td>None</td>\n",
              "      <td>2019-01-04 07:20:00</td>\n",
              "      <td>C</td>\n",
              "      <td>I</td>\n",
              "      <td>1640</td>\n",
              "      <td>0.29</td>\n",
              "      <td>1</td>\n",
              "      <td>8100</td>\n",
              "      <td>...</td>\n",
              "      <td>0.0</td>\n",
              "      <td>0.0</td>\n",
              "      <td>0.0</td>\n",
              "      <td>0.0</td>\n",
              "      <td>0.0</td>\n",
              "      <td>0.0</td>\n",
              "      <td>0.0</td>\n",
              "      <td>0.0</td>\n",
              "      <td>0.0</td>\n",
              "      <td>0.0</td>\n",
              "    </tr>\n",
              "    <tr>\n",
              "      <th>5</th>\n",
              "      <td>HU7605</td>\n",
              "      <td>350</td>\n",
              "      <td>None</td>\n",
              "      <td>2019-01-04 07:20:00</td>\n",
              "      <td>C</td>\n",
              "      <td>C</td>\n",
              "      <td>5660</td>\n",
              "      <td>1.00</td>\n",
              "      <td>1</td>\n",
              "      <td>8100</td>\n",
              "      <td>...</td>\n",
              "      <td>0.0</td>\n",
              "      <td>0.0</td>\n",
              "      <td>0.0</td>\n",
              "      <td>0.0</td>\n",
              "      <td>0.0</td>\n",
              "      <td>0.0</td>\n",
              "      <td>0.0</td>\n",
              "      <td>0.0</td>\n",
              "      <td>0.0</td>\n",
              "      <td>0.0</td>\n",
              "    </tr>\n",
              "    <tr>\n",
              "      <th>6</th>\n",
              "      <td>CA1831</td>\n",
              "      <td>773</td>\n",
              "      <td>None</td>\n",
              "      <td>2019-01-04 07:30:00</td>\n",
              "      <td>C</td>\n",
              "      <td>R</td>\n",
              "      <td>1860</td>\n",
              "      <td>0.34</td>\n",
              "      <td>1</td>\n",
              "      <td>7500</td>\n",
              "      <td>...</td>\n",
              "      <td>0.0</td>\n",
              "      <td>0.0</td>\n",
              "      <td>0.0</td>\n",
              "      <td>0.0</td>\n",
              "      <td>0.0</td>\n",
              "      <td>0.0</td>\n",
              "      <td>0.0</td>\n",
              "      <td>0.0</td>\n",
              "      <td>0.0</td>\n",
              "      <td>0.0</td>\n",
              "    </tr>\n",
              "    <tr>\n",
              "      <th>7</th>\n",
              "      <td>CA1831</td>\n",
              "      <td>773</td>\n",
              "      <td>None</td>\n",
              "      <td>2019-01-04 07:30:00</td>\n",
              "      <td>C</td>\n",
              "      <td>J</td>\n",
              "      <td>5530</td>\n",
              "      <td>1.00</td>\n",
              "      <td>1</td>\n",
              "      <td>7500</td>\n",
              "      <td>...</td>\n",
              "      <td>0.0</td>\n",
              "      <td>0.0</td>\n",
              "      <td>0.0</td>\n",
              "      <td>0.0</td>\n",
              "      <td>0.0</td>\n",
              "      <td>0.0</td>\n",
              "      <td>0.0</td>\n",
              "      <td>0.0</td>\n",
              "      <td>0.0</td>\n",
              "      <td>0.0</td>\n",
              "    </tr>\n",
              "    <tr>\n",
              "      <th>8</th>\n",
              "      <td>MU5102</td>\n",
              "      <td>333</td>\n",
              "      <td>None</td>\n",
              "      <td>2019-01-04 08:00:00</td>\n",
              "      <td>C</td>\n",
              "      <td>I</td>\n",
              "      <td>1800</td>\n",
              "      <td>0.34</td>\n",
              "      <td>1</td>\n",
              "      <td>8100</td>\n",
              "      <td>...</td>\n",
              "      <td>0.0</td>\n",
              "      <td>0.0</td>\n",
              "      <td>0.0</td>\n",
              "      <td>0.0</td>\n",
              "      <td>0.0</td>\n",
              "      <td>0.0</td>\n",
              "      <td>0.0</td>\n",
              "      <td>0.0</td>\n",
              "      <td>0.0</td>\n",
              "      <td>0.0</td>\n",
              "    </tr>\n",
              "    <tr>\n",
              "      <th>9</th>\n",
              "      <td>MU5102</td>\n",
              "      <td>333</td>\n",
              "      <td>None</td>\n",
              "      <td>2019-01-04 08:00:00</td>\n",
              "      <td>C</td>\n",
              "      <td>J</td>\n",
              "      <td>5360</td>\n",
              "      <td>1.00</td>\n",
              "      <td>1</td>\n",
              "      <td>8100</td>\n",
              "      <td>...</td>\n",
              "      <td>0.0</td>\n",
              "      <td>0.0</td>\n",
              "      <td>0.0</td>\n",
              "      <td>0.0</td>\n",
              "      <td>0.0</td>\n",
              "      <td>0.0</td>\n",
              "      <td>0.0</td>\n",
              "      <td>0.0</td>\n",
              "      <td>0.0</td>\n",
              "      <td>0.0</td>\n",
              "    </tr>\n",
              "  </tbody>\n",
              "</table>\n",
              "<p>10 rows × 47 columns</p>\n",
              "</div>\n",
              "      <button class=\"colab-df-convert\" onclick=\"convertToInteractive('df-33959719-8468-4b88-8a5a-2ccfadcbf9a4')\"\n",
              "              title=\"Convert this dataframe to an interactive table.\"\n",
              "              style=\"display:none;\">\n",
              "        \n",
              "  <svg xmlns=\"http://www.w3.org/2000/svg\" height=\"24px\"viewBox=\"0 0 24 24\"\n",
              "       width=\"24px\">\n",
              "    <path d=\"M0 0h24v24H0V0z\" fill=\"none\"/>\n",
              "    <path d=\"M18.56 5.44l.94 2.06.94-2.06 2.06-.94-2.06-.94-.94-2.06-.94 2.06-2.06.94zm-11 1L8.5 8.5l.94-2.06 2.06-.94-2.06-.94L8.5 2.5l-.94 2.06-2.06.94zm10 10l.94 2.06.94-2.06 2.06-.94-2.06-.94-.94-2.06-.94 2.06-2.06.94z\"/><path d=\"M17.41 7.96l-1.37-1.37c-.4-.4-.92-.59-1.43-.59-.52 0-1.04.2-1.43.59L10.3 9.45l-7.72 7.72c-.78.78-.78 2.05 0 2.83L4 21.41c.39.39.9.59 1.41.59.51 0 1.02-.2 1.41-.59l7.78-7.78 2.81-2.81c.8-.78.8-2.07 0-2.86zM5.41 20L4 18.59l7.72-7.72 1.47 1.35L5.41 20z\"/>\n",
              "  </svg>\n",
              "      </button>\n",
              "      \n",
              "  <style>\n",
              "    .colab-df-container {\n",
              "      display:flex;\n",
              "      flex-wrap:wrap;\n",
              "      gap: 12px;\n",
              "    }\n",
              "\n",
              "    .colab-df-convert {\n",
              "      background-color: #E8F0FE;\n",
              "      border: none;\n",
              "      border-radius: 50%;\n",
              "      cursor: pointer;\n",
              "      display: none;\n",
              "      fill: #1967D2;\n",
              "      height: 32px;\n",
              "      padding: 0 0 0 0;\n",
              "      width: 32px;\n",
              "    }\n",
              "\n",
              "    .colab-df-convert:hover {\n",
              "      background-color: #E2EBFA;\n",
              "      box-shadow: 0px 1px 2px rgba(60, 64, 67, 0.3), 0px 1px 3px 1px rgba(60, 64, 67, 0.15);\n",
              "      fill: #174EA6;\n",
              "    }\n",
              "\n",
              "    [theme=dark] .colab-df-convert {\n",
              "      background-color: #3B4455;\n",
              "      fill: #D2E3FC;\n",
              "    }\n",
              "\n",
              "    [theme=dark] .colab-df-convert:hover {\n",
              "      background-color: #434B5C;\n",
              "      box-shadow: 0px 1px 3px 1px rgba(0, 0, 0, 0.15);\n",
              "      filter: drop-shadow(0px 1px 2px rgba(0, 0, 0, 0.3));\n",
              "      fill: #FFFFFF;\n",
              "    }\n",
              "  </style>\n",
              "\n",
              "      <script>\n",
              "        const buttonEl =\n",
              "          document.querySelector('#df-33959719-8468-4b88-8a5a-2ccfadcbf9a4 button.colab-df-convert');\n",
              "        buttonEl.style.display =\n",
              "          google.colab.kernel.accessAllowed ? 'block' : 'none';\n",
              "\n",
              "        async function convertToInteractive(key) {\n",
              "          const element = document.querySelector('#df-33959719-8468-4b88-8a5a-2ccfadcbf9a4');\n",
              "          const dataTable =\n",
              "            await google.colab.kernel.invokeFunction('convertToInteractive',\n",
              "                                                     [key], {});\n",
              "          if (!dataTable) return;\n",
              "\n",
              "          const docLinkHtml = 'Like what you see? Visit the ' +\n",
              "            '<a target=\"_blank\" href=https://colab.research.google.com/notebooks/data_table.ipynb>data table notebook</a>'\n",
              "            + ' to learn more about interactive tables.';\n",
              "          element.innerHTML = '';\n",
              "          dataTable['output_type'] = 'display_data';\n",
              "          await google.colab.output.renderOutput(dataTable, element);\n",
              "          const docLink = document.createElement('div');\n",
              "          docLink.innerHTML = docLinkHtml;\n",
              "          element.appendChild(docLink);\n",
              "        }\n",
              "      </script>\n",
              "    </div>\n",
              "  </div>\n",
              "  "
            ]
          },
          "metadata": {},
          "execution_count": 51
        }
      ],
      "source": [
        "df.head(10)"
      ]
    },
    {
      "cell_type": "code",
      "execution_count": null,
      "metadata": {
        "id": "bi9mEgfLngQv"
      },
      "outputs": [],
      "source": [
        "df2 = df.copy()"
      ]
    },
    {
      "cell_type": "code",
      "execution_count": null,
      "metadata": {
        "colab": {
          "base_uri": "https://localhost:8080/",
          "height": 235
        },
        "id": "MvWpGGxkngQv",
        "outputId": "42e02ff0-6f96-4efe-ad75-78177a061525"
      },
      "outputs": [
        {
          "output_type": "execute_result",
          "data": {
            "text/plain": [
              "  flightNumber craftTypeCode traAirport       departureDate cabinClass  \\\n",
              "0       HO1252           320       None 2019-01-04 06:35:00          C   \n",
              "1       MU5138           33L       None 2019-01-04 07:00:00          C   \n",
              "2       MU5138           33L       None 2019-01-04 07:00:00          C   \n",
              "3       HU7605           350       None 2019-01-04 07:20:00          C   \n",
              "4       HU7605           350       None 2019-01-04 07:20:00          C   \n",
              "\n",
              "  priceClass  price  rate  dateDifference  daysaway  ...   25   26   27   28  \\\n",
              "0          C   1860  1.00               1      8400  ...  0.0  0.0  0.0  0.0   \n",
              "1          I   1640  0.31               1      8100  ...  0.0  0.0  0.0  0.0   \n",
              "2          J   5360  1.00               1      8100  ...  0.0  0.0  0.0  0.0   \n",
              "3          I   1635  0.29               1      8100  ...  0.0  0.0  0.0  0.0   \n",
              "4          I   1640  0.29               1      8100  ...  0.0  0.0  0.0  0.0   \n",
              "\n",
              "    29   30   31   32   33   34  \n",
              "0  0.0  0.0  0.0  0.0  0.0  0.0  \n",
              "1  0.0  0.0  0.0  0.0  0.0  0.0  \n",
              "2  0.0  0.0  0.0  0.0  0.0  0.0  \n",
              "3  0.0  0.0  0.0  0.0  0.0  0.0  \n",
              "4  0.0  0.0  0.0  0.0  0.0  0.0  \n",
              "\n",
              "[5 rows x 47 columns]"
            ],
            "text/html": [
              "\n",
              "  <div id=\"df-94205e67-db0e-4c8b-a708-e294b3b796a7\">\n",
              "    <div class=\"colab-df-container\">\n",
              "      <div>\n",
              "<style scoped>\n",
              "    .dataframe tbody tr th:only-of-type {\n",
              "        vertical-align: middle;\n",
              "    }\n",
              "\n",
              "    .dataframe tbody tr th {\n",
              "        vertical-align: top;\n",
              "    }\n",
              "\n",
              "    .dataframe thead th {\n",
              "        text-align: right;\n",
              "    }\n",
              "</style>\n",
              "<table border=\"1\" class=\"dataframe\">\n",
              "  <thead>\n",
              "    <tr style=\"text-align: right;\">\n",
              "      <th></th>\n",
              "      <th>flightNumber</th>\n",
              "      <th>craftTypeCode</th>\n",
              "      <th>traAirport</th>\n",
              "      <th>departureDate</th>\n",
              "      <th>cabinClass</th>\n",
              "      <th>priceClass</th>\n",
              "      <th>price</th>\n",
              "      <th>rate</th>\n",
              "      <th>dateDifference</th>\n",
              "      <th>daysaway</th>\n",
              "      <th>...</th>\n",
              "      <th>25</th>\n",
              "      <th>26</th>\n",
              "      <th>27</th>\n",
              "      <th>28</th>\n",
              "      <th>29</th>\n",
              "      <th>30</th>\n",
              "      <th>31</th>\n",
              "      <th>32</th>\n",
              "      <th>33</th>\n",
              "      <th>34</th>\n",
              "    </tr>\n",
              "  </thead>\n",
              "  <tbody>\n",
              "    <tr>\n",
              "      <th>0</th>\n",
              "      <td>HO1252</td>\n",
              "      <td>320</td>\n",
              "      <td>None</td>\n",
              "      <td>2019-01-04 06:35:00</td>\n",
              "      <td>C</td>\n",
              "      <td>C</td>\n",
              "      <td>1860</td>\n",
              "      <td>1.00</td>\n",
              "      <td>1</td>\n",
              "      <td>8400</td>\n",
              "      <td>...</td>\n",
              "      <td>0.0</td>\n",
              "      <td>0.0</td>\n",
              "      <td>0.0</td>\n",
              "      <td>0.0</td>\n",
              "      <td>0.0</td>\n",
              "      <td>0.0</td>\n",
              "      <td>0.0</td>\n",
              "      <td>0.0</td>\n",
              "      <td>0.0</td>\n",
              "      <td>0.0</td>\n",
              "    </tr>\n",
              "    <tr>\n",
              "      <th>1</th>\n",
              "      <td>MU5138</td>\n",
              "      <td>33L</td>\n",
              "      <td>None</td>\n",
              "      <td>2019-01-04 07:00:00</td>\n",
              "      <td>C</td>\n",
              "      <td>I</td>\n",
              "      <td>1640</td>\n",
              "      <td>0.31</td>\n",
              "      <td>1</td>\n",
              "      <td>8100</td>\n",
              "      <td>...</td>\n",
              "      <td>0.0</td>\n",
              "      <td>0.0</td>\n",
              "      <td>0.0</td>\n",
              "      <td>0.0</td>\n",
              "      <td>0.0</td>\n",
              "      <td>0.0</td>\n",
              "      <td>0.0</td>\n",
              "      <td>0.0</td>\n",
              "      <td>0.0</td>\n",
              "      <td>0.0</td>\n",
              "    </tr>\n",
              "    <tr>\n",
              "      <th>2</th>\n",
              "      <td>MU5138</td>\n",
              "      <td>33L</td>\n",
              "      <td>None</td>\n",
              "      <td>2019-01-04 07:00:00</td>\n",
              "      <td>C</td>\n",
              "      <td>J</td>\n",
              "      <td>5360</td>\n",
              "      <td>1.00</td>\n",
              "      <td>1</td>\n",
              "      <td>8100</td>\n",
              "      <td>...</td>\n",
              "      <td>0.0</td>\n",
              "      <td>0.0</td>\n",
              "      <td>0.0</td>\n",
              "      <td>0.0</td>\n",
              "      <td>0.0</td>\n",
              "      <td>0.0</td>\n",
              "      <td>0.0</td>\n",
              "      <td>0.0</td>\n",
              "      <td>0.0</td>\n",
              "      <td>0.0</td>\n",
              "    </tr>\n",
              "    <tr>\n",
              "      <th>3</th>\n",
              "      <td>HU7605</td>\n",
              "      <td>350</td>\n",
              "      <td>None</td>\n",
              "      <td>2019-01-04 07:20:00</td>\n",
              "      <td>C</td>\n",
              "      <td>I</td>\n",
              "      <td>1635</td>\n",
              "      <td>0.29</td>\n",
              "      <td>1</td>\n",
              "      <td>8100</td>\n",
              "      <td>...</td>\n",
              "      <td>0.0</td>\n",
              "      <td>0.0</td>\n",
              "      <td>0.0</td>\n",
              "      <td>0.0</td>\n",
              "      <td>0.0</td>\n",
              "      <td>0.0</td>\n",
              "      <td>0.0</td>\n",
              "      <td>0.0</td>\n",
              "      <td>0.0</td>\n",
              "      <td>0.0</td>\n",
              "    </tr>\n",
              "    <tr>\n",
              "      <th>4</th>\n",
              "      <td>HU7605</td>\n",
              "      <td>350</td>\n",
              "      <td>None</td>\n",
              "      <td>2019-01-04 07:20:00</td>\n",
              "      <td>C</td>\n",
              "      <td>I</td>\n",
              "      <td>1640</td>\n",
              "      <td>0.29</td>\n",
              "      <td>1</td>\n",
              "      <td>8100</td>\n",
              "      <td>...</td>\n",
              "      <td>0.0</td>\n",
              "      <td>0.0</td>\n",
              "      <td>0.0</td>\n",
              "      <td>0.0</td>\n",
              "      <td>0.0</td>\n",
              "      <td>0.0</td>\n",
              "      <td>0.0</td>\n",
              "      <td>0.0</td>\n",
              "      <td>0.0</td>\n",
              "      <td>0.0</td>\n",
              "    </tr>\n",
              "  </tbody>\n",
              "</table>\n",
              "<p>5 rows × 47 columns</p>\n",
              "</div>\n",
              "      <button class=\"colab-df-convert\" onclick=\"convertToInteractive('df-94205e67-db0e-4c8b-a708-e294b3b796a7')\"\n",
              "              title=\"Convert this dataframe to an interactive table.\"\n",
              "              style=\"display:none;\">\n",
              "        \n",
              "  <svg xmlns=\"http://www.w3.org/2000/svg\" height=\"24px\"viewBox=\"0 0 24 24\"\n",
              "       width=\"24px\">\n",
              "    <path d=\"M0 0h24v24H0V0z\" fill=\"none\"/>\n",
              "    <path d=\"M18.56 5.44l.94 2.06.94-2.06 2.06-.94-2.06-.94-.94-2.06-.94 2.06-2.06.94zm-11 1L8.5 8.5l.94-2.06 2.06-.94-2.06-.94L8.5 2.5l-.94 2.06-2.06.94zm10 10l.94 2.06.94-2.06 2.06-.94-2.06-.94-.94-2.06-.94 2.06-2.06.94z\"/><path d=\"M17.41 7.96l-1.37-1.37c-.4-.4-.92-.59-1.43-.59-.52 0-1.04.2-1.43.59L10.3 9.45l-7.72 7.72c-.78.78-.78 2.05 0 2.83L4 21.41c.39.39.9.59 1.41.59.51 0 1.02-.2 1.41-.59l7.78-7.78 2.81-2.81c.8-.78.8-2.07 0-2.86zM5.41 20L4 18.59l7.72-7.72 1.47 1.35L5.41 20z\"/>\n",
              "  </svg>\n",
              "      </button>\n",
              "      \n",
              "  <style>\n",
              "    .colab-df-container {\n",
              "      display:flex;\n",
              "      flex-wrap:wrap;\n",
              "      gap: 12px;\n",
              "    }\n",
              "\n",
              "    .colab-df-convert {\n",
              "      background-color: #E8F0FE;\n",
              "      border: none;\n",
              "      border-radius: 50%;\n",
              "      cursor: pointer;\n",
              "      display: none;\n",
              "      fill: #1967D2;\n",
              "      height: 32px;\n",
              "      padding: 0 0 0 0;\n",
              "      width: 32px;\n",
              "    }\n",
              "\n",
              "    .colab-df-convert:hover {\n",
              "      background-color: #E2EBFA;\n",
              "      box-shadow: 0px 1px 2px rgba(60, 64, 67, 0.3), 0px 1px 3px 1px rgba(60, 64, 67, 0.15);\n",
              "      fill: #174EA6;\n",
              "    }\n",
              "\n",
              "    [theme=dark] .colab-df-convert {\n",
              "      background-color: #3B4455;\n",
              "      fill: #D2E3FC;\n",
              "    }\n",
              "\n",
              "    [theme=dark] .colab-df-convert:hover {\n",
              "      background-color: #434B5C;\n",
              "      box-shadow: 0px 1px 3px 1px rgba(0, 0, 0, 0.15);\n",
              "      filter: drop-shadow(0px 1px 2px rgba(0, 0, 0, 0.3));\n",
              "      fill: #FFFFFF;\n",
              "    }\n",
              "  </style>\n",
              "\n",
              "      <script>\n",
              "        const buttonEl =\n",
              "          document.querySelector('#df-94205e67-db0e-4c8b-a708-e294b3b796a7 button.colab-df-convert');\n",
              "        buttonEl.style.display =\n",
              "          google.colab.kernel.accessAllowed ? 'block' : 'none';\n",
              "\n",
              "        async function convertToInteractive(key) {\n",
              "          const element = document.querySelector('#df-94205e67-db0e-4c8b-a708-e294b3b796a7');\n",
              "          const dataTable =\n",
              "            await google.colab.kernel.invokeFunction('convertToInteractive',\n",
              "                                                     [key], {});\n",
              "          if (!dataTable) return;\n",
              "\n",
              "          const docLinkHtml = 'Like what you see? Visit the ' +\n",
              "            '<a target=\"_blank\" href=https://colab.research.google.com/notebooks/data_table.ipynb>data table notebook</a>'\n",
              "            + ' to learn more about interactive tables.';\n",
              "          element.innerHTML = '';\n",
              "          dataTable['output_type'] = 'display_data';\n",
              "          await google.colab.output.renderOutput(dataTable, element);\n",
              "          const docLink = document.createElement('div');\n",
              "          docLink.innerHTML = docLinkHtml;\n",
              "          element.appendChild(docLink);\n",
              "        }\n",
              "      </script>\n",
              "    </div>\n",
              "  </div>\n",
              "  "
            ]
          },
          "metadata": {},
          "execution_count": 53
        }
      ],
      "source": [
        "df2.head()"
      ]
    },
    {
      "cell_type": "code",
      "execution_count": null,
      "metadata": {
        "id": "MTVRs-GcngQv"
      },
      "outputs": [],
      "source": [
        "df2.dropna(inplace= True)"
      ]
    },
    {
      "cell_type": "code",
      "execution_count": null,
      "metadata": {
        "id": "ZuV0w9ggngQv"
      },
      "outputs": [],
      "source": [
        "#cabinClass, priceClass, rate \n",
        "df2.drop(['flightNumber','craftTypeCode','traAirport','departureDate','dateDifference','daysaway','depDay','arrDay','cabinClass','priceClass'], axis = 1, inplace=True)"
      ]
    },
    {
      "cell_type": "code",
      "execution_count": null,
      "metadata": {
        "colab": {
          "base_uri": "https://localhost:8080/",
          "height": 392
        },
        "id": "X8NBEGewngQv",
        "outputId": "03a26be5-9e52-466f-992a-ab538531c995"
      },
      "outputs": [
        {
          "output_type": "execute_result",
          "data": {
            "text/plain": [
              "   price  rate    0    1    2    3    4    5    6    7  ...   25   26   27  \\\n",
              "0   1860  1.00  1.0  0.0  0.0  0.0  0.0  0.0  1.0  0.0  ...  0.0  0.0  0.0   \n",
              "1   1640  0.31  1.0  0.0  0.0  0.0  0.0  0.0  0.0  0.0  ...  0.0  0.0  0.0   \n",
              "2   5360  1.00  1.0  0.0  0.0  0.0  0.0  0.0  0.0  0.0  ...  0.0  0.0  0.0   \n",
              "3   1635  0.29  1.0  0.0  0.0  0.0  0.0  0.0  0.0  0.0  ...  0.0  0.0  0.0   \n",
              "4   1640  0.29  1.0  0.0  0.0  0.0  0.0  0.0  0.0  0.0  ...  0.0  0.0  0.0   \n",
              "5   5660  1.00  1.0  0.0  0.0  0.0  0.0  0.0  1.0  0.0  ...  0.0  0.0  0.0   \n",
              "6   1860  0.34  1.0  0.0  0.0  0.0  0.0  0.0  0.0  0.0  ...  0.0  0.0  0.0   \n",
              "7   5530  1.00  1.0  0.0  0.0  0.0  0.0  0.0  0.0  0.0  ...  0.0  0.0  0.0   \n",
              "8   1800  0.34  1.0  0.0  0.0  0.0  0.0  0.0  0.0  0.0  ...  0.0  0.0  0.0   \n",
              "9   5360  1.00  1.0  0.0  0.0  0.0  0.0  0.0  0.0  0.0  ...  0.0  0.0  0.0   \n",
              "\n",
              "    28   29   30   31   32   33   34  \n",
              "0  0.0  0.0  0.0  0.0  0.0  0.0  0.0  \n",
              "1  0.0  0.0  0.0  0.0  0.0  0.0  0.0  \n",
              "2  0.0  0.0  0.0  0.0  0.0  0.0  0.0  \n",
              "3  0.0  0.0  0.0  0.0  0.0  0.0  0.0  \n",
              "4  0.0  0.0  0.0  0.0  0.0  0.0  0.0  \n",
              "5  0.0  0.0  0.0  0.0  0.0  0.0  0.0  \n",
              "6  0.0  0.0  0.0  0.0  0.0  0.0  0.0  \n",
              "7  0.0  0.0  0.0  0.0  0.0  0.0  0.0  \n",
              "8  0.0  0.0  0.0  0.0  0.0  0.0  0.0  \n",
              "9  0.0  0.0  0.0  0.0  0.0  0.0  0.0  \n",
              "\n",
              "[10 rows x 37 columns]"
            ],
            "text/html": [
              "\n",
              "  <div id=\"df-a1a69cce-a3ef-40ef-8487-7cd2cea0fa7a\">\n",
              "    <div class=\"colab-df-container\">\n",
              "      <div>\n",
              "<style scoped>\n",
              "    .dataframe tbody tr th:only-of-type {\n",
              "        vertical-align: middle;\n",
              "    }\n",
              "\n",
              "    .dataframe tbody tr th {\n",
              "        vertical-align: top;\n",
              "    }\n",
              "\n",
              "    .dataframe thead th {\n",
              "        text-align: right;\n",
              "    }\n",
              "</style>\n",
              "<table border=\"1\" class=\"dataframe\">\n",
              "  <thead>\n",
              "    <tr style=\"text-align: right;\">\n",
              "      <th></th>\n",
              "      <th>price</th>\n",
              "      <th>rate</th>\n",
              "      <th>0</th>\n",
              "      <th>1</th>\n",
              "      <th>2</th>\n",
              "      <th>3</th>\n",
              "      <th>4</th>\n",
              "      <th>5</th>\n",
              "      <th>6</th>\n",
              "      <th>7</th>\n",
              "      <th>...</th>\n",
              "      <th>25</th>\n",
              "      <th>26</th>\n",
              "      <th>27</th>\n",
              "      <th>28</th>\n",
              "      <th>29</th>\n",
              "      <th>30</th>\n",
              "      <th>31</th>\n",
              "      <th>32</th>\n",
              "      <th>33</th>\n",
              "      <th>34</th>\n",
              "    </tr>\n",
              "  </thead>\n",
              "  <tbody>\n",
              "    <tr>\n",
              "      <th>0</th>\n",
              "      <td>1860</td>\n",
              "      <td>1.00</td>\n",
              "      <td>1.0</td>\n",
              "      <td>0.0</td>\n",
              "      <td>0.0</td>\n",
              "      <td>0.0</td>\n",
              "      <td>0.0</td>\n",
              "      <td>0.0</td>\n",
              "      <td>1.0</td>\n",
              "      <td>0.0</td>\n",
              "      <td>...</td>\n",
              "      <td>0.0</td>\n",
              "      <td>0.0</td>\n",
              "      <td>0.0</td>\n",
              "      <td>0.0</td>\n",
              "      <td>0.0</td>\n",
              "      <td>0.0</td>\n",
              "      <td>0.0</td>\n",
              "      <td>0.0</td>\n",
              "      <td>0.0</td>\n",
              "      <td>0.0</td>\n",
              "    </tr>\n",
              "    <tr>\n",
              "      <th>1</th>\n",
              "      <td>1640</td>\n",
              "      <td>0.31</td>\n",
              "      <td>1.0</td>\n",
              "      <td>0.0</td>\n",
              "      <td>0.0</td>\n",
              "      <td>0.0</td>\n",
              "      <td>0.0</td>\n",
              "      <td>0.0</td>\n",
              "      <td>0.0</td>\n",
              "      <td>0.0</td>\n",
              "      <td>...</td>\n",
              "      <td>0.0</td>\n",
              "      <td>0.0</td>\n",
              "      <td>0.0</td>\n",
              "      <td>0.0</td>\n",
              "      <td>0.0</td>\n",
              "      <td>0.0</td>\n",
              "      <td>0.0</td>\n",
              "      <td>0.0</td>\n",
              "      <td>0.0</td>\n",
              "      <td>0.0</td>\n",
              "    </tr>\n",
              "    <tr>\n",
              "      <th>2</th>\n",
              "      <td>5360</td>\n",
              "      <td>1.00</td>\n",
              "      <td>1.0</td>\n",
              "      <td>0.0</td>\n",
              "      <td>0.0</td>\n",
              "      <td>0.0</td>\n",
              "      <td>0.0</td>\n",
              "      <td>0.0</td>\n",
              "      <td>0.0</td>\n",
              "      <td>0.0</td>\n",
              "      <td>...</td>\n",
              "      <td>0.0</td>\n",
              "      <td>0.0</td>\n",
              "      <td>0.0</td>\n",
              "      <td>0.0</td>\n",
              "      <td>0.0</td>\n",
              "      <td>0.0</td>\n",
              "      <td>0.0</td>\n",
              "      <td>0.0</td>\n",
              "      <td>0.0</td>\n",
              "      <td>0.0</td>\n",
              "    </tr>\n",
              "    <tr>\n",
              "      <th>3</th>\n",
              "      <td>1635</td>\n",
              "      <td>0.29</td>\n",
              "      <td>1.0</td>\n",
              "      <td>0.0</td>\n",
              "      <td>0.0</td>\n",
              "      <td>0.0</td>\n",
              "      <td>0.0</td>\n",
              "      <td>0.0</td>\n",
              "      <td>0.0</td>\n",
              "      <td>0.0</td>\n",
              "      <td>...</td>\n",
              "      <td>0.0</td>\n",
              "      <td>0.0</td>\n",
              "      <td>0.0</td>\n",
              "      <td>0.0</td>\n",
              "      <td>0.0</td>\n",
              "      <td>0.0</td>\n",
              "      <td>0.0</td>\n",
              "      <td>0.0</td>\n",
              "      <td>0.0</td>\n",
              "      <td>0.0</td>\n",
              "    </tr>\n",
              "    <tr>\n",
              "      <th>4</th>\n",
              "      <td>1640</td>\n",
              "      <td>0.29</td>\n",
              "      <td>1.0</td>\n",
              "      <td>0.0</td>\n",
              "      <td>0.0</td>\n",
              "      <td>0.0</td>\n",
              "      <td>0.0</td>\n",
              "      <td>0.0</td>\n",
              "      <td>0.0</td>\n",
              "      <td>0.0</td>\n",
              "      <td>...</td>\n",
              "      <td>0.0</td>\n",
              "      <td>0.0</td>\n",
              "      <td>0.0</td>\n",
              "      <td>0.0</td>\n",
              "      <td>0.0</td>\n",
              "      <td>0.0</td>\n",
              "      <td>0.0</td>\n",
              "      <td>0.0</td>\n",
              "      <td>0.0</td>\n",
              "      <td>0.0</td>\n",
              "    </tr>\n",
              "    <tr>\n",
              "      <th>5</th>\n",
              "      <td>5660</td>\n",
              "      <td>1.00</td>\n",
              "      <td>1.0</td>\n",
              "      <td>0.0</td>\n",
              "      <td>0.0</td>\n",
              "      <td>0.0</td>\n",
              "      <td>0.0</td>\n",
              "      <td>0.0</td>\n",
              "      <td>1.0</td>\n",
              "      <td>0.0</td>\n",
              "      <td>...</td>\n",
              "      <td>0.0</td>\n",
              "      <td>0.0</td>\n",
              "      <td>0.0</td>\n",
              "      <td>0.0</td>\n",
              "      <td>0.0</td>\n",
              "      <td>0.0</td>\n",
              "      <td>0.0</td>\n",
              "      <td>0.0</td>\n",
              "      <td>0.0</td>\n",
              "      <td>0.0</td>\n",
              "    </tr>\n",
              "    <tr>\n",
              "      <th>6</th>\n",
              "      <td>1860</td>\n",
              "      <td>0.34</td>\n",
              "      <td>1.0</td>\n",
              "      <td>0.0</td>\n",
              "      <td>0.0</td>\n",
              "      <td>0.0</td>\n",
              "      <td>0.0</td>\n",
              "      <td>0.0</td>\n",
              "      <td>0.0</td>\n",
              "      <td>0.0</td>\n",
              "      <td>...</td>\n",
              "      <td>0.0</td>\n",
              "      <td>0.0</td>\n",
              "      <td>0.0</td>\n",
              "      <td>0.0</td>\n",
              "      <td>0.0</td>\n",
              "      <td>0.0</td>\n",
              "      <td>0.0</td>\n",
              "      <td>0.0</td>\n",
              "      <td>0.0</td>\n",
              "      <td>0.0</td>\n",
              "    </tr>\n",
              "    <tr>\n",
              "      <th>7</th>\n",
              "      <td>5530</td>\n",
              "      <td>1.00</td>\n",
              "      <td>1.0</td>\n",
              "      <td>0.0</td>\n",
              "      <td>0.0</td>\n",
              "      <td>0.0</td>\n",
              "      <td>0.0</td>\n",
              "      <td>0.0</td>\n",
              "      <td>0.0</td>\n",
              "      <td>0.0</td>\n",
              "      <td>...</td>\n",
              "      <td>0.0</td>\n",
              "      <td>0.0</td>\n",
              "      <td>0.0</td>\n",
              "      <td>0.0</td>\n",
              "      <td>0.0</td>\n",
              "      <td>0.0</td>\n",
              "      <td>0.0</td>\n",
              "      <td>0.0</td>\n",
              "      <td>0.0</td>\n",
              "      <td>0.0</td>\n",
              "    </tr>\n",
              "    <tr>\n",
              "      <th>8</th>\n",
              "      <td>1800</td>\n",
              "      <td>0.34</td>\n",
              "      <td>1.0</td>\n",
              "      <td>0.0</td>\n",
              "      <td>0.0</td>\n",
              "      <td>0.0</td>\n",
              "      <td>0.0</td>\n",
              "      <td>0.0</td>\n",
              "      <td>0.0</td>\n",
              "      <td>0.0</td>\n",
              "      <td>...</td>\n",
              "      <td>0.0</td>\n",
              "      <td>0.0</td>\n",
              "      <td>0.0</td>\n",
              "      <td>0.0</td>\n",
              "      <td>0.0</td>\n",
              "      <td>0.0</td>\n",
              "      <td>0.0</td>\n",
              "      <td>0.0</td>\n",
              "      <td>0.0</td>\n",
              "      <td>0.0</td>\n",
              "    </tr>\n",
              "    <tr>\n",
              "      <th>9</th>\n",
              "      <td>5360</td>\n",
              "      <td>1.00</td>\n",
              "      <td>1.0</td>\n",
              "      <td>0.0</td>\n",
              "      <td>0.0</td>\n",
              "      <td>0.0</td>\n",
              "      <td>0.0</td>\n",
              "      <td>0.0</td>\n",
              "      <td>0.0</td>\n",
              "      <td>0.0</td>\n",
              "      <td>...</td>\n",
              "      <td>0.0</td>\n",
              "      <td>0.0</td>\n",
              "      <td>0.0</td>\n",
              "      <td>0.0</td>\n",
              "      <td>0.0</td>\n",
              "      <td>0.0</td>\n",
              "      <td>0.0</td>\n",
              "      <td>0.0</td>\n",
              "      <td>0.0</td>\n",
              "      <td>0.0</td>\n",
              "    </tr>\n",
              "  </tbody>\n",
              "</table>\n",
              "<p>10 rows × 37 columns</p>\n",
              "</div>\n",
              "      <button class=\"colab-df-convert\" onclick=\"convertToInteractive('df-a1a69cce-a3ef-40ef-8487-7cd2cea0fa7a')\"\n",
              "              title=\"Convert this dataframe to an interactive table.\"\n",
              "              style=\"display:none;\">\n",
              "        \n",
              "  <svg xmlns=\"http://www.w3.org/2000/svg\" height=\"24px\"viewBox=\"0 0 24 24\"\n",
              "       width=\"24px\">\n",
              "    <path d=\"M0 0h24v24H0V0z\" fill=\"none\"/>\n",
              "    <path d=\"M18.56 5.44l.94 2.06.94-2.06 2.06-.94-2.06-.94-.94-2.06-.94 2.06-2.06.94zm-11 1L8.5 8.5l.94-2.06 2.06-.94-2.06-.94L8.5 2.5l-.94 2.06-2.06.94zm10 10l.94 2.06.94-2.06 2.06-.94-2.06-.94-.94-2.06-.94 2.06-2.06.94z\"/><path d=\"M17.41 7.96l-1.37-1.37c-.4-.4-.92-.59-1.43-.59-.52 0-1.04.2-1.43.59L10.3 9.45l-7.72 7.72c-.78.78-.78 2.05 0 2.83L4 21.41c.39.39.9.59 1.41.59.51 0 1.02-.2 1.41-.59l7.78-7.78 2.81-2.81c.8-.78.8-2.07 0-2.86zM5.41 20L4 18.59l7.72-7.72 1.47 1.35L5.41 20z\"/>\n",
              "  </svg>\n",
              "      </button>\n",
              "      \n",
              "  <style>\n",
              "    .colab-df-container {\n",
              "      display:flex;\n",
              "      flex-wrap:wrap;\n",
              "      gap: 12px;\n",
              "    }\n",
              "\n",
              "    .colab-df-convert {\n",
              "      background-color: #E8F0FE;\n",
              "      border: none;\n",
              "      border-radius: 50%;\n",
              "      cursor: pointer;\n",
              "      display: none;\n",
              "      fill: #1967D2;\n",
              "      height: 32px;\n",
              "      padding: 0 0 0 0;\n",
              "      width: 32px;\n",
              "    }\n",
              "\n",
              "    .colab-df-convert:hover {\n",
              "      background-color: #E2EBFA;\n",
              "      box-shadow: 0px 1px 2px rgba(60, 64, 67, 0.3), 0px 1px 3px 1px rgba(60, 64, 67, 0.15);\n",
              "      fill: #174EA6;\n",
              "    }\n",
              "\n",
              "    [theme=dark] .colab-df-convert {\n",
              "      background-color: #3B4455;\n",
              "      fill: #D2E3FC;\n",
              "    }\n",
              "\n",
              "    [theme=dark] .colab-df-convert:hover {\n",
              "      background-color: #434B5C;\n",
              "      box-shadow: 0px 1px 3px 1px rgba(0, 0, 0, 0.15);\n",
              "      filter: drop-shadow(0px 1px 2px rgba(0, 0, 0, 0.3));\n",
              "      fill: #FFFFFF;\n",
              "    }\n",
              "  </style>\n",
              "\n",
              "      <script>\n",
              "        const buttonEl =\n",
              "          document.querySelector('#df-a1a69cce-a3ef-40ef-8487-7cd2cea0fa7a button.colab-df-convert');\n",
              "        buttonEl.style.display =\n",
              "          google.colab.kernel.accessAllowed ? 'block' : 'none';\n",
              "\n",
              "        async function convertToInteractive(key) {\n",
              "          const element = document.querySelector('#df-a1a69cce-a3ef-40ef-8487-7cd2cea0fa7a');\n",
              "          const dataTable =\n",
              "            await google.colab.kernel.invokeFunction('convertToInteractive',\n",
              "                                                     [key], {});\n",
              "          if (!dataTable) return;\n",
              "\n",
              "          const docLinkHtml = 'Like what you see? Visit the ' +\n",
              "            '<a target=\"_blank\" href=https://colab.research.google.com/notebooks/data_table.ipynb>data table notebook</a>'\n",
              "            + ' to learn more about interactive tables.';\n",
              "          element.innerHTML = '';\n",
              "          dataTable['output_type'] = 'display_data';\n",
              "          await google.colab.output.renderOutput(dataTable, element);\n",
              "          const docLink = document.createElement('div');\n",
              "          docLink.innerHTML = docLinkHtml;\n",
              "          element.appendChild(docLink);\n",
              "        }\n",
              "      </script>\n",
              "    </div>\n",
              "  </div>\n",
              "  "
            ]
          },
          "metadata": {},
          "execution_count": 56
        }
      ],
      "source": [
        "df2.head(10)"
      ]
    },
    {
      "cell_type": "code",
      "execution_count": null,
      "metadata": {
        "colab": {
          "base_uri": "https://localhost:8080/"
        },
        "id": "09CaisOKngQv",
        "outputId": "fcc133c9-15fd-4983-95af-66be1a2e3dd3"
      },
      "outputs": [
        {
          "output_type": "stream",
          "name": "stdout",
          "text": [
            "<class 'pandas.core.frame.DataFrame'>\n",
            "Int64Index: 295926 entries, 0 to 298130\n",
            "Data columns (total 37 columns):\n",
            " #   Column  Non-Null Count   Dtype  \n",
            "---  ------  --------------   -----  \n",
            " 0   price   295926 non-null  int64  \n",
            " 1   rate    295926 non-null  float64\n",
            " 2   0       295926 non-null  float64\n",
            " 3   1       295926 non-null  float64\n",
            " 4   2       295926 non-null  float64\n",
            " 5   3       295926 non-null  float64\n",
            " 6   4       295926 non-null  float64\n",
            " 7   5       295926 non-null  float64\n",
            " 8   6       295926 non-null  float64\n",
            " 9   7       295926 non-null  float64\n",
            " 10  8       295926 non-null  float64\n",
            " 11  9       295926 non-null  float64\n",
            " 12  10      295926 non-null  float64\n",
            " 13  11      295926 non-null  float64\n",
            " 14  12      295926 non-null  float64\n",
            " 15  13      295926 non-null  float64\n",
            " 16  14      295926 non-null  float64\n",
            " 17  15      295926 non-null  float64\n",
            " 18  16      295926 non-null  float64\n",
            " 19  17      295926 non-null  float64\n",
            " 20  18      295926 non-null  float64\n",
            " 21  19      295926 non-null  float64\n",
            " 22  20      295926 non-null  float64\n",
            " 23  21      295926 non-null  float64\n",
            " 24  22      295926 non-null  float64\n",
            " 25  23      295926 non-null  float64\n",
            " 26  24      295926 non-null  float64\n",
            " 27  25      295926 non-null  float64\n",
            " 28  26      295926 non-null  float64\n",
            " 29  27      295926 non-null  float64\n",
            " 30  28      295926 non-null  float64\n",
            " 31  29      295926 non-null  float64\n",
            " 32  30      295926 non-null  float64\n",
            " 33  31      295926 non-null  float64\n",
            " 34  32      295926 non-null  float64\n",
            " 35  33      295926 non-null  float64\n",
            " 36  34      295926 non-null  float64\n",
            "dtypes: float64(36), int64(1)\n",
            "memory usage: 85.8 MB\n"
          ]
        }
      ],
      "source": [
        "df2.info()"
      ]
    },
    {
      "cell_type": "code",
      "execution_count": null,
      "metadata": {
        "id": "stqs_R6CngQv"
      },
      "outputs": [],
      "source": [
        "from sklearn.model_selection import train_test_split\n",
        "x=df2.drop('price',axis=1)\n",
        "y=df2['price']\n",
        "x_train,x_test,y_train,y_test=train_test_split(x,y,test_size=0.2,random_state=69)"
      ]
    },
    {
      "cell_type": "code",
      "execution_count": null,
      "metadata": {
        "colab": {
          "base_uri": "https://localhost:8080/"
        },
        "id": "IVcVaQ0LngQw",
        "outputId": "ceeabe67-23a1-4138-8a41-4352b301235d"
      },
      "outputs": [
        {
          "output_type": "stream",
          "name": "stderr",
          "text": [
            "/usr/local/lib/python3.7/dist-packages/sklearn/utils/validation.py:1692: FutureWarning: Feature names only support names that are all strings. Got feature names with dtypes: ['int', 'str']. An error will be raised in 1.2.\n",
            "  FutureWarning,\n"
          ]
        },
        {
          "output_type": "execute_result",
          "data": {
            "text/plain": [
              "RandomForestRegressor(n_estimators=10, random_state=69)"
            ]
          },
          "metadata": {},
          "execution_count": 59
        }
      ],
      "source": [
        "from sklearn.metrics import mean_squared_error\n",
        "from sklearn.ensemble import RandomForestRegressor\n",
        "model = RandomForestRegressor(n_estimators=10,random_state=69)\n",
        "model.fit(x_train,y_train)"
      ]
    },
    {
      "cell_type": "code",
      "execution_count": null,
      "metadata": {
        "colab": {
          "base_uri": "https://localhost:8080/"
        },
        "id": "ziHMYMVongQw",
        "outputId": "9e27cfc8-66d2-4bae-a119-63539275ecfe"
      },
      "outputs": [
        {
          "output_type": "stream",
          "name": "stderr",
          "text": [
            "/usr/local/lib/python3.7/dist-packages/sklearn/utils/validation.py:1692: FutureWarning: Feature names only support names that are all strings. Got feature names with dtypes: ['int', 'str']. An error will be raised in 1.2.\n",
            "  FutureWarning,\n"
          ]
        },
        {
          "output_type": "stream",
          "name": "stdout",
          "text": [
            "\n",
            "RMSE:\n",
            " 369.035 362.416\n"
          ]
        },
        {
          "output_type": "stream",
          "name": "stderr",
          "text": [
            "/usr/local/lib/python3.7/dist-packages/sklearn/utils/validation.py:1692: FutureWarning: Feature names only support names that are all strings. Got feature names with dtypes: ['int', 'str']. An error will be raised in 1.2.\n",
            "  FutureWarning,\n"
          ]
        }
      ],
      "source": [
        "import numpy as np\n",
        "y_pred_train = model.predict(x_train)\n",
        "y_pred = model.predict(x_test)\n",
        "rmse_test = float(format(np.sqrt(mean_squared_error(y_test, y_pred)),'.3f'))\n",
        "rmse_train = float(format(np.sqrt(mean_squared_error(y_train, y_pred_train)),'.3f'))\n",
        "print(\"\\nRMSE:\\n\",rmse_test,rmse_train)"
      ]
    },
    {
      "cell_type": "code",
      "execution_count": null,
      "metadata": {
        "id": "_0K85_nRngQw"
      },
      "outputs": [],
      "source": [
        "# price avg was 2209.684696, so our rmse is 369.035, lets tune hyper parameters, on top of it rmse of both training and testing dont vary much so nothing about the fitting of the model can be said\n",
        "#RMSE of test > RMSE of train => OVER FITTING of the data.\n",
        "#RMSE of test < RMSE of train => UNDER FITTING of the data."
      ]
    },
    {
      "cell_type": "code",
      "execution_count": null,
      "metadata": {
        "colab": {
          "base_uri": "https://localhost:8080/"
        },
        "id": "Fe91Ju8engQw",
        "outputId": "dea9b330-e694-4454-b13d-54786d7012a0"
      },
      "outputs": [
        {
          "output_type": "stream",
          "name": "stdout",
          "text": [
            "Parameters currently in use:\n",
            "\n",
            "{'bootstrap': True, 'ccp_alpha': 0.0, 'criterion': 'squared_error', 'max_depth': None, 'max_features': 'auto', 'max_leaf_nodes': None, 'max_samples': None, 'min_impurity_decrease': 0.0, 'min_samples_leaf': 1, 'min_samples_split': 2, 'min_weight_fraction_leaf': 0.0, 'n_estimators': 10, 'n_jobs': None, 'oob_score': False, 'random_state': 69, 'verbose': 0, 'warm_start': False}\n"
          ]
        }
      ],
      "source": [
        "print('Parameters currently in use:\\n')\n",
        "print(model.get_params())"
      ]
    },
    {
      "cell_type": "code",
      "execution_count": null,
      "metadata": {
        "colab": {
          "base_uri": "https://localhost:8080/"
        },
        "id": "BRlcFYXCngQw",
        "outputId": "6669e823-1ca0-418b-f27c-6f948e3fce73"
      },
      "outputs": [
        {
          "output_type": "stream",
          "name": "stdout",
          "text": [
            "{'n_estimators': [200, 400, 600, 800, 1000, 1200, 1400, 1600, 1800, 2000], 'max_features': ['auto', 'sqrt'], 'max_depth': [10, 20, 30, 40, 50, 60, 70, 80, 90, 100, 110, None], 'min_samples_split': [2, 5, 10], 'min_samples_leaf': [1, 2, 4], 'bootstrap': [True, False]}\n"
          ]
        }
      ],
      "source": [
        "from sklearn.model_selection import RandomizedSearchCV\n",
        "# Number of trees in random forest\n",
        "n_estimators = [int(x) for x in np.linspace(start = 200, stop = 2000, num = 10)]\n",
        "# Number of features to consider at every split\n",
        "max_features = ['auto', 'sqrt']\n",
        "# Maximum number of levels in tree\n",
        "max_depth = [int(x) for x in np.linspace(10, 110, num = 11)]\n",
        "max_depth.append(None)\n",
        "# Minimum number of samples required to split a node\n",
        "min_samples_split = [2, 5, 10]\n",
        "# Minimum number of samples required at each leaf node\n",
        "min_samples_leaf = [1, 2, 4]\n",
        "# Method of selecting samples for training each tree\n",
        "bootstrap = [True, False]\n",
        "# Create the random grid\n",
        "random_grid = {'n_estimators': n_estimators,\n",
        "               'max_features': max_features,\n",
        "               'max_depth': max_depth,\n",
        "               'min_samples_split': min_samples_split,\n",
        "               'min_samples_leaf': min_samples_leaf,\n",
        "               'bootstrap': bootstrap}\n",
        "print(random_grid)"
      ]
    },
    {
      "cell_type": "code",
      "execution_count": null,
      "metadata": {
        "colab": {
          "base_uri": "https://localhost:8080/"
        },
        "id": "Ne67w6LengQw",
        "outputId": "681224f2-2a08-4bfe-cc10-8d382aa7ac46"
      },
      "outputs": [
        {
          "metadata": {
            "tags": null
          },
          "name": "stderr",
          "output_type": "stream",
          "text": [
            "/usr/local/lib/python3.7/dist-packages/sklearn/utils/validation.py:1692: FutureWarning: Feature names only support names that are all strings. Got feature names with dtypes: ['int', 'str']. An error will be raised in 1.2.\n",
            "  FutureWarning,\n"
          ]
        },
        {
          "metadata": {
            "tags": null
          },
          "name": "stdout",
          "output_type": "stream",
          "text": [
            "Fitting 3 folds for each of 10 candidates, totalling 30 fits\n"
          ]
        },
        {
          "metadata": {
            "tags": null
          },
          "name": "stderr",
          "output_type": "stream",
          "text": [
            "/usr/local/lib/python3.7/dist-packages/sklearn/utils/validation.py:1692: FutureWarning: Feature names only support names that are all strings. Got feature names with dtypes: ['int', 'str']. An error will be raised in 1.2.\n",
            "  FutureWarning,\n"
          ]
        },
        {
          "metadata": {
            "tags": null
          },
          "name": "stdout",
          "output_type": "stream",
          "text": [
            "[CV] END bootstrap=True, max_depth=50, max_features=sqrt, min_samples_leaf=2, min_samples_split=10, n_estimators=200; total time=  13.8s\n"
          ]
        },
        {
          "metadata": {
            "tags": null
          },
          "name": "stderr",
          "output_type": "stream",
          "text": [
            "/usr/local/lib/python3.7/dist-packages/sklearn/utils/validation.py:1692: FutureWarning: Feature names only support names that are all strings. Got feature names with dtypes: ['int', 'str']. An error will be raised in 1.2.\n",
            "  FutureWarning,\n",
            "/usr/local/lib/python3.7/dist-packages/sklearn/utils/validation.py:1692: FutureWarning: Feature names only support names that are all strings. Got feature names with dtypes: ['int', 'str']. An error will be raised in 1.2.\n",
            "  FutureWarning,\n"
          ]
        },
        {
          "metadata": {
            "tags": null
          },
          "name": "stdout",
          "output_type": "stream",
          "text": [
            "[CV] END bootstrap=True, max_depth=50, max_features=sqrt, min_samples_leaf=2, min_samples_split=10, n_estimators=200; total time=  14.6s\n"
          ]
        },
        {
          "metadata": {
            "tags": null
          },
          "name": "stderr",
          "output_type": "stream",
          "text": [
            "/usr/local/lib/python3.7/dist-packages/sklearn/utils/validation.py:1692: FutureWarning: Feature names only support names that are all strings. Got feature names with dtypes: ['int', 'str']. An error will be raised in 1.2.\n",
            "  FutureWarning,\n",
            "/usr/local/lib/python3.7/dist-packages/sklearn/utils/validation.py:1692: FutureWarning: Feature names only support names that are all strings. Got feature names with dtypes: ['int', 'str']. An error will be raised in 1.2.\n",
            "  FutureWarning,\n"
          ]
        },
        {
          "metadata": {
            "tags": null
          },
          "name": "stdout",
          "output_type": "stream",
          "text": [
            "[CV] END bootstrap=True, max_depth=50, max_features=sqrt, min_samples_leaf=2, min_samples_split=10, n_estimators=200; total time=  13.5s\n"
          ]
        },
        {
          "metadata": {
            "tags": null
          },
          "name": "stderr",
          "output_type": "stream",
          "text": [
            "/usr/local/lib/python3.7/dist-packages/sklearn/utils/validation.py:1692: FutureWarning: Feature names only support names that are all strings. Got feature names with dtypes: ['int', 'str']. An error will be raised in 1.2.\n",
            "  FutureWarning,\n",
            "/usr/local/lib/python3.7/dist-packages/sklearn/utils/validation.py:1692: FutureWarning: Feature names only support names that are all strings. Got feature names with dtypes: ['int', 'str']. An error will be raised in 1.2.\n",
            "  FutureWarning,\n"
          ]
        },
        {
          "metadata": {
            "tags": null
          },
          "name": "stdout",
          "output_type": "stream",
          "text": [
            "[CV] END bootstrap=False, max_depth=90, max_features=sqrt, min_samples_leaf=4, min_samples_split=10, n_estimators=600; total time=  49.7s\n"
          ]
        },
        {
          "metadata": {
            "tags": null
          },
          "name": "stderr",
          "output_type": "stream",
          "text": [
            "/usr/local/lib/python3.7/dist-packages/sklearn/utils/validation.py:1692: FutureWarning: Feature names only support names that are all strings. Got feature names with dtypes: ['int', 'str']. An error will be raised in 1.2.\n",
            "  FutureWarning,\n",
            "/usr/local/lib/python3.7/dist-packages/sklearn/utils/validation.py:1692: FutureWarning: Feature names only support names that are all strings. Got feature names with dtypes: ['int', 'str']. An error will be raised in 1.2.\n",
            "  FutureWarning,\n"
          ]
        },
        {
          "metadata": {
            "tags": null
          },
          "name": "stdout",
          "output_type": "stream",
          "text": [
            "[CV] END bootstrap=False, max_depth=90, max_features=sqrt, min_samples_leaf=4, min_samples_split=10, n_estimators=600; total time=  48.8s\n"
          ]
        },
        {
          "metadata": {
            "tags": null
          },
          "name": "stderr",
          "output_type": "stream",
          "text": [
            "/usr/local/lib/python3.7/dist-packages/sklearn/utils/validation.py:1692: FutureWarning: Feature names only support names that are all strings. Got feature names with dtypes: ['int', 'str']. An error will be raised in 1.2.\n",
            "  FutureWarning,\n",
            "/usr/local/lib/python3.7/dist-packages/sklearn/utils/validation.py:1692: FutureWarning: Feature names only support names that are all strings. Got feature names with dtypes: ['int', 'str']. An error will be raised in 1.2.\n",
            "  FutureWarning,\n"
          ]
        },
        {
          "metadata": {
            "tags": null
          },
          "name": "stdout",
          "output_type": "stream",
          "text": [
            "[CV] END bootstrap=False, max_depth=90, max_features=sqrt, min_samples_leaf=4, min_samples_split=10, n_estimators=600; total time=  48.0s\n"
          ]
        },
        {
          "metadata": {
            "tags": null
          },
          "name": "stderr",
          "output_type": "stream",
          "text": [
            "/usr/local/lib/python3.7/dist-packages/sklearn/utils/validation.py:1692: FutureWarning: Feature names only support names that are all strings. Got feature names with dtypes: ['int', 'str']. An error will be raised in 1.2.\n",
            "  FutureWarning,\n",
            "/usr/local/lib/python3.7/dist-packages/sklearn/utils/validation.py:1692: FutureWarning: Feature names only support names that are all strings. Got feature names with dtypes: ['int', 'str']. An error will be raised in 1.2.\n",
            "  FutureWarning,\n"
          ]
        },
        {
          "metadata": {
            "tags": null
          },
          "name": "stdout",
          "output_type": "stream",
          "text": [
            "[CV] END bootstrap=False, max_depth=60, max_features=auto, min_samples_leaf=2, min_samples_split=2, n_estimators=600; total time= 2.2min\n"
          ]
        },
        {
          "metadata": {
            "tags": null
          },
          "name": "stderr",
          "output_type": "stream",
          "text": [
            "/usr/local/lib/python3.7/dist-packages/sklearn/utils/validation.py:1692: FutureWarning: Feature names only support names that are all strings. Got feature names with dtypes: ['int', 'str']. An error will be raised in 1.2.\n",
            "  FutureWarning,\n",
            "/usr/local/lib/python3.7/dist-packages/sklearn/utils/validation.py:1692: FutureWarning: Feature names only support names that are all strings. Got feature names with dtypes: ['int', 'str']. An error will be raised in 1.2.\n",
            "  FutureWarning,\n"
          ]
        },
        {
          "metadata": {
            "tags": null
          },
          "name": "stdout",
          "output_type": "stream",
          "text": [
            "[CV] END bootstrap=False, max_depth=60, max_features=auto, min_samples_leaf=2, min_samples_split=2, n_estimators=600; total time= 2.1min\n"
          ]
        },
        {
          "metadata": {
            "tags": null
          },
          "name": "stderr",
          "output_type": "stream",
          "text": [
            "/usr/local/lib/python3.7/dist-packages/sklearn/utils/validation.py:1692: FutureWarning: Feature names only support names that are all strings. Got feature names with dtypes: ['int', 'str']. An error will be raised in 1.2.\n",
            "  FutureWarning,\n",
            "/usr/local/lib/python3.7/dist-packages/sklearn/utils/validation.py:1692: FutureWarning: Feature names only support names that are all strings. Got feature names with dtypes: ['int', 'str']. An error will be raised in 1.2.\n",
            "  FutureWarning,\n"
          ]
        },
        {
          "metadata": {
            "tags": null
          },
          "name": "stdout",
          "output_type": "stream",
          "text": [
            "[CV] END bootstrap=False, max_depth=60, max_features=auto, min_samples_leaf=2, min_samples_split=2, n_estimators=600; total time= 2.2min\n"
          ]
        },
        {
          "metadata": {
            "tags": null
          },
          "name": "stderr",
          "output_type": "stream",
          "text": [
            "/usr/local/lib/python3.7/dist-packages/sklearn/utils/validation.py:1692: FutureWarning: Feature names only support names that are all strings. Got feature names with dtypes: ['int', 'str']. An error will be raised in 1.2.\n",
            "  FutureWarning,\n",
            "/usr/local/lib/python3.7/dist-packages/sklearn/utils/validation.py:1692: FutureWarning: Feature names only support names that are all strings. Got feature names with dtypes: ['int', 'str']. An error will be raised in 1.2.\n",
            "  FutureWarning,\n"
          ]
        },
        {
          "metadata": {
            "tags": null
          },
          "name": "stdout",
          "output_type": "stream",
          "text": [
            "[CV] END bootstrap=True, max_depth=30, max_features=sqrt, min_samples_leaf=1, min_samples_split=5, n_estimators=1400; total time= 1.6min\n"
          ]
        },
        {
          "metadata": {
            "tags": null
          },
          "name": "stderr",
          "output_type": "stream",
          "text": [
            "/usr/local/lib/python3.7/dist-packages/sklearn/utils/validation.py:1692: FutureWarning: Feature names only support names that are all strings. Got feature names with dtypes: ['int', 'str']. An error will be raised in 1.2.\n",
            "  FutureWarning,\n",
            "/usr/local/lib/python3.7/dist-packages/sklearn/utils/validation.py:1692: FutureWarning: Feature names only support names that are all strings. Got feature names with dtypes: ['int', 'str']. An error will be raised in 1.2.\n",
            "  FutureWarning,\n"
          ]
        },
        {
          "metadata": {
            "tags": null
          },
          "name": "stdout",
          "output_type": "stream",
          "text": [
            "[CV] END bootstrap=True, max_depth=30, max_features=sqrt, min_samples_leaf=1, min_samples_split=5, n_estimators=1400; total time= 1.6min\n"
          ]
        },
        {
          "metadata": {
            "tags": null
          },
          "name": "stderr",
          "output_type": "stream",
          "text": [
            "/usr/local/lib/python3.7/dist-packages/sklearn/utils/validation.py:1692: FutureWarning: Feature names only support names that are all strings. Got feature names with dtypes: ['int', 'str']. An error will be raised in 1.2.\n",
            "  FutureWarning,\n",
            "/usr/local/lib/python3.7/dist-packages/sklearn/utils/validation.py:1692: FutureWarning: Feature names only support names that are all strings. Got feature names with dtypes: ['int', 'str']. An error will be raised in 1.2.\n",
            "  FutureWarning,\n"
          ]
        },
        {
          "metadata": {
            "tags": null
          },
          "name": "stdout",
          "output_type": "stream",
          "text": [
            "[CV] END bootstrap=True, max_depth=30, max_features=sqrt, min_samples_leaf=1, min_samples_split=5, n_estimators=1400; total time= 1.7min\n"
          ]
        },
        {
          "metadata": {
            "tags": null
          },
          "name": "stderr",
          "output_type": "stream",
          "text": [
            "/usr/local/lib/python3.7/dist-packages/sklearn/utils/validation.py:1692: FutureWarning: Feature names only support names that are all strings. Got feature names with dtypes: ['int', 'str']. An error will be raised in 1.2.\n",
            "  FutureWarning,\n",
            "/usr/local/lib/python3.7/dist-packages/sklearn/utils/validation.py:1692: FutureWarning: Feature names only support names that are all strings. Got feature names with dtypes: ['int', 'str']. An error will be raised in 1.2.\n",
            "  FutureWarning,\n"
          ]
        },
        {
          "metadata": {
            "tags": null
          },
          "name": "stdout",
          "output_type": "stream",
          "text": [
            "[CV] END bootstrap=False, max_depth=80, max_features=auto, min_samples_leaf=1, min_samples_split=10, n_estimators=1000; total time= 3.6min\n"
          ]
        },
        {
          "metadata": {
            "tags": null
          },
          "name": "stderr",
          "output_type": "stream",
          "text": [
            "/usr/local/lib/python3.7/dist-packages/sklearn/utils/validation.py:1692: FutureWarning: Feature names only support names that are all strings. Got feature names with dtypes: ['int', 'str']. An error will be raised in 1.2.\n",
            "  FutureWarning,\n",
            "/usr/local/lib/python3.7/dist-packages/sklearn/utils/validation.py:1692: FutureWarning: Feature names only support names that are all strings. Got feature names with dtypes: ['int', 'str']. An error will be raised in 1.2.\n",
            "  FutureWarning,\n"
          ]
        },
        {
          "metadata": {
            "tags": null
          },
          "name": "stdout",
          "output_type": "stream",
          "text": [
            "[CV] END bootstrap=False, max_depth=80, max_features=auto, min_samples_leaf=1, min_samples_split=10, n_estimators=1000; total time= 3.8min\n"
          ]
        },
        {
          "metadata": {
            "tags": null
          },
          "name": "stderr",
          "output_type": "stream",
          "text": [
            "/usr/local/lib/python3.7/dist-packages/sklearn/utils/validation.py:1692: FutureWarning: Feature names only support names that are all strings. Got feature names with dtypes: ['int', 'str']. An error will be raised in 1.2.\n",
            "  FutureWarning,\n",
            "/usr/local/lib/python3.7/dist-packages/sklearn/utils/validation.py:1692: FutureWarning: Feature names only support names that are all strings. Got feature names with dtypes: ['int', 'str']. An error will be raised in 1.2.\n",
            "  FutureWarning,\n"
          ]
        },
        {
          "metadata": {
            "tags": null
          },
          "name": "stdout",
          "output_type": "stream",
          "text": [
            "[CV] END bootstrap=False, max_depth=80, max_features=auto, min_samples_leaf=1, min_samples_split=10, n_estimators=1000; total time= 4.1min\n"
          ]
        },
        {
          "metadata": {
            "tags": null
          },
          "name": "stderr",
          "output_type": "stream",
          "text": [
            "/usr/local/lib/python3.7/dist-packages/sklearn/utils/validation.py:1692: FutureWarning: Feature names only support names that are all strings. Got feature names with dtypes: ['int', 'str']. An error will be raised in 1.2.\n",
            "  FutureWarning,\n",
            "/usr/local/lib/python3.7/dist-packages/sklearn/utils/validation.py:1692: FutureWarning: Feature names only support names that are all strings. Got feature names with dtypes: ['int', 'str']. An error will be raised in 1.2.\n",
            "  FutureWarning,\n"
          ]
        },
        {
          "metadata": {
            "tags": null
          },
          "name": "stdout",
          "output_type": "stream",
          "text": [
            "[CV] END bootstrap=False, max_depth=60, max_features=sqrt, min_samples_leaf=1, min_samples_split=10, n_estimators=400; total time=  35.7s\n"
          ]
        },
        {
          "metadata": {
            "tags": null
          },
          "name": "stderr",
          "output_type": "stream",
          "text": [
            "/usr/local/lib/python3.7/dist-packages/sklearn/utils/validation.py:1692: FutureWarning: Feature names only support names that are all strings. Got feature names with dtypes: ['int', 'str']. An error will be raised in 1.2.\n",
            "  FutureWarning,\n",
            "/usr/local/lib/python3.7/dist-packages/sklearn/utils/validation.py:1692: FutureWarning: Feature names only support names that are all strings. Got feature names with dtypes: ['int', 'str']. An error will be raised in 1.2.\n",
            "  FutureWarning,\n"
          ]
        },
        {
          "metadata": {
            "tags": null
          },
          "name": "stdout",
          "output_type": "stream",
          "text": [
            "[CV] END bootstrap=False, max_depth=60, max_features=sqrt, min_samples_leaf=1, min_samples_split=10, n_estimators=400; total time=  35.7s\n"
          ]
        },
        {
          "metadata": {
            "tags": null
          },
          "name": "stderr",
          "output_type": "stream",
          "text": [
            "/usr/local/lib/python3.7/dist-packages/sklearn/utils/validation.py:1692: FutureWarning: Feature names only support names that are all strings. Got feature names with dtypes: ['int', 'str']. An error will be raised in 1.2.\n",
            "  FutureWarning,\n",
            "/usr/local/lib/python3.7/dist-packages/sklearn/utils/validation.py:1692: FutureWarning: Feature names only support names that are all strings. Got feature names with dtypes: ['int', 'str']. An error will be raised in 1.2.\n",
            "  FutureWarning,\n"
          ]
        },
        {
          "metadata": {
            "tags": null
          },
          "name": "stdout",
          "output_type": "stream",
          "text": [
            "[CV] END bootstrap=False, max_depth=60, max_features=sqrt, min_samples_leaf=1, min_samples_split=10, n_estimators=400; total time=  35.4s\n"
          ]
        },
        {
          "metadata": {
            "tags": null
          },
          "name": "stderr",
          "output_type": "stream",
          "text": [
            "/usr/local/lib/python3.7/dist-packages/sklearn/utils/validation.py:1692: FutureWarning: Feature names only support names that are all strings. Got feature names with dtypes: ['int', 'str']. An error will be raised in 1.2.\n",
            "  FutureWarning,\n",
            "/usr/local/lib/python3.7/dist-packages/sklearn/utils/validation.py:1692: FutureWarning: Feature names only support names that are all strings. Got feature names with dtypes: ['int', 'str']. An error will be raised in 1.2.\n",
            "  FutureWarning,\n"
          ]
        },
        {
          "metadata": {
            "tags": null
          },
          "name": "stdout",
          "output_type": "stream",
          "text": [
            "[CV] END bootstrap=False, max_depth=50, max_features=auto, min_samples_leaf=2, min_samples_split=2, n_estimators=2000; total time= 7.3min\n"
          ]
        },
        {
          "metadata": {
            "tags": null
          },
          "name": "stderr",
          "output_type": "stream",
          "text": [
            "/usr/local/lib/python3.7/dist-packages/sklearn/utils/validation.py:1692: FutureWarning: Feature names only support names that are all strings. Got feature names with dtypes: ['int', 'str']. An error will be raised in 1.2.\n",
            "  FutureWarning,\n",
            "/usr/local/lib/python3.7/dist-packages/sklearn/utils/validation.py:1692: FutureWarning: Feature names only support names that are all strings. Got feature names with dtypes: ['int', 'str']. An error will be raised in 1.2.\n",
            "  FutureWarning,\n"
          ]
        },
        {
          "metadata": {
            "tags": null
          },
          "name": "stdout",
          "output_type": "stream",
          "text": [
            "[CV] END bootstrap=False, max_depth=50, max_features=auto, min_samples_leaf=2, min_samples_split=2, n_estimators=2000; total time= 7.7min\n"
          ]
        },
        {
          "metadata": {
            "tags": null
          },
          "name": "stderr",
          "output_type": "stream",
          "text": [
            "/usr/local/lib/python3.7/dist-packages/sklearn/utils/validation.py:1692: FutureWarning: Feature names only support names that are all strings. Got feature names with dtypes: ['int', 'str']. An error will be raised in 1.2.\n",
            "  FutureWarning,\n",
            "/usr/local/lib/python3.7/dist-packages/sklearn/utils/validation.py:1692: FutureWarning: Feature names only support names that are all strings. Got feature names with dtypes: ['int', 'str']. An error will be raised in 1.2.\n",
            "  FutureWarning,\n"
          ]
        },
        {
          "metadata": {
            "tags": null
          },
          "name": "stdout",
          "output_type": "stream",
          "text": [
            "[CV] END bootstrap=False, max_depth=50, max_features=auto, min_samples_leaf=2, min_samples_split=2, n_estimators=2000; total time= 7.5min\n"
          ]
        },
        {
          "metadata": {
            "tags": null
          },
          "name": "stderr",
          "output_type": "stream",
          "text": [
            "/usr/local/lib/python3.7/dist-packages/sklearn/utils/validation.py:1692: FutureWarning: Feature names only support names that are all strings. Got feature names with dtypes: ['int', 'str']. An error will be raised in 1.2.\n",
            "  FutureWarning,\n",
            "/usr/local/lib/python3.7/dist-packages/sklearn/utils/validation.py:1692: FutureWarning: Feature names only support names that are all strings. Got feature names with dtypes: ['int', 'str']. An error will be raised in 1.2.\n",
            "  FutureWarning,\n"
          ]
        },
        {
          "metadata": {
            "tags": null
          },
          "name": "stdout",
          "output_type": "stream",
          "text": [
            "[CV] END bootstrap=True, max_depth=10, max_features=sqrt, min_samples_leaf=2, min_samples_split=5, n_estimators=200; total time=   9.0s\n"
          ]
        },
        {
          "metadata": {
            "tags": null
          },
          "name": "stderr",
          "output_type": "stream",
          "text": [
            "/usr/local/lib/python3.7/dist-packages/sklearn/utils/validation.py:1692: FutureWarning: Feature names only support names that are all strings. Got feature names with dtypes: ['int', 'str']. An error will be raised in 1.2.\n",
            "  FutureWarning,\n",
            "/usr/local/lib/python3.7/dist-packages/sklearn/utils/validation.py:1692: FutureWarning: Feature names only support names that are all strings. Got feature names with dtypes: ['int', 'str']. An error will be raised in 1.2.\n",
            "  FutureWarning,\n"
          ]
        },
        {
          "metadata": {
            "tags": null
          },
          "name": "stdout",
          "output_type": "stream",
          "text": [
            "[CV] END bootstrap=True, max_depth=10, max_features=sqrt, min_samples_leaf=2, min_samples_split=5, n_estimators=200; total time=   8.8s\n"
          ]
        },
        {
          "metadata": {
            "tags": null
          },
          "name": "stderr",
          "output_type": "stream",
          "text": [
            "/usr/local/lib/python3.7/dist-packages/sklearn/utils/validation.py:1692: FutureWarning: Feature names only support names that are all strings. Got feature names with dtypes: ['int', 'str']. An error will be raised in 1.2.\n",
            "  FutureWarning,\n",
            "/usr/local/lib/python3.7/dist-packages/sklearn/utils/validation.py:1692: FutureWarning: Feature names only support names that are all strings. Got feature names with dtypes: ['int', 'str']. An error will be raised in 1.2.\n",
            "  FutureWarning,\n"
          ]
        },
        {
          "metadata": {
            "tags": null
          },
          "name": "stdout",
          "output_type": "stream",
          "text": [
            "[CV] END bootstrap=True, max_depth=10, max_features=sqrt, min_samples_leaf=2, min_samples_split=5, n_estimators=200; total time=   8.9s\n"
          ]
        },
        {
          "metadata": {
            "tags": null
          },
          "name": "stderr",
          "output_type": "stream",
          "text": [
            "/usr/local/lib/python3.7/dist-packages/sklearn/utils/validation.py:1692: FutureWarning: Feature names only support names that are all strings. Got feature names with dtypes: ['int', 'str']. An error will be raised in 1.2.\n",
            "  FutureWarning,\n",
            "/usr/local/lib/python3.7/dist-packages/sklearn/utils/validation.py:1692: FutureWarning: Feature names only support names that are all strings. Got feature names with dtypes: ['int', 'str']. An error will be raised in 1.2.\n",
            "  FutureWarning,\n"
          ]
        },
        {
          "metadata": {
            "tags": null
          },
          "name": "stdout",
          "output_type": "stream",
          "text": [
            "[CV] END bootstrap=True, max_depth=100, max_features=auto, min_samples_leaf=4, min_samples_split=2, n_estimators=1200; total time= 3.3min\n"
          ]
        },
        {
          "metadata": {
            "tags": null
          },
          "name": "stderr",
          "output_type": "stream",
          "text": [
            "/usr/local/lib/python3.7/dist-packages/sklearn/utils/validation.py:1692: FutureWarning: Feature names only support names that are all strings. Got feature names with dtypes: ['int', 'str']. An error will be raised in 1.2.\n",
            "  FutureWarning,\n",
            "/usr/local/lib/python3.7/dist-packages/sklearn/utils/validation.py:1692: FutureWarning: Feature names only support names that are all strings. Got feature names with dtypes: ['int', 'str']. An error will be raised in 1.2.\n",
            "  FutureWarning,\n"
          ]
        },
        {
          "metadata": {
            "tags": null
          },
          "name": "stdout",
          "output_type": "stream",
          "text": [
            "[CV] END bootstrap=True, max_depth=100, max_features=auto, min_samples_leaf=4, min_samples_split=2, n_estimators=1200; total time= 3.0min\n"
          ]
        },
        {
          "output_type": "stream",
          "name": "stderr",
          "text": [
            "/usr/local/lib/python3.7/dist-packages/sklearn/utils/validation.py:1692: FutureWarning: Feature names only support names that are all strings. Got feature names with dtypes: ['int', 'str']. An error will be raised in 1.2.\n",
            "  FutureWarning,\n",
            "/usr/local/lib/python3.7/dist-packages/sklearn/utils/validation.py:1692: FutureWarning: Feature names only support names that are all strings. Got feature names with dtypes: ['int', 'str']. An error will be raised in 1.2.\n",
            "  FutureWarning,\n"
          ]
        },
        {
          "output_type": "stream",
          "name": "stdout",
          "text": [
            "[CV] END bootstrap=True, max_depth=100, max_features=auto, min_samples_leaf=4, min_samples_split=2, n_estimators=1200; total time= 3.3min\n"
          ]
        },
        {
          "output_type": "stream",
          "name": "stderr",
          "text": [
            "/usr/local/lib/python3.7/dist-packages/sklearn/utils/validation.py:1692: FutureWarning: Feature names only support names that are all strings. Got feature names with dtypes: ['int', 'str']. An error will be raised in 1.2.\n",
            "  FutureWarning,\n",
            "/usr/local/lib/python3.7/dist-packages/sklearn/utils/validation.py:1692: FutureWarning: Feature names only support names that are all strings. Got feature names with dtypes: ['int', 'str']. An error will be raised in 1.2.\n",
            "  FutureWarning,\n"
          ]
        },
        {
          "output_type": "stream",
          "name": "stdout",
          "text": [
            "[CV] END bootstrap=True, max_depth=50, max_features=auto, min_samples_leaf=2, min_samples_split=5, n_estimators=2000; total time= 5.3min\n"
          ]
        },
        {
          "output_type": "stream",
          "name": "stderr",
          "text": [
            "/usr/local/lib/python3.7/dist-packages/sklearn/utils/validation.py:1692: FutureWarning: Feature names only support names that are all strings. Got feature names with dtypes: ['int', 'str']. An error will be raised in 1.2.\n",
            "  FutureWarning,\n",
            "/usr/local/lib/python3.7/dist-packages/sklearn/utils/validation.py:1692: FutureWarning: Feature names only support names that are all strings. Got feature names with dtypes: ['int', 'str']. An error will be raised in 1.2.\n",
            "  FutureWarning,\n"
          ]
        },
        {
          "output_type": "stream",
          "name": "stdout",
          "text": [
            "[CV] END bootstrap=True, max_depth=50, max_features=auto, min_samples_leaf=2, min_samples_split=5, n_estimators=2000; total time= 5.0min\n"
          ]
        },
        {
          "output_type": "stream",
          "name": "stderr",
          "text": [
            "/usr/local/lib/python3.7/dist-packages/sklearn/utils/validation.py:1692: FutureWarning: Feature names only support names that are all strings. Got feature names with dtypes: ['int', 'str']. An error will be raised in 1.2.\n",
            "  FutureWarning,\n",
            "/usr/local/lib/python3.7/dist-packages/sklearn/utils/validation.py:1692: FutureWarning: Feature names only support names that are all strings. Got feature names with dtypes: ['int', 'str']. An error will be raised in 1.2.\n",
            "  FutureWarning,\n"
          ]
        },
        {
          "output_type": "stream",
          "name": "stdout",
          "text": [
            "[CV] END bootstrap=True, max_depth=50, max_features=auto, min_samples_leaf=2, min_samples_split=5, n_estimators=2000; total time= 5.1min\n"
          ]
        },
        {
          "output_type": "stream",
          "name": "stderr",
          "text": [
            "/usr/local/lib/python3.7/dist-packages/sklearn/utils/validation.py:1692: FutureWarning: Feature names only support names that are all strings. Got feature names with dtypes: ['int', 'str']. An error will be raised in 1.2.\n",
            "  FutureWarning,\n"
          ]
        },
        {
          "output_type": "execute_result",
          "data": {
            "text/plain": [
              "RandomizedSearchCV(cv=3,\n",
              "                   estimator=RandomForestRegressor(n_estimators=10,\n",
              "                                                   random_state=69),\n",
              "                   n_jobs=1,\n",
              "                   param_distributions={'bootstrap': [True, False],\n",
              "                                        'max_depth': [10, 20, 30, 40, 50, 60,\n",
              "                                                      70, 80, 90, 100, 110,\n",
              "                                                      None],\n",
              "                                        'max_features': ['auto', 'sqrt'],\n",
              "                                        'min_samples_leaf': [1, 2, 4],\n",
              "                                        'min_samples_split': [2, 5, 10],\n",
              "                                        'n_estimators': [200, 400, 600, 800,\n",
              "                                                         1000, 1200, 1400, 1600,\n",
              "                                                         1800, 2000]},\n",
              "                   random_state=42, verbose=2)"
            ]
          },
          "metadata": {},
          "execution_count": 64
        }
      ],
      "source": [
        "rf_random = RandomizedSearchCV(estimator = model, param_distributions = random_grid, n_iter = 10, cv = 3, verbose=2, random_state=42, n_jobs = 1)\n",
        "rf_random.fit(x_train, y_train)"
      ]
    },
    {
      "cell_type": "code",
      "execution_count": null,
      "metadata": {
        "colab": {
          "base_uri": "https://localhost:8080/"
        },
        "id": "yW0sdOD9ngQx",
        "outputId": "f84ebec0-af92-47b5-9453-d6fa18ee7e56"
      },
      "outputs": [
        {
          "output_type": "stream",
          "name": "stderr",
          "text": [
            "/usr/local/lib/python3.7/dist-packages/sklearn/utils/validation.py:1692: FutureWarning: Feature names only support names that are all strings. Got feature names with dtypes: ['int', 'str']. An error will be raised in 1.2.\n",
            "  FutureWarning,\n",
            "/usr/local/lib/python3.7/dist-packages/sklearn/utils/validation.py:1692: FutureWarning: Feature names only support names that are all strings. Got feature names with dtypes: ['int', 'str']. An error will be raised in 1.2.\n",
            "  FutureWarning,\n",
            "/usr/local/lib/python3.7/dist-packages/sklearn/utils/validation.py:1692: FutureWarning: Feature names only support names that are all strings. Got feature names with dtypes: ['int', 'str']. An error will be raised in 1.2.\n",
            "  FutureWarning,\n"
          ]
        },
        {
          "output_type": "stream",
          "name": "stdout",
          "text": [
            "Model Performance\n",
            "Average Error: 104.0779 degrees.\n",
            "Accuracy = 95.36%.\n",
            "Model Performance\n",
            "Average Error: 103.9588 degrees.\n",
            "Accuracy = 95.36%.\n",
            "Improvement of 0.00%.\n"
          ]
        }
      ],
      "source": [
        "def evaluate(model, test_features, test_labels):\n",
        "    predictions = model.predict(test_features)\n",
        "    errors = abs(predictions - test_labels)\n",
        "    mape = 100 * np.mean(errors / test_labels)\n",
        "    accuracy = 100 - mape\n",
        "    print('Model Performance')\n",
        "    print('Average Error: {:0.4f} degrees.'.format(np.mean(errors)))\n",
        "    print('Accuracy = {:0.2f}%.'.format(accuracy))\n",
        "    \n",
        "    return accuracy\n",
        "\n",
        "\n",
        "base_model = RandomForestRegressor(n_estimators = 10, random_state = 42)\n",
        "base_model.fit(x_train, y_train)\n",
        "base_accuracy = evaluate(base_model, x_test, y_test)\n",
        "\n",
        "best_random = rf_random.best_estimator_\n",
        "random_accuracy = evaluate(best_random, x_test, y_test)\n",
        "\n",
        "print('Improvement of {:0.2f}%.'.format( 100 * (random_accuracy - base_accuracy) / base_accuracy))"
      ]
    },
    {
      "cell_type": "code",
      "source": [
        ""
      ],
      "metadata": {
        "id": "zmD5wl0u4BMP"
      },
      "execution_count": null,
      "outputs": []
    }
  ],
  "metadata": {
    "kernelspec": {
      "display_name": "Python 3.9.12 ('ime672')",
      "language": "python",
      "name": "python3"
    },
    "language_info": {
      "codemirror_mode": {
        "name": "ipython",
        "version": 3
      },
      "file_extension": ".py",
      "mimetype": "text/x-python",
      "name": "python",
      "nbconvert_exporter": "python",
      "pygments_lexer": "ipython3",
      "version": "3.9.12"
    },
    "orig_nbformat": 4,
    "vscode": {
      "interpreter": {
        "hash": "7064147a64a00b8d2c9b5c43958e93567de4a7e276d6703581d82bd59d27948f"
      }
    },
    "colab": {
      "name": "Proj.ipynb",
      "provenance": []
    },
    "accelerator": "GPU",
    "gpuClass": "standard"
  },
  "nbformat": 4,
  "nbformat_minor": 0
}