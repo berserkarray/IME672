{
 "cells": [
  {
   "cell_type": "markdown",
   "metadata": {},
   "source": [
    "<h1>IME672 Group Project<h1>\n",
    "<h3>problem description: predict price for flight tickets using data of Air Tickets Between Shanghai and Beijing<h3>"
   ]
  },
  {
   "cell_type": "code",
   "execution_count": 72,
   "metadata": {},
   "outputs": [],
   "source": [
    "import warnings\n",
    "warnings.filterwarnings('ignore')"
   ]
  },
  {
   "cell_type": "code",
   "execution_count": 73,
   "metadata": {},
   "outputs": [
    {
     "data": {
      "text/html": [
       "<div>\n",
       "<style scoped>\n",
       "    .dataframe tbody tr th:only-of-type {\n",
       "        vertical-align: middle;\n",
       "    }\n",
       "\n",
       "    .dataframe tbody tr th {\n",
       "        vertical-align: top;\n",
       "    }\n",
       "\n",
       "    .dataframe thead th {\n",
       "        text-align: right;\n",
       "    }\n",
       "</style>\n",
       "<table border=\"1\" class=\"dataframe\">\n",
       "  <thead>\n",
       "    <tr style=\"text-align: right;\">\n",
       "      <th></th>\n",
       "      <th>ID</th>\n",
       "      <th>flightNumber</th>\n",
       "      <th>craftTypeCode</th>\n",
       "      <th>depAirport</th>\n",
       "      <th>traAirport</th>\n",
       "      <th>arrAirport</th>\n",
       "      <th>departureDate</th>\n",
       "      <th>arrivalDate</th>\n",
       "      <th>cabinClass</th>\n",
       "      <th>priceClass</th>\n",
       "      <th>price</th>\n",
       "      <th>rate</th>\n",
       "      <th>createDate</th>\n",
       "      <th>dateDifference</th>\n",
       "    </tr>\n",
       "  </thead>\n",
       "  <tbody>\n",
       "    <tr>\n",
       "      <th>0</th>\n",
       "      <td>14393</td>\n",
       "      <td>HO1252</td>\n",
       "      <td>320</td>\n",
       "      <td>PEK</td>\n",
       "      <td>NaN</td>\n",
       "      <td>SHA</td>\n",
       "      <td>2019-01-04 06:35:00</td>\n",
       "      <td>2019-01-04 08:55:00</td>\n",
       "      <td>C</td>\n",
       "      <td>C</td>\n",
       "      <td>1860</td>\n",
       "      <td>1.00</td>\n",
       "      <td>2019-01-03 14:26:15</td>\n",
       "      <td>1</td>\n",
       "    </tr>\n",
       "    <tr>\n",
       "      <th>1</th>\n",
       "      <td>14409</td>\n",
       "      <td>MU5138</td>\n",
       "      <td>33L</td>\n",
       "      <td>PEK</td>\n",
       "      <td>NaN</td>\n",
       "      <td>SHA</td>\n",
       "      <td>2019-01-04 07:00:00</td>\n",
       "      <td>2019-01-04 09:15:00</td>\n",
       "      <td>C</td>\n",
       "      <td>I</td>\n",
       "      <td>1640</td>\n",
       "      <td>0.31</td>\n",
       "      <td>2019-01-03 14:26:15</td>\n",
       "      <td>1</td>\n",
       "    </tr>\n",
       "    <tr>\n",
       "      <th>2</th>\n",
       "      <td>14415</td>\n",
       "      <td>MU5138</td>\n",
       "      <td>33L</td>\n",
       "      <td>PEK</td>\n",
       "      <td>NaN</td>\n",
       "      <td>SHA</td>\n",
       "      <td>2019-01-04 07:00:00</td>\n",
       "      <td>2019-01-04 09:15:00</td>\n",
       "      <td>C</td>\n",
       "      <td>J</td>\n",
       "      <td>5360</td>\n",
       "      <td>1.00</td>\n",
       "      <td>2019-01-03 14:26:15</td>\n",
       "      <td>1</td>\n",
       "    </tr>\n",
       "    <tr>\n",
       "      <th>3</th>\n",
       "      <td>14429</td>\n",
       "      <td>HU7605</td>\n",
       "      <td>350</td>\n",
       "      <td>PEK</td>\n",
       "      <td>NaN</td>\n",
       "      <td>SHA</td>\n",
       "      <td>2019-01-04 07:20:00</td>\n",
       "      <td>2019-01-04 09:35:00</td>\n",
       "      <td>C</td>\n",
       "      <td>I</td>\n",
       "      <td>1635</td>\n",
       "      <td>0.29</td>\n",
       "      <td>2019-01-03 14:26:15</td>\n",
       "      <td>1</td>\n",
       "    </tr>\n",
       "    <tr>\n",
       "      <th>4</th>\n",
       "      <td>14431</td>\n",
       "      <td>HU7605</td>\n",
       "      <td>350</td>\n",
       "      <td>PEK</td>\n",
       "      <td>NaN</td>\n",
       "      <td>SHA</td>\n",
       "      <td>2019-01-04 07:20:00</td>\n",
       "      <td>2019-01-04 09:35:00</td>\n",
       "      <td>C</td>\n",
       "      <td>I</td>\n",
       "      <td>1640</td>\n",
       "      <td>0.29</td>\n",
       "      <td>2019-01-03 14:26:15</td>\n",
       "      <td>1</td>\n",
       "    </tr>\n",
       "    <tr>\n",
       "      <th>5</th>\n",
       "      <td>14433</td>\n",
       "      <td>HU7605</td>\n",
       "      <td>350</td>\n",
       "      <td>PEK</td>\n",
       "      <td>NaN</td>\n",
       "      <td>SHA</td>\n",
       "      <td>2019-01-04 07:20:00</td>\n",
       "      <td>2019-01-04 09:35:00</td>\n",
       "      <td>C</td>\n",
       "      <td>C</td>\n",
       "      <td>5660</td>\n",
       "      <td>1.00</td>\n",
       "      <td>2019-01-03 14:26:15</td>\n",
       "      <td>1</td>\n",
       "    </tr>\n",
       "    <tr>\n",
       "      <th>6</th>\n",
       "      <td>14445</td>\n",
       "      <td>CA1831</td>\n",
       "      <td>773</td>\n",
       "      <td>PEK</td>\n",
       "      <td>NaN</td>\n",
       "      <td>SHA</td>\n",
       "      <td>2019-01-04 07:30:00</td>\n",
       "      <td>2019-01-04 09:35:00</td>\n",
       "      <td>C</td>\n",
       "      <td>R</td>\n",
       "      <td>1860</td>\n",
       "      <td>0.34</td>\n",
       "      <td>2019-01-03 14:26:15</td>\n",
       "      <td>1</td>\n",
       "    </tr>\n",
       "    <tr>\n",
       "      <th>7</th>\n",
       "      <td>14451</td>\n",
       "      <td>CA1831</td>\n",
       "      <td>773</td>\n",
       "      <td>PEK</td>\n",
       "      <td>NaN</td>\n",
       "      <td>SHA</td>\n",
       "      <td>2019-01-04 07:30:00</td>\n",
       "      <td>2019-01-04 09:35:00</td>\n",
       "      <td>C</td>\n",
       "      <td>J</td>\n",
       "      <td>5530</td>\n",
       "      <td>1.00</td>\n",
       "      <td>2019-01-03 14:26:15</td>\n",
       "      <td>1</td>\n",
       "    </tr>\n",
       "    <tr>\n",
       "      <th>8</th>\n",
       "      <td>14488</td>\n",
       "      <td>MU5102</td>\n",
       "      <td>333</td>\n",
       "      <td>PEK</td>\n",
       "      <td>NaN</td>\n",
       "      <td>SHA</td>\n",
       "      <td>2019-01-04 08:00:00</td>\n",
       "      <td>2019-01-04 10:15:00</td>\n",
       "      <td>C</td>\n",
       "      <td>I</td>\n",
       "      <td>1800</td>\n",
       "      <td>0.34</td>\n",
       "      <td>2019-01-03 14:26:15</td>\n",
       "      <td>1</td>\n",
       "    </tr>\n",
       "    <tr>\n",
       "      <th>9</th>\n",
       "      <td>14491</td>\n",
       "      <td>MU5102</td>\n",
       "      <td>333</td>\n",
       "      <td>PEK</td>\n",
       "      <td>NaN</td>\n",
       "      <td>SHA</td>\n",
       "      <td>2019-01-04 08:00:00</td>\n",
       "      <td>2019-01-04 10:15:00</td>\n",
       "      <td>C</td>\n",
       "      <td>J</td>\n",
       "      <td>5360</td>\n",
       "      <td>1.00</td>\n",
       "      <td>2019-01-03 14:26:15</td>\n",
       "      <td>1</td>\n",
       "    </tr>\n",
       "  </tbody>\n",
       "</table>\n",
       "</div>"
      ],
      "text/plain": [
       "      ID flightNumber craftTypeCode depAirport traAirport arrAirport  \\\n",
       "0  14393       HO1252           320        PEK        NaN        SHA   \n",
       "1  14409       MU5138           33L        PEK        NaN        SHA   \n",
       "2  14415       MU5138           33L        PEK        NaN        SHA   \n",
       "3  14429       HU7605           350        PEK        NaN        SHA   \n",
       "4  14431       HU7605           350        PEK        NaN        SHA   \n",
       "5  14433       HU7605           350        PEK        NaN        SHA   \n",
       "6  14445       CA1831           773        PEK        NaN        SHA   \n",
       "7  14451       CA1831           773        PEK        NaN        SHA   \n",
       "8  14488       MU5102           333        PEK        NaN        SHA   \n",
       "9  14491       MU5102           333        PEK        NaN        SHA   \n",
       "\n",
       "         departureDate          arrivalDate cabinClass priceClass  price  \\\n",
       "0  2019-01-04 06:35:00  2019-01-04 08:55:00          C          C   1860   \n",
       "1  2019-01-04 07:00:00  2019-01-04 09:15:00          C          I   1640   \n",
       "2  2019-01-04 07:00:00  2019-01-04 09:15:00          C          J   5360   \n",
       "3  2019-01-04 07:20:00  2019-01-04 09:35:00          C          I   1635   \n",
       "4  2019-01-04 07:20:00  2019-01-04 09:35:00          C          I   1640   \n",
       "5  2019-01-04 07:20:00  2019-01-04 09:35:00          C          C   5660   \n",
       "6  2019-01-04 07:30:00  2019-01-04 09:35:00          C          R   1860   \n",
       "7  2019-01-04 07:30:00  2019-01-04 09:35:00          C          J   5530   \n",
       "8  2019-01-04 08:00:00  2019-01-04 10:15:00          C          I   1800   \n",
       "9  2019-01-04 08:00:00  2019-01-04 10:15:00          C          J   5360   \n",
       "\n",
       "   rate           createDate  dateDifference  \n",
       "0  1.00  2019-01-03 14:26:15               1  \n",
       "1  0.31  2019-01-03 14:26:15               1  \n",
       "2  1.00  2019-01-03 14:26:15               1  \n",
       "3  0.29  2019-01-03 14:26:15               1  \n",
       "4  0.29  2019-01-03 14:26:15               1  \n",
       "5  1.00  2019-01-03 14:26:15               1  \n",
       "6  0.34  2019-01-03 14:26:15               1  \n",
       "7  1.00  2019-01-03 14:26:15               1  \n",
       "8  0.34  2019-01-03 14:26:15               1  \n",
       "9  1.00  2019-01-03 14:26:15               1  "
      ]
     },
     "execution_count": 73,
     "metadata": {},
     "output_type": "execute_result"
    }
   ],
   "source": [
    "import pandas as pd\n",
    "import seaborn as sns\n",
    "import matplotlib.pyplot as plt\n",
    "from scipy.stats import chi2_contingency\n",
    "import researchpy\n",
    "df = pd.read_csv(\"pek-sha.csv\")\n",
    "df.head(10)"
   ]
  },
  {
   "cell_type": "code",
   "execution_count": 74,
   "metadata": {},
   "outputs": [
    {
     "name": "stdout",
     "output_type": "stream",
     "text": [
      "<class 'pandas.core.frame.DataFrame'>\n",
      "RangeIndex: 300336 entries, 0 to 300335\n",
      "Data columns (total 14 columns):\n",
      " #   Column          Non-Null Count   Dtype  \n",
      "---  ------          --------------   -----  \n",
      " 0   ID              300336 non-null  int64  \n",
      " 1   flightNumber    300336 non-null  object \n",
      " 2   craftTypeCode   300336 non-null  object \n",
      " 3   depAirport      300336 non-null  object \n",
      " 4   traAirport      5749 non-null    object \n",
      " 5   arrAirport      300336 non-null  object \n",
      " 6   departureDate   300336 non-null  object \n",
      " 7   arrivalDate     300336 non-null  object \n",
      " 8   cabinClass      300336 non-null  object \n",
      " 9   priceClass      300336 non-null  object \n",
      " 10  price           300336 non-null  int64  \n",
      " 11  rate            300336 non-null  float64\n",
      " 12  createDate      300336 non-null  object \n",
      " 13  dateDifference  300336 non-null  int64  \n",
      "dtypes: float64(1), int64(3), object(10)\n",
      "memory usage: 32.1+ MB\n"
     ]
    }
   ],
   "source": [
    "df.info()"
   ]
  },
  {
   "cell_type": "code",
   "execution_count": 75,
   "metadata": {},
   "outputs": [
    {
     "data": {
      "text/html": [
       "<div>\n",
       "<style scoped>\n",
       "    .dataframe tbody tr th:only-of-type {\n",
       "        vertical-align: middle;\n",
       "    }\n",
       "\n",
       "    .dataframe tbody tr th {\n",
       "        vertical-align: top;\n",
       "    }\n",
       "\n",
       "    .dataframe thead th {\n",
       "        text-align: right;\n",
       "    }\n",
       "</style>\n",
       "<table border=\"1\" class=\"dataframe\">\n",
       "  <thead>\n",
       "    <tr style=\"text-align: right;\">\n",
       "      <th></th>\n",
       "      <th>ID</th>\n",
       "      <th>price</th>\n",
       "      <th>rate</th>\n",
       "      <th>dateDifference</th>\n",
       "    </tr>\n",
       "  </thead>\n",
       "  <tbody>\n",
       "    <tr>\n",
       "      <th>count</th>\n",
       "      <td>3.003360e+05</td>\n",
       "      <td>300336.000000</td>\n",
       "      <td>300336.000000</td>\n",
       "      <td>300336.000000</td>\n",
       "    </tr>\n",
       "    <tr>\n",
       "      <th>mean</th>\n",
       "      <td>3.785370e+07</td>\n",
       "      <td>2209.684696</td>\n",
       "      <td>0.764667</td>\n",
       "      <td>6.682762</td>\n",
       "    </tr>\n",
       "    <tr>\n",
       "      <th>std</th>\n",
       "      <td>2.320571e+07</td>\n",
       "      <td>1755.003424</td>\n",
       "      <td>0.251366</td>\n",
       "      <td>7.501340</td>\n",
       "    </tr>\n",
       "    <tr>\n",
       "      <th>min</th>\n",
       "      <td>1.438400e+04</td>\n",
       "      <td>235.000000</td>\n",
       "      <td>0.000000</td>\n",
       "      <td>1.000000</td>\n",
       "    </tr>\n",
       "    <tr>\n",
       "      <th>25%</th>\n",
       "      <td>1.770736e+07</td>\n",
       "      <td>1005.000000</td>\n",
       "      <td>0.530000</td>\n",
       "      <td>2.000000</td>\n",
       "    </tr>\n",
       "    <tr>\n",
       "      <th>50%</th>\n",
       "      <td>3.718240e+07</td>\n",
       "      <td>1490.000000</td>\n",
       "      <td>0.860000</td>\n",
       "      <td>5.000000</td>\n",
       "    </tr>\n",
       "    <tr>\n",
       "      <th>75%</th>\n",
       "      <td>5.705183e+07</td>\n",
       "      <td>2980.000000</td>\n",
       "      <td>1.000000</td>\n",
       "      <td>7.000000</td>\n",
       "    </tr>\n",
       "    <tr>\n",
       "      <th>max</th>\n",
       "      <td>8.016500e+07</td>\n",
       "      <td>6410.000000</td>\n",
       "      <td>1.000000</td>\n",
       "      <td>30.000000</td>\n",
       "    </tr>\n",
       "  </tbody>\n",
       "</table>\n",
       "</div>"
      ],
      "text/plain": [
       "                 ID          price           rate  dateDifference\n",
       "count  3.003360e+05  300336.000000  300336.000000   300336.000000\n",
       "mean   3.785370e+07    2209.684696       0.764667        6.682762\n",
       "std    2.320571e+07    1755.003424       0.251366        7.501340\n",
       "min    1.438400e+04     235.000000       0.000000        1.000000\n",
       "25%    1.770736e+07    1005.000000       0.530000        2.000000\n",
       "50%    3.718240e+07    1490.000000       0.860000        5.000000\n",
       "75%    5.705183e+07    2980.000000       1.000000        7.000000\n",
       "max    8.016500e+07    6410.000000       1.000000       30.000000"
      ]
     },
     "execution_count": 75,
     "metadata": {},
     "output_type": "execute_result"
    }
   ],
   "source": [
    "# data of flights between beijing to shanghai \n",
    "# traAirport      5749 non-null    object ....|||5749 values???\n",
    "# float64(1), int64(3), object(10) lotta categorical data. drop id,\n",
    "# rate - discount rate\n",
    "# cabinClass: Y = Econ Class, C = Business Class , F = First Class\n",
    "# flightnumber - every other flight should be unique.\n",
    "# craftTypeCode - ICAO aircraft type designators.\n",
    "# depAirport, arrAirport - arrival & departure airport.\n",
    "# traAirport - an airport where an aircraft has made a stopover, which was not specified in the Electronic ticket. if other than layover exists, then planes might have been changed.\n",
    "# dunno what createdate means but,\n",
    "# in a random sample diff between createdate &  departureDate = 2019-03-30 06:35:00 - 2019-02-28 11:35:19 = 30, which is dateDifference. so, inferring that createDate is the day of booking the flight.\n",
    "df.describe()"
   ]
  },
  {
   "cell_type": "code",
   "execution_count": 76,
   "metadata": {},
   "outputs": [
    {
     "data": {
      "text/plain": [
       "2"
      ]
     },
     "execution_count": 76,
     "metadata": {},
     "output_type": "execute_result"
    }
   ],
   "source": [
    "df.traAirport = df.traAirport.fillna('None')\n",
    "df['traAirport'].nunique()"
   ]
  },
  {
   "cell_type": "code",
   "execution_count": 77,
   "metadata": {},
   "outputs": [
    {
     "data": {
      "text/plain": [
       "<AxesSubplot:xlabel='traAirport', ylabel='count'>"
      ]
     },
     "execution_count": 77,
     "metadata": {},
     "output_type": "execute_result"
    },
    {
     "data": {
      "image/png": "[encoded data removed]",
      "text/plain": [
       "<Figure size 432x288 with 1 Axes>"
      ]
     },
     "metadata": {
      "needs_background": "light"
     },
     "output_type": "display_data"
    }
   ],
   "source": [
    "import seaborn as sns\n",
    "sns.countplot(data=df,x=\"traAirport\")"
   ]
  },
  {
   "cell_type": "code",
   "execution_count": 78,
   "metadata": {},
   "outputs": [
    {
     "data": {
      "text/plain": [
       "51"
      ]
     },
     "execution_count": 78,
     "metadata": {},
     "output_type": "execute_result"
    }
   ],
   "source": [
    "##there are only 2 values, either the flight didnt stop for a layover, or stoped at LYA(luoyang)\n",
    "df[\"flightNumber\"].nunique()"
   ]
  },
  {
   "cell_type": "code",
   "execution_count": 79,
   "metadata": {},
   "outputs": [],
   "source": [
    "#51 unique values...hmmm."
   ]
  },
  {
   "cell_type": "code",
   "execution_count": 80,
   "metadata": {},
   "outputs": [
    {
     "data": {
      "text/plain": [
       "33L    59178\n",
       "359    36896\n",
       "333    31163\n",
       "773    28022\n",
       "325    16107\n",
       "738    14067\n",
       "321    11627\n",
       "33A     9174\n",
       "789     7915\n",
       "747     7665\n",
       "32L     7618\n",
       "73E     7546\n",
       "73L     7375\n",
       "73K     6023\n",
       "32A     5422\n",
       "77W     5061\n",
       "330     3995\n",
       "350     3707\n",
       "323     3405\n",
       "338     3001\n",
       "78A     2850\n",
       "331     2806\n",
       "33E     2796\n",
       "744     2459\n",
       "33G     2192\n",
       "33H     1643\n",
       "337     1613\n",
       "320     1267\n",
       "787     1144\n",
       "78B     1106\n",
       "332      925\n",
       "73N      838\n",
       "351      831\n",
       "33W      613\n",
       "336      473\n",
       "319      381\n",
       "73T      361\n",
       "32M      350\n",
       "33C      261\n",
       "73B      251\n",
       "73H      158\n",
       "33B       42\n",
       "73U        7\n",
       "73G        2\n",
       "Name: craftTypeCode, dtype: int64"
      ]
     },
     "execution_count": 80,
     "metadata": {},
     "output_type": "execute_result"
    }
   ],
   "source": [
    "\n",
    "df[\"craftTypeCode\"].value_counts()"
   ]
  },
  {
   "cell_type": "code",
   "execution_count": 81,
   "metadata": {},
   "outputs": [
    {
     "data": {
      "text/plain": [
       "44"
      ]
     },
     "execution_count": 81,
     "metadata": {},
     "output_type": "execute_result"
    }
   ],
   "source": [
    "df[\"craftTypeCode\"].nunique()"
   ]
  },
  {
   "cell_type": "code",
   "execution_count": 82,
   "metadata": {},
   "outputs": [
    {
     "data": {
      "text/plain": [
       "<AxesSubplot:xlabel='price'>"
      ]
     },
     "execution_count": 82,
     "metadata": {},
     "output_type": "execute_result"
    },
    {
     "data": {
      "image/png": "[encoded data removed]",
      "text/plain": [
       "<Figure size 1440x1080 with 1 Axes>"
      ]
     },
     "metadata": {
      "needs_background": "light"
     },
     "output_type": "display_data"
    }
   ],
   "source": [
    "#checking for outliers in the data\n",
    "fig, ax = plt.subplots(figsize=(20, 15))\n",
    "sns.boxplot(data=df,x='price')"
   ]
  },
  {
   "cell_type": "code",
   "execution_count": 83,
   "metadata": {},
   "outputs": [
    {
     "name": "stdout",
     "output_type": "stream",
     "text": [
      "Number of Outliers : 2205\n"
     ]
    }
   ],
   "source": [
    "q1 = df['price'].quantile(0.25)\n",
    "q3 = df['price'].quantile(0.75)\n",
    "IQR = q3 - q1\n",
    "filter = (df['price'] >= q1 - 1.5 * IQR) & (df['price'] <= q3 + 1.5 *IQR)\n",
    "df = df.loc[filter]\n",
    "df.shape\n",
    "print(\"Number of Outliers : 2205\")"
   ]
  },
  {
   "cell_type": "code",
   "execution_count": 84,
   "metadata": {},
   "outputs": [
    {
     "data": {
      "text/plain": [
       "ID                0\n",
       "flightNumber      0\n",
       "craftTypeCode     0\n",
       "depAirport        0\n",
       "traAirport        0\n",
       "arrAirport        0\n",
       "departureDate     0\n",
       "arrivalDate       0\n",
       "cabinClass        0\n",
       "priceClass        0\n",
       "price             0\n",
       "rate              0\n",
       "createDate        0\n",
       "dateDifference    0\n",
       "dtype: int64"
      ]
     },
     "execution_count": 84,
     "metadata": {},
     "output_type": "execute_result"
    }
   ],
   "source": [
    "df[['arrivalDate','departureDate','createDate']] = df[['arrivalDate','departureDate','createDate']].apply(pd.to_datetime)\n",
    "# departureDate should always be after createDate\n",
    "df[df.departureDate < df.createDate].count()\n",
    "#Hence no problem in this case"
   ]
  },
  {
   "cell_type": "code",
   "execution_count": 85,
   "metadata": {},
   "outputs": [
    {
     "data": {
      "text/plain": [
       "ID                0\n",
       "flightNumber      0\n",
       "craftTypeCode     0\n",
       "depAirport        0\n",
       "traAirport        0\n",
       "arrAirport        0\n",
       "departureDate     0\n",
       "arrivalDate       0\n",
       "cabinClass        0\n",
       "priceClass        0\n",
       "price             0\n",
       "rate              0\n",
       "createDate        0\n",
       "dateDifference    0\n",
       "dtype: int64"
      ]
     },
     "execution_count": 85,
     "metadata": {},
     "output_type": "execute_result"
    }
   ],
   "source": [
    "# arrivalDate should always be after departureDate\n",
    "df[df.departureDate > df.arrivalDate].count()\n",
    "#Hence no problem in this case"
   ]
  },
  {
   "cell_type": "code",
   "execution_count": 86,
   "metadata": {},
   "outputs": [
    {
     "name": "stdout",
     "output_type": "stream",
     "text": [
      "1 1\n"
     ]
    }
   ],
   "source": [
    "#checking for anamolies in depAirport & arrAirport, both shoould have only one value.\n",
    "print(df[\"depAirport\"].nunique(),df[\"arrAirport\"].nunique())"
   ]
  },
  {
   "cell_type": "code",
   "execution_count": 87,
   "metadata": {},
   "outputs": [],
   "source": [
    "#so drop depAirport arrAirport id traAirport since they are pretty much useless\n",
    "#can also drop createDate since dateDifference also serves same purpose"
   ]
  },
  {
   "cell_type": "code",
   "execution_count": 88,
   "metadata": {},
   "outputs": [
    {
     "data": {
      "text/html": [
       "<div>\n",
       "<style scoped>\n",
       "    .dataframe tbody tr th:only-of-type {\n",
       "        vertical-align: middle;\n",
       "    }\n",
       "\n",
       "    .dataframe tbody tr th {\n",
       "        vertical-align: top;\n",
       "    }\n",
       "\n",
       "    .dataframe thead th {\n",
       "        text-align: right;\n",
       "    }\n",
       "</style>\n",
       "<table border=\"1\" class=\"dataframe\">\n",
       "  <thead>\n",
       "    <tr style=\"text-align: right;\">\n",
       "      <th></th>\n",
       "      <th>flightNumber</th>\n",
       "      <th>craftTypeCode</th>\n",
       "      <th>traAirport</th>\n",
       "      <th>departureDate</th>\n",
       "      <th>arrivalDate</th>\n",
       "      <th>cabinClass</th>\n",
       "      <th>priceClass</th>\n",
       "      <th>price</th>\n",
       "      <th>rate</th>\n",
       "      <th>dateDifference</th>\n",
       "    </tr>\n",
       "  </thead>\n",
       "  <tbody>\n",
       "    <tr>\n",
       "      <th>0</th>\n",
       "      <td>HO1252</td>\n",
       "      <td>320</td>\n",
       "      <td>None</td>\n",
       "      <td>2019-01-04 06:35:00</td>\n",
       "      <td>2019-01-04 08:55:00</td>\n",
       "      <td>C</td>\n",
       "      <td>C</td>\n",
       "      <td>1860</td>\n",
       "      <td>1.00</td>\n",
       "      <td>1</td>\n",
       "    </tr>\n",
       "    <tr>\n",
       "      <th>1</th>\n",
       "      <td>MU5138</td>\n",
       "      <td>33L</td>\n",
       "      <td>None</td>\n",
       "      <td>2019-01-04 07:00:00</td>\n",
       "      <td>2019-01-04 09:15:00</td>\n",
       "      <td>C</td>\n",
       "      <td>I</td>\n",
       "      <td>1640</td>\n",
       "      <td>0.31</td>\n",
       "      <td>1</td>\n",
       "    </tr>\n",
       "    <tr>\n",
       "      <th>2</th>\n",
       "      <td>MU5138</td>\n",
       "      <td>33L</td>\n",
       "      <td>None</td>\n",
       "      <td>2019-01-04 07:00:00</td>\n",
       "      <td>2019-01-04 09:15:00</td>\n",
       "      <td>C</td>\n",
       "      <td>J</td>\n",
       "      <td>5360</td>\n",
       "      <td>1.00</td>\n",
       "      <td>1</td>\n",
       "    </tr>\n",
       "    <tr>\n",
       "      <th>3</th>\n",
       "      <td>HU7605</td>\n",
       "      <td>350</td>\n",
       "      <td>None</td>\n",
       "      <td>2019-01-04 07:20:00</td>\n",
       "      <td>2019-01-04 09:35:00</td>\n",
       "      <td>C</td>\n",
       "      <td>I</td>\n",
       "      <td>1635</td>\n",
       "      <td>0.29</td>\n",
       "      <td>1</td>\n",
       "    </tr>\n",
       "    <tr>\n",
       "      <th>4</th>\n",
       "      <td>HU7605</td>\n",
       "      <td>350</td>\n",
       "      <td>None</td>\n",
       "      <td>2019-01-04 07:20:00</td>\n",
       "      <td>2019-01-04 09:35:00</td>\n",
       "      <td>C</td>\n",
       "      <td>I</td>\n",
       "      <td>1640</td>\n",
       "      <td>0.29</td>\n",
       "      <td>1</td>\n",
       "    </tr>\n",
       "    <tr>\n",
       "      <th>5</th>\n",
       "      <td>HU7605</td>\n",
       "      <td>350</td>\n",
       "      <td>None</td>\n",
       "      <td>2019-01-04 07:20:00</td>\n",
       "      <td>2019-01-04 09:35:00</td>\n",
       "      <td>C</td>\n",
       "      <td>C</td>\n",
       "      <td>5660</td>\n",
       "      <td>1.00</td>\n",
       "      <td>1</td>\n",
       "    </tr>\n",
       "    <tr>\n",
       "      <th>6</th>\n",
       "      <td>CA1831</td>\n",
       "      <td>773</td>\n",
       "      <td>None</td>\n",
       "      <td>2019-01-04 07:30:00</td>\n",
       "      <td>2019-01-04 09:35:00</td>\n",
       "      <td>C</td>\n",
       "      <td>R</td>\n",
       "      <td>1860</td>\n",
       "      <td>0.34</td>\n",
       "      <td>1</td>\n",
       "    </tr>\n",
       "    <tr>\n",
       "      <th>7</th>\n",
       "      <td>CA1831</td>\n",
       "      <td>773</td>\n",
       "      <td>None</td>\n",
       "      <td>2019-01-04 07:30:00</td>\n",
       "      <td>2019-01-04 09:35:00</td>\n",
       "      <td>C</td>\n",
       "      <td>J</td>\n",
       "      <td>5530</td>\n",
       "      <td>1.00</td>\n",
       "      <td>1</td>\n",
       "    </tr>\n",
       "    <tr>\n",
       "      <th>8</th>\n",
       "      <td>MU5102</td>\n",
       "      <td>333</td>\n",
       "      <td>None</td>\n",
       "      <td>2019-01-04 08:00:00</td>\n",
       "      <td>2019-01-04 10:15:00</td>\n",
       "      <td>C</td>\n",
       "      <td>I</td>\n",
       "      <td>1800</td>\n",
       "      <td>0.34</td>\n",
       "      <td>1</td>\n",
       "    </tr>\n",
       "    <tr>\n",
       "      <th>9</th>\n",
       "      <td>MU5102</td>\n",
       "      <td>333</td>\n",
       "      <td>None</td>\n",
       "      <td>2019-01-04 08:00:00</td>\n",
       "      <td>2019-01-04 10:15:00</td>\n",
       "      <td>C</td>\n",
       "      <td>J</td>\n",
       "      <td>5360</td>\n",
       "      <td>1.00</td>\n",
       "      <td>1</td>\n",
       "    </tr>\n",
       "  </tbody>\n",
       "</table>\n",
       "</div>"
      ],
      "text/plain": [
       "  flightNumber craftTypeCode traAirport       departureDate  \\\n",
       "0       HO1252           320       None 2019-01-04 06:35:00   \n",
       "1       MU5138           33L       None 2019-01-04 07:00:00   \n",
       "2       MU5138           33L       None 2019-01-04 07:00:00   \n",
       "3       HU7605           350       None 2019-01-04 07:20:00   \n",
       "4       HU7605           350       None 2019-01-04 07:20:00   \n",
       "5       HU7605           350       None 2019-01-04 07:20:00   \n",
       "6       CA1831           773       None 2019-01-04 07:30:00   \n",
       "7       CA1831           773       None 2019-01-04 07:30:00   \n",
       "8       MU5102           333       None 2019-01-04 08:00:00   \n",
       "9       MU5102           333       None 2019-01-04 08:00:00   \n",
       "\n",
       "          arrivalDate cabinClass priceClass  price  rate  dateDifference  \n",
       "0 2019-01-04 08:55:00          C          C   1860  1.00               1  \n",
       "1 2019-01-04 09:15:00          C          I   1640  0.31               1  \n",
       "2 2019-01-04 09:15:00          C          J   5360  1.00               1  \n",
       "3 2019-01-04 09:35:00          C          I   1635  0.29               1  \n",
       "4 2019-01-04 09:35:00          C          I   1640  0.29               1  \n",
       "5 2019-01-04 09:35:00          C          C   5660  1.00               1  \n",
       "6 2019-01-04 09:35:00          C          R   1860  0.34               1  \n",
       "7 2019-01-04 09:35:00          C          J   5530  1.00               1  \n",
       "8 2019-01-04 10:15:00          C          I   1800  0.34               1  \n",
       "9 2019-01-04 10:15:00          C          J   5360  1.00               1  "
      ]
     },
     "execution_count": 88,
     "metadata": {},
     "output_type": "execute_result"
    }
   ],
   "source": [
    "df.drop(['ID','depAirport','arrAirport','createDate'], axis = 1, inplace=True)\n",
    "df.head(10)"
   ]
  },
  {
   "cell_type": "code",
   "execution_count": 89,
   "metadata": {},
   "outputs": [],
   "source": [
    "# can add an extra column for difference between departureDate & arrivalDate, that way we wont have to keep these 2 columns.\n",
    "# as they are, it will tough for our model to infer from the datetime values\n",
    "# or we could convert them to sin & cosine values of date & day(cyclic encoding),\n",
    "# or we could simply extract the day of the flight, since flights on weekdays may be cheaper than weekends."
   ]
  },
  {
   "cell_type": "code",
   "execution_count": 90,
   "metadata": {},
   "outputs": [],
   "source": [
    "#df[['arrivalDate','departureDate',]] = df[['arrivalDate','departureDate',]].apply(pd.to_datetime)\n",
    "df['daysaway'] = (df['arrivalDate'] - df['departureDate']).dt.days"
   ]
  },
  {
   "cell_type": "code",
   "execution_count": 91,
   "metadata": {},
   "outputs": [],
   "source": [
    "df['depDay']=df['departureDate'].dt.day_name()\n",
    "df['arrDay']=df['arrivalDate'].dt.day"
   ]
  },
  {
   "cell_type": "code",
   "execution_count": 92,
   "metadata": {},
   "outputs": [
    {
     "data": {
      "text/html": [
       "<div>\n",
       "<style scoped>\n",
       "    .dataframe tbody tr th:only-of-type {\n",
       "        vertical-align: middle;\n",
       "    }\n",
       "\n",
       "    .dataframe tbody tr th {\n",
       "        vertical-align: top;\n",
       "    }\n",
       "\n",
       "    .dataframe thead th {\n",
       "        text-align: right;\n",
       "    }\n",
       "</style>\n",
       "<table border=\"1\" class=\"dataframe\">\n",
       "  <thead>\n",
       "    <tr style=\"text-align: right;\">\n",
       "      <th></th>\n",
       "      <th>flightNumber</th>\n",
       "      <th>craftTypeCode</th>\n",
       "      <th>traAirport</th>\n",
       "      <th>departureDate</th>\n",
       "      <th>arrivalDate</th>\n",
       "      <th>cabinClass</th>\n",
       "      <th>priceClass</th>\n",
       "      <th>price</th>\n",
       "      <th>rate</th>\n",
       "      <th>dateDifference</th>\n",
       "      <th>daysaway</th>\n",
       "      <th>depDay</th>\n",
       "      <th>arrDay</th>\n",
       "    </tr>\n",
       "  </thead>\n",
       "  <tbody>\n",
       "    <tr>\n",
       "      <th>0</th>\n",
       "      <td>HO1252</td>\n",
       "      <td>320</td>\n",
       "      <td>None</td>\n",
       "      <td>2019-01-04 06:35:00</td>\n",
       "      <td>2019-01-04 08:55:00</td>\n",
       "      <td>C</td>\n",
       "      <td>C</td>\n",
       "      <td>1860</td>\n",
       "      <td>1.00</td>\n",
       "      <td>1</td>\n",
       "      <td>0</td>\n",
       "      <td>Friday</td>\n",
       "      <td>4</td>\n",
       "    </tr>\n",
       "    <tr>\n",
       "      <th>1</th>\n",
       "      <td>MU5138</td>\n",
       "      <td>33L</td>\n",
       "      <td>None</td>\n",
       "      <td>2019-01-04 07:00:00</td>\n",
       "      <td>2019-01-04 09:15:00</td>\n",
       "      <td>C</td>\n",
       "      <td>I</td>\n",
       "      <td>1640</td>\n",
       "      <td>0.31</td>\n",
       "      <td>1</td>\n",
       "      <td>0</td>\n",
       "      <td>Friday</td>\n",
       "      <td>4</td>\n",
       "    </tr>\n",
       "    <tr>\n",
       "      <th>2</th>\n",
       "      <td>MU5138</td>\n",
       "      <td>33L</td>\n",
       "      <td>None</td>\n",
       "      <td>2019-01-04 07:00:00</td>\n",
       "      <td>2019-01-04 09:15:00</td>\n",
       "      <td>C</td>\n",
       "      <td>J</td>\n",
       "      <td>5360</td>\n",
       "      <td>1.00</td>\n",
       "      <td>1</td>\n",
       "      <td>0</td>\n",
       "      <td>Friday</td>\n",
       "      <td>4</td>\n",
       "    </tr>\n",
       "    <tr>\n",
       "      <th>3</th>\n",
       "      <td>HU7605</td>\n",
       "      <td>350</td>\n",
       "      <td>None</td>\n",
       "      <td>2019-01-04 07:20:00</td>\n",
       "      <td>2019-01-04 09:35:00</td>\n",
       "      <td>C</td>\n",
       "      <td>I</td>\n",
       "      <td>1635</td>\n",
       "      <td>0.29</td>\n",
       "      <td>1</td>\n",
       "      <td>0</td>\n",
       "      <td>Friday</td>\n",
       "      <td>4</td>\n",
       "    </tr>\n",
       "    <tr>\n",
       "      <th>4</th>\n",
       "      <td>HU7605</td>\n",
       "      <td>350</td>\n",
       "      <td>None</td>\n",
       "      <td>2019-01-04 07:20:00</td>\n",
       "      <td>2019-01-04 09:35:00</td>\n",
       "      <td>C</td>\n",
       "      <td>I</td>\n",
       "      <td>1640</td>\n",
       "      <td>0.29</td>\n",
       "      <td>1</td>\n",
       "      <td>0</td>\n",
       "      <td>Friday</td>\n",
       "      <td>4</td>\n",
       "    </tr>\n",
       "  </tbody>\n",
       "</table>\n",
       "</div>"
      ],
      "text/plain": [
       "  flightNumber craftTypeCode traAirport       departureDate  \\\n",
       "0       HO1252           320       None 2019-01-04 06:35:00   \n",
       "1       MU5138           33L       None 2019-01-04 07:00:00   \n",
       "2       MU5138           33L       None 2019-01-04 07:00:00   \n",
       "3       HU7605           350       None 2019-01-04 07:20:00   \n",
       "4       HU7605           350       None 2019-01-04 07:20:00   \n",
       "\n",
       "          arrivalDate cabinClass priceClass  price  rate  dateDifference  \\\n",
       "0 2019-01-04 08:55:00          C          C   1860  1.00               1   \n",
       "1 2019-01-04 09:15:00          C          I   1640  0.31               1   \n",
       "2 2019-01-04 09:15:00          C          J   5360  1.00               1   \n",
       "3 2019-01-04 09:35:00          C          I   1635  0.29               1   \n",
       "4 2019-01-04 09:35:00          C          I   1640  0.29               1   \n",
       "\n",
       "   daysaway  depDay  arrDay  \n",
       "0         0  Friday       4  \n",
       "1         0  Friday       4  \n",
       "2         0  Friday       4  \n",
       "3         0  Friday       4  \n",
       "4         0  Friday       4  "
      ]
     },
     "execution_count": 92,
     "metadata": {},
     "output_type": "execute_result"
    }
   ],
   "source": [
    "df.head()"
   ]
  },
  {
   "cell_type": "code",
   "execution_count": 93,
   "metadata": {},
   "outputs": [
    {
     "name": "stdout",
     "output_type": "stream",
     "text": [
      "1 7 31\n"
     ]
    }
   ],
   "source": [
    "print(df['daysaway'].nunique(),df[\"depDay\"].nunique(),df[\"arrDay\"].nunique())"
   ]
  },
  {
   "cell_type": "code",
   "execution_count": 94,
   "metadata": {},
   "outputs": [],
   "source": [
    "#so, these are all one day trips, so counting days wont work. lets count seconds\n",
    "df['daysaway'] = (df['arrivalDate'] - df['departureDate']).dt.seconds"
   ]
  },
  {
   "cell_type": "code",
   "execution_count": 95,
   "metadata": {},
   "outputs": [
    {
     "data": {
      "text/html": [
       "<div>\n",
       "<style scoped>\n",
       "    .dataframe tbody tr th:only-of-type {\n",
       "        vertical-align: middle;\n",
       "    }\n",
       "\n",
       "    .dataframe tbody tr th {\n",
       "        vertical-align: top;\n",
       "    }\n",
       "\n",
       "    .dataframe thead th {\n",
       "        text-align: right;\n",
       "    }\n",
       "</style>\n",
       "<table border=\"1\" class=\"dataframe\">\n",
       "  <thead>\n",
       "    <tr style=\"text-align: right;\">\n",
       "      <th></th>\n",
       "      <th>flightNumber</th>\n",
       "      <th>craftTypeCode</th>\n",
       "      <th>traAirport</th>\n",
       "      <th>departureDate</th>\n",
       "      <th>arrivalDate</th>\n",
       "      <th>cabinClass</th>\n",
       "      <th>priceClass</th>\n",
       "      <th>price</th>\n",
       "      <th>rate</th>\n",
       "      <th>dateDifference</th>\n",
       "      <th>daysaway</th>\n",
       "      <th>depDay</th>\n",
       "      <th>arrDay</th>\n",
       "    </tr>\n",
       "  </thead>\n",
       "  <tbody>\n",
       "    <tr>\n",
       "      <th>0</th>\n",
       "      <td>HO1252</td>\n",
       "      <td>320</td>\n",
       "      <td>None</td>\n",
       "      <td>2019-01-04 06:35:00</td>\n",
       "      <td>2019-01-04 08:55:00</td>\n",
       "      <td>C</td>\n",
       "      <td>C</td>\n",
       "      <td>1860</td>\n",
       "      <td>1.00</td>\n",
       "      <td>1</td>\n",
       "      <td>8400</td>\n",
       "      <td>Friday</td>\n",
       "      <td>4</td>\n",
       "    </tr>\n",
       "    <tr>\n",
       "      <th>1</th>\n",
       "      <td>MU5138</td>\n",
       "      <td>33L</td>\n",
       "      <td>None</td>\n",
       "      <td>2019-01-04 07:00:00</td>\n",
       "      <td>2019-01-04 09:15:00</td>\n",
       "      <td>C</td>\n",
       "      <td>I</td>\n",
       "      <td>1640</td>\n",
       "      <td>0.31</td>\n",
       "      <td>1</td>\n",
       "      <td>8100</td>\n",
       "      <td>Friday</td>\n",
       "      <td>4</td>\n",
       "    </tr>\n",
       "    <tr>\n",
       "      <th>2</th>\n",
       "      <td>MU5138</td>\n",
       "      <td>33L</td>\n",
       "      <td>None</td>\n",
       "      <td>2019-01-04 07:00:00</td>\n",
       "      <td>2019-01-04 09:15:00</td>\n",
       "      <td>C</td>\n",
       "      <td>J</td>\n",
       "      <td>5360</td>\n",
       "      <td>1.00</td>\n",
       "      <td>1</td>\n",
       "      <td>8100</td>\n",
       "      <td>Friday</td>\n",
       "      <td>4</td>\n",
       "    </tr>\n",
       "    <tr>\n",
       "      <th>3</th>\n",
       "      <td>HU7605</td>\n",
       "      <td>350</td>\n",
       "      <td>None</td>\n",
       "      <td>2019-01-04 07:20:00</td>\n",
       "      <td>2019-01-04 09:35:00</td>\n",
       "      <td>C</td>\n",
       "      <td>I</td>\n",
       "      <td>1635</td>\n",
       "      <td>0.29</td>\n",
       "      <td>1</td>\n",
       "      <td>8100</td>\n",
       "      <td>Friday</td>\n",
       "      <td>4</td>\n",
       "    </tr>\n",
       "    <tr>\n",
       "      <th>4</th>\n",
       "      <td>HU7605</td>\n",
       "      <td>350</td>\n",
       "      <td>None</td>\n",
       "      <td>2019-01-04 07:20:00</td>\n",
       "      <td>2019-01-04 09:35:00</td>\n",
       "      <td>C</td>\n",
       "      <td>I</td>\n",
       "      <td>1640</td>\n",
       "      <td>0.29</td>\n",
       "      <td>1</td>\n",
       "      <td>8100</td>\n",
       "      <td>Friday</td>\n",
       "      <td>4</td>\n",
       "    </tr>\n",
       "  </tbody>\n",
       "</table>\n",
       "</div>"
      ],
      "text/plain": [
       "  flightNumber craftTypeCode traAirport       departureDate  \\\n",
       "0       HO1252           320       None 2019-01-04 06:35:00   \n",
       "1       MU5138           33L       None 2019-01-04 07:00:00   \n",
       "2       MU5138           33L       None 2019-01-04 07:00:00   \n",
       "3       HU7605           350       None 2019-01-04 07:20:00   \n",
       "4       HU7605           350       None 2019-01-04 07:20:00   \n",
       "\n",
       "          arrivalDate cabinClass priceClass  price  rate  dateDifference  \\\n",
       "0 2019-01-04 08:55:00          C          C   1860  1.00               1   \n",
       "1 2019-01-04 09:15:00          C          I   1640  0.31               1   \n",
       "2 2019-01-04 09:15:00          C          J   5360  1.00               1   \n",
       "3 2019-01-04 09:35:00          C          I   1635  0.29               1   \n",
       "4 2019-01-04 09:35:00          C          I   1640  0.29               1   \n",
       "\n",
       "   daysaway  depDay  arrDay  \n",
       "0      8400  Friday       4  \n",
       "1      8100  Friday       4  \n",
       "2      8100  Friday       4  \n",
       "3      8100  Friday       4  \n",
       "4      8100  Friday       4  "
      ]
     },
     "execution_count": 95,
     "metadata": {},
     "output_type": "execute_result"
    }
   ],
   "source": [
    "df.head()"
   ]
  },
  {
   "cell_type": "code",
   "execution_count": 96,
   "metadata": {},
   "outputs": [],
   "source": [
    "#alright works"
   ]
  },
  {
   "cell_type": "code",
   "execution_count": 97,
   "metadata": {},
   "outputs": [
    {
     "data": {
      "text/html": [
       "<div>\n",
       "<style scoped>\n",
       "    .dataframe tbody tr th:only-of-type {\n",
       "        vertical-align: middle;\n",
       "    }\n",
       "\n",
       "    .dataframe tbody tr th {\n",
       "        vertical-align: top;\n",
       "    }\n",
       "\n",
       "    .dataframe thead th {\n",
       "        text-align: right;\n",
       "    }\n",
       "</style>\n",
       "<table border=\"1\" class=\"dataframe\">\n",
       "  <thead>\n",
       "    <tr style=\"text-align: right;\">\n",
       "      <th></th>\n",
       "      <th>flightNumber</th>\n",
       "      <th>craftTypeCode</th>\n",
       "      <th>traAirport</th>\n",
       "      <th>departureDate</th>\n",
       "      <th>cabinClass</th>\n",
       "      <th>priceClass</th>\n",
       "      <th>price</th>\n",
       "      <th>rate</th>\n",
       "      <th>dateDifference</th>\n",
       "      <th>daysaway</th>\n",
       "      <th>depDay</th>\n",
       "      <th>arrDay</th>\n",
       "    </tr>\n",
       "  </thead>\n",
       "  <tbody>\n",
       "    <tr>\n",
       "      <th>0</th>\n",
       "      <td>HO1252</td>\n",
       "      <td>320</td>\n",
       "      <td>None</td>\n",
       "      <td>2019-01-04 06:35:00</td>\n",
       "      <td>C</td>\n",
       "      <td>C</td>\n",
       "      <td>1860</td>\n",
       "      <td>1.00</td>\n",
       "      <td>1</td>\n",
       "      <td>8400</td>\n",
       "      <td>Friday</td>\n",
       "      <td>4</td>\n",
       "    </tr>\n",
       "    <tr>\n",
       "      <th>1</th>\n",
       "      <td>MU5138</td>\n",
       "      <td>33L</td>\n",
       "      <td>None</td>\n",
       "      <td>2019-01-04 07:00:00</td>\n",
       "      <td>C</td>\n",
       "      <td>I</td>\n",
       "      <td>1640</td>\n",
       "      <td>0.31</td>\n",
       "      <td>1</td>\n",
       "      <td>8100</td>\n",
       "      <td>Friday</td>\n",
       "      <td>4</td>\n",
       "    </tr>\n",
       "    <tr>\n",
       "      <th>2</th>\n",
       "      <td>MU5138</td>\n",
       "      <td>33L</td>\n",
       "      <td>None</td>\n",
       "      <td>2019-01-04 07:00:00</td>\n",
       "      <td>C</td>\n",
       "      <td>J</td>\n",
       "      <td>5360</td>\n",
       "      <td>1.00</td>\n",
       "      <td>1</td>\n",
       "      <td>8100</td>\n",
       "      <td>Friday</td>\n",
       "      <td>4</td>\n",
       "    </tr>\n",
       "    <tr>\n",
       "      <th>3</th>\n",
       "      <td>HU7605</td>\n",
       "      <td>350</td>\n",
       "      <td>None</td>\n",
       "      <td>2019-01-04 07:20:00</td>\n",
       "      <td>C</td>\n",
       "      <td>I</td>\n",
       "      <td>1635</td>\n",
       "      <td>0.29</td>\n",
       "      <td>1</td>\n",
       "      <td>8100</td>\n",
       "      <td>Friday</td>\n",
       "      <td>4</td>\n",
       "    </tr>\n",
       "    <tr>\n",
       "      <th>4</th>\n",
       "      <td>HU7605</td>\n",
       "      <td>350</td>\n",
       "      <td>None</td>\n",
       "      <td>2019-01-04 07:20:00</td>\n",
       "      <td>C</td>\n",
       "      <td>I</td>\n",
       "      <td>1640</td>\n",
       "      <td>0.29</td>\n",
       "      <td>1</td>\n",
       "      <td>8100</td>\n",
       "      <td>Friday</td>\n",
       "      <td>4</td>\n",
       "    </tr>\n",
       "    <tr>\n",
       "      <th>5</th>\n",
       "      <td>HU7605</td>\n",
       "      <td>350</td>\n",
       "      <td>None</td>\n",
       "      <td>2019-01-04 07:20:00</td>\n",
       "      <td>C</td>\n",
       "      <td>C</td>\n",
       "      <td>5660</td>\n",
       "      <td>1.00</td>\n",
       "      <td>1</td>\n",
       "      <td>8100</td>\n",
       "      <td>Friday</td>\n",
       "      <td>4</td>\n",
       "    </tr>\n",
       "    <tr>\n",
       "      <th>6</th>\n",
       "      <td>CA1831</td>\n",
       "      <td>773</td>\n",
       "      <td>None</td>\n",
       "      <td>2019-01-04 07:30:00</td>\n",
       "      <td>C</td>\n",
       "      <td>R</td>\n",
       "      <td>1860</td>\n",
       "      <td>0.34</td>\n",
       "      <td>1</td>\n",
       "      <td>7500</td>\n",
       "      <td>Friday</td>\n",
       "      <td>4</td>\n",
       "    </tr>\n",
       "    <tr>\n",
       "      <th>7</th>\n",
       "      <td>CA1831</td>\n",
       "      <td>773</td>\n",
       "      <td>None</td>\n",
       "      <td>2019-01-04 07:30:00</td>\n",
       "      <td>C</td>\n",
       "      <td>J</td>\n",
       "      <td>5530</td>\n",
       "      <td>1.00</td>\n",
       "      <td>1</td>\n",
       "      <td>7500</td>\n",
       "      <td>Friday</td>\n",
       "      <td>4</td>\n",
       "    </tr>\n",
       "    <tr>\n",
       "      <th>8</th>\n",
       "      <td>MU5102</td>\n",
       "      <td>333</td>\n",
       "      <td>None</td>\n",
       "      <td>2019-01-04 08:00:00</td>\n",
       "      <td>C</td>\n",
       "      <td>I</td>\n",
       "      <td>1800</td>\n",
       "      <td>0.34</td>\n",
       "      <td>1</td>\n",
       "      <td>8100</td>\n",
       "      <td>Friday</td>\n",
       "      <td>4</td>\n",
       "    </tr>\n",
       "    <tr>\n",
       "      <th>9</th>\n",
       "      <td>MU5102</td>\n",
       "      <td>333</td>\n",
       "      <td>None</td>\n",
       "      <td>2019-01-04 08:00:00</td>\n",
       "      <td>C</td>\n",
       "      <td>J</td>\n",
       "      <td>5360</td>\n",
       "      <td>1.00</td>\n",
       "      <td>1</td>\n",
       "      <td>8100</td>\n",
       "      <td>Friday</td>\n",
       "      <td>4</td>\n",
       "    </tr>\n",
       "  </tbody>\n",
       "</table>\n",
       "</div>"
      ],
      "text/plain": [
       "  flightNumber craftTypeCode traAirport       departureDate cabinClass  \\\n",
       "0       HO1252           320       None 2019-01-04 06:35:00          C   \n",
       "1       MU5138           33L       None 2019-01-04 07:00:00          C   \n",
       "2       MU5138           33L       None 2019-01-04 07:00:00          C   \n",
       "3       HU7605           350       None 2019-01-04 07:20:00          C   \n",
       "4       HU7605           350       None 2019-01-04 07:20:00          C   \n",
       "5       HU7605           350       None 2019-01-04 07:20:00          C   \n",
       "6       CA1831           773       None 2019-01-04 07:30:00          C   \n",
       "7       CA1831           773       None 2019-01-04 07:30:00          C   \n",
       "8       MU5102           333       None 2019-01-04 08:00:00          C   \n",
       "9       MU5102           333       None 2019-01-04 08:00:00          C   \n",
       "\n",
       "  priceClass  price  rate  dateDifference  daysaway  depDay  arrDay  \n",
       "0          C   1860  1.00               1      8400  Friday       4  \n",
       "1          I   1640  0.31               1      8100  Friday       4  \n",
       "2          J   5360  1.00               1      8100  Friday       4  \n",
       "3          I   1635  0.29               1      8100  Friday       4  \n",
       "4          I   1640  0.29               1      8100  Friday       4  \n",
       "5          C   5660  1.00               1      8100  Friday       4  \n",
       "6          R   1860  0.34               1      7500  Friday       4  \n",
       "7          J   5530  1.00               1      7500  Friday       4  \n",
       "8          I   1800  0.34               1      8100  Friday       4  \n",
       "9          J   5360  1.00               1      8100  Friday       4  "
      ]
     },
     "execution_count": 97,
     "metadata": {},
     "output_type": "execute_result"
    }
   ],
   "source": [
    "df.drop(['arrivalDate'], axis = 1, inplace=True)\n",
    "df.head(10)"
   ]
  },
  {
   "cell_type": "code",
   "execution_count": 98,
   "metadata": {},
   "outputs": [
    {
     "data": {
      "text/plain": [
       "<AxesSubplot:ylabel='Density'>"
      ]
     },
     "execution_count": 98,
     "metadata": {},
     "output_type": "execute_result"
    },
    {
     "data": {
      "image/png": "[encoded data removed]",
      "text/plain": [
       "<Figure size 720x720 with 1 Axes>"
      ]
     },
     "metadata": {
      "needs_background": "light"
     },
     "output_type": "display_data"
    }
   ],
   "source": [
    "df[\"price\"].plot(kind = \"density\" , figsize = (10,10))"
   ]
  },
  {
   "cell_type": "code",
   "execution_count": 99,
   "metadata": {},
   "outputs": [
    {
     "data": {
      "text/plain": [
       "<AxesSubplot:ylabel='Frequency'>"
      ]
     },
     "execution_count": 99,
     "metadata": {},
     "output_type": "execute_result"
    },
    {
     "data": {
      "image/png": "[encoded data removed]",
      "text/plain": [
       "<Figure size 720x720 with 1 Axes>"
      ]
     },
     "metadata": {
      "needs_background": "light"
     },
     "output_type": "display_data"
    }
   ],
   "source": [
    "df[\"price\"].plot(kind = \"hist\" , figsize = (10,10))"
   ]
  },
  {
   "cell_type": "code",
   "execution_count": 100,
   "metadata": {},
   "outputs": [
    {
     "data": {
      "text/plain": [
       "<AxesSubplot:xlabel='traAirport', ylabel='count'>"
      ]
     },
     "execution_count": 100,
     "metadata": {},
     "output_type": "execute_result"
    },
    {
     "data": {
      "image/png": "[encoded data removed]",
      "text/plain": [
       "<Figure size 432x288 with 1 Axes>"
      ]
     },
     "metadata": {
      "needs_background": "light"
     },
     "output_type": "display_data"
    }
   ],
   "source": [
    "sns.countplot(data=df,x=\"traAirport\")"
   ]
  },
  {
   "cell_type": "code",
   "execution_count": 101,
   "metadata": {},
   "outputs": [
    {
     "data": {
      "text/plain": [
       "None    292382\n",
       "LYA       5749\n",
       "Name: traAirport, dtype: int64"
      ]
     },
     "execution_count": 101,
     "metadata": {},
     "output_type": "execute_result"
    }
   ],
   "source": [
    "df[\"traAirport\"].value_counts() #quite unbalanced"
   ]
  },
  {
   "cell_type": "code",
   "execution_count": 102,
   "metadata": {},
   "outputs": [
    {
     "data": {
      "text/plain": [
       "MU5693    3650\n",
       "MU5390    2099\n",
       "Name: flightNumber, dtype: int64"
      ]
     },
     "execution_count": 102,
     "metadata": {},
     "output_type": "execute_result"
    }
   ],
   "source": [
    "df[df.traAirport == \"LYA\"].flightNumber.value_counts()\n",
    "# Only 2 flights have a transit Airport\n"
   ]
  },
  {
   "cell_type": "code",
   "execution_count": 103,
   "metadata": {},
   "outputs": [
    {
     "data": {
      "text/plain": [
       "<AxesSubplot:xlabel='cabinClass', ylabel='count'>"
      ]
     },
     "execution_count": 103,
     "metadata": {},
     "output_type": "execute_result"
    },
    {
     "data": {
      "image/png": "[encoded data removed]",
      "text/plain": [
       "<Figure size 432x288 with 1 Axes>"
      ]
     },
     "metadata": {
      "needs_background": "light"
     },
     "output_type": "display_data"
    }
   ],
   "source": [
    "sns.countplot(data=df,x=\"cabinClass\")"
   ]
  },
  {
   "cell_type": "code",
   "execution_count": 104,
   "metadata": {},
   "outputs": [
    {
     "data": {
      "image/png": "[encoded data removed]",
      "text/plain": [
       "<Figure size 1440x1080 with 1 Axes>"
      ]
     },
     "metadata": {
      "needs_background": "light"
     },
     "output_type": "display_data"
    }
   ],
   "source": [
    "fig, ax = plt.subplots(figsize=(20, 15))\n",
    "sns.countplot(data=df,x=\"priceClass\")\n",
    "plt.show()"
   ]
  },
  {
   "cell_type": "code",
   "execution_count": 105,
   "metadata": {},
   "outputs": [
    {
     "name": "stdout",
     "output_type": "stream",
     "text": [
      "2 3 4 1 3\n"
     ]
    }
   ],
   "source": [
    "# are BZ, XC, MC, NZ, VZ empty ?\n",
    "print(df['priceClass'].value_counts()['BZ'],df['priceClass'].value_counts()['XC'],df['priceClass'].value_counts()['MC'],df['priceClass'].value_counts()['NZ'],df['priceClass'].value_counts()['VZ'])"
   ]
  },
  {
   "cell_type": "code",
   "execution_count": 106,
   "metadata": {},
   "outputs": [
    {
     "data": {
      "text/plain": [
       "<AxesSubplot:xlabel='craftTypeCode', ylabel='count'>"
      ]
     },
     "execution_count": 106,
     "metadata": {},
     "output_type": "execute_result"
    },
    {
     "data": {
      "image/png": "[encoded data removed]",
      "text/plain": [
       "<Figure size 1440x1080 with 1 Axes>"
      ]
     },
     "metadata": {
      "needs_background": "light"
     },
     "output_type": "display_data"
    }
   ],
   "source": [
    "#NO, they are very less in number.\n",
    "fig, ax = plt.subplots(figsize=(20, 15))\n",
    "sns.countplot(data=df,x='craftTypeCode')"
   ]
  },
  {
   "cell_type": "code",
   "execution_count": 107,
   "metadata": {},
   "outputs": [
    {
     "data": {
      "text/plain": [
       "<AxesSubplot:xlabel='flightNumber', ylabel='count'>"
      ]
     },
     "execution_count": 107,
     "metadata": {},
     "output_type": "execute_result"
    },
    {
     "data": {
      "image/png": "[encoded data removed]",
      "text/plain": [
       "<Figure size 2880x1080 with 1 Axes>"
      ]
     },
     "metadata": {
      "needs_background": "light"
     },
     "output_type": "display_data"
    }
   ],
   "source": [
    "#33L is the most occuring aircraft code\n",
    "fig, ax = plt.subplots(figsize=(40, 15))\n",
    "sns.countplot(data=df,x='flightNumber')"
   ]
  },
  {
   "cell_type": "code",
   "execution_count": 108,
   "metadata": {},
   "outputs": [
    {
     "data": {
      "text/html": [
       "<div>\n",
       "<style scoped>\n",
       "    .dataframe tbody tr th:only-of-type {\n",
       "        vertical-align: middle;\n",
       "    }\n",
       "\n",
       "    .dataframe tbody tr th {\n",
       "        vertical-align: top;\n",
       "    }\n",
       "\n",
       "    .dataframe thead th {\n",
       "        text-align: right;\n",
       "    }\n",
       "</style>\n",
       "<table border=\"1\" class=\"dataframe\">\n",
       "  <thead>\n",
       "    <tr style=\"text-align: right;\">\n",
       "      <th></th>\n",
       "      <th>price</th>\n",
       "      <th>rate</th>\n",
       "      <th>dateDifference</th>\n",
       "      <th>daysaway</th>\n",
       "      <th>arrDay</th>\n",
       "    </tr>\n",
       "  </thead>\n",
       "  <tbody>\n",
       "    <tr>\n",
       "      <th>price</th>\n",
       "      <td>1.000000</td>\n",
       "      <td>0.430178</td>\n",
       "      <td>-0.052950</td>\n",
       "      <td>-0.057445</td>\n",
       "      <td>0.025186</td>\n",
       "    </tr>\n",
       "    <tr>\n",
       "      <th>rate</th>\n",
       "      <td>0.430178</td>\n",
       "      <td>1.000000</td>\n",
       "      <td>-0.021908</td>\n",
       "      <td>-0.060896</td>\n",
       "      <td>0.060926</td>\n",
       "    </tr>\n",
       "    <tr>\n",
       "      <th>dateDifference</th>\n",
       "      <td>-0.052950</td>\n",
       "      <td>-0.021908</td>\n",
       "      <td>1.000000</td>\n",
       "      <td>0.007318</td>\n",
       "      <td>0.005487</td>\n",
       "    </tr>\n",
       "    <tr>\n",
       "      <th>daysaway</th>\n",
       "      <td>-0.057445</td>\n",
       "      <td>-0.060896</td>\n",
       "      <td>0.007318</td>\n",
       "      <td>1.000000</td>\n",
       "      <td>0.005867</td>\n",
       "    </tr>\n",
       "    <tr>\n",
       "      <th>arrDay</th>\n",
       "      <td>0.025186</td>\n",
       "      <td>0.060926</td>\n",
       "      <td>0.005487</td>\n",
       "      <td>0.005867</td>\n",
       "      <td>1.000000</td>\n",
       "    </tr>\n",
       "  </tbody>\n",
       "</table>\n",
       "</div>"
      ],
      "text/plain": [
       "                   price      rate  dateDifference  daysaway    arrDay\n",
       "price           1.000000  0.430178       -0.052950 -0.057445  0.025186\n",
       "rate            0.430178  1.000000       -0.021908 -0.060896  0.060926\n",
       "dateDifference -0.052950 -0.021908        1.000000  0.007318  0.005487\n",
       "daysaway       -0.057445 -0.060896        0.007318  1.000000  0.005867\n",
       "arrDay          0.025186  0.060926        0.005487  0.005867  1.000000"
      ]
     },
     "execution_count": 108,
     "metadata": {},
     "output_type": "execute_result"
    }
   ],
   "source": [
    "df.corr()"
   ]
  },
  {
   "cell_type": "code",
   "execution_count": 109,
   "metadata": {},
   "outputs": [
    {
     "data": {
      "text/html": [
       "<style type=\"text/css\">\n",
       "#T_7a35f_row0_col0, #T_7a35f_row1_col1, #T_7a35f_row2_col2, #T_7a35f_row3_col3, #T_7a35f_row4_col4 {\n",
       "  background-color: #b40426;\n",
       "  color: #f1f1f1;\n",
       "}\n",
       "#T_7a35f_row0_col1, #T_7a35f_row1_col0 {\n",
       "  background-color: #d3dbe7;\n",
       "  color: #000000;\n",
       "}\n",
       "#T_7a35f_row0_col2, #T_7a35f_row0_col3, #T_7a35f_row1_col3, #T_7a35f_row2_col4, #T_7a35f_row3_col0, #T_7a35f_row3_col1, #T_7a35f_row3_col4 {\n",
       "  background-color: #3b4cc0;\n",
       "  color: #f1f1f1;\n",
       "}\n",
       "#T_7a35f_row0_col4 {\n",
       "  background-color: #4055c8;\n",
       "  color: #f1f1f1;\n",
       "}\n",
       "#T_7a35f_row1_col2 {\n",
       "  background-color: #4358cb;\n",
       "  color: #f1f1f1;\n",
       "}\n",
       "#T_7a35f_row1_col4, #T_7a35f_row3_col2, #T_7a35f_row4_col2 {\n",
       "  background-color: #4b64d5;\n",
       "  color: #f1f1f1;\n",
       "}\n",
       "#T_7a35f_row2_col0 {\n",
       "  background-color: #3c4ec2;\n",
       "  color: #f1f1f1;\n",
       "}\n",
       "#T_7a35f_row2_col1 {\n",
       "  background-color: #455cce;\n",
       "  color: #f1f1f1;\n",
       "}\n",
       "#T_7a35f_row2_col3, #T_7a35f_row4_col3 {\n",
       "  background-color: #4e68d8;\n",
       "  color: #f1f1f1;\n",
       "}\n",
       "#T_7a35f_row4_col0 {\n",
       "  background-color: #536edd;\n",
       "  color: #f1f1f1;\n",
       "}\n",
       "#T_7a35f_row4_col1 {\n",
       "  background-color: #5e7de7;\n",
       "  color: #f1f1f1;\n",
       "}\n",
       "</style>\n",
       "<table id=\"T_7a35f\">\n",
       "  <thead>\n",
       "    <tr>\n",
       "      <th class=\"blank level0\" >&nbsp;</th>\n",
       "      <th id=\"T_7a35f_level0_col0\" class=\"col_heading level0 col0\" >price</th>\n",
       "      <th id=\"T_7a35f_level0_col1\" class=\"col_heading level0 col1\" >rate</th>\n",
       "      <th id=\"T_7a35f_level0_col2\" class=\"col_heading level0 col2\" >dateDifference</th>\n",
       "      <th id=\"T_7a35f_level0_col3\" class=\"col_heading level0 col3\" >daysaway</th>\n",
       "      <th id=\"T_7a35f_level0_col4\" class=\"col_heading level0 col4\" >arrDay</th>\n",
       "    </tr>\n",
       "  </thead>\n",
       "  <tbody>\n",
       "    <tr>\n",
       "      <th id=\"T_7a35f_level0_row0\" class=\"row_heading level0 row0\" >price</th>\n",
       "      <td id=\"T_7a35f_row0_col0\" class=\"data row0 col0\" >1.000000</td>\n",
       "      <td id=\"T_7a35f_row0_col1\" class=\"data row0 col1\" >0.430178</td>\n",
       "      <td id=\"T_7a35f_row0_col2\" class=\"data row0 col2\" >-0.052950</td>\n",
       "      <td id=\"T_7a35f_row0_col3\" class=\"data row0 col3\" >-0.057445</td>\n",
       "      <td id=\"T_7a35f_row0_col4\" class=\"data row0 col4\" >0.025186</td>\n",
       "    </tr>\n",
       "    <tr>\n",
       "      <th id=\"T_7a35f_level0_row1\" class=\"row_heading level0 row1\" >rate</th>\n",
       "      <td id=\"T_7a35f_row1_col0\" class=\"data row1 col0\" >0.430178</td>\n",
       "      <td id=\"T_7a35f_row1_col1\" class=\"data row1 col1\" >1.000000</td>\n",
       "      <td id=\"T_7a35f_row1_col2\" class=\"data row1 col2\" >-0.021908</td>\n",
       "      <td id=\"T_7a35f_row1_col3\" class=\"data row1 col3\" >-0.060896</td>\n",
       "      <td id=\"T_7a35f_row1_col4\" class=\"data row1 col4\" >0.060926</td>\n",
       "    </tr>\n",
       "    <tr>\n",
       "      <th id=\"T_7a35f_level0_row2\" class=\"row_heading level0 row2\" >dateDifference</th>\n",
       "      <td id=\"T_7a35f_row2_col0\" class=\"data row2 col0\" >-0.052950</td>\n",
       "      <td id=\"T_7a35f_row2_col1\" class=\"data row2 col1\" >-0.021908</td>\n",
       "      <td id=\"T_7a35f_row2_col2\" class=\"data row2 col2\" >1.000000</td>\n",
       "      <td id=\"T_7a35f_row2_col3\" class=\"data row2 col3\" >0.007318</td>\n",
       "      <td id=\"T_7a35f_row2_col4\" class=\"data row2 col4\" >0.005487</td>\n",
       "    </tr>\n",
       "    <tr>\n",
       "      <th id=\"T_7a35f_level0_row3\" class=\"row_heading level0 row3\" >daysaway</th>\n",
       "      <td id=\"T_7a35f_row3_col0\" class=\"data row3 col0\" >-0.057445</td>\n",
       "      <td id=\"T_7a35f_row3_col1\" class=\"data row3 col1\" >-0.060896</td>\n",
       "      <td id=\"T_7a35f_row3_col2\" class=\"data row3 col2\" >0.007318</td>\n",
       "      <td id=\"T_7a35f_row3_col3\" class=\"data row3 col3\" >1.000000</td>\n",
       "      <td id=\"T_7a35f_row3_col4\" class=\"data row3 col4\" >0.005867</td>\n",
       "    </tr>\n",
       "    <tr>\n",
       "      <th id=\"T_7a35f_level0_row4\" class=\"row_heading level0 row4\" >arrDay</th>\n",
       "      <td id=\"T_7a35f_row4_col0\" class=\"data row4 col0\" >0.025186</td>\n",
       "      <td id=\"T_7a35f_row4_col1\" class=\"data row4 col1\" >0.060926</td>\n",
       "      <td id=\"T_7a35f_row4_col2\" class=\"data row4 col2\" >0.005487</td>\n",
       "      <td id=\"T_7a35f_row4_col3\" class=\"data row4 col3\" >0.005867</td>\n",
       "      <td id=\"T_7a35f_row4_col4\" class=\"data row4 col4\" >1.000000</td>\n",
       "    </tr>\n",
       "  </tbody>\n",
       "</table>\n"
      ],
      "text/plain": [
       "<pandas.io.formats.style.Styler at 0x1754bcad4f0>"
      ]
     },
     "execution_count": 109,
     "metadata": {},
     "output_type": "execute_result"
    }
   ],
   "source": [
    "df.corr().style.background_gradient(cmap='coolwarm')"
   ]
  },
  {
   "cell_type": "code",
   "execution_count": 110,
   "metadata": {},
   "outputs": [],
   "source": [
    "#pretty bad, im still confused as to what rate & price means? is ||price=original_ticket_value*rate|| or ||original_ticket_value = price * rate||"
   ]
  },
  {
   "cell_type": "code",
   "execution_count": 111,
   "metadata": {},
   "outputs": [
    {
     "data": {
      "text/plain": [
       "<AxesSubplot:xlabel='Cabin Class', ylabel='Mean Price'>"
      ]
     },
     "execution_count": 111,
     "metadata": {},
     "output_type": "execute_result"
    },
    {
     "data": {
      "image/png": "[encoded data removed]",
      "text/plain": [
       "<Figure size 432x360 with 1 Axes>"
      ]
     },
     "metadata": {
      "needs_background": "light"
     },
     "output_type": "display_data"
    }
   ],
   "source": [
    "dfg = df.groupby(\"cabinClass\").price.mean()\n",
    "dfg.plot(kind='bar', ylabel='Mean Price',\n",
    "         xlabel='Cabin Class', figsize=(6, 5))"
   ]
  },
  {
   "cell_type": "code",
   "execution_count": 112,
   "metadata": {},
   "outputs": [
    {
     "data": {
      "text/plain": [
       "<AxesSubplot:xlabel='Price Class', ylabel='Mean Price'>"
      ]
     },
     "execution_count": 112,
     "metadata": {},
     "output_type": "execute_result"
    },
    {
     "data": {
      "image/png": "[encoded data removed]",
      "text/plain": [
       "<Figure size 1440x1440 with 1 Axes>"
      ]
     },
     "metadata": {
      "needs_background": "light"
     },
     "output_type": "display_data"
    }
   ],
   "source": [
    "dfg = df.groupby(\"priceClass\").price.mean()\n",
    "dfg.plot(kind='bar', ylabel='Mean Price',\n",
    "         xlabel='Price Class', figsize=(20, 20))"
   ]
  },
  {
   "cell_type": "code",
   "execution_count": 113,
   "metadata": {},
   "outputs": [
    {
     "data": {
      "text/plain": [
       "<AxesSubplot:xlabel='Craft Type', ylabel='Mean Price'>"
      ]
     },
     "execution_count": 113,
     "metadata": {},
     "output_type": "execute_result"
    },
    {
     "data": {
      "image/png": "[encoded data removed]",
      "text/plain": [
       "<Figure size 1440x1440 with 1 Axes>"
      ]
     },
     "metadata": {
      "needs_background": "light"
     },
     "output_type": "display_data"
    }
   ],
   "source": [
    "dfg = df.groupby(\"craftTypeCode\").price.mean()\n",
    "dfg.plot(kind='bar', ylabel='Mean Price',\n",
    "         xlabel='Craft Type', figsize=(20, 20))"
   ]
  },
  {
   "cell_type": "code",
   "execution_count": 114,
   "metadata": {},
   "outputs": [
    {
     "data": {
      "image/png": "[encoded data removed]",
      "text/plain": [
       "<Figure size 1440x720 with 2 Axes>"
      ]
     },
     "metadata": {
      "needs_background": "light"
     },
     "output_type": "display_data"
    }
   ],
   "source": [
    "from dython import nominal\n",
    "# the called method uses * Pearson's R for continuous-continuous cases * Correlation Ratio for categorical-continuous cases * Cramer's V or Theil's U for categorical-categorical cases\n",
    "nominal.associations(df,figsize=(20,10),mark_columns=True);"
   ]
  },
  {
   "cell_type": "code",
   "execution_count": 115,
   "metadata": {},
   "outputs": [],
   "source": [
    "# most correlated attributes are cabinClass, priceClass, rate \n",
    "df1 = df[['cabinClass', 'priceClass']]"
   ]
  },
  {
   "cell_type": "code",
   "execution_count": 116,
   "metadata": {},
   "outputs": [],
   "source": [
    "from sklearn.preprocessing import OneHotEncoder\n",
    "ohe = OneHotEncoder()\n",
    "df1_ohedone = pd.DataFrame(ohe.fit_transform(df1).toarray())"
   ]
  },
  {
   "cell_type": "code",
   "execution_count": 117,
   "metadata": {},
   "outputs": [
    {
     "data": {
      "text/plain": [
       "[array(['C', 'F', 'Y'], dtype=object),\n",
       " array(['A', 'B', 'BZ', 'C', 'D', 'E', 'F', 'G', 'H', 'I', 'J', 'K', 'L',\n",
       "        'M', 'M1', 'MC', 'N', 'NZ', 'P', 'Q', 'R', 'S', 'S1', 'T', 'U',\n",
       "        'V', 'VZ', 'W', 'X', 'XC', 'Y', 'Z'], dtype=object)]"
      ]
     },
     "execution_count": 117,
     "metadata": {},
     "output_type": "execute_result"
    }
   ],
   "source": [
    "ohe.categories_"
   ]
  },
  {
   "cell_type": "code",
   "execution_count": 118,
   "metadata": {},
   "outputs": [],
   "source": [
    "df = df.join(df1_ohedone)"
   ]
  },
  {
   "cell_type": "code",
   "execution_count": 119,
   "metadata": {},
   "outputs": [
    {
     "data": {
      "text/html": [
       "<div>\n",
       "<style scoped>\n",
       "    .dataframe tbody tr th:only-of-type {\n",
       "        vertical-align: middle;\n",
       "    }\n",
       "\n",
       "    .dataframe tbody tr th {\n",
       "        vertical-align: top;\n",
       "    }\n",
       "\n",
       "    .dataframe thead th {\n",
       "        text-align: right;\n",
       "    }\n",
       "</style>\n",
       "<table border=\"1\" class=\"dataframe\">\n",
       "  <thead>\n",
       "    <tr style=\"text-align: right;\">\n",
       "      <th></th>\n",
       "      <th>flightNumber</th>\n",
       "      <th>craftTypeCode</th>\n",
       "      <th>traAirport</th>\n",
       "      <th>departureDate</th>\n",
       "      <th>cabinClass</th>\n",
       "      <th>priceClass</th>\n",
       "      <th>price</th>\n",
       "      <th>rate</th>\n",
       "      <th>dateDifference</th>\n",
       "      <th>daysaway</th>\n",
       "      <th>...</th>\n",
       "      <th>25</th>\n",
       "      <th>26</th>\n",
       "      <th>27</th>\n",
       "      <th>28</th>\n",
       "      <th>29</th>\n",
       "      <th>30</th>\n",
       "      <th>31</th>\n",
       "      <th>32</th>\n",
       "      <th>33</th>\n",
       "      <th>34</th>\n",
       "    </tr>\n",
       "  </thead>\n",
       "  <tbody>\n",
       "    <tr>\n",
       "      <th>0</th>\n",
       "      <td>HO1252</td>\n",
       "      <td>320</td>\n",
       "      <td>None</td>\n",
       "      <td>2019-01-04 06:35:00</td>\n",
       "      <td>C</td>\n",
       "      <td>C</td>\n",
       "      <td>1860</td>\n",
       "      <td>1.00</td>\n",
       "      <td>1</td>\n",
       "      <td>8400</td>\n",
       "      <td>...</td>\n",
       "      <td>0.0</td>\n",
       "      <td>0.0</td>\n",
       "      <td>0.0</td>\n",
       "      <td>0.0</td>\n",
       "      <td>0.0</td>\n",
       "      <td>0.0</td>\n",
       "      <td>0.0</td>\n",
       "      <td>0.0</td>\n",
       "      <td>0.0</td>\n",
       "      <td>0.0</td>\n",
       "    </tr>\n",
       "    <tr>\n",
       "      <th>1</th>\n",
       "      <td>MU5138</td>\n",
       "      <td>33L</td>\n",
       "      <td>None</td>\n",
       "      <td>2019-01-04 07:00:00</td>\n",
       "      <td>C</td>\n",
       "      <td>I</td>\n",
       "      <td>1640</td>\n",
       "      <td>0.31</td>\n",
       "      <td>1</td>\n",
       "      <td>8100</td>\n",
       "      <td>...</td>\n",
       "      <td>0.0</td>\n",
       "      <td>0.0</td>\n",
       "      <td>0.0</td>\n",
       "      <td>0.0</td>\n",
       "      <td>0.0</td>\n",
       "      <td>0.0</td>\n",
       "      <td>0.0</td>\n",
       "      <td>0.0</td>\n",
       "      <td>0.0</td>\n",
       "      <td>0.0</td>\n",
       "    </tr>\n",
       "    <tr>\n",
       "      <th>2</th>\n",
       "      <td>MU5138</td>\n",
       "      <td>33L</td>\n",
       "      <td>None</td>\n",
       "      <td>2019-01-04 07:00:00</td>\n",
       "      <td>C</td>\n",
       "      <td>J</td>\n",
       "      <td>5360</td>\n",
       "      <td>1.00</td>\n",
       "      <td>1</td>\n",
       "      <td>8100</td>\n",
       "      <td>...</td>\n",
       "      <td>0.0</td>\n",
       "      <td>0.0</td>\n",
       "      <td>0.0</td>\n",
       "      <td>0.0</td>\n",
       "      <td>0.0</td>\n",
       "      <td>0.0</td>\n",
       "      <td>0.0</td>\n",
       "      <td>0.0</td>\n",
       "      <td>0.0</td>\n",
       "      <td>0.0</td>\n",
       "    </tr>\n",
       "    <tr>\n",
       "      <th>3</th>\n",
       "      <td>HU7605</td>\n",
       "      <td>350</td>\n",
       "      <td>None</td>\n",
       "      <td>2019-01-04 07:20:00</td>\n",
       "      <td>C</td>\n",
       "      <td>I</td>\n",
       "      <td>1635</td>\n",
       "      <td>0.29</td>\n",
       "      <td>1</td>\n",
       "      <td>8100</td>\n",
       "      <td>...</td>\n",
       "      <td>0.0</td>\n",
       "      <td>0.0</td>\n",
       "      <td>0.0</td>\n",
       "      <td>0.0</td>\n",
       "      <td>0.0</td>\n",
       "      <td>0.0</td>\n",
       "      <td>0.0</td>\n",
       "      <td>0.0</td>\n",
       "      <td>0.0</td>\n",
       "      <td>0.0</td>\n",
       "    </tr>\n",
       "    <tr>\n",
       "      <th>4</th>\n",
       "      <td>HU7605</td>\n",
       "      <td>350</td>\n",
       "      <td>None</td>\n",
       "      <td>2019-01-04 07:20:00</td>\n",
       "      <td>C</td>\n",
       "      <td>I</td>\n",
       "      <td>1640</td>\n",
       "      <td>0.29</td>\n",
       "      <td>1</td>\n",
       "      <td>8100</td>\n",
       "      <td>...</td>\n",
       "      <td>0.0</td>\n",
       "      <td>0.0</td>\n",
       "      <td>0.0</td>\n",
       "      <td>0.0</td>\n",
       "      <td>0.0</td>\n",
       "      <td>0.0</td>\n",
       "      <td>0.0</td>\n",
       "      <td>0.0</td>\n",
       "      <td>0.0</td>\n",
       "      <td>0.0</td>\n",
       "    </tr>\n",
       "    <tr>\n",
       "      <th>5</th>\n",
       "      <td>HU7605</td>\n",
       "      <td>350</td>\n",
       "      <td>None</td>\n",
       "      <td>2019-01-04 07:20:00</td>\n",
       "      <td>C</td>\n",
       "      <td>C</td>\n",
       "      <td>5660</td>\n",
       "      <td>1.00</td>\n",
       "      <td>1</td>\n",
       "      <td>8100</td>\n",
       "      <td>...</td>\n",
       "      <td>0.0</td>\n",
       "      <td>0.0</td>\n",
       "      <td>0.0</td>\n",
       "      <td>0.0</td>\n",
       "      <td>0.0</td>\n",
       "      <td>0.0</td>\n",
       "      <td>0.0</td>\n",
       "      <td>0.0</td>\n",
       "      <td>0.0</td>\n",
       "      <td>0.0</td>\n",
       "    </tr>\n",
       "    <tr>\n",
       "      <th>6</th>\n",
       "      <td>CA1831</td>\n",
       "      <td>773</td>\n",
       "      <td>None</td>\n",
       "      <td>2019-01-04 07:30:00</td>\n",
       "      <td>C</td>\n",
       "      <td>R</td>\n",
       "      <td>1860</td>\n",
       "      <td>0.34</td>\n",
       "      <td>1</td>\n",
       "      <td>7500</td>\n",
       "      <td>...</td>\n",
       "      <td>0.0</td>\n",
       "      <td>0.0</td>\n",
       "      <td>0.0</td>\n",
       "      <td>0.0</td>\n",
       "      <td>0.0</td>\n",
       "      <td>0.0</td>\n",
       "      <td>0.0</td>\n",
       "      <td>0.0</td>\n",
       "      <td>0.0</td>\n",
       "      <td>0.0</td>\n",
       "    </tr>\n",
       "    <tr>\n",
       "      <th>7</th>\n",
       "      <td>CA1831</td>\n",
       "      <td>773</td>\n",
       "      <td>None</td>\n",
       "      <td>2019-01-04 07:30:00</td>\n",
       "      <td>C</td>\n",
       "      <td>J</td>\n",
       "      <td>5530</td>\n",
       "      <td>1.00</td>\n",
       "      <td>1</td>\n",
       "      <td>7500</td>\n",
       "      <td>...</td>\n",
       "      <td>0.0</td>\n",
       "      <td>0.0</td>\n",
       "      <td>0.0</td>\n",
       "      <td>0.0</td>\n",
       "      <td>0.0</td>\n",
       "      <td>0.0</td>\n",
       "      <td>0.0</td>\n",
       "      <td>0.0</td>\n",
       "      <td>0.0</td>\n",
       "      <td>0.0</td>\n",
       "    </tr>\n",
       "    <tr>\n",
       "      <th>8</th>\n",
       "      <td>MU5102</td>\n",
       "      <td>333</td>\n",
       "      <td>None</td>\n",
       "      <td>2019-01-04 08:00:00</td>\n",
       "      <td>C</td>\n",
       "      <td>I</td>\n",
       "      <td>1800</td>\n",
       "      <td>0.34</td>\n",
       "      <td>1</td>\n",
       "      <td>8100</td>\n",
       "      <td>...</td>\n",
       "      <td>0.0</td>\n",
       "      <td>0.0</td>\n",
       "      <td>0.0</td>\n",
       "      <td>0.0</td>\n",
       "      <td>0.0</td>\n",
       "      <td>0.0</td>\n",
       "      <td>0.0</td>\n",
       "      <td>0.0</td>\n",
       "      <td>0.0</td>\n",
       "      <td>0.0</td>\n",
       "    </tr>\n",
       "    <tr>\n",
       "      <th>9</th>\n",
       "      <td>MU5102</td>\n",
       "      <td>333</td>\n",
       "      <td>None</td>\n",
       "      <td>2019-01-04 08:00:00</td>\n",
       "      <td>C</td>\n",
       "      <td>J</td>\n",
       "      <td>5360</td>\n",
       "      <td>1.00</td>\n",
       "      <td>1</td>\n",
       "      <td>8100</td>\n",
       "      <td>...</td>\n",
       "      <td>0.0</td>\n",
       "      <td>0.0</td>\n",
       "      <td>0.0</td>\n",
       "      <td>0.0</td>\n",
       "      <td>0.0</td>\n",
       "      <td>0.0</td>\n",
       "      <td>0.0</td>\n",
       "      <td>0.0</td>\n",
       "      <td>0.0</td>\n",
       "      <td>0.0</td>\n",
       "    </tr>\n",
       "  </tbody>\n",
       "</table>\n",
       "<p>10 rows × 47 columns</p>\n",
       "</div>"
      ],
      "text/plain": [
       "  flightNumber craftTypeCode traAirport       departureDate cabinClass  \\\n",
       "0       HO1252           320       None 2019-01-04 06:35:00          C   \n",
       "1       MU5138           33L       None 2019-01-04 07:00:00          C   \n",
       "2       MU5138           33L       None 2019-01-04 07:00:00          C   \n",
       "3       HU7605           350       None 2019-01-04 07:20:00          C   \n",
       "4       HU7605           350       None 2019-01-04 07:20:00          C   \n",
       "5       HU7605           350       None 2019-01-04 07:20:00          C   \n",
       "6       CA1831           773       None 2019-01-04 07:30:00          C   \n",
       "7       CA1831           773       None 2019-01-04 07:30:00          C   \n",
       "8       MU5102           333       None 2019-01-04 08:00:00          C   \n",
       "9       MU5102           333       None 2019-01-04 08:00:00          C   \n",
       "\n",
       "  priceClass  price  rate  dateDifference  daysaway  ...   25   26   27   28  \\\n",
       "0          C   1860  1.00               1      8400  ...  0.0  0.0  0.0  0.0   \n",
       "1          I   1640  0.31               1      8100  ...  0.0  0.0  0.0  0.0   \n",
       "2          J   5360  1.00               1      8100  ...  0.0  0.0  0.0  0.0   \n",
       "3          I   1635  0.29               1      8100  ...  0.0  0.0  0.0  0.0   \n",
       "4          I   1640  0.29               1      8100  ...  0.0  0.0  0.0  0.0   \n",
       "5          C   5660  1.00               1      8100  ...  0.0  0.0  0.0  0.0   \n",
       "6          R   1860  0.34               1      7500  ...  0.0  0.0  0.0  0.0   \n",
       "7          J   5530  1.00               1      7500  ...  0.0  0.0  0.0  0.0   \n",
       "8          I   1800  0.34               1      8100  ...  0.0  0.0  0.0  0.0   \n",
       "9          J   5360  1.00               1      8100  ...  0.0  0.0  0.0  0.0   \n",
       "\n",
       "    29   30   31   32   33   34  \n",
       "0  0.0  0.0  0.0  0.0  0.0  0.0  \n",
       "1  0.0  0.0  0.0  0.0  0.0  0.0  \n",
       "2  0.0  0.0  0.0  0.0  0.0  0.0  \n",
       "3  0.0  0.0  0.0  0.0  0.0  0.0  \n",
       "4  0.0  0.0  0.0  0.0  0.0  0.0  \n",
       "5  0.0  0.0  0.0  0.0  0.0  0.0  \n",
       "6  0.0  0.0  0.0  0.0  0.0  0.0  \n",
       "7  0.0  0.0  0.0  0.0  0.0  0.0  \n",
       "8  0.0  0.0  0.0  0.0  0.0  0.0  \n",
       "9  0.0  0.0  0.0  0.0  0.0  0.0  \n",
       "\n",
       "[10 rows x 47 columns]"
      ]
     },
     "execution_count": 119,
     "metadata": {},
     "output_type": "execute_result"
    }
   ],
   "source": [
    "df.head(10)"
   ]
  },
  {
   "cell_type": "code",
   "execution_count": 120,
   "metadata": {},
   "outputs": [],
   "source": [
    "df2 = df.copy()"
   ]
  },
  {
   "cell_type": "code",
   "execution_count": 121,
   "metadata": {},
   "outputs": [
    {
     "data": {
      "text/html": [
       "<div>\n",
       "<style scoped>\n",
       "    .dataframe tbody tr th:only-of-type {\n",
       "        vertical-align: middle;\n",
       "    }\n",
       "\n",
       "    .dataframe tbody tr th {\n",
       "        vertical-align: top;\n",
       "    }\n",
       "\n",
       "    .dataframe thead th {\n",
       "        text-align: right;\n",
       "    }\n",
       "</style>\n",
       "<table border=\"1\" class=\"dataframe\">\n",
       "  <thead>\n",
       "    <tr style=\"text-align: right;\">\n",
       "      <th></th>\n",
       "      <th>flightNumber</th>\n",
       "      <th>craftTypeCode</th>\n",
       "      <th>traAirport</th>\n",
       "      <th>departureDate</th>\n",
       "      <th>cabinClass</th>\n",
       "      <th>priceClass</th>\n",
       "      <th>price</th>\n",
       "      <th>rate</th>\n",
       "      <th>dateDifference</th>\n",
       "      <th>daysaway</th>\n",
       "      <th>...</th>\n",
       "      <th>25</th>\n",
       "      <th>26</th>\n",
       "      <th>27</th>\n",
       "      <th>28</th>\n",
       "      <th>29</th>\n",
       "      <th>30</th>\n",
       "      <th>31</th>\n",
       "      <th>32</th>\n",
       "      <th>33</th>\n",
       "      <th>34</th>\n",
       "    </tr>\n",
       "  </thead>\n",
       "  <tbody>\n",
       "    <tr>\n",
       "      <th>0</th>\n",
       "      <td>HO1252</td>\n",
       "      <td>320</td>\n",
       "      <td>None</td>\n",
       "      <td>2019-01-04 06:35:00</td>\n",
       "      <td>C</td>\n",
       "      <td>C</td>\n",
       "      <td>1860</td>\n",
       "      <td>1.00</td>\n",
       "      <td>1</td>\n",
       "      <td>8400</td>\n",
       "      <td>...</td>\n",
       "      <td>0.0</td>\n",
       "      <td>0.0</td>\n",
       "      <td>0.0</td>\n",
       "      <td>0.0</td>\n",
       "      <td>0.0</td>\n",
       "      <td>0.0</td>\n",
       "      <td>0.0</td>\n",
       "      <td>0.0</td>\n",
       "      <td>0.0</td>\n",
       "      <td>0.0</td>\n",
       "    </tr>\n",
       "    <tr>\n",
       "      <th>1</th>\n",
       "      <td>MU5138</td>\n",
       "      <td>33L</td>\n",
       "      <td>None</td>\n",
       "      <td>2019-01-04 07:00:00</td>\n",
       "      <td>C</td>\n",
       "      <td>I</td>\n",
       "      <td>1640</td>\n",
       "      <td>0.31</td>\n",
       "      <td>1</td>\n",
       "      <td>8100</td>\n",
       "      <td>...</td>\n",
       "      <td>0.0</td>\n",
       "      <td>0.0</td>\n",
       "      <td>0.0</td>\n",
       "      <td>0.0</td>\n",
       "      <td>0.0</td>\n",
       "      <td>0.0</td>\n",
       "      <td>0.0</td>\n",
       "      <td>0.0</td>\n",
       "      <td>0.0</td>\n",
       "      <td>0.0</td>\n",
       "    </tr>\n",
       "    <tr>\n",
       "      <th>2</th>\n",
       "      <td>MU5138</td>\n",
       "      <td>33L</td>\n",
       "      <td>None</td>\n",
       "      <td>2019-01-04 07:00:00</td>\n",
       "      <td>C</td>\n",
       "      <td>J</td>\n",
       "      <td>5360</td>\n",
       "      <td>1.00</td>\n",
       "      <td>1</td>\n",
       "      <td>8100</td>\n",
       "      <td>...</td>\n",
       "      <td>0.0</td>\n",
       "      <td>0.0</td>\n",
       "      <td>0.0</td>\n",
       "      <td>0.0</td>\n",
       "      <td>0.0</td>\n",
       "      <td>0.0</td>\n",
       "      <td>0.0</td>\n",
       "      <td>0.0</td>\n",
       "      <td>0.0</td>\n",
       "      <td>0.0</td>\n",
       "    </tr>\n",
       "    <tr>\n",
       "      <th>3</th>\n",
       "      <td>HU7605</td>\n",
       "      <td>350</td>\n",
       "      <td>None</td>\n",
       "      <td>2019-01-04 07:20:00</td>\n",
       "      <td>C</td>\n",
       "      <td>I</td>\n",
       "      <td>1635</td>\n",
       "      <td>0.29</td>\n",
       "      <td>1</td>\n",
       "      <td>8100</td>\n",
       "      <td>...</td>\n",
       "      <td>0.0</td>\n",
       "      <td>0.0</td>\n",
       "      <td>0.0</td>\n",
       "      <td>0.0</td>\n",
       "      <td>0.0</td>\n",
       "      <td>0.0</td>\n",
       "      <td>0.0</td>\n",
       "      <td>0.0</td>\n",
       "      <td>0.0</td>\n",
       "      <td>0.0</td>\n",
       "    </tr>\n",
       "    <tr>\n",
       "      <th>4</th>\n",
       "      <td>HU7605</td>\n",
       "      <td>350</td>\n",
       "      <td>None</td>\n",
       "      <td>2019-01-04 07:20:00</td>\n",
       "      <td>C</td>\n",
       "      <td>I</td>\n",
       "      <td>1640</td>\n",
       "      <td>0.29</td>\n",
       "      <td>1</td>\n",
       "      <td>8100</td>\n",
       "      <td>...</td>\n",
       "      <td>0.0</td>\n",
       "      <td>0.0</td>\n",
       "      <td>0.0</td>\n",
       "      <td>0.0</td>\n",
       "      <td>0.0</td>\n",
       "      <td>0.0</td>\n",
       "      <td>0.0</td>\n",
       "      <td>0.0</td>\n",
       "      <td>0.0</td>\n",
       "      <td>0.0</td>\n",
       "    </tr>\n",
       "  </tbody>\n",
       "</table>\n",
       "<p>5 rows × 47 columns</p>\n",
       "</div>"
      ],
      "text/plain": [
       "  flightNumber craftTypeCode traAirport       departureDate cabinClass  \\\n",
       "0       HO1252           320       None 2019-01-04 06:35:00          C   \n",
       "1       MU5138           33L       None 2019-01-04 07:00:00          C   \n",
       "2       MU5138           33L       None 2019-01-04 07:00:00          C   \n",
       "3       HU7605           350       None 2019-01-04 07:20:00          C   \n",
       "4       HU7605           350       None 2019-01-04 07:20:00          C   \n",
       "\n",
       "  priceClass  price  rate  dateDifference  daysaway  ...   25   26   27   28  \\\n",
       "0          C   1860  1.00               1      8400  ...  0.0  0.0  0.0  0.0   \n",
       "1          I   1640  0.31               1      8100  ...  0.0  0.0  0.0  0.0   \n",
       "2          J   5360  1.00               1      8100  ...  0.0  0.0  0.0  0.0   \n",
       "3          I   1635  0.29               1      8100  ...  0.0  0.0  0.0  0.0   \n",
       "4          I   1640  0.29               1      8100  ...  0.0  0.0  0.0  0.0   \n",
       "\n",
       "    29   30   31   32   33   34  \n",
       "0  0.0  0.0  0.0  0.0  0.0  0.0  \n",
       "1  0.0  0.0  0.0  0.0  0.0  0.0  \n",
       "2  0.0  0.0  0.0  0.0  0.0  0.0  \n",
       "3  0.0  0.0  0.0  0.0  0.0  0.0  \n",
       "4  0.0  0.0  0.0  0.0  0.0  0.0  \n",
       "\n",
       "[5 rows x 47 columns]"
      ]
     },
     "execution_count": 121,
     "metadata": {},
     "output_type": "execute_result"
    }
   ],
   "source": [
    "df2.head()"
   ]
  },
  {
   "cell_type": "code",
   "execution_count": 122,
   "metadata": {},
   "outputs": [],
   "source": [
    "df2.dropna(inplace= True)"
   ]
  },
  {
   "cell_type": "code",
   "execution_count": 123,
   "metadata": {},
   "outputs": [],
   "source": [
    "#cabinClass, priceClass, rate \n",
    "df2.drop(['flightNumber','craftTypeCode','traAirport','departureDate','dateDifference','daysaway','depDay','arrDay','cabinClass','priceClass'], axis = 1, inplace=True)"
   ]
  },
  {
   "cell_type": "code",
   "execution_count": 124,
   "metadata": {},
   "outputs": [
    {
     "data": {
      "text/html": [
       "<div>\n",
       "<style scoped>\n",
       "    .dataframe tbody tr th:only-of-type {\n",
       "        vertical-align: middle;\n",
       "    }\n",
       "\n",
       "    .dataframe tbody tr th {\n",
       "        vertical-align: top;\n",
       "    }\n",
       "\n",
       "    .dataframe thead th {\n",
       "        text-align: right;\n",
       "    }\n",
       "</style>\n",
       "<table border=\"1\" class=\"dataframe\">\n",
       "  <thead>\n",
       "    <tr style=\"text-align: right;\">\n",
       "      <th></th>\n",
       "      <th>price</th>\n",
       "      <th>rate</th>\n",
       "      <th>0</th>\n",
       "      <th>1</th>\n",
       "      <th>2</th>\n",
       "      <th>3</th>\n",
       "      <th>4</th>\n",
       "      <th>5</th>\n",
       "      <th>6</th>\n",
       "      <th>7</th>\n",
       "      <th>...</th>\n",
       "      <th>25</th>\n",
       "      <th>26</th>\n",
       "      <th>27</th>\n",
       "      <th>28</th>\n",
       "      <th>29</th>\n",
       "      <th>30</th>\n",
       "      <th>31</th>\n",
       "      <th>32</th>\n",
       "      <th>33</th>\n",
       "      <th>34</th>\n",
       "    </tr>\n",
       "  </thead>\n",
       "  <tbody>\n",
       "    <tr>\n",
       "      <th>0</th>\n",
       "      <td>1860</td>\n",
       "      <td>1.00</td>\n",
       "      <td>1.0</td>\n",
       "      <td>0.0</td>\n",
       "      <td>0.0</td>\n",
       "      <td>0.0</td>\n",
       "      <td>0.0</td>\n",
       "      <td>0.0</td>\n",
       "      <td>1.0</td>\n",
       "      <td>0.0</td>\n",
       "      <td>...</td>\n",
       "      <td>0.0</td>\n",
       "      <td>0.0</td>\n",
       "      <td>0.0</td>\n",
       "      <td>0.0</td>\n",
       "      <td>0.0</td>\n",
       "      <td>0.0</td>\n",
       "      <td>0.0</td>\n",
       "      <td>0.0</td>\n",
       "      <td>0.0</td>\n",
       "      <td>0.0</td>\n",
       "    </tr>\n",
       "    <tr>\n",
       "      <th>1</th>\n",
       "      <td>1640</td>\n",
       "      <td>0.31</td>\n",
       "      <td>1.0</td>\n",
       "      <td>0.0</td>\n",
       "      <td>0.0</td>\n",
       "      <td>0.0</td>\n",
       "      <td>0.0</td>\n",
       "      <td>0.0</td>\n",
       "      <td>0.0</td>\n",
       "      <td>0.0</td>\n",
       "      <td>...</td>\n",
       "      <td>0.0</td>\n",
       "      <td>0.0</td>\n",
       "      <td>0.0</td>\n",
       "      <td>0.0</td>\n",
       "      <td>0.0</td>\n",
       "      <td>0.0</td>\n",
       "      <td>0.0</td>\n",
       "      <td>0.0</td>\n",
       "      <td>0.0</td>\n",
       "      <td>0.0</td>\n",
       "    </tr>\n",
       "    <tr>\n",
       "      <th>2</th>\n",
       "      <td>5360</td>\n",
       "      <td>1.00</td>\n",
       "      <td>1.0</td>\n",
       "      <td>0.0</td>\n",
       "      <td>0.0</td>\n",
       "      <td>0.0</td>\n",
       "      <td>0.0</td>\n",
       "      <td>0.0</td>\n",
       "      <td>0.0</td>\n",
       "      <td>0.0</td>\n",
       "      <td>...</td>\n",
       "      <td>0.0</td>\n",
       "      <td>0.0</td>\n",
       "      <td>0.0</td>\n",
       "      <td>0.0</td>\n",
       "      <td>0.0</td>\n",
       "      <td>0.0</td>\n",
       "      <td>0.0</td>\n",
       "      <td>0.0</td>\n",
       "      <td>0.0</td>\n",
       "      <td>0.0</td>\n",
       "    </tr>\n",
       "    <tr>\n",
       "      <th>3</th>\n",
       "      <td>1635</td>\n",
       "      <td>0.29</td>\n",
       "      <td>1.0</td>\n",
       "      <td>0.0</td>\n",
       "      <td>0.0</td>\n",
       "      <td>0.0</td>\n",
       "      <td>0.0</td>\n",
       "      <td>0.0</td>\n",
       "      <td>0.0</td>\n",
       "      <td>0.0</td>\n",
       "      <td>...</td>\n",
       "      <td>0.0</td>\n",
       "      <td>0.0</td>\n",
       "      <td>0.0</td>\n",
       "      <td>0.0</td>\n",
       "      <td>0.0</td>\n",
       "      <td>0.0</td>\n",
       "      <td>0.0</td>\n",
       "      <td>0.0</td>\n",
       "      <td>0.0</td>\n",
       "      <td>0.0</td>\n",
       "    </tr>\n",
       "    <tr>\n",
       "      <th>4</th>\n",
       "      <td>1640</td>\n",
       "      <td>0.29</td>\n",
       "      <td>1.0</td>\n",
       "      <td>0.0</td>\n",
       "      <td>0.0</td>\n",
       "      <td>0.0</td>\n",
       "      <td>0.0</td>\n",
       "      <td>0.0</td>\n",
       "      <td>0.0</td>\n",
       "      <td>0.0</td>\n",
       "      <td>...</td>\n",
       "      <td>0.0</td>\n",
       "      <td>0.0</td>\n",
       "      <td>0.0</td>\n",
       "      <td>0.0</td>\n",
       "      <td>0.0</td>\n",
       "      <td>0.0</td>\n",
       "      <td>0.0</td>\n",
       "      <td>0.0</td>\n",
       "      <td>0.0</td>\n",
       "      <td>0.0</td>\n",
       "    </tr>\n",
       "    <tr>\n",
       "      <th>5</th>\n",
       "      <td>5660</td>\n",
       "      <td>1.00</td>\n",
       "      <td>1.0</td>\n",
       "      <td>0.0</td>\n",
       "      <td>0.0</td>\n",
       "      <td>0.0</td>\n",
       "      <td>0.0</td>\n",
       "      <td>0.0</td>\n",
       "      <td>1.0</td>\n",
       "      <td>0.0</td>\n",
       "      <td>...</td>\n",
       "      <td>0.0</td>\n",
       "      <td>0.0</td>\n",
       "      <td>0.0</td>\n",
       "      <td>0.0</td>\n",
       "      <td>0.0</td>\n",
       "      <td>0.0</td>\n",
       "      <td>0.0</td>\n",
       "      <td>0.0</td>\n",
       "      <td>0.0</td>\n",
       "      <td>0.0</td>\n",
       "    </tr>\n",
       "    <tr>\n",
       "      <th>6</th>\n",
       "      <td>1860</td>\n",
       "      <td>0.34</td>\n",
       "      <td>1.0</td>\n",
       "      <td>0.0</td>\n",
       "      <td>0.0</td>\n",
       "      <td>0.0</td>\n",
       "      <td>0.0</td>\n",
       "      <td>0.0</td>\n",
       "      <td>0.0</td>\n",
       "      <td>0.0</td>\n",
       "      <td>...</td>\n",
       "      <td>0.0</td>\n",
       "      <td>0.0</td>\n",
       "      <td>0.0</td>\n",
       "      <td>0.0</td>\n",
       "      <td>0.0</td>\n",
       "      <td>0.0</td>\n",
       "      <td>0.0</td>\n",
       "      <td>0.0</td>\n",
       "      <td>0.0</td>\n",
       "      <td>0.0</td>\n",
       "    </tr>\n",
       "    <tr>\n",
       "      <th>7</th>\n",
       "      <td>5530</td>\n",
       "      <td>1.00</td>\n",
       "      <td>1.0</td>\n",
       "      <td>0.0</td>\n",
       "      <td>0.0</td>\n",
       "      <td>0.0</td>\n",
       "      <td>0.0</td>\n",
       "      <td>0.0</td>\n",
       "      <td>0.0</td>\n",
       "      <td>0.0</td>\n",
       "      <td>...</td>\n",
       "      <td>0.0</td>\n",
       "      <td>0.0</td>\n",
       "      <td>0.0</td>\n",
       "      <td>0.0</td>\n",
       "      <td>0.0</td>\n",
       "      <td>0.0</td>\n",
       "      <td>0.0</td>\n",
       "      <td>0.0</td>\n",
       "      <td>0.0</td>\n",
       "      <td>0.0</td>\n",
       "    </tr>\n",
       "    <tr>\n",
       "      <th>8</th>\n",
       "      <td>1800</td>\n",
       "      <td>0.34</td>\n",
       "      <td>1.0</td>\n",
       "      <td>0.0</td>\n",
       "      <td>0.0</td>\n",
       "      <td>0.0</td>\n",
       "      <td>0.0</td>\n",
       "      <td>0.0</td>\n",
       "      <td>0.0</td>\n",
       "      <td>0.0</td>\n",
       "      <td>...</td>\n",
       "      <td>0.0</td>\n",
       "      <td>0.0</td>\n",
       "      <td>0.0</td>\n",
       "      <td>0.0</td>\n",
       "      <td>0.0</td>\n",
       "      <td>0.0</td>\n",
       "      <td>0.0</td>\n",
       "      <td>0.0</td>\n",
       "      <td>0.0</td>\n",
       "      <td>0.0</td>\n",
       "    </tr>\n",
       "    <tr>\n",
       "      <th>9</th>\n",
       "      <td>5360</td>\n",
       "      <td>1.00</td>\n",
       "      <td>1.0</td>\n",
       "      <td>0.0</td>\n",
       "      <td>0.0</td>\n",
       "      <td>0.0</td>\n",
       "      <td>0.0</td>\n",
       "      <td>0.0</td>\n",
       "      <td>0.0</td>\n",
       "      <td>0.0</td>\n",
       "      <td>...</td>\n",
       "      <td>0.0</td>\n",
       "      <td>0.0</td>\n",
       "      <td>0.0</td>\n",
       "      <td>0.0</td>\n",
       "      <td>0.0</td>\n",
       "      <td>0.0</td>\n",
       "      <td>0.0</td>\n",
       "      <td>0.0</td>\n",
       "      <td>0.0</td>\n",
       "      <td>0.0</td>\n",
       "    </tr>\n",
       "  </tbody>\n",
       "</table>\n",
       "<p>10 rows × 37 columns</p>\n",
       "</div>"
      ],
      "text/plain": [
       "   price  rate    0    1    2    3    4    5    6    7  ...   25   26   27  \\\n",
       "0   1860  1.00  1.0  0.0  0.0  0.0  0.0  0.0  1.0  0.0  ...  0.0  0.0  0.0   \n",
       "1   1640  0.31  1.0  0.0  0.0  0.0  0.0  0.0  0.0  0.0  ...  0.0  0.0  0.0   \n",
       "2   5360  1.00  1.0  0.0  0.0  0.0  0.0  0.0  0.0  0.0  ...  0.0  0.0  0.0   \n",
       "3   1635  0.29  1.0  0.0  0.0  0.0  0.0  0.0  0.0  0.0  ...  0.0  0.0  0.0   \n",
       "4   1640  0.29  1.0  0.0  0.0  0.0  0.0  0.0  0.0  0.0  ...  0.0  0.0  0.0   \n",
       "5   5660  1.00  1.0  0.0  0.0  0.0  0.0  0.0  1.0  0.0  ...  0.0  0.0  0.0   \n",
       "6   1860  0.34  1.0  0.0  0.0  0.0  0.0  0.0  0.0  0.0  ...  0.0  0.0  0.0   \n",
       "7   5530  1.00  1.0  0.0  0.0  0.0  0.0  0.0  0.0  0.0  ...  0.0  0.0  0.0   \n",
       "8   1800  0.34  1.0  0.0  0.0  0.0  0.0  0.0  0.0  0.0  ...  0.0  0.0  0.0   \n",
       "9   5360  1.00  1.0  0.0  0.0  0.0  0.0  0.0  0.0  0.0  ...  0.0  0.0  0.0   \n",
       "\n",
       "    28   29   30   31   32   33   34  \n",
       "0  0.0  0.0  0.0  0.0  0.0  0.0  0.0  \n",
       "1  0.0  0.0  0.0  0.0  0.0  0.0  0.0  \n",
       "2  0.0  0.0  0.0  0.0  0.0  0.0  0.0  \n",
       "3  0.0  0.0  0.0  0.0  0.0  0.0  0.0  \n",
       "4  0.0  0.0  0.0  0.0  0.0  0.0  0.0  \n",
       "5  0.0  0.0  0.0  0.0  0.0  0.0  0.0  \n",
       "6  0.0  0.0  0.0  0.0  0.0  0.0  0.0  \n",
       "7  0.0  0.0  0.0  0.0  0.0  0.0  0.0  \n",
       "8  0.0  0.0  0.0  0.0  0.0  0.0  0.0  \n",
       "9  0.0  0.0  0.0  0.0  0.0  0.0  0.0  \n",
       "\n",
       "[10 rows x 37 columns]"
      ]
     },
     "execution_count": 124,
     "metadata": {},
     "output_type": "execute_result"
    }
   ],
   "source": [
    "df2.head(10)"
   ]
  },
  {
   "cell_type": "code",
   "execution_count": 125,
   "metadata": {},
   "outputs": [
    {
     "name": "stdout",
     "output_type": "stream",
     "text": [
      "<class 'pandas.core.frame.DataFrame'>\n",
      "Int64Index: 295926 entries, 0 to 298130\n",
      "Data columns (total 37 columns):\n",
      " #   Column  Non-Null Count   Dtype  \n",
      "---  ------  --------------   -----  \n",
      " 0   price   295926 non-null  int64  \n",
      " 1   rate    295926 non-null  float64\n",
      " 2   0       295926 non-null  float64\n",
      " 3   1       295926 non-null  float64\n",
      " 4   2       295926 non-null  float64\n",
      " 5   3       295926 non-null  float64\n",
      " 6   4       295926 non-null  float64\n",
      " 7   5       295926 non-null  float64\n",
      " 8   6       295926 non-null  float64\n",
      " 9   7       295926 non-null  float64\n",
      " 10  8       295926 non-null  float64\n",
      " 11  9       295926 non-null  float64\n",
      " 12  10      295926 non-null  float64\n",
      " 13  11      295926 non-null  float64\n",
      " 14  12      295926 non-null  float64\n",
      " 15  13      295926 non-null  float64\n",
      " 16  14      295926 non-null  float64\n",
      " 17  15      295926 non-null  float64\n",
      " 18  16      295926 non-null  float64\n",
      " 19  17      295926 non-null  float64\n",
      " 20  18      295926 non-null  float64\n",
      " 21  19      295926 non-null  float64\n",
      " 22  20      295926 non-null  float64\n",
      " 23  21      295926 non-null  float64\n",
      " 24  22      295926 non-null  float64\n",
      " 25  23      295926 non-null  float64\n",
      " 26  24      295926 non-null  float64\n",
      " 27  25      295926 non-null  float64\n",
      " 28  26      295926 non-null  float64\n",
      " 29  27      295926 non-null  float64\n",
      " 30  28      295926 non-null  float64\n",
      " 31  29      295926 non-null  float64\n",
      " 32  30      295926 non-null  float64\n",
      " 33  31      295926 non-null  float64\n",
      " 34  32      295926 non-null  float64\n",
      " 35  33      295926 non-null  float64\n",
      " 36  34      295926 non-null  float64\n",
      "dtypes: float64(36), int64(1)\n",
      "memory usage: 85.8 MB\n"
     ]
    }
   ],
   "source": [
    "df2.info()"
   ]
  },
  {
   "cell_type": "code",
   "execution_count": 126,
   "metadata": {},
   "outputs": [],
   "source": [
    "from sklearn.model_selection import train_test_split\n",
    "x=df2.drop('price',axis=1)\n",
    "y=df2['price']\n",
    "x_train,x_test,y_train,y_test=train_test_split(x,y,test_size=0.2,random_state=69)"
   ]
  },
  {
   "cell_type": "code",
   "execution_count": 127,
   "metadata": {},
   "outputs": [
    {
     "data": {
      "text/plain": [
       "GridSearchCV(cv=5, estimator=Ridge(),\n",
       "             param_grid={'alpha': [1e-15, 1e-10, 1e-08, 0.001, 0.01, 1, 5, 10,\n",
       "                                   20, 30, 35, 40, 45, 50, 55, 100]},\n",
       "             scoring='neg_mean_squared_error')"
      ]
     },
     "execution_count": 127,
     "metadata": {},
     "output_type": "execute_result"
    }
   ],
   "source": [
    "from sklearn.linear_model import Ridge\n",
    "from sklearn.model_selection import GridSearchCV\n",
    "\n",
    "ridge=Ridge()\n",
    "parameters={'alpha':[1e-15,1e-10,1e-8,1e-3,1e-2,1,5,10,20,30,35,40,45,50,55,100]}\n",
    "ridge_regressor=GridSearchCV(ridge,parameters,scoring='neg_mean_squared_error',cv=5)\n",
    "ridge_regressor.fit(x_train,y_train)"
   ]
  },
  {
   "cell_type": "code",
   "execution_count": 128,
   "metadata": {},
   "outputs": [
    {
     "name": "stdout",
     "output_type": "stream",
     "text": [
      "\n",
      "RMSE:\n",
      " 490.458 491.25\n"
     ]
    }
   ],
   "source": [
    "import numpy as np\n",
    "y_pred_train_ridge = ridge_regressor.predict(x_train)\n",
    "y_pred_ridge = ridge_regressor.predict(x_test)\n",
    "rmse_test_ridge = float(format(np.sqrt(mean_squared_error(y_test, y_pred_ridge)),'.3f'))\n",
    "rmse_train_ridge = float(format(np.sqrt(mean_squared_error(y_train, y_pred_train_ridge)),'.3f'))\n",
    "print(\"\\nRMSE:\\n\",rmse_test_ridge,rmse_train_ridge)"
   ]
  },
  {
   "cell_type": "code",
   "execution_count": 129,
   "metadata": {},
   "outputs": [
    {
     "name": "stdout",
     "output_type": "stream",
     "text": [
      "{'alpha': 1}\n"
     ]
    }
   ],
   "source": [
    "print(ridge_regressor.best_params_)"
   ]
  },
  {
   "cell_type": "code",
   "execution_count": 130,
   "metadata": {},
   "outputs": [
    {
     "name": "stdout",
     "output_type": "stream",
     "text": [
      "{'alpha': 0.01}\n"
     ]
    }
   ],
   "source": [
    "from sklearn.linear_model import Lasso\n",
    "from sklearn.model_selection import GridSearchCV\n",
    "lasso=Lasso()\n",
    "parameters={'alpha':[1e-15,1e-10,1e-8,1e-3,1e-2,1,5,10,20,30,35,40,45,50,55,100]}\n",
    "lasso_regressor=GridSearchCV(lasso,parameters,scoring='neg_mean_squared_error',cv=5)#used nmse cause obviously we are tuning, neg_errors work best for these\n",
    "\n",
    "lasso_regressor.fit(x_train,y_train)\n",
    "print(lasso_regressor.best_params_)"
   ]
  },
  {
   "cell_type": "code",
   "execution_count": 131,
   "metadata": {},
   "outputs": [
    {
     "name": "stdout",
     "output_type": "stream",
     "text": [
      "\n",
      "RMSE:\n",
      " 490.458 491.251\n"
     ]
    }
   ],
   "source": [
    "y_pred_train_lasso = lasso_regressor.predict(x_train)\n",
    "y_pred_lasso = lasso_regressor.predict(x_test)\n",
    "rmse_test_lasso = float(format(np.sqrt(mean_squared_error(y_test, y_pred_lasso)),'.3f'))\n",
    "rmse_train_lasso = float(format(np.sqrt(mean_squared_error(y_train, y_pred_train_lasso)),'.3f'))\n",
    "print(\"\\nRMSE:\\n\",rmse_test_lasso,rmse_train_lasso)"
   ]
  },
  {
   "cell_type": "code",
   "execution_count": 132,
   "metadata": {},
   "outputs": [
    {
     "data": {
      "text/plain": [
       "RandomForestRegressor(n_estimators=10, random_state=69)"
      ]
     },
     "execution_count": 132,
     "metadata": {},
     "output_type": "execute_result"
    }
   ],
   "source": [
    "from sklearn.metrics import mean_squared_error\n",
    "from sklearn.ensemble import RandomForestRegressor\n",
    "model = RandomForestRegressor(n_estimators=10,random_state=69)\n",
    "model.fit(x_train,y_train)"
   ]
  },
  {
   "cell_type": "code",
   "execution_count": 133,
   "metadata": {},
   "outputs": [
    {
     "name": "stdout",
     "output_type": "stream",
     "text": [
      "\n",
      "RMSE:\n",
      " 369.035 362.416\n"
     ]
    }
   ],
   "source": [
    "y_pred_train = model.predict(x_train)\n",
    "y_pred = model.predict(x_test)\n",
    "rmse_test = float(format(np.sqrt(mean_squared_error(y_test, y_pred)),'.3f'))\n",
    "rmse_train = float(format(np.sqrt(mean_squared_error(y_train, y_pred_train)),'.3f'))\n",
    "print(\"\\nRMSE:\\n\",rmse_test,rmse_train)"
   ]
  },
  {
   "cell_type": "code",
   "execution_count": 134,
   "metadata": {},
   "outputs": [],
   "source": [
    "def evaluate(model, test_features, test_labels):\n",
    "    predictions = model.predict(test_features)\n",
    "    errors = abs(predictions - test_labels)\n",
    "    mape = 100 * np.mean(errors / test_labels)\n",
    "    accuracy = 100 - mape\n",
    "    print('Model Performance')\n",
    "    print('Average Error: {:0.4f} degrees.'.format(np.mean(errors)))\n",
    "    print('Accuracy = {:0.2f}%.'.format(accuracy))\n",
    "    \n",
    "    return accuracy\n",
    "\n",
    "#measures the difference between the predicted & actual target and divided by the actual target values."
   ]
  },
  {
   "cell_type": "code",
   "execution_count": 135,
   "metadata": {},
   "outputs": [
    {
     "name": "stdout",
     "output_type": "stream",
     "text": [
      "Model Performance\n",
      "Average Error: 270.4514 degrees.\n",
      "Accuracy = 84.06%.\n",
      "Model Performance\n",
      "Average Error: 270.4356 degrees.\n",
      "Accuracy = 84.06%.\n",
      "Model Performance\n",
      "Average Error: 103.5922 degrees.\n",
      "Accuracy = 95.39%.\n"
     ]
    },
    {
     "data": {
      "text/plain": [
       "95.39206092265715"
      ]
     },
     "execution_count": 135,
     "metadata": {},
     "output_type": "execute_result"
    }
   ],
   "source": [
    "evaluate(lasso_regressor,x_test,y_test)\n",
    "evaluate(ridge_regressor,x_test,y_test)\n",
    "evaluate(model,x_test,y_test)"
   ]
  },
  {
   "cell_type": "code",
   "execution_count": 136,
   "metadata": {},
   "outputs": [],
   "source": [
    "# price avg was 2209.684696, so our rmse is 369.035, lets tune hyper parameters, on top of it rmse of both training and testing dont vary much so nothing about the fitting of the model can be said\n",
    "#RMSE of test > RMSE of train => OVER FITTING of the data.\n",
    "#RMSE of test < RMSE of train => UNDER FITTING of the data."
   ]
  },
  {
   "cell_type": "code",
   "execution_count": 137,
   "metadata": {},
   "outputs": [],
   "source": [
    "# print('Parameters currently in use:\\n')\n",
    "# print(model.get_params())"
   ]
  },
  {
   "cell_type": "code",
   "execution_count": 138,
   "metadata": {},
   "outputs": [],
   "source": [
    "# from sklearn.model_selection import RandomizedSearchCV\n",
    "# # Number of trees in random forest\n",
    "# n_estimators = [int(x) for x in np.linspace(start = 200, stop = 2000, num = 10)]\n",
    "# # Number of features to consider at every split\n",
    "# max_features = ['auto', 'sqrt']\n",
    "# # Maximum number of levels in tree\n",
    "# max_depth = [int(x) for x in np.linspace(10, 110, num = 11)]\n",
    "# max_depth.append(None)\n",
    "# # Minimum number of samples required to split a node\n",
    "# min_samples_split = [2, 5, 10]\n",
    "# # Minimum number of samples required at each leaf node\n",
    "# min_samples_leaf = [1, 2, 4]\n",
    "# # Method of selecting samples for training each tree\n",
    "# bootstrap = [True, False]\n",
    "# # Create the random grid\n",
    "# random_grid = {'n_estimators': n_estimators,\n",
    "#                'max_features': max_features,\n",
    "#                'max_depth': max_depth,\n",
    "#                'min_samples_split': min_samples_split,\n",
    "#                'min_samples_leaf': min_samples_leaf,\n",
    "#                'bootstrap': bootstrap}\n",
    "# print(random_grid)"
   ]
  },
  {
   "cell_type": "code",
   "execution_count": 139,
   "metadata": {},
   "outputs": [],
   "source": [
    "# rf_random = RandomizedSearchCV(estimator = model, param_distributions = random_grid, n_iter = 100, cv = 3, verbose=2, random_state=42, n_jobs = -1)\n",
    "# rf_random.fit(x_train, y_train)"
   ]
  },
  {
   "cell_type": "code",
   "execution_count": null,
   "metadata": {},
   "outputs": [],
   "source": []
  }
 ],
 "metadata": {
  "kernelspec": {
   "display_name": "Python 3.9.12 ('ime672')",
   "language": "python",
   "name": "python3"
  },
  "language_info": {
   "codemirror_mode": {
    "name": "ipython",
    "version": 3
   },
   "file_extension": ".py",
   "mimetype": "text/x-python",
   "name": "python",
   "nbconvert_exporter": "python",
   "pygments_lexer": "ipython3",
   "version": "3.9.12"
  },
  "orig_nbformat": 4,
  "vscode": {
   "interpreter": {
    "hash": "7064147a64a00b8d2c9b5c43958e93567de4a7e276d6703581d82bd59d27948f"
   }
  }
 },
 "nbformat": 4,
 "nbformat_minor": 2
}
