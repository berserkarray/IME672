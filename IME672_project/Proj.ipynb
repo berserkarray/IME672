{
 "cells": [
  {
   "cell_type": "markdown",
   "metadata": {},
   "source": [
    "<h1>IME672 Group Project<h1>\n",
    "<h3>problem description: predict price for flight tickets using data of Air Tickets Between Shanghai and Beijing<h3>"
   ]
  },
  {
   "cell_type": "code",
   "execution_count": 2,
   "metadata": {},
   "outputs": [
    {
     "data": {
      "text/html": [
       "<div>\n",
       "<style scoped>\n",
       "    .dataframe tbody tr th:only-of-type {\n",
       "        vertical-align: middle;\n",
       "    }\n",
       "\n",
       "    .dataframe tbody tr th {\n",
       "        vertical-align: top;\n",
       "    }\n",
       "\n",
       "    .dataframe thead th {\n",
       "        text-align: right;\n",
       "    }\n",
       "</style>\n",
       "<table border=\"1\" class=\"dataframe\">\n",
       "  <thead>\n",
       "    <tr style=\"text-align: right;\">\n",
       "      <th></th>\n",
       "      <th>ID</th>\n",
       "      <th>flightNumber</th>\n",
       "      <th>craftTypeCode</th>\n",
       "      <th>depAirport</th>\n",
       "      <th>traAirport</th>\n",
       "      <th>arrAirport</th>\n",
       "      <th>departureDate</th>\n",
       "      <th>arrivalDate</th>\n",
       "      <th>cabinClass</th>\n",
       "      <th>priceClass</th>\n",
       "      <th>price</th>\n",
       "      <th>rate</th>\n",
       "      <th>createDate</th>\n",
       "      <th>dateDifference</th>\n",
       "    </tr>\n",
       "  </thead>\n",
       "  <tbody>\n",
       "    <tr>\n",
       "      <th>0</th>\n",
       "      <td>14393</td>\n",
       "      <td>HO1252</td>\n",
       "      <td>320</td>\n",
       "      <td>PEK</td>\n",
       "      <td>NaN</td>\n",
       "      <td>SHA</td>\n",
       "      <td>2019-01-04 06:35:00</td>\n",
       "      <td>2019-01-04 08:55:00</td>\n",
       "      <td>C</td>\n",
       "      <td>C</td>\n",
       "      <td>1860</td>\n",
       "      <td>1.00</td>\n",
       "      <td>2019-01-03 14:26:15</td>\n",
       "      <td>1</td>\n",
       "    </tr>\n",
       "    <tr>\n",
       "      <th>1</th>\n",
       "      <td>14409</td>\n",
       "      <td>MU5138</td>\n",
       "      <td>33L</td>\n",
       "      <td>PEK</td>\n",
       "      <td>NaN</td>\n",
       "      <td>SHA</td>\n",
       "      <td>2019-01-04 07:00:00</td>\n",
       "      <td>2019-01-04 09:15:00</td>\n",
       "      <td>C</td>\n",
       "      <td>I</td>\n",
       "      <td>1640</td>\n",
       "      <td>0.31</td>\n",
       "      <td>2019-01-03 14:26:15</td>\n",
       "      <td>1</td>\n",
       "    </tr>\n",
       "    <tr>\n",
       "      <th>2</th>\n",
       "      <td>14415</td>\n",
       "      <td>MU5138</td>\n",
       "      <td>33L</td>\n",
       "      <td>PEK</td>\n",
       "      <td>NaN</td>\n",
       "      <td>SHA</td>\n",
       "      <td>2019-01-04 07:00:00</td>\n",
       "      <td>2019-01-04 09:15:00</td>\n",
       "      <td>C</td>\n",
       "      <td>J</td>\n",
       "      <td>5360</td>\n",
       "      <td>1.00</td>\n",
       "      <td>2019-01-03 14:26:15</td>\n",
       "      <td>1</td>\n",
       "    </tr>\n",
       "    <tr>\n",
       "      <th>3</th>\n",
       "      <td>14429</td>\n",
       "      <td>HU7605</td>\n",
       "      <td>350</td>\n",
       "      <td>PEK</td>\n",
       "      <td>NaN</td>\n",
       "      <td>SHA</td>\n",
       "      <td>2019-01-04 07:20:00</td>\n",
       "      <td>2019-01-04 09:35:00</td>\n",
       "      <td>C</td>\n",
       "      <td>I</td>\n",
       "      <td>1635</td>\n",
       "      <td>0.29</td>\n",
       "      <td>2019-01-03 14:26:15</td>\n",
       "      <td>1</td>\n",
       "    </tr>\n",
       "    <tr>\n",
       "      <th>4</th>\n",
       "      <td>14431</td>\n",
       "      <td>HU7605</td>\n",
       "      <td>350</td>\n",
       "      <td>PEK</td>\n",
       "      <td>NaN</td>\n",
       "      <td>SHA</td>\n",
       "      <td>2019-01-04 07:20:00</td>\n",
       "      <td>2019-01-04 09:35:00</td>\n",
       "      <td>C</td>\n",
       "      <td>I</td>\n",
       "      <td>1640</td>\n",
       "      <td>0.29</td>\n",
       "      <td>2019-01-03 14:26:15</td>\n",
       "      <td>1</td>\n",
       "    </tr>\n",
       "    <tr>\n",
       "      <th>5</th>\n",
       "      <td>14433</td>\n",
       "      <td>HU7605</td>\n",
       "      <td>350</td>\n",
       "      <td>PEK</td>\n",
       "      <td>NaN</td>\n",
       "      <td>SHA</td>\n",
       "      <td>2019-01-04 07:20:00</td>\n",
       "      <td>2019-01-04 09:35:00</td>\n",
       "      <td>C</td>\n",
       "      <td>C</td>\n",
       "      <td>5660</td>\n",
       "      <td>1.00</td>\n",
       "      <td>2019-01-03 14:26:15</td>\n",
       "      <td>1</td>\n",
       "    </tr>\n",
       "    <tr>\n",
       "      <th>6</th>\n",
       "      <td>14445</td>\n",
       "      <td>CA1831</td>\n",
       "      <td>773</td>\n",
       "      <td>PEK</td>\n",
       "      <td>NaN</td>\n",
       "      <td>SHA</td>\n",
       "      <td>2019-01-04 07:30:00</td>\n",
       "      <td>2019-01-04 09:35:00</td>\n",
       "      <td>C</td>\n",
       "      <td>R</td>\n",
       "      <td>1860</td>\n",
       "      <td>0.34</td>\n",
       "      <td>2019-01-03 14:26:15</td>\n",
       "      <td>1</td>\n",
       "    </tr>\n",
       "    <tr>\n",
       "      <th>7</th>\n",
       "      <td>14451</td>\n",
       "      <td>CA1831</td>\n",
       "      <td>773</td>\n",
       "      <td>PEK</td>\n",
       "      <td>NaN</td>\n",
       "      <td>SHA</td>\n",
       "      <td>2019-01-04 07:30:00</td>\n",
       "      <td>2019-01-04 09:35:00</td>\n",
       "      <td>C</td>\n",
       "      <td>J</td>\n",
       "      <td>5530</td>\n",
       "      <td>1.00</td>\n",
       "      <td>2019-01-03 14:26:15</td>\n",
       "      <td>1</td>\n",
       "    </tr>\n",
       "    <tr>\n",
       "      <th>8</th>\n",
       "      <td>14488</td>\n",
       "      <td>MU5102</td>\n",
       "      <td>333</td>\n",
       "      <td>PEK</td>\n",
       "      <td>NaN</td>\n",
       "      <td>SHA</td>\n",
       "      <td>2019-01-04 08:00:00</td>\n",
       "      <td>2019-01-04 10:15:00</td>\n",
       "      <td>C</td>\n",
       "      <td>I</td>\n",
       "      <td>1800</td>\n",
       "      <td>0.34</td>\n",
       "      <td>2019-01-03 14:26:15</td>\n",
       "      <td>1</td>\n",
       "    </tr>\n",
       "    <tr>\n",
       "      <th>9</th>\n",
       "      <td>14491</td>\n",
       "      <td>MU5102</td>\n",
       "      <td>333</td>\n",
       "      <td>PEK</td>\n",
       "      <td>NaN</td>\n",
       "      <td>SHA</td>\n",
       "      <td>2019-01-04 08:00:00</td>\n",
       "      <td>2019-01-04 10:15:00</td>\n",
       "      <td>C</td>\n",
       "      <td>J</td>\n",
       "      <td>5360</td>\n",
       "      <td>1.00</td>\n",
       "      <td>2019-01-03 14:26:15</td>\n",
       "      <td>1</td>\n",
       "    </tr>\n",
       "  </tbody>\n",
       "</table>\n",
       "</div>"
      ],
      "text/plain": [
       "      ID flightNumber craftTypeCode depAirport traAirport arrAirport  \\\n",
       "0  14393       HO1252           320        PEK        NaN        SHA   \n",
       "1  14409       MU5138           33L        PEK        NaN        SHA   \n",
       "2  14415       MU5138           33L        PEK        NaN        SHA   \n",
       "3  14429       HU7605           350        PEK        NaN        SHA   \n",
       "4  14431       HU7605           350        PEK        NaN        SHA   \n",
       "5  14433       HU7605           350        PEK        NaN        SHA   \n",
       "6  14445       CA1831           773        PEK        NaN        SHA   \n",
       "7  14451       CA1831           773        PEK        NaN        SHA   \n",
       "8  14488       MU5102           333        PEK        NaN        SHA   \n",
       "9  14491       MU5102           333        PEK        NaN        SHA   \n",
       "\n",
       "         departureDate          arrivalDate cabinClass priceClass  price  \\\n",
       "0  2019-01-04 06:35:00  2019-01-04 08:55:00          C          C   1860   \n",
       "1  2019-01-04 07:00:00  2019-01-04 09:15:00          C          I   1640   \n",
       "2  2019-01-04 07:00:00  2019-01-04 09:15:00          C          J   5360   \n",
       "3  2019-01-04 07:20:00  2019-01-04 09:35:00          C          I   1635   \n",
       "4  2019-01-04 07:20:00  2019-01-04 09:35:00          C          I   1640   \n",
       "5  2019-01-04 07:20:00  2019-01-04 09:35:00          C          C   5660   \n",
       "6  2019-01-04 07:30:00  2019-01-04 09:35:00          C          R   1860   \n",
       "7  2019-01-04 07:30:00  2019-01-04 09:35:00          C          J   5530   \n",
       "8  2019-01-04 08:00:00  2019-01-04 10:15:00          C          I   1800   \n",
       "9  2019-01-04 08:00:00  2019-01-04 10:15:00          C          J   5360   \n",
       "\n",
       "   rate           createDate  dateDifference  \n",
       "0  1.00  2019-01-03 14:26:15               1  \n",
       "1  0.31  2019-01-03 14:26:15               1  \n",
       "2  1.00  2019-01-03 14:26:15               1  \n",
       "3  0.29  2019-01-03 14:26:15               1  \n",
       "4  0.29  2019-01-03 14:26:15               1  \n",
       "5  1.00  2019-01-03 14:26:15               1  \n",
       "6  0.34  2019-01-03 14:26:15               1  \n",
       "7  1.00  2019-01-03 14:26:15               1  \n",
       "8  0.34  2019-01-03 14:26:15               1  \n",
       "9  1.00  2019-01-03 14:26:15               1  "
      ]
     },
     "execution_count": 2,
     "metadata": {},
     "output_type": "execute_result"
    }
   ],
   "source": [
    "import pandas as pd\n",
    "import seaborn as sns\n",
    "import matplotlib.pyplot as plt\n",
    "from scipy.stats import chi2_contingency\n",
    "import researchpy\n",
    "df = pd.read_csv(\"pek-sha.csv\")\n",
    "df.head(10)"
   ]
  },
  {
   "cell_type": "code",
   "execution_count": 3,
   "metadata": {},
   "outputs": [
    {
     "name": "stdout",
     "output_type": "stream",
     "text": [
      "<class 'pandas.core.frame.DataFrame'>\n",
      "RangeIndex: 300336 entries, 0 to 300335\n",
      "Data columns (total 14 columns):\n",
      " #   Column          Non-Null Count   Dtype  \n",
      "---  ------          --------------   -----  \n",
      " 0   ID              300336 non-null  int64  \n",
      " 1   flightNumber    300336 non-null  object \n",
      " 2   craftTypeCode   300336 non-null  object \n",
      " 3   depAirport      300336 non-null  object \n",
      " 4   traAirport      5749 non-null    object \n",
      " 5   arrAirport      300336 non-null  object \n",
      " 6   departureDate   300336 non-null  object \n",
      " 7   arrivalDate     300336 non-null  object \n",
      " 8   cabinClass      300336 non-null  object \n",
      " 9   priceClass      300336 non-null  object \n",
      " 10  price           300336 non-null  int64  \n",
      " 11  rate            300336 non-null  float64\n",
      " 12  createDate      300336 non-null  object \n",
      " 13  dateDifference  300336 non-null  int64  \n",
      "dtypes: float64(1), int64(3), object(10)\n",
      "memory usage: 32.1+ MB\n"
     ]
    }
   ],
   "source": [
    "df.info()"
   ]
  },
  {
   "cell_type": "code",
   "execution_count": 4,
   "metadata": {},
   "outputs": [
    {
     "data": {
      "text/html": [
       "<div>\n",
       "<style scoped>\n",
       "    .dataframe tbody tr th:only-of-type {\n",
       "        vertical-align: middle;\n",
       "    }\n",
       "\n",
       "    .dataframe tbody tr th {\n",
       "        vertical-align: top;\n",
       "    }\n",
       "\n",
       "    .dataframe thead th {\n",
       "        text-align: right;\n",
       "    }\n",
       "</style>\n",
       "<table border=\"1\" class=\"dataframe\">\n",
       "  <thead>\n",
       "    <tr style=\"text-align: right;\">\n",
       "      <th></th>\n",
       "      <th>ID</th>\n",
       "      <th>price</th>\n",
       "      <th>rate</th>\n",
       "      <th>dateDifference</th>\n",
       "    </tr>\n",
       "  </thead>\n",
       "  <tbody>\n",
       "    <tr>\n",
       "      <th>count</th>\n",
       "      <td>3.003360e+05</td>\n",
       "      <td>300336.000000</td>\n",
       "      <td>300336.000000</td>\n",
       "      <td>300336.000000</td>\n",
       "    </tr>\n",
       "    <tr>\n",
       "      <th>mean</th>\n",
       "      <td>3.785370e+07</td>\n",
       "      <td>2209.684696</td>\n",
       "      <td>0.764667</td>\n",
       "      <td>6.682762</td>\n",
       "    </tr>\n",
       "    <tr>\n",
       "      <th>std</th>\n",
       "      <td>2.320571e+07</td>\n",
       "      <td>1755.003424</td>\n",
       "      <td>0.251366</td>\n",
       "      <td>7.501340</td>\n",
       "    </tr>\n",
       "    <tr>\n",
       "      <th>min</th>\n",
       "      <td>1.438400e+04</td>\n",
       "      <td>235.000000</td>\n",
       "      <td>0.000000</td>\n",
       "      <td>1.000000</td>\n",
       "    </tr>\n",
       "    <tr>\n",
       "      <th>25%</th>\n",
       "      <td>1.770736e+07</td>\n",
       "      <td>1005.000000</td>\n",
       "      <td>0.530000</td>\n",
       "      <td>2.000000</td>\n",
       "    </tr>\n",
       "    <tr>\n",
       "      <th>50%</th>\n",
       "      <td>3.718240e+07</td>\n",
       "      <td>1490.000000</td>\n",
       "      <td>0.860000</td>\n",
       "      <td>5.000000</td>\n",
       "    </tr>\n",
       "    <tr>\n",
       "      <th>75%</th>\n",
       "      <td>5.705183e+07</td>\n",
       "      <td>2980.000000</td>\n",
       "      <td>1.000000</td>\n",
       "      <td>7.000000</td>\n",
       "    </tr>\n",
       "    <tr>\n",
       "      <th>max</th>\n",
       "      <td>8.016500e+07</td>\n",
       "      <td>6410.000000</td>\n",
       "      <td>1.000000</td>\n",
       "      <td>30.000000</td>\n",
       "    </tr>\n",
       "  </tbody>\n",
       "</table>\n",
       "</div>"
      ],
      "text/plain": [
       "                 ID          price           rate  dateDifference\n",
       "count  3.003360e+05  300336.000000  300336.000000   300336.000000\n",
       "mean   3.785370e+07    2209.684696       0.764667        6.682762\n",
       "std    2.320571e+07    1755.003424       0.251366        7.501340\n",
       "min    1.438400e+04     235.000000       0.000000        1.000000\n",
       "25%    1.770736e+07    1005.000000       0.530000        2.000000\n",
       "50%    3.718240e+07    1490.000000       0.860000        5.000000\n",
       "75%    5.705183e+07    2980.000000       1.000000        7.000000\n",
       "max    8.016500e+07    6410.000000       1.000000       30.000000"
      ]
     },
     "execution_count": 4,
     "metadata": {},
     "output_type": "execute_result"
    }
   ],
   "source": [
    "# data of flights between beijing to shanghai \n",
    "# traAirport      5749 non-null    object ....|||5749 values???\n",
    "# float64(1), int64(3), object(10) lotta categorical data. drop id,\n",
    "# rate - discount rate\n",
    "# cabinClass: Y = Econ Class, C = Business Class , F = First Class\n",
    "# flightnumber - every other flight should be unique.\n",
    "# craftTypeCode - ICAO aircraft type designators.\n",
    "# depAirport, arrAirport - arrival & departure airport.\n",
    "# traAirport - an airport where an aircraft has made a stopover, which was not specified in the Electronic ticket. if other than layover exists, then planes might have been changed.\n",
    "# dunno what createdate means but,\n",
    "# in a random sample diff between createdate &  departureDate = 2019-03-30 06:35:00 - 2019-02-28 11:35:19 = 30, which is dateDifference. so, inferring that createDate is the day of booking the flight.\n",
    "df.describe()"
   ]
  },
  {
   "cell_type": "code",
   "execution_count": 5,
   "metadata": {},
   "outputs": [
    {
     "data": {
      "text/plain": [
       "2"
      ]
     },
     "execution_count": 5,
     "metadata": {},
     "output_type": "execute_result"
    }
   ],
   "source": [
    "df.traAirport = df.traAirport.fillna('None')\n",
    "df['traAirport'].nunique()"
   ]
  },
  {
   "cell_type": "code",
   "execution_count": 6,
   "metadata": {},
   "outputs": [
    {
     "data": {
      "text/plain": [
       "<AxesSubplot:xlabel='traAirport', ylabel='count'>"
      ]
     },
     "execution_count": 6,
     "metadata": {},
     "output_type": "execute_result"
    },
    {
     "data": {
      "image/png": "[encoded data removed]",
      "text/plain": [
       "<Figure size 432x288 with 1 Axes>"
      ]
     },
     "metadata": {
      "needs_background": "light"
     },
     "output_type": "display_data"
    }
   ],
   "source": [
    "import seaborn as sns\n",
    "sns.countplot(data=df,x=\"traAirport\")"
   ]
  },
  {
   "cell_type": "code",
   "execution_count": 7,
   "metadata": {},
   "outputs": [
    {
     "data": {
      "text/plain": [
       "51"
      ]
     },
     "execution_count": 7,
     "metadata": {},
     "output_type": "execute_result"
    }
   ],
   "source": [
    "##there are only 2 values, either the flight didnt stop for a layover, or stoped at LYA(luoyang)\n",
    "df[\"flightNumber\"].nunique()"
   ]
  },
  {
   "cell_type": "code",
   "execution_count": 8,
   "metadata": {},
   "outputs": [],
   "source": [
    "#51 unique values...hmmm."
   ]
  },
  {
   "cell_type": "code",
   "execution_count": 9,
   "metadata": {},
   "outputs": [
    {
     "data": {
      "text/plain": [
       "33L    59178\n",
       "359    36896\n",
       "333    31163\n",
       "773    28022\n",
       "325    16107\n",
       "738    14067\n",
       "321    11627\n",
       "33A     9174\n",
       "789     7915\n",
       "747     7665\n",
       "32L     7618\n",
       "73E     7546\n",
       "73L     7375\n",
       "73K     6023\n",
       "32A     5422\n",
       "77W     5061\n",
       "330     3995\n",
       "350     3707\n",
       "323     3405\n",
       "338     3001\n",
       "78A     2850\n",
       "331     2806\n",
       "33E     2796\n",
       "744     2459\n",
       "33G     2192\n",
       "33H     1643\n",
       "337     1613\n",
       "320     1267\n",
       "787     1144\n",
       "78B     1106\n",
       "332      925\n",
       "73N      838\n",
       "351      831\n",
       "33W      613\n",
       "336      473\n",
       "319      381\n",
       "73T      361\n",
       "32M      350\n",
       "33C      261\n",
       "73B      251\n",
       "73H      158\n",
       "33B       42\n",
       "73U        7\n",
       "73G        2\n",
       "Name: craftTypeCode, dtype: int64"
      ]
     },
     "execution_count": 9,
     "metadata": {},
     "output_type": "execute_result"
    }
   ],
   "source": [
    "\n",
    "df[\"craftTypeCode\"].value_counts()"
   ]
  },
  {
   "cell_type": "code",
   "execution_count": 10,
   "metadata": {},
   "outputs": [
    {
     "data": {
      "text/plain": [
       "44"
      ]
     },
     "execution_count": 10,
     "metadata": {},
     "output_type": "execute_result"
    }
   ],
   "source": [
    "df[\"craftTypeCode\"].nunique()"
   ]
  },
  {
   "cell_type": "code",
   "execution_count": 11,
   "metadata": {},
   "outputs": [
    {
     "data": {
      "text/plain": [
       "<AxesSubplot:xlabel='price'>"
      ]
     },
     "execution_count": 11,
     "metadata": {},
     "output_type": "execute_result"
    },
    {
     "data": {
      "image/png": "[encoded data removed]",
      "text/plain": [
       "<Figure size 1440x1080 with 1 Axes>"
      ]
     },
     "metadata": {
      "needs_background": "light"
     },
     "output_type": "display_data"
    }
   ],
   "source": [
    "#checking for outliers in the data\n",
    "fig, ax = plt.subplots(figsize=(20, 15))\n",
    "sns.boxplot(data=df,x='price')"
   ]
  },
  {
   "cell_type": "code",
   "execution_count": 12,
   "metadata": {},
   "outputs": [
    {
     "name": "stdout",
     "output_type": "stream",
     "text": [
      "Number of Outliers : 2205\n"
     ]
    }
   ],
   "source": [
    "q1 = df['price'].quantile(0.25)\n",
    "q3 = df['price'].quantile(0.75)\n",
    "IQR = q3 - q1\n",
    "filter = (df['price'] >= q1 - 1.5 * IQR) & (df['price'] <= q3 + 1.5 *IQR)\n",
    "df = df.loc[filter]\n",
    "df.shape\n",
    "print(\"Number of Outliers : 2205\")"
   ]
  },
  {
   "cell_type": "code",
   "execution_count": 13,
   "metadata": {},
   "outputs": [
    {
     "data": {
      "text/plain": [
       "ID                0\n",
       "flightNumber      0\n",
       "craftTypeCode     0\n",
       "depAirport        0\n",
       "traAirport        0\n",
       "arrAirport        0\n",
       "departureDate     0\n",
       "arrivalDate       0\n",
       "cabinClass        0\n",
       "priceClass        0\n",
       "price             0\n",
       "rate              0\n",
       "createDate        0\n",
       "dateDifference    0\n",
       "dtype: int64"
      ]
     },
     "execution_count": 13,
     "metadata": {},
     "output_type": "execute_result"
    }
   ],
   "source": [
    "df[['arrivalDate','departureDate','createDate']] = df[['arrivalDate','departureDate','createDate']].apply(pd.to_datetime)\n",
    "# departureDate should always be after createDate\n",
    "df[df.departureDate < df.createDate].count()\n",
    "#Hence no problem in this case"
   ]
  },
  {
   "cell_type": "code",
   "execution_count": 14,
   "metadata": {},
   "outputs": [
    {
     "data": {
      "text/plain": [
       "ID                0\n",
       "flightNumber      0\n",
       "craftTypeCode     0\n",
       "depAirport        0\n",
       "traAirport        0\n",
       "arrAirport        0\n",
       "departureDate     0\n",
       "arrivalDate       0\n",
       "cabinClass        0\n",
       "priceClass        0\n",
       "price             0\n",
       "rate              0\n",
       "createDate        0\n",
       "dateDifference    0\n",
       "dtype: int64"
      ]
     },
     "execution_count": 14,
     "metadata": {},
     "output_type": "execute_result"
    }
   ],
   "source": [
    "# arrivalDate should always be after departureDate\n",
    "df[df.departureDate > df.arrivalDate].count()\n",
    "#Hence no problem in this case"
   ]
  },
  {
   "cell_type": "code",
   "execution_count": 15,
   "metadata": {},
   "outputs": [
    {
     "name": "stdout",
     "output_type": "stream",
     "text": [
      "1 1\n"
     ]
    }
   ],
   "source": [
    "#checking for anamolies in depAirport & arrAirport, both shoould have only one value.\n",
    "print(df[\"depAirport\"].nunique(),df[\"arrAirport\"].nunique())"
   ]
  },
  {
   "cell_type": "code",
   "execution_count": 16,
   "metadata": {},
   "outputs": [],
   "source": [
    "#so drop depAirport arrAirport id traAirport since they are pretty much useless\n",
    "#can also drop createDate since dateDifference also serves same purpose"
   ]
  },
  {
   "cell_type": "code",
   "execution_count": 17,
   "metadata": {},
   "outputs": [
    {
     "data": {
      "text/html": [
       "<div>\n",
       "<style scoped>\n",
       "    .dataframe tbody tr th:only-of-type {\n",
       "        vertical-align: middle;\n",
       "    }\n",
       "\n",
       "    .dataframe tbody tr th {\n",
       "        vertical-align: top;\n",
       "    }\n",
       "\n",
       "    .dataframe thead th {\n",
       "        text-align: right;\n",
       "    }\n",
       "</style>\n",
       "<table border=\"1\" class=\"dataframe\">\n",
       "  <thead>\n",
       "    <tr style=\"text-align: right;\">\n",
       "      <th></th>\n",
       "      <th>flightNumber</th>\n",
       "      <th>craftTypeCode</th>\n",
       "      <th>traAirport</th>\n",
       "      <th>departureDate</th>\n",
       "      <th>arrivalDate</th>\n",
       "      <th>cabinClass</th>\n",
       "      <th>priceClass</th>\n",
       "      <th>price</th>\n",
       "      <th>rate</th>\n",
       "      <th>dateDifference</th>\n",
       "    </tr>\n",
       "  </thead>\n",
       "  <tbody>\n",
       "    <tr>\n",
       "      <th>0</th>\n",
       "      <td>HO1252</td>\n",
       "      <td>320</td>\n",
       "      <td>None</td>\n",
       "      <td>2019-01-04 06:35:00</td>\n",
       "      <td>2019-01-04 08:55:00</td>\n",
       "      <td>C</td>\n",
       "      <td>C</td>\n",
       "      <td>1860</td>\n",
       "      <td>1.00</td>\n",
       "      <td>1</td>\n",
       "    </tr>\n",
       "    <tr>\n",
       "      <th>1</th>\n",
       "      <td>MU5138</td>\n",
       "      <td>33L</td>\n",
       "      <td>None</td>\n",
       "      <td>2019-01-04 07:00:00</td>\n",
       "      <td>2019-01-04 09:15:00</td>\n",
       "      <td>C</td>\n",
       "      <td>I</td>\n",
       "      <td>1640</td>\n",
       "      <td>0.31</td>\n",
       "      <td>1</td>\n",
       "    </tr>\n",
       "    <tr>\n",
       "      <th>2</th>\n",
       "      <td>MU5138</td>\n",
       "      <td>33L</td>\n",
       "      <td>None</td>\n",
       "      <td>2019-01-04 07:00:00</td>\n",
       "      <td>2019-01-04 09:15:00</td>\n",
       "      <td>C</td>\n",
       "      <td>J</td>\n",
       "      <td>5360</td>\n",
       "      <td>1.00</td>\n",
       "      <td>1</td>\n",
       "    </tr>\n",
       "    <tr>\n",
       "      <th>3</th>\n",
       "      <td>HU7605</td>\n",
       "      <td>350</td>\n",
       "      <td>None</td>\n",
       "      <td>2019-01-04 07:20:00</td>\n",
       "      <td>2019-01-04 09:35:00</td>\n",
       "      <td>C</td>\n",
       "      <td>I</td>\n",
       "      <td>1635</td>\n",
       "      <td>0.29</td>\n",
       "      <td>1</td>\n",
       "    </tr>\n",
       "    <tr>\n",
       "      <th>4</th>\n",
       "      <td>HU7605</td>\n",
       "      <td>350</td>\n",
       "      <td>None</td>\n",
       "      <td>2019-01-04 07:20:00</td>\n",
       "      <td>2019-01-04 09:35:00</td>\n",
       "      <td>C</td>\n",
       "      <td>I</td>\n",
       "      <td>1640</td>\n",
       "      <td>0.29</td>\n",
       "      <td>1</td>\n",
       "    </tr>\n",
       "    <tr>\n",
       "      <th>5</th>\n",
       "      <td>HU7605</td>\n",
       "      <td>350</td>\n",
       "      <td>None</td>\n",
       "      <td>2019-01-04 07:20:00</td>\n",
       "      <td>2019-01-04 09:35:00</td>\n",
       "      <td>C</td>\n",
       "      <td>C</td>\n",
       "      <td>5660</td>\n",
       "      <td>1.00</td>\n",
       "      <td>1</td>\n",
       "    </tr>\n",
       "    <tr>\n",
       "      <th>6</th>\n",
       "      <td>CA1831</td>\n",
       "      <td>773</td>\n",
       "      <td>None</td>\n",
       "      <td>2019-01-04 07:30:00</td>\n",
       "      <td>2019-01-04 09:35:00</td>\n",
       "      <td>C</td>\n",
       "      <td>R</td>\n",
       "      <td>1860</td>\n",
       "      <td>0.34</td>\n",
       "      <td>1</td>\n",
       "    </tr>\n",
       "    <tr>\n",
       "      <th>7</th>\n",
       "      <td>CA1831</td>\n",
       "      <td>773</td>\n",
       "      <td>None</td>\n",
       "      <td>2019-01-04 07:30:00</td>\n",
       "      <td>2019-01-04 09:35:00</td>\n",
       "      <td>C</td>\n",
       "      <td>J</td>\n",
       "      <td>5530</td>\n",
       "      <td>1.00</td>\n",
       "      <td>1</td>\n",
       "    </tr>\n",
       "    <tr>\n",
       "      <th>8</th>\n",
       "      <td>MU5102</td>\n",
       "      <td>333</td>\n",
       "      <td>None</td>\n",
       "      <td>2019-01-04 08:00:00</td>\n",
       "      <td>2019-01-04 10:15:00</td>\n",
       "      <td>C</td>\n",
       "      <td>I</td>\n",
       "      <td>1800</td>\n",
       "      <td>0.34</td>\n",
       "      <td>1</td>\n",
       "    </tr>\n",
       "    <tr>\n",
       "      <th>9</th>\n",
       "      <td>MU5102</td>\n",
       "      <td>333</td>\n",
       "      <td>None</td>\n",
       "      <td>2019-01-04 08:00:00</td>\n",
       "      <td>2019-01-04 10:15:00</td>\n",
       "      <td>C</td>\n",
       "      <td>J</td>\n",
       "      <td>5360</td>\n",
       "      <td>1.00</td>\n",
       "      <td>1</td>\n",
       "    </tr>\n",
       "  </tbody>\n",
       "</table>\n",
       "</div>"
      ],
      "text/plain": [
       "  flightNumber craftTypeCode traAirport       departureDate  \\\n",
       "0       HO1252           320       None 2019-01-04 06:35:00   \n",
       "1       MU5138           33L       None 2019-01-04 07:00:00   \n",
       "2       MU5138           33L       None 2019-01-04 07:00:00   \n",
       "3       HU7605           350       None 2019-01-04 07:20:00   \n",
       "4       HU7605           350       None 2019-01-04 07:20:00   \n",
       "5       HU7605           350       None 2019-01-04 07:20:00   \n",
       "6       CA1831           773       None 2019-01-04 07:30:00   \n",
       "7       CA1831           773       None 2019-01-04 07:30:00   \n",
       "8       MU5102           333       None 2019-01-04 08:00:00   \n",
       "9       MU5102           333       None 2019-01-04 08:00:00   \n",
       "\n",
       "          arrivalDate cabinClass priceClass  price  rate  dateDifference  \n",
       "0 2019-01-04 08:55:00          C          C   1860  1.00               1  \n",
       "1 2019-01-04 09:15:00          C          I   1640  0.31               1  \n",
       "2 2019-01-04 09:15:00          C          J   5360  1.00               1  \n",
       "3 2019-01-04 09:35:00          C          I   1635  0.29               1  \n",
       "4 2019-01-04 09:35:00          C          I   1640  0.29               1  \n",
       "5 2019-01-04 09:35:00          C          C   5660  1.00               1  \n",
       "6 2019-01-04 09:35:00          C          R   1860  0.34               1  \n",
       "7 2019-01-04 09:35:00          C          J   5530  1.00               1  \n",
       "8 2019-01-04 10:15:00          C          I   1800  0.34               1  \n",
       "9 2019-01-04 10:15:00          C          J   5360  1.00               1  "
      ]
     },
     "execution_count": 17,
     "metadata": {},
     "output_type": "execute_result"
    }
   ],
   "source": [
    "df.drop(['ID','depAirport','arrAirport','createDate'], axis = 1, inplace=True)\n",
    "df.head(10)"
   ]
  },
  {
   "cell_type": "code",
   "execution_count": 18,
   "metadata": {},
   "outputs": [],
   "source": [
    "# can add an extra column for difference between departureDate & arrivalDate, that way we wont have to keep these 2 columns.\n",
    "# as they are, it will tough for our model to infer from the datetime values\n",
    "# or we could convert them to sin & cosine values of date & day(cyclic encoding),\n",
    "# or we could simply extract the day of the flight, since flights on weekdays may be cheaper than weekends."
   ]
  },
  {
   "cell_type": "code",
   "execution_count": 19,
   "metadata": {},
   "outputs": [],
   "source": [
    "#df[['arrivalDate','departureDate',]] = df[['arrivalDate','departureDate',]].apply(pd.to_datetime)\n",
    "df['daysaway'] = (df['arrivalDate'] - df['departureDate']).dt.days"
   ]
  },
  {
   "cell_type": "code",
   "execution_count": 20,
   "metadata": {},
   "outputs": [],
   "source": [
    "df['depDay']=df['departureDate'].dt.day_name()\n",
    "df['arrDay']=df['arrivalDate'].dt.day_name()"
   ]
  },
  {
   "cell_type": "code",
   "execution_count": 21,
   "metadata": {},
   "outputs": [
    {
     "data": {
      "text/html": [
       "<div>\n",
       "<style scoped>\n",
       "    .dataframe tbody tr th:only-of-type {\n",
       "        vertical-align: middle;\n",
       "    }\n",
       "\n",
       "    .dataframe tbody tr th {\n",
       "        vertical-align: top;\n",
       "    }\n",
       "\n",
       "    .dataframe thead th {\n",
       "        text-align: right;\n",
       "    }\n",
       "</style>\n",
       "<table border=\"1\" class=\"dataframe\">\n",
       "  <thead>\n",
       "    <tr style=\"text-align: right;\">\n",
       "      <th></th>\n",
       "      <th>flightNumber</th>\n",
       "      <th>craftTypeCode</th>\n",
       "      <th>traAirport</th>\n",
       "      <th>departureDate</th>\n",
       "      <th>arrivalDate</th>\n",
       "      <th>cabinClass</th>\n",
       "      <th>priceClass</th>\n",
       "      <th>price</th>\n",
       "      <th>rate</th>\n",
       "      <th>dateDifference</th>\n",
       "      <th>daysaway</th>\n",
       "      <th>depDay</th>\n",
       "      <th>arrDay</th>\n",
       "    </tr>\n",
       "  </thead>\n",
       "  <tbody>\n",
       "    <tr>\n",
       "      <th>0</th>\n",
       "      <td>HO1252</td>\n",
       "      <td>320</td>\n",
       "      <td>None</td>\n",
       "      <td>2019-01-04 06:35:00</td>\n",
       "      <td>2019-01-04 08:55:00</td>\n",
       "      <td>C</td>\n",
       "      <td>C</td>\n",
       "      <td>1860</td>\n",
       "      <td>1.00</td>\n",
       "      <td>1</td>\n",
       "      <td>0</td>\n",
       "      <td>Friday</td>\n",
       "      <td>Friday</td>\n",
       "    </tr>\n",
       "    <tr>\n",
       "      <th>1</th>\n",
       "      <td>MU5138</td>\n",
       "      <td>33L</td>\n",
       "      <td>None</td>\n",
       "      <td>2019-01-04 07:00:00</td>\n",
       "      <td>2019-01-04 09:15:00</td>\n",
       "      <td>C</td>\n",
       "      <td>I</td>\n",
       "      <td>1640</td>\n",
       "      <td>0.31</td>\n",
       "      <td>1</td>\n",
       "      <td>0</td>\n",
       "      <td>Friday</td>\n",
       "      <td>Friday</td>\n",
       "    </tr>\n",
       "    <tr>\n",
       "      <th>2</th>\n",
       "      <td>MU5138</td>\n",
       "      <td>33L</td>\n",
       "      <td>None</td>\n",
       "      <td>2019-01-04 07:00:00</td>\n",
       "      <td>2019-01-04 09:15:00</td>\n",
       "      <td>C</td>\n",
       "      <td>J</td>\n",
       "      <td>5360</td>\n",
       "      <td>1.00</td>\n",
       "      <td>1</td>\n",
       "      <td>0</td>\n",
       "      <td>Friday</td>\n",
       "      <td>Friday</td>\n",
       "    </tr>\n",
       "    <tr>\n",
       "      <th>3</th>\n",
       "      <td>HU7605</td>\n",
       "      <td>350</td>\n",
       "      <td>None</td>\n",
       "      <td>2019-01-04 07:20:00</td>\n",
       "      <td>2019-01-04 09:35:00</td>\n",
       "      <td>C</td>\n",
       "      <td>I</td>\n",
       "      <td>1635</td>\n",
       "      <td>0.29</td>\n",
       "      <td>1</td>\n",
       "      <td>0</td>\n",
       "      <td>Friday</td>\n",
       "      <td>Friday</td>\n",
       "    </tr>\n",
       "    <tr>\n",
       "      <th>4</th>\n",
       "      <td>HU7605</td>\n",
       "      <td>350</td>\n",
       "      <td>None</td>\n",
       "      <td>2019-01-04 07:20:00</td>\n",
       "      <td>2019-01-04 09:35:00</td>\n",
       "      <td>C</td>\n",
       "      <td>I</td>\n",
       "      <td>1640</td>\n",
       "      <td>0.29</td>\n",
       "      <td>1</td>\n",
       "      <td>0</td>\n",
       "      <td>Friday</td>\n",
       "      <td>Friday</td>\n",
       "    </tr>\n",
       "  </tbody>\n",
       "</table>\n",
       "</div>"
      ],
      "text/plain": [
       "  flightNumber craftTypeCode traAirport       departureDate  \\\n",
       "0       HO1252           320       None 2019-01-04 06:35:00   \n",
       "1       MU5138           33L       None 2019-01-04 07:00:00   \n",
       "2       MU5138           33L       None 2019-01-04 07:00:00   \n",
       "3       HU7605           350       None 2019-01-04 07:20:00   \n",
       "4       HU7605           350       None 2019-01-04 07:20:00   \n",
       "\n",
       "          arrivalDate cabinClass priceClass  price  rate  dateDifference  \\\n",
       "0 2019-01-04 08:55:00          C          C   1860  1.00               1   \n",
       "1 2019-01-04 09:15:00          C          I   1640  0.31               1   \n",
       "2 2019-01-04 09:15:00          C          J   5360  1.00               1   \n",
       "3 2019-01-04 09:35:00          C          I   1635  0.29               1   \n",
       "4 2019-01-04 09:35:00          C          I   1640  0.29               1   \n",
       "\n",
       "   daysaway  depDay  arrDay  \n",
       "0         0  Friday  Friday  \n",
       "1         0  Friday  Friday  \n",
       "2         0  Friday  Friday  \n",
       "3         0  Friday  Friday  \n",
       "4         0  Friday  Friday  "
      ]
     },
     "execution_count": 21,
     "metadata": {},
     "output_type": "execute_result"
    }
   ],
   "source": [
    "df.head()"
   ]
  },
  {
   "cell_type": "code",
   "execution_count": 22,
   "metadata": {},
   "outputs": [
    {
     "name": "stdout",
     "output_type": "stream",
     "text": [
      "1 7 7\n"
     ]
    }
   ],
   "source": [
    "print(df['daysaway'].nunique(),df[\"depDay\"].nunique(),df[\"arrDay\"].nunique())"
   ]
  },
  {
   "cell_type": "code",
   "execution_count": 23,
   "metadata": {},
   "outputs": [],
   "source": [
    "#so, these are all one day trips, so counting days wont work. lets count seconds\n",
    "df['daysaway'] = (df['arrivalDate'] - df['departureDate']).dt.seconds"
   ]
  },
  {
   "cell_type": "code",
   "execution_count": 24,
   "metadata": {},
   "outputs": [
    {
     "data": {
      "text/html": [
       "<div>\n",
       "<style scoped>\n",
       "    .dataframe tbody tr th:only-of-type {\n",
       "        vertical-align: middle;\n",
       "    }\n",
       "\n",
       "    .dataframe tbody tr th {\n",
       "        vertical-align: top;\n",
       "    }\n",
       "\n",
       "    .dataframe thead th {\n",
       "        text-align: right;\n",
       "    }\n",
       "</style>\n",
       "<table border=\"1\" class=\"dataframe\">\n",
       "  <thead>\n",
       "    <tr style=\"text-align: right;\">\n",
       "      <th></th>\n",
       "      <th>flightNumber</th>\n",
       "      <th>craftTypeCode</th>\n",
       "      <th>traAirport</th>\n",
       "      <th>departureDate</th>\n",
       "      <th>arrivalDate</th>\n",
       "      <th>cabinClass</th>\n",
       "      <th>priceClass</th>\n",
       "      <th>price</th>\n",
       "      <th>rate</th>\n",
       "      <th>dateDifference</th>\n",
       "      <th>daysaway</th>\n",
       "      <th>depDay</th>\n",
       "      <th>arrDay</th>\n",
       "    </tr>\n",
       "  </thead>\n",
       "  <tbody>\n",
       "    <tr>\n",
       "      <th>0</th>\n",
       "      <td>HO1252</td>\n",
       "      <td>320</td>\n",
       "      <td>None</td>\n",
       "      <td>2019-01-04 06:35:00</td>\n",
       "      <td>2019-01-04 08:55:00</td>\n",
       "      <td>C</td>\n",
       "      <td>C</td>\n",
       "      <td>1860</td>\n",
       "      <td>1.00</td>\n",
       "      <td>1</td>\n",
       "      <td>8400</td>\n",
       "      <td>Friday</td>\n",
       "      <td>Friday</td>\n",
       "    </tr>\n",
       "    <tr>\n",
       "      <th>1</th>\n",
       "      <td>MU5138</td>\n",
       "      <td>33L</td>\n",
       "      <td>None</td>\n",
       "      <td>2019-01-04 07:00:00</td>\n",
       "      <td>2019-01-04 09:15:00</td>\n",
       "      <td>C</td>\n",
       "      <td>I</td>\n",
       "      <td>1640</td>\n",
       "      <td>0.31</td>\n",
       "      <td>1</td>\n",
       "      <td>8100</td>\n",
       "      <td>Friday</td>\n",
       "      <td>Friday</td>\n",
       "    </tr>\n",
       "    <tr>\n",
       "      <th>2</th>\n",
       "      <td>MU5138</td>\n",
       "      <td>33L</td>\n",
       "      <td>None</td>\n",
       "      <td>2019-01-04 07:00:00</td>\n",
       "      <td>2019-01-04 09:15:00</td>\n",
       "      <td>C</td>\n",
       "      <td>J</td>\n",
       "      <td>5360</td>\n",
       "      <td>1.00</td>\n",
       "      <td>1</td>\n",
       "      <td>8100</td>\n",
       "      <td>Friday</td>\n",
       "      <td>Friday</td>\n",
       "    </tr>\n",
       "    <tr>\n",
       "      <th>3</th>\n",
       "      <td>HU7605</td>\n",
       "      <td>350</td>\n",
       "      <td>None</td>\n",
       "      <td>2019-01-04 07:20:00</td>\n",
       "      <td>2019-01-04 09:35:00</td>\n",
       "      <td>C</td>\n",
       "      <td>I</td>\n",
       "      <td>1635</td>\n",
       "      <td>0.29</td>\n",
       "      <td>1</td>\n",
       "      <td>8100</td>\n",
       "      <td>Friday</td>\n",
       "      <td>Friday</td>\n",
       "    </tr>\n",
       "    <tr>\n",
       "      <th>4</th>\n",
       "      <td>HU7605</td>\n",
       "      <td>350</td>\n",
       "      <td>None</td>\n",
       "      <td>2019-01-04 07:20:00</td>\n",
       "      <td>2019-01-04 09:35:00</td>\n",
       "      <td>C</td>\n",
       "      <td>I</td>\n",
       "      <td>1640</td>\n",
       "      <td>0.29</td>\n",
       "      <td>1</td>\n",
       "      <td>8100</td>\n",
       "      <td>Friday</td>\n",
       "      <td>Friday</td>\n",
       "    </tr>\n",
       "  </tbody>\n",
       "</table>\n",
       "</div>"
      ],
      "text/plain": [
       "  flightNumber craftTypeCode traAirport       departureDate  \\\n",
       "0       HO1252           320       None 2019-01-04 06:35:00   \n",
       "1       MU5138           33L       None 2019-01-04 07:00:00   \n",
       "2       MU5138           33L       None 2019-01-04 07:00:00   \n",
       "3       HU7605           350       None 2019-01-04 07:20:00   \n",
       "4       HU7605           350       None 2019-01-04 07:20:00   \n",
       "\n",
       "          arrivalDate cabinClass priceClass  price  rate  dateDifference  \\\n",
       "0 2019-01-04 08:55:00          C          C   1860  1.00               1   \n",
       "1 2019-01-04 09:15:00          C          I   1640  0.31               1   \n",
       "2 2019-01-04 09:15:00          C          J   5360  1.00               1   \n",
       "3 2019-01-04 09:35:00          C          I   1635  0.29               1   \n",
       "4 2019-01-04 09:35:00          C          I   1640  0.29               1   \n",
       "\n",
       "   daysaway  depDay  arrDay  \n",
       "0      8400  Friday  Friday  \n",
       "1      8100  Friday  Friday  \n",
       "2      8100  Friday  Friday  \n",
       "3      8100  Friday  Friday  \n",
       "4      8100  Friday  Friday  "
      ]
     },
     "execution_count": 24,
     "metadata": {},
     "output_type": "execute_result"
    }
   ],
   "source": [
    "df.head()"
   ]
  },
  {
   "cell_type": "code",
   "execution_count": 25,
   "metadata": {},
   "outputs": [],
   "source": [
    "#alright works"
   ]
  },
  {
   "cell_type": "code",
   "execution_count": 26,
   "metadata": {},
   "outputs": [
    {
     "data": {
      "text/html": [
       "<div>\n",
       "<style scoped>\n",
       "    .dataframe tbody tr th:only-of-type {\n",
       "        vertical-align: middle;\n",
       "    }\n",
       "\n",
       "    .dataframe tbody tr th {\n",
       "        vertical-align: top;\n",
       "    }\n",
       "\n",
       "    .dataframe thead th {\n",
       "        text-align: right;\n",
       "    }\n",
       "</style>\n",
       "<table border=\"1\" class=\"dataframe\">\n",
       "  <thead>\n",
       "    <tr style=\"text-align: right;\">\n",
       "      <th></th>\n",
       "      <th>flightNumber</th>\n",
       "      <th>craftTypeCode</th>\n",
       "      <th>traAirport</th>\n",
       "      <th>departureDate</th>\n",
       "      <th>cabinClass</th>\n",
       "      <th>priceClass</th>\n",
       "      <th>price</th>\n",
       "      <th>rate</th>\n",
       "      <th>dateDifference</th>\n",
       "      <th>daysaway</th>\n",
       "      <th>depDay</th>\n",
       "      <th>arrDay</th>\n",
       "    </tr>\n",
       "  </thead>\n",
       "  <tbody>\n",
       "    <tr>\n",
       "      <th>0</th>\n",
       "      <td>HO1252</td>\n",
       "      <td>320</td>\n",
       "      <td>None</td>\n",
       "      <td>2019-01-04 06:35:00</td>\n",
       "      <td>C</td>\n",
       "      <td>C</td>\n",
       "      <td>1860</td>\n",
       "      <td>1.00</td>\n",
       "      <td>1</td>\n",
       "      <td>8400</td>\n",
       "      <td>Friday</td>\n",
       "      <td>Friday</td>\n",
       "    </tr>\n",
       "    <tr>\n",
       "      <th>1</th>\n",
       "      <td>MU5138</td>\n",
       "      <td>33L</td>\n",
       "      <td>None</td>\n",
       "      <td>2019-01-04 07:00:00</td>\n",
       "      <td>C</td>\n",
       "      <td>I</td>\n",
       "      <td>1640</td>\n",
       "      <td>0.31</td>\n",
       "      <td>1</td>\n",
       "      <td>8100</td>\n",
       "      <td>Friday</td>\n",
       "      <td>Friday</td>\n",
       "    </tr>\n",
       "    <tr>\n",
       "      <th>2</th>\n",
       "      <td>MU5138</td>\n",
       "      <td>33L</td>\n",
       "      <td>None</td>\n",
       "      <td>2019-01-04 07:00:00</td>\n",
       "      <td>C</td>\n",
       "      <td>J</td>\n",
       "      <td>5360</td>\n",
       "      <td>1.00</td>\n",
       "      <td>1</td>\n",
       "      <td>8100</td>\n",
       "      <td>Friday</td>\n",
       "      <td>Friday</td>\n",
       "    </tr>\n",
       "    <tr>\n",
       "      <th>3</th>\n",
       "      <td>HU7605</td>\n",
       "      <td>350</td>\n",
       "      <td>None</td>\n",
       "      <td>2019-01-04 07:20:00</td>\n",
       "      <td>C</td>\n",
       "      <td>I</td>\n",
       "      <td>1635</td>\n",
       "      <td>0.29</td>\n",
       "      <td>1</td>\n",
       "      <td>8100</td>\n",
       "      <td>Friday</td>\n",
       "      <td>Friday</td>\n",
       "    </tr>\n",
       "    <tr>\n",
       "      <th>4</th>\n",
       "      <td>HU7605</td>\n",
       "      <td>350</td>\n",
       "      <td>None</td>\n",
       "      <td>2019-01-04 07:20:00</td>\n",
       "      <td>C</td>\n",
       "      <td>I</td>\n",
       "      <td>1640</td>\n",
       "      <td>0.29</td>\n",
       "      <td>1</td>\n",
       "      <td>8100</td>\n",
       "      <td>Friday</td>\n",
       "      <td>Friday</td>\n",
       "    </tr>\n",
       "    <tr>\n",
       "      <th>5</th>\n",
       "      <td>HU7605</td>\n",
       "      <td>350</td>\n",
       "      <td>None</td>\n",
       "      <td>2019-01-04 07:20:00</td>\n",
       "      <td>C</td>\n",
       "      <td>C</td>\n",
       "      <td>5660</td>\n",
       "      <td>1.00</td>\n",
       "      <td>1</td>\n",
       "      <td>8100</td>\n",
       "      <td>Friday</td>\n",
       "      <td>Friday</td>\n",
       "    </tr>\n",
       "    <tr>\n",
       "      <th>6</th>\n",
       "      <td>CA1831</td>\n",
       "      <td>773</td>\n",
       "      <td>None</td>\n",
       "      <td>2019-01-04 07:30:00</td>\n",
       "      <td>C</td>\n",
       "      <td>R</td>\n",
       "      <td>1860</td>\n",
       "      <td>0.34</td>\n",
       "      <td>1</td>\n",
       "      <td>7500</td>\n",
       "      <td>Friday</td>\n",
       "      <td>Friday</td>\n",
       "    </tr>\n",
       "    <tr>\n",
       "      <th>7</th>\n",
       "      <td>CA1831</td>\n",
       "      <td>773</td>\n",
       "      <td>None</td>\n",
       "      <td>2019-01-04 07:30:00</td>\n",
       "      <td>C</td>\n",
       "      <td>J</td>\n",
       "      <td>5530</td>\n",
       "      <td>1.00</td>\n",
       "      <td>1</td>\n",
       "      <td>7500</td>\n",
       "      <td>Friday</td>\n",
       "      <td>Friday</td>\n",
       "    </tr>\n",
       "    <tr>\n",
       "      <th>8</th>\n",
       "      <td>MU5102</td>\n",
       "      <td>333</td>\n",
       "      <td>None</td>\n",
       "      <td>2019-01-04 08:00:00</td>\n",
       "      <td>C</td>\n",
       "      <td>I</td>\n",
       "      <td>1800</td>\n",
       "      <td>0.34</td>\n",
       "      <td>1</td>\n",
       "      <td>8100</td>\n",
       "      <td>Friday</td>\n",
       "      <td>Friday</td>\n",
       "    </tr>\n",
       "    <tr>\n",
       "      <th>9</th>\n",
       "      <td>MU5102</td>\n",
       "      <td>333</td>\n",
       "      <td>None</td>\n",
       "      <td>2019-01-04 08:00:00</td>\n",
       "      <td>C</td>\n",
       "      <td>J</td>\n",
       "      <td>5360</td>\n",
       "      <td>1.00</td>\n",
       "      <td>1</td>\n",
       "      <td>8100</td>\n",
       "      <td>Friday</td>\n",
       "      <td>Friday</td>\n",
       "    </tr>\n",
       "  </tbody>\n",
       "</table>\n",
       "</div>"
      ],
      "text/plain": [
       "  flightNumber craftTypeCode traAirport       departureDate cabinClass  \\\n",
       "0       HO1252           320       None 2019-01-04 06:35:00          C   \n",
       "1       MU5138           33L       None 2019-01-04 07:00:00          C   \n",
       "2       MU5138           33L       None 2019-01-04 07:00:00          C   \n",
       "3       HU7605           350       None 2019-01-04 07:20:00          C   \n",
       "4       HU7605           350       None 2019-01-04 07:20:00          C   \n",
       "5       HU7605           350       None 2019-01-04 07:20:00          C   \n",
       "6       CA1831           773       None 2019-01-04 07:30:00          C   \n",
       "7       CA1831           773       None 2019-01-04 07:30:00          C   \n",
       "8       MU5102           333       None 2019-01-04 08:00:00          C   \n",
       "9       MU5102           333       None 2019-01-04 08:00:00          C   \n",
       "\n",
       "  priceClass  price  rate  dateDifference  daysaway  depDay  arrDay  \n",
       "0          C   1860  1.00               1      8400  Friday  Friday  \n",
       "1          I   1640  0.31               1      8100  Friday  Friday  \n",
       "2          J   5360  1.00               1      8100  Friday  Friday  \n",
       "3          I   1635  0.29               1      8100  Friday  Friday  \n",
       "4          I   1640  0.29               1      8100  Friday  Friday  \n",
       "5          C   5660  1.00               1      8100  Friday  Friday  \n",
       "6          R   1860  0.34               1      7500  Friday  Friday  \n",
       "7          J   5530  1.00               1      7500  Friday  Friday  \n",
       "8          I   1800  0.34               1      8100  Friday  Friday  \n",
       "9          J   5360  1.00               1      8100  Friday  Friday  "
      ]
     },
     "execution_count": 26,
     "metadata": {},
     "output_type": "execute_result"
    }
   ],
   "source": [
    "df.drop(['arrivalDate'], axis = 1, inplace=True)\n",
    "df.head(10)"
   ]
  },
  {
   "cell_type": "code",
   "execution_count": 27,
   "metadata": {},
   "outputs": [
    {
     "data": {
      "text/plain": [
       "<AxesSubplot:ylabel='Density'>"
      ]
     },
     "execution_count": 27,
     "metadata": {},
     "output_type": "execute_result"
    },
    {
     "data": {
      "image/png": "[encoded data removed]",
      "text/plain": [
       "<Figure size 720x720 with 1 Axes>"
      ]
     },
     "metadata": {
      "needs_background": "light"
     },
     "output_type": "display_data"
    }
   ],
   "source": [
    "df[\"price\"].plot(kind = \"density\" , figsize = (10,10))"
   ]
  },
  {
   "cell_type": "code",
   "execution_count": 28,
   "metadata": {},
   "outputs": [
    {
     "data": {
      "text/plain": [
       "<AxesSubplot:ylabel='Frequency'>"
      ]
     },
     "execution_count": 28,
     "metadata": {},
     "output_type": "execute_result"
    },
    {
     "data": {
      "image/png": "[encoded data removed]",
      "text/plain": [
       "<Figure size 720x720 with 1 Axes>"
      ]
     },
     "metadata": {
      "needs_background": "light"
     },
     "output_type": "display_data"
    }
   ],
   "source": [
    "df[\"price\"].plot(kind = \"hist\" , figsize = (10,10))"
   ]
  },
  {
   "cell_type": "code",
   "execution_count": 29,
   "metadata": {},
   "outputs": [
    {
     "data": {
      "text/plain": [
       "<AxesSubplot:xlabel='traAirport', ylabel='count'>"
      ]
     },
     "execution_count": 29,
     "metadata": {},
     "output_type": "execute_result"
    },
    {
     "data": {
      "image/png": "[encoded data removed]",
      "text/plain": [
       "<Figure size 432x288 with 1 Axes>"
      ]
     },
     "metadata": {
      "needs_background": "light"
     },
     "output_type": "display_data"
    }
   ],
   "source": [
    "sns.countplot(data=df,x=\"traAirport\")"
   ]
  },
  {
   "cell_type": "code",
   "execution_count": 30,
   "metadata": {},
   "outputs": [
    {
     "data": {
      "text/plain": [
       "None    292382\n",
       "LYA       5749\n",
       "Name: traAirport, dtype: int64"
      ]
     },
     "execution_count": 30,
     "metadata": {},
     "output_type": "execute_result"
    }
   ],
   "source": [
    "df[\"traAirport\"].value_counts() #quite unbalanced"
   ]
  },
  {
   "cell_type": "code",
   "execution_count": 31,
   "metadata": {},
   "outputs": [
    {
     "data": {
      "text/plain": [
       "MU5693    3650\n",
       "MU5390    2099\n",
       "Name: flightNumber, dtype: int64"
      ]
     },
     "execution_count": 31,
     "metadata": {},
     "output_type": "execute_result"
    }
   ],
   "source": [
    "df[df.traAirport == \"LYA\"].flightNumber.value_counts()\n",
    "# Only 2 flights have a transit Airport\n"
   ]
  },
  {
   "cell_type": "code",
   "execution_count": 32,
   "metadata": {},
   "outputs": [
    {
     "data": {
      "text/plain": [
       "<AxesSubplot:xlabel='cabinClass', ylabel='count'>"
      ]
     },
     "execution_count": 32,
     "metadata": {},
     "output_type": "execute_result"
    },
    {
     "data": {
      "image/png": "[encoded data removed]",
      "text/plain": [
       "<Figure size 432x288 with 1 Axes>"
      ]
     },
     "metadata": {
      "needs_background": "light"
     },
     "output_type": "display_data"
    }
   ],
   "source": [
    "sns.countplot(data=df,x=\"cabinClass\")"
   ]
  },
  {
   "cell_type": "code",
   "execution_count": 33,
   "metadata": {},
   "outputs": [
    {
     "data": {
      "image/png": "[encoded data removed]",
      "text/plain": [
       "<Figure size 1440x1080 with 1 Axes>"
      ]
     },
     "metadata": {
      "needs_background": "light"
     },
     "output_type": "display_data"
    }
   ],
   "source": [
    "fig, ax = plt.subplots(figsize=(20, 15))\n",
    "sns.countplot(data=df,x=\"priceClass\")\n",
    "plt.show()"
   ]
  },
  {
   "cell_type": "code",
   "execution_count": 34,
   "metadata": {},
   "outputs": [
    {
     "name": "stdout",
     "output_type": "stream",
     "text": [
      "2 3 4 1 3\n"
     ]
    }
   ],
   "source": [
    "# are BZ, XC, MC, NZ, VZ empty ?\n",
    "print(df['priceClass'].value_counts()['BZ'],df['priceClass'].value_counts()['XC'],df['priceClass'].value_counts()['MC'],df['priceClass'].value_counts()['NZ'],df['priceClass'].value_counts()['VZ'])"
   ]
  },
  {
   "cell_type": "code",
   "execution_count": 35,
   "metadata": {},
   "outputs": [
    {
     "data": {
      "text/plain": [
       "<AxesSubplot:xlabel='craftTypeCode', ylabel='count'>"
      ]
     },
     "execution_count": 35,
     "metadata": {},
     "output_type": "execute_result"
    },
    {
     "data": {
      "image/png": "[encoded data removed]",
      "text/plain": [
       "<Figure size 1440x1080 with 1 Axes>"
      ]
     },
     "metadata": {
      "needs_background": "light"
     },
     "output_type": "display_data"
    }
   ],
   "source": [
    "#NO, they are very less in number.\n",
    "fig, ax = plt.subplots(figsize=(20, 15))\n",
    "sns.countplot(data=df,x='craftTypeCode')"
   ]
  },
  {
   "cell_type": "code",
   "execution_count": 36,
   "metadata": {},
   "outputs": [
    {
     "data": {
      "text/plain": [
       "<AxesSubplot:xlabel='flightNumber', ylabel='count'>"
      ]
     },
     "execution_count": 36,
     "metadata": {},
     "output_type": "execute_result"
    },
    {
     "data": {
      "image/png": "[encoded data removed]",
      "text/plain": [
       "<Figure size 2880x1080 with 1 Axes>"
      ]
     },
     "metadata": {
      "needs_background": "light"
     },
     "output_type": "display_data"
    }
   ],
   "source": [
    "#33L is the most occuring aircraft code\n",
    "fig, ax = plt.subplots(figsize=(40, 15))\n",
    "sns.countplot(data=df,x='flightNumber')"
   ]
  },
  {
   "cell_type": "code",
   "execution_count": 37,
   "metadata": {},
   "outputs": [
    {
     "data": {
      "text/html": [
       "<div>\n",
       "<style scoped>\n",
       "    .dataframe tbody tr th:only-of-type {\n",
       "        vertical-align: middle;\n",
       "    }\n",
       "\n",
       "    .dataframe tbody tr th {\n",
       "        vertical-align: top;\n",
       "    }\n",
       "\n",
       "    .dataframe thead th {\n",
       "        text-align: right;\n",
       "    }\n",
       "</style>\n",
       "<table border=\"1\" class=\"dataframe\">\n",
       "  <thead>\n",
       "    <tr style=\"text-align: right;\">\n",
       "      <th></th>\n",
       "      <th>price</th>\n",
       "      <th>rate</th>\n",
       "      <th>dateDifference</th>\n",
       "      <th>daysaway</th>\n",
       "    </tr>\n",
       "  </thead>\n",
       "  <tbody>\n",
       "    <tr>\n",
       "      <th>price</th>\n",
       "      <td>1.000000</td>\n",
       "      <td>0.430178</td>\n",
       "      <td>-0.052950</td>\n",
       "      <td>-0.057445</td>\n",
       "    </tr>\n",
       "    <tr>\n",
       "      <th>rate</th>\n",
       "      <td>0.430178</td>\n",
       "      <td>1.000000</td>\n",
       "      <td>-0.021908</td>\n",
       "      <td>-0.060896</td>\n",
       "    </tr>\n",
       "    <tr>\n",
       "      <th>dateDifference</th>\n",
       "      <td>-0.052950</td>\n",
       "      <td>-0.021908</td>\n",
       "      <td>1.000000</td>\n",
       "      <td>0.007318</td>\n",
       "    </tr>\n",
       "    <tr>\n",
       "      <th>daysaway</th>\n",
       "      <td>-0.057445</td>\n",
       "      <td>-0.060896</td>\n",
       "      <td>0.007318</td>\n",
       "      <td>1.000000</td>\n",
       "    </tr>\n",
       "  </tbody>\n",
       "</table>\n",
       "</div>"
      ],
      "text/plain": [
       "                   price      rate  dateDifference  daysaway\n",
       "price           1.000000  0.430178       -0.052950 -0.057445\n",
       "rate            0.430178  1.000000       -0.021908 -0.060896\n",
       "dateDifference -0.052950 -0.021908        1.000000  0.007318\n",
       "daysaway       -0.057445 -0.060896        0.007318  1.000000"
      ]
     },
     "execution_count": 37,
     "metadata": {},
     "output_type": "execute_result"
    }
   ],
   "source": [
    "df.corr()"
   ]
  },
  {
   "cell_type": "code",
   "execution_count": 38,
   "metadata": {},
   "outputs": [
    {
     "data": {
      "text/html": [
       "<style type=\"text/css\">\n",
       "#T_9b971_row0_col0, #T_9b971_row1_col1, #T_9b971_row2_col2, #T_9b971_row3_col3 {\n",
       "  background-color: #b40426;\n",
       "  color: #f1f1f1;\n",
       "}\n",
       "#T_9b971_row0_col1, #T_9b971_row1_col0 {\n",
       "  background-color: #d3dbe7;\n",
       "  color: #000000;\n",
       "}\n",
       "#T_9b971_row0_col2, #T_9b971_row0_col3, #T_9b971_row1_col3, #T_9b971_row3_col0, #T_9b971_row3_col1 {\n",
       "  background-color: #3b4cc0;\n",
       "  color: #f1f1f1;\n",
       "}\n",
       "#T_9b971_row1_col2 {\n",
       "  background-color: #4358cb;\n",
       "  color: #f1f1f1;\n",
       "}\n",
       "#T_9b971_row2_col0 {\n",
       "  background-color: #3c4ec2;\n",
       "  color: #f1f1f1;\n",
       "}\n",
       "#T_9b971_row2_col1 {\n",
       "  background-color: #455cce;\n",
       "  color: #f1f1f1;\n",
       "}\n",
       "#T_9b971_row2_col3 {\n",
       "  background-color: #4e68d8;\n",
       "  color: #f1f1f1;\n",
       "}\n",
       "#T_9b971_row3_col2 {\n",
       "  background-color: #4b64d5;\n",
       "  color: #f1f1f1;\n",
       "}\n",
       "</style>\n",
       "<table id=\"T_9b971\">\n",
       "  <thead>\n",
       "    <tr>\n",
       "      <th class=\"blank level0\" >&nbsp;</th>\n",
       "      <th id=\"T_9b971_level0_col0\" class=\"col_heading level0 col0\" >price</th>\n",
       "      <th id=\"T_9b971_level0_col1\" class=\"col_heading level0 col1\" >rate</th>\n",
       "      <th id=\"T_9b971_level0_col2\" class=\"col_heading level0 col2\" >dateDifference</th>\n",
       "      <th id=\"T_9b971_level0_col3\" class=\"col_heading level0 col3\" >daysaway</th>\n",
       "    </tr>\n",
       "  </thead>\n",
       "  <tbody>\n",
       "    <tr>\n",
       "      <th id=\"T_9b971_level0_row0\" class=\"row_heading level0 row0\" >price</th>\n",
       "      <td id=\"T_9b971_row0_col0\" class=\"data row0 col0\" >1.000000</td>\n",
       "      <td id=\"T_9b971_row0_col1\" class=\"data row0 col1\" >0.430178</td>\n",
       "      <td id=\"T_9b971_row0_col2\" class=\"data row0 col2\" >-0.052950</td>\n",
       "      <td id=\"T_9b971_row0_col3\" class=\"data row0 col3\" >-0.057445</td>\n",
       "    </tr>\n",
       "    <tr>\n",
       "      <th id=\"T_9b971_level0_row1\" class=\"row_heading level0 row1\" >rate</th>\n",
       "      <td id=\"T_9b971_row1_col0\" class=\"data row1 col0\" >0.430178</td>\n",
       "      <td id=\"T_9b971_row1_col1\" class=\"data row1 col1\" >1.000000</td>\n",
       "      <td id=\"T_9b971_row1_col2\" class=\"data row1 col2\" >-0.021908</td>\n",
       "      <td id=\"T_9b971_row1_col3\" class=\"data row1 col3\" >-0.060896</td>\n",
       "    </tr>\n",
       "    <tr>\n",
       "      <th id=\"T_9b971_level0_row2\" class=\"row_heading level0 row2\" >dateDifference</th>\n",
       "      <td id=\"T_9b971_row2_col0\" class=\"data row2 col0\" >-0.052950</td>\n",
       "      <td id=\"T_9b971_row2_col1\" class=\"data row2 col1\" >-0.021908</td>\n",
       "      <td id=\"T_9b971_row2_col2\" class=\"data row2 col2\" >1.000000</td>\n",
       "      <td id=\"T_9b971_row2_col3\" class=\"data row2 col3\" >0.007318</td>\n",
       "    </tr>\n",
       "    <tr>\n",
       "      <th id=\"T_9b971_level0_row3\" class=\"row_heading level0 row3\" >daysaway</th>\n",
       "      <td id=\"T_9b971_row3_col0\" class=\"data row3 col0\" >-0.057445</td>\n",
       "      <td id=\"T_9b971_row3_col1\" class=\"data row3 col1\" >-0.060896</td>\n",
       "      <td id=\"T_9b971_row3_col2\" class=\"data row3 col2\" >0.007318</td>\n",
       "      <td id=\"T_9b971_row3_col3\" class=\"data row3 col3\" >1.000000</td>\n",
       "    </tr>\n",
       "  </tbody>\n",
       "</table>\n"
      ],
      "text/plain": [
       "<pandas.io.formats.style.Styler at 0x1dfe03c6d60>"
      ]
     },
     "execution_count": 38,
     "metadata": {},
     "output_type": "execute_result"
    }
   ],
   "source": [
    "df.corr().style.background_gradient(cmap='coolwarm')"
   ]
  },
  {
   "cell_type": "code",
   "execution_count": 39,
   "metadata": {},
   "outputs": [],
   "source": [
    "#pretty bad, im still confused as to what rate & price means? is ||price=original_ticket_value*rate|| or ||original_ticket_value = price * rate||"
   ]
  },
  {
   "cell_type": "code",
   "execution_count": 40,
   "metadata": {},
   "outputs": [
    {
     "data": {
      "text/plain": [
       "<AxesSubplot:xlabel='Cabin Class', ylabel='Mean Price'>"
      ]
     },
     "execution_count": 40,
     "metadata": {},
     "output_type": "execute_result"
    },
    {
     "data": {
      "image/png": "[encoded data removed]",
      "text/plain": [
       "<Figure size 432x360 with 1 Axes>"
      ]
     },
     "metadata": {
      "needs_background": "light"
     },
     "output_type": "display_data"
    }
   ],
   "source": [
    "dfg = df.groupby(\"cabinClass\").price.mean()\n",
    "dfg.plot(kind='bar', ylabel='Mean Price',\n",
    "         xlabel='Cabin Class', figsize=(6, 5))"
   ]
  },
  {
   "cell_type": "code",
   "execution_count": 41,
   "metadata": {},
   "outputs": [
    {
     "data": {
      "text/plain": [
       "<AxesSubplot:xlabel='Price Class', ylabel='Mean Price'>"
      ]
     },
     "execution_count": 41,
     "metadata": {},
     "output_type": "execute_result"
    },
    {
     "data": {
      "image/png": "[encoded data removed]",
      "text/plain": [
       "<Figure size 1440x1440 with 1 Axes>"
      ]
     },
     "metadata": {
      "needs_background": "light"
     },
     "output_type": "display_data"
    }
   ],
   "source": [
    "dfg = df.groupby(\"priceClass\").price.mean()\n",
    "dfg.plot(kind='bar', ylabel='Mean Price',\n",
    "         xlabel='Price Class', figsize=(20, 20))"
   ]
  },
  {
   "cell_type": "code",
   "execution_count": 42,
   "metadata": {},
   "outputs": [
    {
     "data": {
      "text/plain": [
       "<AxesSubplot:xlabel='Craft Type', ylabel='Mean Price'>"
      ]
     },
     "execution_count": 42,
     "metadata": {},
     "output_type": "execute_result"
    },
    {
     "data": {
      "image/png": "[encoded data removed]",
      "text/plain": [
       "<Figure size 1440x1440 with 1 Axes>"
      ]
     },
     "metadata": {
      "needs_background": "light"
     },
     "output_type": "display_data"
    }
   ],
   "source": [
    "dfg = df.groupby(\"craftTypeCode\").price.mean()\n",
    "dfg.plot(kind='bar', ylabel='Mean Price',\n",
    "         xlabel='Craft Type', figsize=(20, 20))"
   ]
  },
  {
   "cell_type": "code",
   "execution_count": 43,
   "metadata": {},
   "outputs": [
    {
     "data": {
      "image/png": "[encoded data removed]",
      "text/plain": [
       "<Figure size 1440x720 with 2 Axes>"
      ]
     },
     "metadata": {
      "needs_background": "light"
     },
     "output_type": "display_data"
    }
   ],
   "source": [
    "from dython import nominal\n",
    "# nthe called ,ethod uses * Pearson's R for continuous-continuous cases * Correlation Ratio for categorical-continuous cases * Cramer's V or Theil's U for categorical-categorical cases\n",
    "nominal.associations(df,figsize=(20,10),mark_columns=True);"
   ]
  },
  {
   "cell_type": "code",
   "execution_count": null,
   "metadata": {},
   "outputs": [],
   "source": []
  }
 ],
 "metadata": {
  "kernelspec": {
   "display_name": "Python 3.9.12 ('ime672')",
   "language": "python",
   "name": "python3"
  },
  "language_info": {
   "codemirror_mode": {
    "name": "ipython",
    "version": 3
   },
   "file_extension": ".py",
   "mimetype": "text/x-python",
   "name": "python",
   "nbconvert_exporter": "python",
   "pygments_lexer": "ipython3",
   "version": "3.9.12"
  },
  "orig_nbformat": 4,
  "vscode": {
   "interpreter": {
    "hash": "7064147a64a00b8d2c9b5c43958e93567de4a7e276d6703581d82bd59d27948f"
   }
  }
 },
 "nbformat": 4,
 "nbformat_minor": 2
}
